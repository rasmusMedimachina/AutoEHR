{
 "cells": [
  {
   "cell_type": "code",
   "execution_count": 1,
   "id": "90b9a307-f83a-4697-ad4a-25ee317e8c13",
   "metadata": {},
   "outputs": [],
   "source": [
    "from cryptography.fernet import Fernet"
   ]
  },
  {
   "cell_type": "code",
   "execution_count": 16,
   "id": "90b7fc50-0414-40b5-a51c-e4ff39f90fb9",
   "metadata": {},
   "outputs": [],
   "source": [
    "f = open(\"ListingDataCleaned.csv\", \"rb\")"
   ]
  },
  {
   "cell_type": "code",
   "execution_count": 4,
   "id": "38ba4e23-65b8-4278-beb2-ff9732af2e9e",
   "metadata": {},
   "outputs": [],
   "source": [
    "# key = Fernet.generate_key()\n",
    "# with open(\"key2.key\", \"wb\") as key_file:\n",
    "#     key_file.write(key)"
   ]
  },
  {
   "cell_type": "code",
   "execution_count": 5,
   "id": "104cd042-ff56-4269-b88e-461d25d0b530",
   "metadata": {},
   "outputs": [
    {
     "data": {
      "text/plain": [
       "b'IM90A0ZnW_RvC5euGqEiZt760lXGwHJKFFfaqeROy5c='"
      ]
     },
     "execution_count": 5,
     "metadata": {},
     "output_type": "execute_result"
    }
   ],
   "source": [
    "keyCode = open(\"key.key\", \"rb\").read()"
   ]
  },
  {
   "cell_type": "code",
   "execution_count": 13,
   "id": "55558e38-7580-4bde-a40a-62eba0835ab9",
   "metadata": {},
   "outputs": [],
   "source": [
    "key = Fernet(key)"
   ]
  },
  {
   "cell_type": "code",
   "execution_count": 17,
   "id": "cba232c1-ffcb-4eb5-a67c-5d7784268224",
   "metadata": {},
   "outputs": [],
   "source": [
    "file_content = f.read()"
   ]
  },
  {
   "cell_type": "code",
   "execution_count": 11,
   "id": "d0d8bc48-847d-41b9-8a4a-5500141f56f7",
   "metadata": {},
   "outputs": [
    {
     "data": {
      "text/plain": [
       "'Id-nr;Vård'"
      ]
     },
     "execution_count": 11,
     "metadata": {},
     "output_type": "execute_result"
    }
   ],
   "source": [
    "file_content[:10]"
   ]
  },
  {
   "cell_type": "code",
   "execution_count": 18,
   "id": "ef3faeeb-f1c1-4012-ac43-b54a75ef5ac4",
   "metadata": {},
   "outputs": [],
   "source": [
    "encrypted = key.encrypt(file_content)"
   ]
  },
  {
   "cell_type": "code",
   "execution_count": 20,
   "id": "c5f8ea8f-c7cb-4660-a647-f75b840c1560",
   "metadata": {},
   "outputs": [],
   "source": [
    "with open(\"encryptedFile.data\", \"wb\") as outFile:\n",
    "    outFile.write(encrypted)"
   ]
  },
  {
   "cell_type": "code",
   "execution_count": 21,
   "id": "9b956276-4379-49f9-8fd9-51d4025726a0",
   "metadata": {},
   "outputs": [],
   "source": [
    "with open(\"encryptedFile.data\", \"rb\") as inFile:\n",
    "    encryptedContent = inFile.read()\n",
    "    with open(\"resultingFile.csv\", \"wb\") as outFile:\n",
    "        decryptedContent = key.decrypt(encryptedContent)\n",
    "        outFile.write(decryptedContent)"
   ]
  }
 ],
 "metadata": {
  "kernelspec": {
   "display_name": "Python 3",
   "language": "python",
   "name": "python3"
  },
  "language_info": {
   "codemirror_mode": {
    "name": "ipython",
    "version": 3
   },
   "file_extension": ".py",
   "mimetype": "text/x-python",
   "name": "python",
   "nbconvert_exporter": "python",
   "pygments_lexer": "ipython3",
   "version": "3.9.4"
  }
 },
 "nbformat": 4,
 "nbformat_minor": 5
}
