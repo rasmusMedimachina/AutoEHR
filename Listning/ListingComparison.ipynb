{
 "cells": [
  {
   "cell_type": "code",
   "execution_count": 16,
   "id": "f3dba13f-9560-48d5-85da-545b6ec54d7c",
   "metadata": {},
   "outputs": [],
   "source": [
    "from pprint import pprint\n",
    "import os\n",
    "import re\n",
    "import time\n",
    "from time import sleep\n",
    "import pandas as pd\n",
    "\n",
    "from pynput.mouse import Button, Controller as MouseCtrlr\n",
    "from pynput.keyboard import Key, Controller as KeyCtrlr\n",
    "import pyautogui as pag\n",
    "import keyboard as keyboard\n",
    "\n",
    "\n",
    "from matplotlib import pyplot as plt\n",
    "from PIL import Image\n",
    "import cv2 as cv\n",
    "import numpy as np"
   ]
  },
  {
   "cell_type": "code",
   "execution_count": 6,
   "id": "db734fec-cab0-470f-91a1-2e1bfc922f35",
   "metadata": {},
   "outputs": [],
   "source": [
    "listingDf = pd.read_csv(\"ListingDataCleaned.csv\", delimiter=\";\")"
   ]
  },
  {
   "cell_type": "code",
   "execution_count": 1,
   "id": "b5b275ee-b202-41a3-8415-b8cdc95d28b8",
   "metadata": {},
   "outputs": [],
   "source": [
    "#listingDf.head()"
   ]
  },
  {
   "cell_type": "code",
   "execution_count": 20,
   "id": "588a46ff-164f-4c8a-aeb2-545293200b06",
   "metadata": {},
   "outputs": [
    {
     "data": {
      "image/png": "[encoded data removed]",
      "text/plain": [
       "<Figure size 432x288 with 1 Axes>"
      ]
     },
     "metadata": {
      "needs_background": "light"
     },
     "output_type": "display_data"
    }
   ],
   "source": [
    "plot = listingDf.loc[:, \"Vårdgivare\"].hist()\n",
    "plt.xticks(rotation='vertical')\n",
    "plt.show()"
   ]
  },
  {
   "cell_type": "code",
   "execution_count": 22,
   "id": "2c186414-cbb6-467b-83ed-7923947198e6",
   "metadata": {},
   "outputs": [
    {
     "data": {
      "text/plain": [
       "['HÄLSOCENTRALEN SANKT HANS, VC',\n",
       " 'HÄLSOCENTRALEN SANKT HANS, VC',\n",
       " 'HÄLSOCENTRALEN SANKT HANS, VC',\n",
       " 'HÄLSOCENTRALEN SANKT HANS, VC',\n",
       " 'HÄLSOCENTRALEN SANKT HANS, VC']"
      ]
     },
     "execution_count": 22,
     "metadata": {},
     "output_type": "execute_result"
    }
   ],
   "source": [
    "listingList = list(listingDf.loc[:, \"Vårdgivare\"])\n",
    "listingList[:5]"
   ]
  },
  {
   "cell_type": "code",
   "execution_count": 24,
   "id": "199128ec-0e19-4516-b178-5ea72a76113a",
   "metadata": {},
   "outputs": [],
   "source": [
    "from collections import Counter"
   ]
  },
  {
   "cell_type": "code",
   "execution_count": 25,
   "id": "7085b209-c47f-4090-8742-4c8bb9285ada",
   "metadata": {},
   "outputs": [
    {
     "data": {
      "text/plain": [
       "Counter({'HÄLSOCENTRALEN SANKT HANS, VC': 3465,\n",
       "         'TRATTNER, MICHAEL': 624,\n",
       "         'KOSJERINA, JULIJANA': 728,\n",
       "         'WIDÉN, LINN': 545,\n",
       "         'ROMERO, QUINCI (ST-LÄKARE)': 613,\n",
       "         'ARVIDSSON, RASMUS': 382,\n",
       "         'NILSSON, MARIA K (ST-LÄKARE)': 280,\n",
       "         'SVENSSON, MARIA MC': 476})"
      ]
     },
     "execution_count": 25,
     "metadata": {},
     "output_type": "execute_result"
    }
   ],
   "source": [
    "cntr = Counter(listingList)\n",
    "cntr"
   ]
  },
  {
   "cell_type": "code",
   "execution_count": 26,
   "id": "010e8aca-c722-4f1d-a5d7-f8df45ead525",
   "metadata": {},
   "outputs": [],
   "source": [
    "dictCounter = dict(cntr)"
   ]
  },
  {
   "cell_type": "code",
   "execution_count": 27,
   "id": "b79a1161-7fb8-4491-8371-9f0f57a03517",
   "metadata": {},
   "outputs": [
    {
     "name": "stdout",
     "output_type": "stream",
     "text": [
      "HÄLSOCENTRALEN SANKT HANS, VC: 3465\n",
      "TRATTNER, MICHAEL: 624\n",
      "KOSJERINA, JULIJANA: 728\n",
      "WIDÉN, LINN: 545\n",
      "ROMERO, QUINCI (ST-LÄKARE): 613\n",
      "ARVIDSSON, RASMUS: 382\n",
      "NILSSON, MARIA K (ST-LÄKARE): 280\n",
      "SVENSSON, MARIA MC: 476\n"
     ]
    }
   ],
   "source": [
    "for key, value in dictCounter.items():\n",
    "    print(f\"{key}: {value}\")"
   ]
  }
 ],
 "metadata": {
  "kernelspec": {
   "display_name": "Python 3",
   "language": "python",
   "name": "python3"
  },
  "language_info": {
   "codemirror_mode": {
    "name": "ipython",
    "version": 3
   },
   "file_extension": ".py",
   "mimetype": "text/x-python",
   "name": "python",
   "nbconvert_exporter": "python",
   "pygments_lexer": "ipython3",
   "version": "3.7.3"
  }
 },
 "nbformat": 4,
 "nbformat_minor": 5
}
