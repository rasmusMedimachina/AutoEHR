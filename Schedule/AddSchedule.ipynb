{
 "cells": [
  {
   "cell_type": "code",
   "execution_count": 81,
   "metadata": {},
   "outputs": [],
   "source": [
    "import sys\n",
    "from time import sleep\n",
    "sys.path.append('..')"
   ]
  },
  {
   "cell_type": "code",
   "execution_count": 82,
   "metadata": {},
   "outputs": [],
   "source": [
    "from pprint import pprint\n",
    "import time"
   ]
  },
  {
   "cell_type": "code",
   "execution_count": 83,
   "metadata": {},
   "outputs": [],
   "source": [
    "from RaAuto.Pmo import OpenPMO, HandleInternalMail\n",
    "from RaAuto.RaAuto import *\n",
    "from RaAuto.RaTime import add_minutes"
   ]
  },
  {
   "cell_type": "code",
   "execution_count": 84,
   "metadata": {},
   "outputs": [],
   "source": [
    "import pyautogui as pag"
   ]
  },
  {
   "cell_type": "code",
   "execution_count": 85,
   "metadata": {},
   "outputs": [],
   "source": [
    "class ImgsEnum:\n",
    "    def __init__(self, imagesPath):\n",
    "        self.TenMinuteMark = os.path.join(imagesPath, \"Schedule\", \"TenMinuteMark.png\")\n",
    "        self.AndraMallTillfalligt = os.path.join(imagesPath, \"Schedule\", \"AndraMallTillfalligt.png\")\n",
    "        self.IdagButton = os.path.join(imagesPath, \"IdagButton.png\")\n",
    "        self.ResurserLabel = os.path.join(imagesPath, \"Schedule\", \"ResurserLabel.png\")\n",
    "        self.StaffMemberCheckboxChecked = os.path.join(imagesPath, \"Schedule\", \"StaffMemberCheckboxChecked.png\")\n",
    "        self.StaffMemberCheckboxCheckedOnUnselectedRow = os.path.join(imagesPath, \"Schedule\", \"StaffMemberCheckboxCheckedOnUnselectedRow.png\")\n",
    "        self.NyBokningTitle = os.path.join(imagesPath, \"NyBokningTitle.png\")\n",
    "        self.WarningSymbolDoubleBookingLarge = os.path.join(imagesPath, \"WarningSymbolDoubleBookingLarge.png\")\n",
    "        self.AvbrytMenuButton = os.path.join(imagesPath, \"AvbrytMenuButton.png\")\n",
    "        self.VardgarantiCheckboxChecked = os.path.join(imagesPath, \"VardgarantiCheckboxChecked.png\")\n",
    "\n",
    "\n",
    "IMG = ImgsEnum(os.path.join(\"..\", \"Images\"))"
   ]
  },
  {
   "cell_type": "code",
   "execution_count": 86,
   "metadata": {},
   "outputs": [],
   "source": [
    "def GoToUserSelectionArea():\n",
    "    HandleInternalMail()\n",
    "    pos = waitForElement(IMG.ResurserLabel)\n",
    "    if (pos):\n",
    "        x = pos.x + 50\n",
    "        y = pos.y + 100\n",
    "        return Pos(x, y)\n",
    "    return False\n"
   ]
  },
  {
   "cell_type": "code",
   "execution_count": 87,
   "metadata": {},
   "outputs": [],
   "source": [
    "def ScrollUp():\n",
    "    sleep(0.2)\n",
    "    pag.scroll(500)\n",
    "    sleep(0.2)\n",
    "    pag.scroll(500)\n",
    "    sleep(0.2)"
   ]
  },
  {
   "cell_type": "code",
   "execution_count": 88,
   "metadata": {},
   "outputs": [],
   "source": [
    "def DeselectAllUsers(repeats=5):\n",
    "    pos = GoToUserSelectionArea()\n",
    "\n",
    "    if not pos:\n",
    "        return False\n",
    "    \n",
    "    pag.moveTo(pos.x, pos.y)\n",
    "    ScrollUp()\n",
    "\n",
    "    for i in range(repeats):\n",
    "        for j in range(3):\n",
    "            waitAndClickElement(IMG.StaffMemberCheckboxChecked, beforeStart=0.1, limit=0.1, waitTime=0.1, warn=False)\n",
    "        pag.moveTo(pos.x, pos.y)\n",
    "        pag.scroll(-250)\n",
    "        sleep(0.2)\n",
    "\n",
    "    if HandleInternalMail():\n",
    "        pos = DeselectAllUsers(repeats=5)\n",
    "        \n",
    "    return pos\n",
    "\n",
    "\n",
    "# pos = OpenPMO()\n",
    "# if pos:\n",
    "#     DeselectAllUsers()"
   ]
  },
  {
   "cell_type": "code",
   "execution_count": 89,
   "metadata": {},
   "outputs": [],
   "source": [
    "def DeselectSingleUser():\n",
    "    return waitAndClickElement(IMG.StaffMemberCheckboxChecked, beforeStart=0.1, limit=0.1, waitTime=0.1, warn=False)"
   ]
  },
  {
   "cell_type": "code",
   "execution_count": 90,
   "metadata": {},
   "outputs": [],
   "source": [
    "def CheckIfUsesIsSelectedCorrectly(userName):\n",
    "    pos = waitForElement(IMG.IdagButton)\n",
    "    if pos:\n",
    "        text = capture_and_ocr(pos.x, pos.y + 13, width=500)\n",
    "        print(f'Text: \"{text}\"')\n",
    "        if userName in text:\n",
    "            print(\"User correctly selected\")\n",
    "            return pos\n",
    "        else:\n",
    "            print(\"USER NOT CORRECTLY SELECTED!\")\n",
    "            return False"
   ]
  },
  {
   "cell_type": "code",
   "execution_count": 91,
   "metadata": {},
   "outputs": [],
   "source": [
    "def SetUser(userName):\n",
    "    # DeselectSingleUser()\n",
    "\n",
    "    pos = GoToUserSelectionArea()\n",
    "\n",
    "    if not pos:\n",
    "        return False\n",
    "    \n",
    "    pag.moveTo(pos.x, pos.y)\n",
    "    # ScrollUp()\n",
    "    pag.leftClick()\n",
    "\n",
    "    # words = userName.split(\" \")\n",
    "    waitAndType(userName)\n",
    "    waitAndPress(\"space\")\n",
    "    pos = CheckIfUsesIsSelectedCorrectly(userName)\n",
    "    print(f\"User was {'selected correctly' if pos else 'not selected correctly'}\")\n",
    "    if pos:\n",
    "        return pos\n",
    "    else:\n",
    "        if \" \" in userName:\n",
    "            waitAndClickElement(IMG.StaffMemberCheckboxCheckedOnUnselectedRow, relX=9)\n",
    "    \n",
    "    pos = CheckIfUsesIsSelectedCorrectly(userName)\n",
    "    if pos:\n",
    "        return pos\n",
    "    else:\n",
    "        raise RuntimeError(\"Could not select user {userName} correctly\")\n",
    "    \n",
    "\n",
    "# pos = OpenPMO()\n",
    "# if pos:\n",
    "#     DeselectAllUsers()\n",
    "#     SetUser(\"Linda Y\")\n"
   ]
  },
  {
   "cell_type": "code",
   "execution_count": 92,
   "metadata": {},
   "outputs": [],
   "source": [
    "def SetDate(date):\n",
    "    pos = waitAndClickElement(IMG.IdagButton, relX=-60)\n",
    "    if pos:\n",
    "        waitAndPress(\"ctrl\", \"a\")\n",
    "        waitAndType(date)\n",
    "        if HandleInternalMail():\n",
    "            pos = SetDate(date)\n",
    "        else:\n",
    "            waitAndPress(\"enter\")\n",
    "    return pos\n",
    "    \n",
    "\n",
    "# pos = OpenPMO()\n",
    "# if pos:\n",
    "#     SetDate(\"2024-06-03\")"
   ]
  },
  {
   "cell_type": "code",
   "execution_count": 93,
   "metadata": {},
   "outputs": [],
   "source": [
    "# negativePreviousCount is because the dialogue may already have a count set higher than 1\n",
    "def SetTimeSlots(typeStr, startTime, count, negativePreviousCount=0):\n",
    "    pos = waitAndClickElement(IMG.TenMinuteMark, relX=15, button=\"right\")\n",
    "    if pos:\n",
    "        pos = waitAndPress(\"m\")\n",
    "    if pos:\n",
    "        pos = waitForElement(IMG.AndraMallTillfalligt)\n",
    "    if pos:\n",
    "        waitAndType(typeStr)\n",
    "        waitAndPress(\"tab\")\n",
    "        waitAndType(startTime)\n",
    "        sleep(0.05)\n",
    "        waitAndPress(\"tab\")\n",
    "        waitAndPress(\"tab\")\n",
    "        if (negativePreviousCount > 0):\n",
    "            sleep(0.4)\n",
    "            for i in range(negativePreviousCount):\n",
    "                waitAndPress(\"down\", beforeStart=0.07)\n",
    "        sleep(0.4)\n",
    "        for i in range (1, count):\n",
    "            waitAndPress(\"up\", beforeStart=0.07)\n",
    "        sleep(0.05)\n",
    "        if HandleInternalMail():\n",
    "            waitAndPress(\"alt\", \"o\")\n",
    "            pos = SetTimeSlots(typeStr, startTime, count, negativePreviousCount)\n",
    "        else:\n",
    "            waitAndPress(\"alt\", \"o\")\n",
    "            pos = waitForElementDisappear(IMG.AndraMallTillfalligt)\n",
    "            sleep(0.1)\n",
    "\n",
    "    return pos\n",
    "\n",
    "\n",
    "# pos = OpenPMO()\n",
    "# if pos:\n",
    "#     SetTimeSlots(\"ad\", \"08:00\", 30, 30)"
   ]
  },
  {
   "cell_type": "code",
   "execution_count": 94,
   "metadata": {},
   "outputs": [],
   "source": [
    "def AddBooking(comment, type, startTime, minutes):\n",
    "\n",
    "    pos = waitAndClickElement(IMG.TenMinuteMark, relX=12)\n",
    "    waitAndPress(\"alt\", \"n\")\n",
    "    pos = waitForElement(IMG.NyBokningTitle)\n",
    "\n",
    "    if pos:\n",
    "        for i in range(9):\n",
    "            waitAndPress(\"tab\", beforeStart=0.025)\n",
    "        waitAndType(type)\n",
    "        waitAndPress(\"tab\")\n",
    "        waitAndPress(\"tab\")\n",
    "        waitAndType(startTime)\n",
    "        waitAndPress(\"tab\")\n",
    "        waitAndType(str(minutes))\n",
    "        waitAndPress(\"tab\")\n",
    "        waitAndPress(\"tab\")\n",
    "        if HandleInternalMail():\n",
    "            waitAndClickElement(IMG.AvbrytMenuButton, limit=1)\n",
    "            waitForElementDisappear(IMG.NyBokningTitle)\n",
    "            sleep(0.5)\n",
    "            pos = AddBooking(comment, type, startTime, minutes)\n",
    "        else:\n",
    "            waitAndType(comment)\n",
    "            waitAndClickElement(IMG.VardgarantiCheckboxChecked, relX=-7, limit=0.2, conf=0.95, warn=False)\n",
    "\n",
    "            if HandleInternalMail():\n",
    "                waitAndClickElement(IMG.AvbrytMenuButton, limit=1)\n",
    "                waitForElementDisappear(IMG.NyBokningTitle)\n",
    "                sleep(0.5)\n",
    "                pos = AddBooking(comment, type, startTime, minutes)\n",
    "            else:\n",
    "                waitAndPress(\"alt\", \"s\")\n",
    "                tempPos = waitForElement(IMG.WarningSymbolDoubleBookingLarge, limit=1.5, waitTime=0.5, warn=False)\n",
    "                if tempPos:\n",
    "                    waitAndPress(\"enter\")\n",
    "            waitForElementDisappear(IMG.NyBokningTitle)\n",
    "            sleep(0.5)\n",
    "\n",
    "    return pos\n",
    "\n",
    "# pos = OpenPMO()\n",
    "# if pos:\n",
    "#     AddBooking(\"Special2\", \"ad\", \"10:00\", 40)\n",
    "\n"
   ]
  },
  {
   "cell_type": "markdown",
   "metadata": {},
   "source": [
    "# Import and filters"
   ]
  },
  {
   "cell_type": "code",
   "execution_count": 95,
   "metadata": {},
   "outputs": [],
   "source": [
    "from datetime import datetime\n",
    "import json"
   ]
  },
  {
   "cell_type": "code",
   "execution_count": 96,
   "metadata": {},
   "outputs": [],
   "source": [
    "with open('Input/schedule.json') as file:\n",
    "    scheduleData = json.load(file)\n",
    "\n",
    "staff_dict = scheduleData[\"staffMemberDict\"]\n",
    "room_dict = scheduleData[\"roomDict\"]\n",
    "staff_schedules = scheduleData[\"schedule\"]"
   ]
  },
  {
   "cell_type": "code",
   "execution_count": 97,
   "metadata": {},
   "outputs": [
    {
     "data": {
      "text/plain": [
       "{'1': 'Rasmus',\n",
       " '2': 'Linn',\n",
       " '3': 'Maria MC',\n",
       " '4': 'Maria K',\n",
       " '5': 'Dhay',\n",
       " '6': 'Michael',\n",
       " '7': 'Julijana',\n",
       " '8': 'Anna',\n",
       " '9': 'Linda Y',\n",
       " '10': 'Isac'}"
      ]
     },
     "execution_count": 97,
     "metadata": {},
     "output_type": "execute_result"
    }
   ],
   "source": [
    "staff_dict"
   ]
  },
  {
   "cell_type": "code",
   "execution_count": 98,
   "metadata": {},
   "outputs": [
    {
     "data": {
      "text/plain": [
       "{'1': 'ST rum 1',\n",
       " '2': 'ST rum 2',\n",
       " '3': 'LW rum',\n",
       " '4': 'JK rum',\n",
       " '5': 'MT rum',\n",
       " '6': 'Lokalen',\n",
       " '7': 'Hemifrån'}"
      ]
     },
     "execution_count": 98,
     "metadata": {},
     "output_type": "execute_result"
    }
   ],
   "source": [
    "room_dict"
   ]
  },
  {
   "cell_type": "code",
   "execution_count": 99,
   "metadata": {},
   "outputs": [],
   "source": [
    "activityDict ={\n",
    "    \"ns\": \"<\",\n",
    "    \"ad\": \"ad\",\n",
    "    \"em\": \"ak\",\n",
    "    \"pl\": \"mo\",\n",
    "    \"ph\": \"tel\",\n",
    "    \"br\": \"ra\",\n",
    "    \"me\": \"ex\",\n",
    "    \"sp\": \"sp\",\n",
    "    \"mi\": \"öv\",\n",
    "    \"ch\": \"läkartid b\",\n",
    "}"
   ]
  },
  {
   "cell_type": "markdown",
   "metadata": {},
   "source": [
    "### Structure of the schedule.json file as described in typescript\n",
    "\n",
    "<pre>\n",
    "interface staffMemberScheduleDay {\n",
    "    staffPk: number;\n",
    "    personDays: SchedulePersonDayType[];\n",
    "}\n",
    "\n",
    "type ScheduleByStaffMemberList = staffMemberScheduleDay[];\n",
    "\n",
    "interface exportJson {\n",
    "    staffMemberDict: { [staffPk: number]: string };\n",
    "    schedule: ScheduleByStaffMemberList;\n",
    "}\n",
    "\n",
    "interface SchedulePersonDayType {\n",
    "    pk: number;\n",
    "    staff_member: number;\n",
    "    date: string;\n",
    "    schedule_chunk: ScheduleChunkType;\n",
    "    is_dirty?: boolean;\n",
    "    is_saving?: boolean;\n",
    "}\n",
    "\n",
    "interface ScheduleChunkType {\n",
    "    pk: number;\n",
    "    start_time: string;\n",
    "    time_resolution: 5 | 10 | 15 | 30 | 60;\n",
    "    time_slots: TimeSlotType[];\n",
    "    last_saved: string;\n",
    "    last_saved_by: number | null;\n",
    "}\n",
    "\n",
    "interface TimeSlotType {\n",
    "    a: ActivityString; // Activity\n",
    "    c?: string; // Comment\n",
    "    r?: string; // Room\n",
    "}\n",
    "</pre>"
   ]
  },
  {
   "cell_type": "markdown",
   "metadata": {},
   "source": [
    "## FILTER"
   ]
  },
  {
   "cell_type": "code",
   "execution_count": 100,
   "metadata": {},
   "outputs": [
    {
     "name": "stdout",
     "output_type": "stream",
     "text": [
      "8\n",
      "1\n"
     ]
    }
   ],
   "source": [
    "#staff_schedules[0][\"personDays\"][0]\n",
    "\n",
    "# Filters:\n",
    "start_date = None # \"2024-07-01\"\n",
    "end_date = None # \"2024-07-13\"\n",
    "staff_members = [10]#[1, 2, 3, 4, 5, 8, 9, 10]\n",
    "\n",
    "print(len(staff_schedules))\n",
    "filtered_staff_schedules = staff_schedules\n",
    "if staff_members:\n",
    "    filtered_staff_schedules = [schedule for schedule in staff_schedules if schedule[\"staffPk\"] in staff_members]\n",
    "print(len(filtered_staff_schedules))"
   ]
  },
  {
   "cell_type": "code",
   "execution_count": 101,
   "metadata": {},
   "outputs": [
    {
     "name": "stdout",
     "output_type": "stream",
     "text": [
      "28\n",
      "28\n"
     ]
    }
   ],
   "source": [
    "if isinstance(start_date, str):\n",
    "    start_date = datetime.strptime(start_date, \"%Y-%m-%d\")\n",
    "if isinstance(end_date, str):\n",
    "    end_date = datetime.strptime(end_date, \"%Y-%m-%d\")\n",
    "\n",
    "print(len(filtered_staff_schedules[0][\"personDays\"]))\n",
    "if start_date and end_date:\n",
    "    filtered_staff_schedules = [\n",
    "        {\n",
    "            \"staffPk\": schedule[\"staffPk\"],\n",
    "            \"personDays\": [\n",
    "                person_day for person_day in schedule[\"personDays\"]\n",
    "                if start_date <= datetime.strptime(person_day[\"date\"], \"%Y-%m-%d\") <= end_date\n",
    "            ]\n",
    "        }\n",
    "        for schedule in filtered_staff_schedules\n",
    "    ]\n",
    "\n",
    "print(len(filtered_staff_schedules[0][\"personDays\"]))"
   ]
  },
  {
   "cell_type": "code",
   "execution_count": 105,
   "metadata": {},
   "outputs": [],
   "source": [
    "# example_chunk = staff_schedules[0][\"personDays\"][0][\"schedule_chunk\"]\n",
    "# example_chunk"
   ]
  },
  {
   "cell_type": "code",
   "execution_count": 106,
   "metadata": {},
   "outputs": [],
   "source": [
    "def SetScheduleChunk(chunk):\n",
    "    start_time = chunk[\"start_time\"][:5]\n",
    "    time_resolution = chunk[\"time_resolution\"]\n",
    "    time_slots = chunk[\"time_slots\"]\n",
    "\n",
    "    index = 0\n",
    "    prev_count = 30\n",
    "\n",
    "    while index < len(time_slots):\n",
    "        activity_start_time = add_minutes(start_time, index * time_resolution)\n",
    "        activity = time_slots[index][\"a\"]\n",
    "        comment = time_slots[index].get(\"c\", \"\")\n",
    "        room = time_slots[index].get(\"r\", \"\")\n",
    "        room_str = room_dict.get(room, \"\")\n",
    "        activity_str = activityDict[activity]\n",
    "\n",
    "        activity_count = 0\n",
    "        comment_count = 0\n",
    "        \n",
    "        for i in range(index, len(time_slots)):\n",
    "            if time_slots[i][\"a\"] == activity and time_slots[i].get(\"c\", \"\") == comment:\n",
    "                activity_count += 1\n",
    "                comment_count += 1\n",
    "\n",
    "                if activity_count == 30:\n",
    "                    break   # Max for what PMO can handle\n",
    "            else:\n",
    "                break\n",
    "\n",
    "        comment_minutes = comment_count * time_resolution\n",
    "\n",
    "        if activity != \"ns\":\n",
    "            pos = SetTimeSlots(activity_str, activity_start_time, activity_count, prev_count)\n",
    "            prev_count = activity_count + 5\n",
    "        else:\n",
    "            pos = True\n",
    "        \n",
    "        if pos and comment:\n",
    "            AddBooking(comment, activity_str, activity_start_time, comment_minutes)\n",
    "\n",
    "        if pos and room:\n",
    "            AddBooking(room_str, activity_str, activity_start_time, time_resolution)\n",
    "\n",
    "        index += activity_count\n",
    "\n",
    "        if not pos:\n",
    "            break\n",
    "\n",
    "    if activity != \"ns\":\n",
    "        SetTimeSlots(activityDict[\"ns\"], add_minutes(start_time, time_resolution * len(time_slots)), 6, prev_count)\n",
    "    \n",
    "    return pos\n",
    "\n",
    "\n",
    "# pos = OpenPMO()\n",
    "# if pos:\n",
    "#     SetScheduleChunk(example_chunk)"
   ]
  },
  {
   "cell_type": "markdown",
   "metadata": {},
   "source": [
    "# Actually run"
   ]
  },
  {
   "cell_type": "code",
   "execution_count": 107,
   "metadata": {},
   "outputs": [
    {
     "name": "stdout",
     "output_type": "stream",
     "text": [
      "\n",
      "###########################################\n",
      "              # Isac #\n",
      "###########################################\n",
      "Text: \"Lund : Isac Wickmnan\"\n",
      "User correctly selected\n",
      "User was selected correctly\n",
      "2024-06-03\n",
      "Completed day\n",
      "2024-06-04\n",
      "Completed day\n",
      "2024-06-05\n",
      "Completed day\n",
      "2024-06-06\n",
      "Completed day\n",
      "2024-06-07\n",
      "Completed day\n",
      "2024-06-08\n",
      "Completed day\n",
      "2024-06-09\n",
      "Completed day\n",
      "2024-06-10\n",
      "Completed day\n",
      "2024-06-11\n",
      "Completed day\n",
      "2024-06-12\n",
      "Completed day\n",
      "2024-06-13\n",
      "Completed day\n",
      "2024-06-14\n",
      "Completed day\n",
      "2024-06-15\n",
      "Completed day\n",
      "2024-06-16\n",
      "Completed day\n",
      "2024-06-17\n",
      "Completed day\n",
      "2024-06-18\n",
      "Completed day\n",
      "\n",
      "Completed Isac in 50.5 minutes\n",
      "\n",
      "Total time: 3030.804972887039 seconds, Average time per user: 50.5 minutes\n"
     ]
    }
   ],
   "source": [
    "continue_from_user = None # 8\n",
    "continue_from_date = \"2024-06-18\"\n",
    "\n",
    "skip_users = False\n",
    "skip_dates = False\n",
    "if continue_from_user:\n",
    "    skip_users = True\n",
    "if continue_from_date:\n",
    "    skip_dates = True\n",
    "\n",
    "OpenPMO()\n",
    "pos = DeselectAllUsers()\n",
    "\n",
    "total_time = 0\n",
    "completed_users = 0\n",
    "\n",
    "if pos:\n",
    "    for staff_schedule in filtered_staff_schedules:\n",
    "        userId = staff_schedule[\"staffPk\"]\n",
    "        user = staff_dict[str(userId)]\n",
    "        if skip_users:\n",
    "            if userId == continue_from_user:\n",
    "                skip_users = False\n",
    "            else:\n",
    "                print(f\"Skipping {user}\")\n",
    "                continue\n",
    "\n",
    "        print(f\"\"\"\n",
    "###########################################\n",
    "              # {user} #\n",
    "###########################################\"\"\")\n",
    "        \n",
    "        start_time = time.time()\n",
    "        \n",
    "        DeselectSingleUser()\n",
    "        pos = SetUser(user)\n",
    "\n",
    "        if pos:\n",
    "            for person_day in staff_schedule[\"personDays\"]:\n",
    "                date_str = person_day[\"date\"]\n",
    "\n",
    "                if skip_dates:\n",
    "                    if date_str == continue_from_date:\n",
    "                        skip_dates = False\n",
    "                    else:\n",
    "                        print(f\"Skipping {date_str}\")\n",
    "                        continue\n",
    "\n",
    "                print(date_str)\n",
    "                pos = SetDate(date_str)\n",
    "                if not pos:\n",
    "                    break\n",
    "\n",
    "                chunk = person_day[\"schedule_chunk\"]\n",
    "                # chunk_start_time = chunk[\"start_time\"]\n",
    "                # time_resolution = chunk[\"time_resolution\"]\n",
    "                # time_slots = chunk[\"time_slots\"]\n",
    "                \n",
    "                pos = SetScheduleChunk(chunk)\n",
    "                print(\"Completed day\")\n",
    "                if not pos:\n",
    "                    break\n",
    "\n",
    "        end_time = time.time()\n",
    "        user_time = end_time - start_time\n",
    "        total_time += user_time\n",
    "        completed_users += 1\n",
    "\n",
    "        print(f\"\\nCompleted {user} in {user_time / 60:.1f} minutes\\n\")\n",
    "\n",
    "average_time = total_time / completed_users if completed_users > 0 else 0\n",
    "print(f\"Total time: {total_time} seconds, Average time per user: {average_time / 60:.1f} minutes\")"
   ]
  },
  {
   "cell_type": "code",
   "execution_count": null,
   "metadata": {},
   "outputs": [],
   "source": []
  }
 ],
 "metadata": {
  "kernelspec": {
   "display_name": "aienv",
   "language": "python",
   "name": "python3"
  },
  "language_info": {
   "codemirror_mode": {
    "name": "ipython",
    "version": 3
   },
   "file_extension": ".py",
   "mimetype": "text/x-python",
   "name": "python",
   "nbconvert_exporter": "python",
   "pygments_lexer": "ipython3",
   "version": "3.7.3"
  }
 },
 "nbformat": 4,
 "nbformat_minor": 2
}
