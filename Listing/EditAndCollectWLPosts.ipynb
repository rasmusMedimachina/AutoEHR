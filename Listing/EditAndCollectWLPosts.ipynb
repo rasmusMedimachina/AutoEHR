{
 "cells": [
  {
   "cell_type": "code",
   "execution_count": null,
   "metadata": {},
   "outputs": [],
   "source": [
    "import sys\n",
    "from time import sleep\n",
    "sys.path.append('..')\n",
    "from pprint import pprint\n",
    "import time\n",
    "from RaAuto.Pmo import OpenPMO, HandleInternalMail\n",
    "from RaAuto.RaAuto import *\n",
    "from RaAuto.RaTime import add_minutes\n",
    "import pyautogui as pag\n",
    "from PIL import Image, ImageDraw\n",
    "import pyperclip\n",
    "from RaAuto.RaImage import capture_and_ocr, imshow\n",
    "import pandas as pd\n",
    "from datetime import datetime\n",
    "import json\n",
    "%matplotlib inline"
   ]
  },
  {
   "cell_type": "markdown",
   "metadata": {},
   "source": [
    "# Date functions"
   ]
  },
  {
   "cell_type": "code",
   "execution_count": null,
   "metadata": {},
   "outputs": [],
   "source": [
    "\n",
    "def string_to_date(date):\n",
    "    \"\"\"\n",
    "    Converts a date string in the format 'YYYY-MM-DD' to a datetime object.\n",
    "\n",
    "    Args:\n",
    "        date (str): Date string in the format 'YYYY-MM-DD'.\n",
    "\n",
    "    Returns:\n",
    "        datetime: A datetime object representing the date.\n",
    "    \"\"\"\n",
    "    if isinstance(date, str):\n",
    "        return datetime.strptime(date, \"%Y-%m-%d\")\n",
    "    return date\n",
    "\n",
    "def date_to_string(date):\n",
    "    \"\"\"\n",
    "    Converts a datetime object to a string in the format 'YYYY-MM-DD'.\n",
    "\n",
    "    Args:\n",
    "        date (datetime): A datetime object.\n",
    "\n",
    "    Returns:\n",
    "        str: A string representation of the date in the format 'YYYY-MM-DD'.\n",
    "    \"\"\"\n",
    "\n",
    "    if isinstance(date, str):     \n",
    "        return date.strftime(\"%Y-%m-%d\")\n",
    "    return date\n",
    "\n",
    "def date_in_range(date, date_start, date_end):\n",
    "    \"\"\"\n",
    "    Checks if a date is within a specified range.\n",
    "\n",
    "    Args:\n",
    "        date (str or datetime): The date to check.\n",
    "        date_start (str or datetime): The start of the range.\n",
    "        date_end (str or datetime): The end of the range.\n",
    "\n",
    "    Returns:\n",
    "        bool: True if the date is within the range, False otherwise.\n",
    "    \"\"\"\n",
    "    # Convert inputs to datetime if they are strings\n",
    "    if isinstance(date, str):\n",
    "        date = string_to_date(date)\n",
    "    if isinstance(date_start, str):\n",
    "        date_start = string_to_date(date_start)\n",
    "    if isinstance(date_end, str):\n",
    "        date_end = string_to_date(date_end)\n",
    "    \n",
    "    return date_start <= date <= date_end"
   ]
  },
  {
   "cell_type": "code",
   "execution_count": null,
   "metadata": {},
   "outputs": [],
   "source": [
    "class ImgsEnum:\n",
    "    def __init__(self, imagesPath):\n",
    "        self.Orsak = os.path.join(imagesPath, \"Waitinglist\", \"Orsak.png\")\n",
    "        self.Kategori = os.path.join(imagesPath, \"Waitinglist\", \"Kategori.png\")\n",
    "        self.Tidsatgang = os.path.join(imagesPath, \"Waitinglist\", \"Tidsatgang.png\")\n",
    "        self.Patienter = os.path.join(imagesPath, \"Waitinglist\", \"Patienter.png\")\n",
    "        self.BokaSenast = os.path.join(imagesPath, \"Waitinglist\", \"BokaSenast.png\")\n",
    "        self.WaitingListMenuBar = os.path.join(imagesPath, \"Waitinglist\", \"WaitingListMenuBar.png\")\n",
    "        self.Avbryt = os.path.join(imagesPath, \"Waitinglist\", \"Avbryt.png\")\n",
    "        self.Avbryt2 = os.path.join(imagesPath, \"Waitinglist\", \"Avbryt2.png\")\n",
    "        self.Varning = os.path.join(imagesPath, \"Waitinglist\", \"Varning.png\")\n",
    "        self.ArAvliden = os.path.join(imagesPath, \"Waitinglist\", \"ArAvliden.png\")\n",
    "        self.Radera = os.path.join(imagesPath, \"Waitinglist\", \"Radera.png\")\n",
    "\n",
    "IMG = ImgsEnum(os.path.join(\"..\", \"Images\"))"
   ]
  },
  {
   "cell_type": "code",
   "execution_count": null,
   "metadata": {},
   "outputs": [],
   "source": [
    "def ScrollUp():\n",
    "    sleep(0.2)\n",
    "    pag.scroll(500)\n",
    "    sleep(0.2)\n",
    "    pag.scroll(500)\n",
    "    sleep(0.2)"
   ]
  },
  {
   "cell_type": "markdown",
   "metadata": {},
   "source": [
    "# Read VL from PMO"
   ]
  },
  {
   "cell_type": "code",
   "execution_count": null,
   "metadata": {},
   "outputs": [],
   "source": [
    "file_path = \"..//..//Files//\"\n",
    "current_personnr_limit_first_part = \"870101\" # Sista personen i \"redo att kallas nu\"\n",
    "current_personnr_limit_last_part = \"1234\"\n",
    "final_personnr_limit_first_part = \"870101\" # Sista personen i hela listan\n",
    "final_personnr_limit_last_part = \"1234\""
   ]
  },
  {
   "cell_type": "code",
   "execution_count": null,
   "metadata": {},
   "outputs": [],
   "source": [
    "def check_alive():\n",
    "    pos = waitForElement(IMG.Varning, limit=1, warn=False)\n",
    "    if pos: ## Patienten avliden\n",
    "        waitAndPress(\"enter\")\n",
    "        sleep(2)\n",
    "        return False\n",
    "\n",
    "    return True"
   ]
  },
  {
   "cell_type": "code",
   "execution_count": null,
   "metadata": {},
   "outputs": [],
   "source": [
    "result = []\n",
    "OpenPMO()\n",
    "for i in range(500):\n",
    "    waitAndPress(\"alt\", \"A\")\n",
    "    waitForElement(IMG.Avbryt)\n",
    "    sleep(0.5)\n",
    "\n",
    "    alive = check_alive()\n",
    "\n",
    "    pos = waitAndClickElement(IMG.Orsak, relX=100, relY=100, beforeStart=0.5)\n",
    "    if pos:\n",
    "        waitAndPress(\"ctrl\", \"A\")\n",
    "        waitAndPress(\"ctrl\", \"C\")\n",
    "        sleep(0.4)\n",
    "        orsak = str(pyperclip.paste())\n",
    "    else:\n",
    "        break\n",
    "\n",
    "    if not \"ADM \" in orsak.upper():        \n",
    "        \n",
    "        pos = waitAndClickElement(IMG.Kategori, relX=60)\n",
    "        if pos:\n",
    "            waitAndType(\"lä\")\n",
    "            waitAndPress(\"enter\")\n",
    "        else:\n",
    "            break\n",
    "\n",
    "\n",
    "        pos = waitAndClickElement(IMG.Tidsatgang, relX=60)\n",
    "        if pos:\n",
    "            waitAndPress(\"ctrl\", \"A\")\n",
    "            waitAndPress(\"delete\")\n",
    "            waitAndType(\"30\")\n",
    "            waitAndPress(\"enter\")\n",
    "        else:\n",
    "            break\n",
    "\n",
    "            \n",
    "\n",
    "        pos = waitForElement(IMG.Patienter)\n",
    "        if pos:\n",
    "            personnr = capture_and_ocr(pos.x-14, pos.y+12, 100, 20)\n",
    "            personnr = personnr.replace(\"—\", \"-\")\n",
    "        else:\n",
    "            break\n",
    "\n",
    "        pos = waitAndClickElement(IMG.BokaSenast, relY=15)\n",
    "        if pos:\n",
    "            waitAndPress(\"ctrl\", \"A\")\n",
    "            waitAndPress(\"ctrl\", \"C\")\n",
    "            sleep(0.4)\n",
    "            date = str(pyperclip.paste())\n",
    "        else:\n",
    "            break\n",
    "\n",
    "        if not alive:\n",
    "            print(f\"{date}, {personnr} är avliden\")\n",
    "            pos = waitAndClickElement(IMG.Avbryt)\n",
    "            if pos:\n",
    "                sleep(0.5)\n",
    "                waitAndPress(\"enter\")\n",
    "        else:\n",
    "            result.append({\"Personnr\": personnr, \"Orsak\": orsak, \"Date\": date})\n",
    "            waitAndPress(\"alt\", \"s\")\n",
    "    else:\n",
    "        pos = waitAndClickElement(IMG.Avbryt)\n",
    "\n",
    "    waitForElement(IMG.WaitingListMenuBar)\n",
    "    sleep(0.5)\n",
    "\n",
    "    if current_personnr_limit_first_part in personnr and current_personnr_limit_last_part in personnr: # ADD THE VALID PERSONNR \n",
    "        break\n",
    "    waitAndPress(\"down\")\n",
    "    sleep(0.4)\n",
    "    if final_personnr_limit_first_part in personnr and final_personnr_limit_last_part in personnr:\n",
    "        waitAndPress(\"down\")\n",
    "        sleep(0.4)\n",
    "\n",
    "    \n",
    "    \n",
    "df = pd.DataFrame(result)\n",
    "df.to_excel(\"JK_waitingListWithComplaint.xlsx\", index=False)"
   ]
  },
  {
   "cell_type": "code",
   "execution_count": null,
   "metadata": {},
   "outputs": [],
   "source": [
    "df = pd.DataFrame(result)\n",
    "df.to_excel(file_path+\"JK_waitingListWithComplaint.xlsx\", index=False)"
   ]
  },
  {
   "cell_type": "markdown",
   "metadata": {},
   "source": [
    "# Add diagnoses"
   ]
  },
  {
   "cell_type": "code",
   "execution_count": null,
   "metadata": {},
   "outputs": [],
   "source": [
    "df = pd.read_excel(file_path+\"JK_waitingListWithComplaint_2024-11.xlsx\")"
   ]
  },
  {
   "cell_type": "code",
   "execution_count": null,
   "metadata": {},
   "outputs": [],
   "source": [
    "def format_personnr(original):\n",
    "    # Convert to string\n",
    "    formatted = f\"{int(float(original)):012}\" if isinstance(original, (float, int)) else f\"{original:>012}\"\n",
    "    \n",
    "    delimiter = \"-\"\n",
    "\n",
    "    date_born_str = re.sub(r\"(\\d\\d\\d\\d)(\\d\\d)(\\d\\d)\\d\\d\\d\\d\", r\"\\1-\\2-\\3\", formatted)\n",
    "\n",
    "    date_born = string_to_date(date_born_str)\n",
    "\n",
    "    original_date = string_to_date(\"2024-11-20\")\n",
    "\n",
    "    if (original_date - date_born).days > 100 * 365.25:\n",
    "        delimiter = r\"+\"\n",
    "\n",
    "    formatted = re.sub(r\"\\d\\d(\\d\\d\\d\\d\\d\\d)(\\d\\d\\d\\d)\", r\"\\1\"+delimiter+r\"\\2\", formatted)\n",
    "\n",
    "    return formatted\n",
    "\n",
    "format_personnr(\"192001011234\")"
   ]
  },
  {
   "cell_type": "code",
   "execution_count": null,
   "metadata": {},
   "outputs": [],
   "source": [
    "patient_diagnoses_df = pd.read_excel(file_path+\"Diagnoser.xlsx\")\n",
    "print(len(patient_diagnoses_df.index))\n",
    "patient_diagnoses_df = patient_diagnoses_df.loc[~(patient_diagnoses_df[\"Personnr\"].isna()) & (patient_diagnoses_df[\"Personnr\"] != \"\")].copy()\n",
    "print(len(patient_diagnoses_df.index))"
   ]
  },
  {
   "cell_type": "code",
   "execution_count": null,
   "metadata": {},
   "outputs": [],
   "source": [
    "patient_diagnoses_df.loc[:, \"Personnr\"] = patient_diagnoses_df.loc[:, \"Personnr\"].apply(format_personnr)\n",
    "patient_diagnoses_df.loc[:, \"Diagnos\"] = patient_diagnoses_df.loc[:, \"Diagnos\"].str.replace(r\",.+\", \"\")\n",
    "# patient_diagnoses_df.head(2)"
   ]
  },
  {
   "cell_type": "code",
   "execution_count": null,
   "metadata": {},
   "outputs": [],
   "source": [
    "diagnoses_dict_df = pd.read_excel(file_path+\"DiagnosDict2.xlsx\")\n",
    "diagnoses_dict_df.head()"
   ]
  },
  {
   "cell_type": "code",
   "execution_count": null,
   "metadata": {},
   "outputs": [],
   "source": [
    "diagnoses_dict = {}\n",
    "for index, row in diagnoses_dict_df.iterrows():\n",
    "    diagnoses_dict[row[\"icd\"]] = row[\"bokningsnamn\"]\n",
    "\n",
    "# {'I109': 'hypertoni',\n",
    "#  'R529': 'smärta',\n",
    "#  'J459': 'astma',\n",
    "# (...)"
   ]
  },
  {
   "cell_type": "code",
   "execution_count": null,
   "metadata": {},
   "outputs": [],
   "source": [
    "example_row = df.loc[10,:]\n",
    "\n",
    "def create_diagnosis_list(row):\n",
    "    personnr = row[\"Personnr\"]\n",
    "    icd_set = set()\n",
    "    diagnoses = []\n",
    "\n",
    "    for index, row in patient_diagnoses_df.iterrows():\n",
    "        if personnr == row[\"Personnr\"]:\n",
    "            icd_set.add(row[\"Diagnos\"])\n",
    "\n",
    "    if len(icd_set) == 0:\n",
    "        return \"\"\n",
    "    \n",
    "    icd_list = list(icd_set)\n",
    "    icd_list.sort()\n",
    "\n",
    "    for icd in icd_list:\n",
    "        if icd in diagnoses_dict:\n",
    "            diagnoses.append(diagnoses_dict[icd])\n",
    "\n",
    "    return \", \".join(diagnoses)\n",
    "\n",
    "\n",
    "create_diagnosis_list(example_row)"
   ]
  },
  {
   "cell_type": "code",
   "execution_count": null,
   "metadata": {},
   "outputs": [],
   "source": [
    "def create_new_complaint_string(row):\n",
    "    new = row[\"Orsak\"]\n",
    "    diagnoses = create_diagnosis_list(row)\n",
    "    if diagnoses and (\"årlig\" in new or \"ÅRLIG\" in new):\n",
    "        new = re.sub(r\"^årlig|^ÅRLIG\", \"\", new)\n",
    "        new = \"årlig \" + diagnoses + new\n",
    "    \n",
    "    return new\n",
    "\n",
    "create_new_complaint_string(example_row)"
   ]
  },
  {
   "cell_type": "code",
   "execution_count": null,
   "metadata": {},
   "outputs": [],
   "source": [
    "df[\"Orsak uppdaterad\"] = df.apply(create_new_complaint_string, axis=\"columns\")"
   ]
  },
  {
   "cell_type": "code",
   "execution_count": null,
   "metadata": {},
   "outputs": [],
   "source": [
    "total = len(df.index)\n",
    "changed = len(df.loc[ df[\"Orsak\"] != df[\"Orsak uppdaterad\"] ].index)\n",
    "print(f\"Changed {changed}/{total}\")"
   ]
  },
  {
   "cell_type": "code",
   "execution_count": null,
   "metadata": {},
   "outputs": [],
   "source": [
    "df.to_excel(file_path+\"JK_waitinglist_updated_complaint.xlsx\", index=False)"
   ]
  },
  {
   "cell_type": "markdown",
   "metadata": {},
   "source": [
    "# Apply changes"
   ]
  },
  {
   "cell_type": "code",
   "execution_count": null,
   "metadata": {},
   "outputs": [],
   "source": [
    "df = pd.read_excel(file_path+\"JK_waitinglist_updated_complaint.xlsx\")\n",
    "df = df.loc[ df[\"Orsak\"] != df[\"Orsak uppdaterad\"] ]"
   ]
  },
  {
   "cell_type": "code",
   "execution_count": null,
   "metadata": {},
   "outputs": [],
   "source": [
    "complaint_dict = {}\n",
    "\n",
    "for index, row in df.iterrows():\n",
    "    complaint_dict[row[\"Personnr\"] + \"_\" + row[\"Date\"] + \"_\" + row[\"Orsak\"]] = row[\"Orsak uppdaterad\"]"
   ]
  },
  {
   "cell_type": "code",
   "execution_count": null,
   "metadata": {},
   "outputs": [],
   "source": [
    "result = []\n",
    "OpenPMO()\n",
    "for i in range(500):\n",
    "    waitAndPress(\"alt\", \"A\")\n",
    "    waitForElement(IMG.Avbryt)\n",
    "    sleep(0.5)\n",
    "\n",
    "    alive = check_alive()\n",
    "\n",
    "    pos = waitAndClickElement(IMG.Orsak, relX=100, relY=100, beforeStart=0.5)\n",
    "    if pos:\n",
    "        waitAndPress(\"ctrl\", \"A\")\n",
    "        waitAndPress(\"ctrl\", \"C\")\n",
    "        sleep(0.6)\n",
    "        orsak = str(pyperclip.paste())\n",
    "    else:\n",
    "        break\n",
    "\n",
    "    if not \"ADM \" in orsak.upper():\n",
    "        pos = waitForElement(IMG.Patienter)\n",
    "        if pos:\n",
    "            personnr = capture_and_ocr(pos.x-14, pos.y+12, 100, 20)\n",
    "            personnr = personnr.replace(\"—\", \"-\")\n",
    "        else:\n",
    "            break\n",
    "\n",
    "        pos = waitAndClickElement(IMG.BokaSenast, relY=15)\n",
    "        if pos:\n",
    "            waitAndPress(\"ctrl\", \"A\")\n",
    "            waitAndPress(\"ctrl\", \"C\")\n",
    "            sleep(0.4)\n",
    "            date = str(pyperclip.paste())\n",
    "        else:\n",
    "            break\n",
    "\n",
    "        dict_key = f\"{personnr}_{date}_{orsak}\"\n",
    "\n",
    "        if not alive:\n",
    "            print(f\"{date}, {personnr} är avliden\")\n",
    "            pos = waitAndClickElement(IMG.Avbryt)\n",
    "            if pos:\n",
    "                sleep(0.5)\n",
    "                waitAndPress(\"enter\")\n",
    "        elif dict_key in complaint_dict:\n",
    "            pos = waitAndClickElement(IMG.Orsak, relX=100, relY=100, beforeStart=0.5)\n",
    "            if pos:\n",
    "                waitAndPress(\"ctrl\", \"A\")\n",
    "                sleep(0.4)\n",
    "                waitAndType(complaint_dict[dict_key])\n",
    "                sleep(0.4)\n",
    "\n",
    "            print(\"Updated \" + personnr)\n",
    "            \n",
    "            waitAndPress(\"alt\", \"s\")\n",
    "        else:\n",
    "            print(\"Did not update \" + personnr)\n",
    "            pos = waitAndClickOneOf([IMG.Avbryt, IMG.Avbryt2])\n",
    "    else:\n",
    "        pos = waitAndClickOneOf([IMG.Avbryt, IMG.Avbryt2])\n",
    "\n",
    "    waitForElement(IMG.WaitingListMenuBar)\n",
    "    sleep(0.5)\n",
    "\n",
    "    if current_personnr_limit_first_part in personnr and current_personnr_limit_last_part in personnr: # ADD THE VALID PERSONNR \n",
    "        break\n",
    "    waitAndPress(\"down\")\n",
    "    sleep(0.4)\n",
    "    if final_personnr_limit_first_part in personnr and final_personnr_limit_last_part in personnr:\n",
    "        waitAndPress(\"down\")\n",
    "        sleep(0.4)\n",
    "\n",
    "\n",
    "    \n"
   ]
  },
  {
   "cell_type": "markdown",
   "metadata": {},
   "source": [
    "# Change receiving dr"
   ]
  },
  {
   "cell_type": "code",
   "execution_count": null,
   "metadata": {},
   "outputs": [],
   "source": [
    "originDate = string_to_date(\"2024-12-08\")\n",
    "def format_waitlist_personnr(personnr):\n",
    "    \"\"\"\n",
    "    Formats the person number by determining the correct century.\n",
    "\n",
    "    Args:\n",
    "        personnr (str): The person number in the format \"YYMMDD-XXXX\" or \"YYMMDD+XXXX\".\n",
    "        originDate (datetime): The reference date to determine the century.\n",
    "\n",
    "    Returns:\n",
    "        str: The formatted person number in the format \"YYYYMMDD-XXXX\".\n",
    "    \"\"\"\n",
    "    # Extract the year, month, and day from the personnr\n",
    "    date_part, suffix = personnr.split(\"-\") if \"-\" in personnr else personnr.split(\"+\")\n",
    "    year = int(date_part[:2])\n",
    "    month_day = date_part[2:]\n",
    "\n",
    "    # Determine the full year\n",
    "    current_century = originDate.year // 100\n",
    "    full_year = current_century * 100 + year\n",
    "\n",
    "    # If there's a '+' or if the year is over a century in the future, adjust the century\n",
    "    if \"+\" in personnr or full_year > originDate.year:\n",
    "        full_year -= 100\n",
    "\n",
    "    # Format the full date and return\n",
    "    formatted_personnr = f\"{full_year:04d}{month_day}-{suffix}\"\n",
    "    return formatted_personnr\n",
    "\n",
    "format_waitlist_personnr(\"870104-1234\")"
   ]
  },
  {
   "cell_type": "code",
   "execution_count": null,
   "metadata": {},
   "outputs": [],
   "source": [
    "moves = pd.read_excel(file_path+\"all_moves_WITH_EXTRA_ADJUSTMENTS.xlsx\")"
   ]
  },
  {
   "cell_type": "code",
   "execution_count": null,
   "metadata": {},
   "outputs": [],
   "source": [
    "initials_to_search_staff_dict = {\n",
    "    \"LW\": \"linn\",\n",
    "    \"MS\": \"maria m\",\n",
    "    \"RA\": \"ra\",\n",
    "    \"AE\": \"anna k\",\n",
    "    \"H\": \"hana\",\n",
    "    \"JK\": \"juli\",\n",
    "    \"MT\": \"mic\",\n",
    "}"
   ]
  },
  {
   "cell_type": "code",
   "execution_count": null,
   "metadata": {},
   "outputs": [],
   "source": [
    "personnr_to_search_staff_dict = {}\n",
    "\n",
    "for index, row in moves.iterrows():\n",
    "    personnr_to_search_staff_dict[row[\"Personnr\"]] = initials_to_search_staff_dict[row[\"To\"]]"
   ]
  },
  {
   "cell_type": "code",
   "execution_count": null,
   "metadata": {},
   "outputs": [],
   "source": [
    "result = []\n",
    "OpenPMO()\n",
    "for i in range(97):\n",
    "    waitAndPress(\"alt\", \"A\")\n",
    "    waitForElement(IMG.Avbryt)\n",
    "    sleep(0.5)\n",
    "\n",
    "    alive = check_alive()\n",
    "\n",
    "    if alive:\n",
    "        pos = waitForElement(IMG.Patienter)\n",
    "        sleep(0.5)\n",
    "        if pos:\n",
    "            personnr = capture_and_ocr(pos.x-14, pos.y+12, 100, 20)\n",
    "            personnr = personnr.replace(\"—\", \"-\")\n",
    "            personnr = format_waitlist_personnr(personnr)\n",
    "        else:\n",
    "            break\n",
    "\n",
    "        if personnr and personnr in personnr_to_search_staff_dict:\n",
    "            pos = waitAndClickElement(IMG.Kategori, relY=55, relX=100)\n",
    "            if pos:\n",
    "                waitAndType(personnr_to_search_staff_dict[personnr])\n",
    "                waitAndPress(\"enter\")\n",
    "                print(\"Updated \" + personnr)\n",
    "                waitAndClickElement(IMG.Orsak, relX=100, relY=100, beforeStart=0.2)\n",
    "                waitAndType(\" \")\n",
    "                waitAndPress(\"backspace\")\n",
    "                waitAndPress(\"alt\", \"s\")\n",
    "        else:\n",
    "            print(\"Did not update \" + personnr)\n",
    "            pos = waitAndClickOneOf([IMG.Avbryt, IMG.Avbryt2])\n",
    "    else:\n",
    "        print(\"Did not update because not alive\")\n",
    "        pos = waitAndClickOneOf([IMG.Avbryt, IMG.Avbryt2])\n",
    "\n",
    "    waitForElement(IMG.WaitingListMenuBar)\n",
    "    sleep(0.5)\n",
    "\n",
    "    if f\"{final_personnr_limit_first_part}-{final_personnr_limit_last_part}\" in personnr: # ADD THE VALID PERSONNR \n",
    "        break\n",
    "    waitAndPress(\"down\")\n",
    "    sleep(0.4)\n",
    "    if f\"{current_personnr_limit_first_part}-{current_personnr_limit_last_part}\" in personnr:\n",
    "        waitAndPress(\"down\")\n",
    "        sleep(0.4)\n",
    "\n",
    "\n",
    "    "
   ]
  },
  {
   "cell_type": "code",
   "execution_count": null,
   "metadata": {},
   "outputs": [],
   "source": []
  },
  {
   "cell_type": "code",
   "execution_count": null,
   "metadata": {},
   "outputs": [],
   "source": []
  },
  {
   "cell_type": "code",
   "execution_count": null,
   "metadata": {},
   "outputs": [],
   "source": []
  },
  {
   "cell_type": "code",
   "execution_count": null,
   "metadata": {},
   "outputs": [],
   "source": []
  }
 ],
 "metadata": {
  "kernelspec": {
   "display_name": "aienv",
   "language": "python",
   "name": "python3"
  },
  "language_info": {
   "codemirror_mode": {
    "name": "ipython",
    "version": 3
   },
   "file_extension": ".py",
   "mimetype": "text/x-python",
   "name": "python",
   "nbconvert_exporter": "python",
   "pygments_lexer": "ipython3",
   "version": "3.7.3"
  }
 },
 "nbformat": 4,
 "nbformat_minor": 2
}
