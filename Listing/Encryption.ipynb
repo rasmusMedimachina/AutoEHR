{
 "cells": [
  {
   "cell_type": "code",
   "execution_count": 1,
   "metadata": {},
   "outputs": [],
   "source": [
    "from cryptography.fernet import Fernet"
   ]
  },
  {
   "cell_type": "code",
   "execution_count": 2,
   "metadata": {},
   "outputs": [],
   "source": [
    "# key = Fernet.generate_key()\n",
    "# encMessage = fernet.encrypt(message.encode()) # encode => bytes"
   ]
  },
  {
   "cell_type": "code",
   "execution_count": 3,
   "metadata": {},
   "outputs": [],
   "source": [
    "filePath = \"..\\\\..\\\\Files\\\\\""
   ]
  },
  {
   "cell_type": "code",
   "execution_count": 5,
   "metadata": {},
   "outputs": [],
   "source": [
    "key = \"\"\n",
    "\n",
    "with open(filePath + \"key.key\", \"r\") as keyFile:\n",
    "    key = keyFile.read()"
   ]
  },
  {
   "cell_type": "code",
   "execution_count": 6,
   "metadata": {},
   "outputs": [
    {
     "data": {
      "text/plain": [
       "'IM90A0ZnW_RvC5euGqEiZt760lXGwHJKFFfaqeROy5c='"
      ]
     },
     "execution_count": 6,
     "metadata": {},
     "output_type": "execute_result"
    }
   ],
   "source": [
    "key"
   ]
  },
  {
   "cell_type": "code",
   "execution_count": 7,
   "metadata": {},
   "outputs": [],
   "source": [
    "fernet = Fernet(key)"
   ]
  },
  {
   "cell_type": "code",
   "execution_count": 23,
   "metadata": {},
   "outputs": [],
   "source": [
    "def decrypt(filePath, decode = False):\n",
    "    with open(filePath, \"rb\") as encryptedFile:\n",
    "        content = encryptedFile.read()\n",
    "        decrypted = fernet.decrypt(content)\n",
    "        if decode:\n",
    "            decrypted = decrypted.decode()\n",
    "        return decrypted"
   ]
  },
  {
   "cell_type": "code",
   "execution_count": 24,
   "metadata": {},
   "outputs": [],
   "source": [
    "decryptedFile1 = decrypt(filePath+\"encryptedFile.data\", decode=True)\n",
    "    decryptedFile2 = decrypt(filePath+\"encryptedZipFile.data\")"
   ]
  },
  {
   "cell_type": "code",
   "execution_count": 27,
   "metadata": {},
   "outputs": [],
   "source": [
    "with open(filePath+\"file1.csv\", \"w\") as outputFile:\n",
    "    outputFile.write(decryptedFile1)\n",
    "    \n",
    "with open(filePath+\"stats.zip\", \"wb\") as outputFile:\n",
    "    outputFile.write(decryptedFile2)"
   ]
  }
 ],
 "metadata": {
  "kernelspec": {
   "display_name": "Python 3",
   "language": "python",
   "name": "python3"
  },
  "language_info": {
   "codemirror_mode": {
    "name": "ipython",
    "version": 3
   },
   "file_extension": ".py",
   "mimetype": "text/x-python",
   "name": "python",
   "nbconvert_exporter": "python",
   "pygments_lexer": "ipython3",
   "version": "3.7.3"
  }
 },
 "nbformat": 4,
 "nbformat_minor": 4
}
