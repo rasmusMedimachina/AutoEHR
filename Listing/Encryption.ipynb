{
 "cells": [
  {
   "cell_type": "code",
   "execution_count": null,
   "metadata": {},
   "outputs": [],
   "source": [
    "from cryptography.fernet import Fernet"
   ]
  },
  {
   "cell_type": "code",
   "execution_count": null,
   "metadata": {},
   "outputs": [],
   "source": [
    "# key = Fernet.generate_key()\n",
    "# encMessage = fernet.encrypt(message.encode()) # encode => bytes"
   ]
  },
  {
   "cell_type": "code",
   "execution_count": null,
   "metadata": {},
   "outputs": [],
   "source": [
    "filePath = \"..\\\\..\\\\Files\\\\\""
   ]
  },
  {
   "cell_type": "code",
   "execution_count": null,
   "metadata": {},
   "outputs": [],
   "source": [
    "key = \"\"\n",
    "\n",
    "with open(filePath + \"key.key\", \"r\") as keyFile:\n",
    "    key = keyFile.read()"
   ]
  },
  {
   "cell_type": "code",
   "execution_count": null,
   "metadata": {},
   "outputs": [],
   "source": [
    "key"
   ]
  },
  {
   "cell_type": "code",
   "execution_count": null,
   "metadata": {},
   "outputs": [],
   "source": [
    "fernet = Fernet(key)"
   ]
  },
  {
   "cell_type": "code",
   "execution_count": null,
   "metadata": {},
   "outputs": [],
   "source": [
    "def decrypt(filePath, decode = False): # decode means to make it a string - only valid for text\n",
    "    with open(filePath, \"rb\") as encryptedFile:\n",
    "        content = encryptedFile.read()\n",
    "        decrypted = fernet.decrypt(content)\n",
    "        if decode:\n",
    "            decrypted = decrypted.decode()\n",
    "        return decrypted"
   ]
  },
  {
   "cell_type": "code",
   "execution_count": null,
   "metadata": {},
   "outputs": [],
   "source": [
    "decryptedFile1 = decrypt(filePath+\"JK_waitinglist_updated_complaint.xlsx.encr\", decode=False)\n",
    "# decryptedFile2 = decrypt(filePath+\"encryptedZipFile.data\")"
   ]
  },
  {
   "cell_type": "code",
   "execution_count": null,
   "metadata": {},
   "outputs": [],
   "source": [
    "with open(filePath+\"test.xlsx\", \"wb\") as outputFile:\n",
    "    outputFile.write(decryptedFile1)"
   ]
  },
  {
   "cell_type": "code",
   "execution_count": null,
   "metadata": {},
   "outputs": [],
   "source": [
    "def encrypt(source_path, target_path):\n",
    "    \"\"\"\n",
    "    Encrypts the content of a file and saves it to a target file.\n",
    "\n",
    "    :param source_path: Path to the source file to be encrypted.\n",
    "    :param target_path: Path to save the encrypted file.\n",
    "    \"\"\"\n",
    "    with open(source_path, \"rb\") as sourceFile:\n",
    "        content = sourceFile.read()\n",
    "        encrypted = fernet.encrypt(content)\n",
    "    \n",
    "    with open(target_path, \"wb\") as targetFile:\n",
    "        targetFile.write(encrypted)\n"
   ]
  },
  {
   "cell_type": "code",
   "execution_count": null,
   "metadata": {},
   "outputs": [],
   "source": [
    "encrypt(filePath+\"Besökslistor\\\\visits.zip\", filePath+\"Besökslistor\\\\visits.zip.encr\")\n"
   ]
  }
 ],
 "metadata": {
  "kernelspec": {
   "display_name": "aienv",
   "language": "python",
   "name": "python3"
  },
  "language_info": {
   "codemirror_mode": {
    "name": "ipython",
    "version": 3
   },
   "file_extension": ".py",
   "mimetype": "text/x-python",
   "name": "python",
   "nbconvert_exporter": "python",
   "pygments_lexer": "ipython3",
   "version": "3.7.3"
  }
 },
 "nbformat": 4,
 "nbformat_minor": 4
}
