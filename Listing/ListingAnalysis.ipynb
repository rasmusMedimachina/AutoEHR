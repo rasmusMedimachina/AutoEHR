{
 "cells": [
  {
   "cell_type": "code",
   "execution_count": null,
   "metadata": {},
   "outputs": [],
   "source": [
    "filePath = \"..\\\\..\\\\Files\\\\\"\n",
    "filePathPersonalLists = \"..\\\\..\\\\Files\\\\Besökslistor\\\\\""
   ]
  },
  {
   "cell_type": "code",
   "execution_count": null,
   "metadata": {},
   "outputs": [],
   "source": [
    "# Check that each file isn't the same size\n",
    "import os\n",
    "\n",
    "def list_files_by_size(folder_path):\n",
    "    # List to store file names and their sizes\n",
    "    files_info = []\n",
    "    \n",
    "    # Iterate through files in the folder\n",
    "    for file_name in os.listdir(folder_path):\n",
    "        file_path = os.path.join(folder_path, file_name)\n",
    "        # Check if it's a file\n",
    "        if os.path.isfile(file_path):\n",
    "            file_size = os.path.getsize(file_path)\n",
    "            files_info.append((file_name, file_size))\n",
    "    \n",
    "    # Sort files by size (ascending order)\n",
    "    sorted_files = sorted(files_info, key=lambda x: x[1])\n",
    "    \n",
    "    # Print sorted files with sizes\n",
    "    for file_name, file_size in sorted_files:\n",
    "        print(f\"{file_name}: {file_size} bytes\")\n",
    "\n",
    "list_files_by_size(filePathPersonalLists)"
   ]
  },
  {
   "cell_type": "code",
   "execution_count": null,
   "metadata": {},
   "outputs": [],
   "source": [
    "import pandas as pd\n",
    "from matplotlib import pyplot as plt\n",
    "import numpy as np\n",
    "import re\n",
    "from collections import Counter\n",
    "from datetime import datetime\n",
    "from pprint import pprint\n",
    "import math"
   ]
  },
  {
   "cell_type": "markdown",
   "metadata": {},
   "source": [
    "### Scan for pnr\n",
    "#\\b\\d{12}\\b|\\d{8}-\\w{4}"
   ]
  },
  {
   "cell_type": "code",
   "execution_count": null,
   "metadata": {},
   "outputs": [],
   "source": [
    "reloadDataFiles = True"
   ]
  },
  {
   "cell_type": "markdown",
   "metadata": {},
   "source": [
    "# Import files"
   ]
  },
  {
   "cell_type": "code",
   "execution_count": null,
   "metadata": {},
   "outputs": [],
   "source": [
    "def LoadDrFile(initials):\n",
    "    drDfVisists = pd.read_excel(f\"{filePathPersonalLists}{initials}_besök.xlsx\")\n",
    "    drDfPhone = pd.read_excel(f\"{filePathPersonalLists}{initials}_telefon.xlsx\")\n",
    "    drDfAdmin = pd.read_excel(f\"{filePathPersonalLists}{initials}_indirekt.xlsx\")\n",
    "    drDfDistans = pd.read_excel(f\"{filePathPersonalLists}{initials}_distans.xlsx\")\n",
    "    drDfDistans.loc[:, \"Variabelnamn i M4\"] = \"Telefon\"\n",
    "    \n",
    "    # Append all DataFrames into one\n",
    "    drDf = drDfVisists.append(drDfPhone, ignore_index=True)\n",
    "    drDf = drDf.append(drDfDistans, ignore_index=True)\n",
    "    drDf = drDf.append(drDfAdmin, ignore_index=True)\n",
    "    \n",
    "    # Limit columns and filter out rows with null in 'Personnr'\n",
    "    limitColsDf = drDf.loc[:, [\"Personnr\", \"Variabelnamn i M4\", \"Besöksdatum\"]]\n",
    "    nonNaNDf = limitColsDf.loc[limitColsDf['Personnr'].notnull()].copy()  # Explicitly create a copy\n",
    "    nonNaNDf[\"Personnr\"] = nonNaNDf[\"Personnr\"].apply(lambda x: f\"{int(float(x)):012}\" if isinstance(x, (float, int)) else f\"{x:>012}\")\n",
    "    \n",
    "    # Add the 'Initials' column\n",
    "    nonNaNDf.loc[:, \"Initials\"] = initials\n",
    "    \n",
    "    return nonNaNDf\n"
   ]
  },
  {
   "cell_type": "code",
   "execution_count": null,
   "metadata": {},
   "outputs": [],
   "source": [
    "if reloadDataFiles:\n",
    "    JK = LoadDrFile(\"JK\")\n",
    "    MT = LoadDrFile(\"MT\")\n",
    "    LW = LoadDrFile(\"LW\")\n",
    "    RA = LoadDrFile(\"RA\")\n",
    "    MS = LoadDrFile(\"MS\")\n",
    "    MN = LoadDrFile(\"MN\")\n",
    "    DH = LoadDrFile(\"DH\")\n",
    "    AE = LoadDrFile(\"AE\")\n",
    "    IW = LoadDrFile(\"IW\")\n",
    "    LYY = LoadDrFile(\"LYY\")"
   ]
  },
  {
   "cell_type": "code",
   "execution_count": null,
   "metadata": {},
   "outputs": [],
   "source": [
    "# if reloadDataFiles:\n",
    "#     print(RA.loc[800, :])"
   ]
  },
  {
   "cell_type": "code",
   "execution_count": null,
   "metadata": {},
   "outputs": [],
   "source": [
    "if reloadDataFiles:\n",
    "    listingOriginalDf = pd.read_csv(f\"{filePath}Listing_2024-12-11.csv\", sep=\";\")\n",
    "    listingDf = listingOriginalDf.loc[:, [\"Pnr\", \"Vårdgivare\"]]\n",
    "    listingDf.head(2)"
   ]
  },
  {
   "cell_type": "code",
   "execution_count": null,
   "metadata": {},
   "outputs": [],
   "source": [
    "def read_tab_separated_file(file_path):\n",
    "    result_dict = {}\n",
    "    \n",
    "    try:\n",
    "        with open(file_path, 'r', encoding='utf-8') as file:\n",
    "            for line in file:\n",
    "                # Ignorera tomma rader\n",
    "                if line.strip():\n",
    "                    key, value = line.strip().split('\\t')\n",
    "                    result_dict[key] = value\n",
    "    except FileNotFoundError:\n",
    "        print(f\"Filen {file_path} kunde inte hittas.\")\n",
    "    except ValueError:\n",
    "        print(\"Fel format i filen. Kontrollera att varje rad innehåller exakt en tab.\")\n",
    "\n",
    "    return result_dict\n"
   ]
  },
  {
   "cell_type": "code",
   "execution_count": null,
   "metadata": {},
   "outputs": [],
   "source": [
    "DrToInitials = read_tab_separated_file(filePath+\"Permanent\\\\DrToInitials_ListingAnalysis.txt\")\n"
   ]
  },
  {
   "cell_type": "code",
   "execution_count": null,
   "metadata": {},
   "outputs": [],
   "source": [
    "if reloadDataFiles:\n",
    "    listingDf.rename(columns={\"Pnr\": \"Personnr\", \"Vårdgivare\": \"Listing\"}, inplace=True)\n",
    "    listingDf[\"Listing\"] = listingDf[\"Listing\"].apply(lambda name: DrToInitials[name] )\n",
    "    listingDf.head()"
   ]
  },
  {
   "cell_type": "code",
   "execution_count": null,
   "metadata": {},
   "outputs": [],
   "source": [
    "listing_counter = Counter(listingDf[\"Listing\"])\n",
    "for initials in [ \"MT\", \"JK\", \"RA\", \"LW\", \"MS\", \"H\", \"AE\", \"MN\", \"DH\", \"HC\"]:\n",
    "    print(f\"{initials}\\t{listing_counter[initials]}\")"
   ]
  },
  {
   "cell_type": "code",
   "execution_count": null,
   "metadata": {},
   "outputs": [],
   "source": [
    "if reloadDataFiles:\n",
    "    listingDict = dict(zip(listingDf[\"Personnr\"], listingDf[\"Listing\"]))"
   ]
  },
  {
   "cell_type": "markdown",
   "metadata": {},
   "source": [
    "## Lägg ihop alla besök med listad läkar som egen kolumn"
   ]
  },
  {
   "cell_type": "code",
   "execution_count": null,
   "metadata": {},
   "outputs": [],
   "source": [
    "if reloadDataFiles:\n",
    "    allContacts = JK.append(MT, ignore_index=True)\n",
    "    allContacts = allContacts.append(LW, ignore_index=True)\n",
    "    allContacts = allContacts.append(RA, ignore_index=True)\n",
    "    allContacts = allContacts.append(MS, ignore_index=True)\n",
    "    allContacts = allContacts.append(MN, ignore_index=True)\n",
    "    allContacts = allContacts.append(DH, ignore_index=True)\n",
    "    allContacts = allContacts.append(AE, ignore_index=True)\n",
    "    allContacts = allContacts.append(LYY, ignore_index=True)\n",
    "    allContacts = allContacts.append(IW, ignore_index=True)\n",
    "\n",
    "    allContacts = allContacts.copy()"
   ]
  },
  {
   "cell_type": "code",
   "execution_count": null,
   "metadata": {},
   "outputs": [],
   "source": [
    "if reloadDataFiles:\n",
    "    allContacts[\"Personnr\"] = allContacts[\"Personnr\"].str.replace(r\"(\\d{8})(\\w{4})\", r\"\\1-\\2\")"
   ]
  },
  {
   "cell_type": "code",
   "execution_count": null,
   "metadata": {},
   "outputs": [],
   "source": [
    "if reloadDataFiles:\n",
    "    print(set(allContacts[\"Variabelnamn i M4\"]))"
   ]
  },
  {
   "cell_type": "code",
   "execution_count": null,
   "metadata": {},
   "outputs": [],
   "source": [
    "visitTypeDict = {\n",
    "    'Indirekt kontakt': \"adm\",\n",
    "    'Planerade mottagningsbesök': \"visit\",\n",
    "    'Planerat hembesök': \"visit\",\n",
    "    'Telefon': \"tel\"\n",
    "}"
   ]
  },
  {
   "cell_type": "code",
   "execution_count": null,
   "metadata": {},
   "outputs": [],
   "source": [
    "if reloadDataFiles:\n",
    "    allContacts.rename(columns = {\"Variabelnamn i M4\" : \"VisitType\"}, inplace=True)\n",
    "    allContacts[\"VisitType\"] = allContacts[\"VisitType\"].apply(lambda x: visitTypeDict[x])\n",
    "#     print(allContacts.head(1))"
   ]
  },
  {
   "cell_type": "code",
   "execution_count": null,
   "metadata": {},
   "outputs": [],
   "source": [
    "def checkListing(personnr):\n",
    "    if not personnr in listingDict:\n",
    "        return \"unknown\"\n",
    "    \n",
    "    return listingDict[personnr]"
   ]
  },
  {
   "cell_type": "code",
   "execution_count": null,
   "metadata": {},
   "outputs": [],
   "source": [
    "if reloadDataFiles:\n",
    "    allContacts[\"Listing\"] = allContacts[\"Personnr\"].apply( checkListing )"
   ]
  },
  {
   "cell_type": "code",
   "execution_count": null,
   "metadata": {},
   "outputs": [],
   "source": [
    "if reloadDataFiles:\n",
    "    allContacts.to_excel(f\"{filePath}allContacts.xlsx\", index=False)\n",
    "else:\n",
    "    allContacts = pd.read_excel(f\"{filePath}allContacts.xlsx\")\n",
    "    try:\n",
    "        allContacts.drop(columns=[\"Unnamed: 0\", \"Unnamed: 0.1\"], inplace=True)\n",
    "    except:\n",
    "        print(\"Unnamed columns not found\")"
   ]
  },
  {
   "cell_type": "code",
   "execution_count": null,
   "metadata": {},
   "outputs": [],
   "source": [
    "if reloadDataFiles:\n",
    "    listingDf[\"Visits (n)\"] = listingDf[\"Personnr\"].apply(\n",
    "        lambda personnr: len(allContacts.loc[ \n",
    "            (allContacts[\"Personnr\"] == personnr) & \n",
    "            (allContacts[\"VisitType\"] == \"visit\")].index))\n",
    "\n",
    "    listingDf[\"Tel (n)\"] = listingDf[\"Personnr\"].apply(\n",
    "        lambda personnr: len(allContacts.loc[ \n",
    "            (allContacts[\"Personnr\"] == personnr) & \n",
    "            (allContacts[\"VisitType\"] == \"tel\")].index))\n",
    "\n",
    "    listingDf[\"Adm (n)\"] = listingDf[\"Personnr\"].apply(\n",
    "        lambda personnr: len(allContacts.loc[ \n",
    "            (allContacts[\"Personnr\"] == personnr) & \n",
    "            (allContacts[\"VisitType\"] == \"adm\")].index))\n",
    "    \n",
    "    listingDf.to_excel(f\"{filePath}listingDf.xlsx\")\n",
    "else:\n",
    "    listingDf = pd.read_excel(f\"{filePath}listingDf.xlsx\")\n",
    "    listingDf.drop(columns=[\"Unnamed: 0\"], inplace=True)"
   ]
  },
  {
   "cell_type": "markdown",
   "metadata": {},
   "source": [
    "### Lägg till antalet besök per listad pat i listingDf"
   ]
  },
  {
   "cell_type": "code",
   "execution_count": null,
   "metadata": {},
   "outputs": [],
   "source": [
    "listingDf.loc[:, [\"Listing\", \"Visits (n)\", \"Tel (n)\", \"Adm (n)\"]].head(2)"
   ]
  },
  {
   "cell_type": "code",
   "execution_count": null,
   "metadata": {},
   "outputs": [],
   "source": [
    "unlistedDf = listingDf.loc[ listingDf[\"Listing\"] == \"HC\" ]\n",
    "print(len(unlistedDf.index))\n"
   ]
  },
  {
   "cell_type": "code",
   "execution_count": null,
   "metadata": {},
   "outputs": [],
   "source": [
    "#allContacts.loc[ allContacts[\"Personnr\"] == \"some_nr\" ]"
   ]
  },
  {
   "cell_type": "markdown",
   "metadata": {},
   "source": [
    "## Ta fram aktiva patienter (listad på HC som ej haft besök sista åren)"
   ]
  },
  {
   "cell_type": "code",
   "execution_count": null,
   "metadata": {},
   "outputs": [],
   "source": [
    "hasVisitSet = set( allContacts.loc[ allContacts[\"VisitType\"] == \"visit\" ].loc[ : , \"Personnr\"] )"
   ]
  },
  {
   "cell_type": "code",
   "execution_count": null,
   "metadata": {},
   "outputs": [],
   "source": [
    "print(f\"There were {len(allContacts.index)} contacts in total.\")\n",
    "print(f\"There were {len(allContacts.loc[ (allContacts['Listing'] == 'HC') ].index)} contacts from unlisted patients.\")\n",
    "unlistedHasContactSet = set( allContacts.loc[ (allContacts[\"Listing\"] == \"HC\") ].loc[ : , \"Personnr\"] )\n",
    "print(f\"{len(unlistedHasContactSet)} unlisted patients had som form of contact.\")\n",
    "unlistedHasVisitSet = set( allContacts.loc[ (allContacts[\"Listing\"] == \"HC\") & (allContacts[\"VisitType\"] == \"visit\") ].loc[ : , \"Personnr\"] )\n",
    "print(f\"{len(unlistedHasVisitSet)} unlisted patients had a physical visit.\")\n",
    "unlistedHasTelSet = set( allContacts.loc[ (allContacts[\"Listing\"] == \"HC\") & (allContacts[\"VisitType\"] == \"tel\") ].loc[ : , \"Personnr\"] )\n",
    "print(f\"{len(unlistedHasTelSet)} unlisted patients had a tel appointment.\")"
   ]
  },
  {
   "cell_type": "code",
   "execution_count": null,
   "metadata": {},
   "outputs": [],
   "source": [
    "print(f\"There are {len(listingDf.loc[ listingDf['Listing'] == 'HC' ].index)} unlisted patients in total\")"
   ]
  },
  {
   "cell_type": "code",
   "execution_count": null,
   "metadata": {},
   "outputs": [],
   "source": [
    "unlistedNoContactSet = listingDf.loc[ (listingDf[\"Listing\"] == \"HC\") & ~(listingDf[\"Personnr\"].isin(unlistedHasContactSet)) ]\n",
    "#print(unlistedNoContactSet[:5])\n",
    "print(f\"{len(unlistedNoContactSet)} unlisted patietns had no contacts\")"
   ]
  },
  {
   "cell_type": "markdown",
   "metadata": {},
   "source": [
    "# Beräkningar"
   ]
  },
  {
   "cell_type": "markdown",
   "metadata": {},
   "source": [
    "#### Använd:\n",
    "* unlistedContacts - DF med alla olistade patienter som haft besök\n",
    "* unlistedNoContactDf - DF med patienter som är olistade och inte har haft några kontakter\n",
    "* unlistedContactsDf - DF med alla kontakter med olistade patienter\n",
    "* unlistedHasContactSet - set med alla olistade patienter som har en kontakt"
   ]
  },
  {
   "cell_type": "markdown",
   "metadata": {},
   "source": [
    "### Patient to visits per doctor df"
   ]
  },
  {
   "cell_type": "code",
   "execution_count": null,
   "metadata": {},
   "outputs": [],
   "source": [
    "initialsList = [\"MT\", \"JK\", \"LW\", \"RA\", \"MS\", \"MN\", \"DH\", \"AE\", \"LYY\", \"IW\"]\n",
    "visitTypes = [\"visit\", \"tel\", \"adm\"]"
   ]
  },
  {
   "cell_type": "code",
   "execution_count": null,
   "metadata": {},
   "outputs": [],
   "source": [
    "countAndScoreColNames = []\n",
    "for initials in initialsList:\n",
    "    for visitType in visitTypes:\n",
    "        countAndScoreColNames.append(f\"{initials}_{visitType}\")\n",
    "        countAndScoreColNames.append(f\"{initials}_{visitType}_score\")\n",
    "    countAndScoreColNames.append(f\"{initials}_score\")\n",
    "countAndScoreColNames.append(f\"total_score\")\n",
    "countAndScoreColNames"
   ]
  },
  {
   "cell_type": "code",
   "execution_count": null,
   "metadata": {},
   "outputs": [],
   "source": [
    "def countPatientsContactsWithDr(personnr, initials, visitType):\n",
    "    return len(allContacts.loc[ (allContacts[\"Personnr\"] == personnr) & \n",
    "                                   (allContacts[\"Initials\"] == initials) &\n",
    "                                   (allContacts[\"VisitType\"] == visitType)].index)"
   ]
  },
  {
   "cell_type": "markdown",
   "metadata": {},
   "source": [
    "#### Vikta besöken efter hur längesen de skedde."
   ]
  },
  {
   "cell_type": "code",
   "execution_count": null,
   "metadata": {},
   "outputs": [],
   "source": [
    "date = datetime.strptime(\"2023-11-01\", '%Y-%m-%d')\n",
    "originDate = datetime.strptime(\"2024-12-08\", '%Y-%m-%d')\n",
    "dateDiff = (originDate - date).days\n",
    "2 - (dateDiff/450)"
   ]
  },
  {
   "cell_type": "code",
   "execution_count": null,
   "metadata": {},
   "outputs": [],
   "source": [
    "# Weight factor where a visit which happened just now is worth 2 points\n",
    "# one which happened 1 year ago 1.16 points\n",
    "# and a bit less than 2 years ago 0.5 point.\n",
    "\n",
    "def weightFactorFromDate(dateString):\n",
    "    date = datetime.strptime(dateString, '%Y-%m-%d')\n",
    "    originDate = datetime.strptime(\"2024-12-08\", '%Y-%m-%d')\n",
    "    dateDiff = (originDate - date).days\n",
    "    return 2 - (dateDiff/450)\n",
    "    \n",
    "print(weightFactorFromDate(\"2024-11-15\"))\n",
    "print(weightFactorFromDate(\"2024-05-15\"))\n",
    "print(weightFactorFromDate(\"2024-01-01\"))\n",
    "print(weightFactorFromDate(\"2023-11-15\"))\n",
    "print(weightFactorFromDate(\"2023-05-15\"))\n",
    "print(weightFactorFromDate(\"2023-01-01\"))\n",
    "\n",
    "visitTypeWeightDict = {\n",
    "    \"visit\": 1,\n",
    "    \"tel\": 0.35,\n",
    "    \"adm\": 0.2,\n",
    "}"
   ]
  },
  {
   "cell_type": "code",
   "execution_count": null,
   "metadata": {},
   "outputs": [],
   "source": [
    "def calculateRowScore(row):\n",
    "    dateWeightFactor = weightFactorFromDate(row[\"Besöksdatum\"])\n",
    "    return visitTypeWeightDict[ row[\"VisitType\"] ] * dateWeightFactor\n",
    "\n",
    "testRow = allContacts.loc[ list(allContacts.index)[100] , :]\n",
    "pprint(testRow.loc[list(set(testRow.index) - set([\"Personnr\"]))])\n",
    "print(f\"Score: {calculateRowScore( testRow )}\")"
   ]
  },
  {
   "cell_type": "code",
   "execution_count": null,
   "metadata": {},
   "outputs": [],
   "source": [
    "allContacts[\"rowScore\"] = allContacts.apply(calculateRowScore, axis=1)"
   ]
  },
  {
   "cell_type": "code",
   "execution_count": null,
   "metadata": {},
   "outputs": [],
   "source": [
    "allContacts.loc[:, [\"VisitType\", \"Besöksdatum\", \"Initials\", \"Listing\", \"rowScore\"]].head(2)"
   ]
  },
  {
   "cell_type": "code",
   "execution_count": null,
   "metadata": {},
   "outputs": [],
   "source": [
    "allContacts.columns"
   ]
  },
  {
   "cell_type": "code",
   "execution_count": null,
   "metadata": {},
   "outputs": [],
   "source": [
    "def createPatientRowOfVisitsPerDr(personnr):\n",
    "    patientsIndividualDf = allContacts.loc[ allContacts[\"Personnr\"] == personnr ]\n",
    "    \n",
    "    row = {\"Personnr\": personnr}\n",
    "    totalScore = 0\n",
    "    \n",
    "    for initials in initialsList:\n",
    "        \n",
    "        drIndividualDf = patientsIndividualDf.loc[ patientsIndividualDf[\"Initials\"] == initials ]\n",
    "        \n",
    "        individualScore = 0\n",
    "        \n",
    "        for visitType in visitTypes:\n",
    "            \n",
    "            visitTypeDf = drIndividualDf.loc[ drIndividualDf[\"VisitType\"] == visitType ]\n",
    "            row[f\"{initials}_{visitType}\"] = len( visitTypeDf.index )\n",
    "            score = visitTypeDf[\"rowScore\"].sum()\n",
    "            row[f\"{initials}_{visitType}_score\"] = score\n",
    "            individualScore += score\n",
    "            \n",
    "        row[f\"{initials}_score\"] = individualScore\n",
    "        totalScore += individualScore\n",
    "    row[f\"total_score\"] = totalScore\n",
    "    return row"
   ]
  },
  {
   "cell_type": "code",
   "execution_count": null,
   "metadata": {},
   "outputs": [],
   "source": [
    "if reloadDataFiles:\n",
    "    patientVisitPerDrList = []\n",
    "    limit_proportion = -1\n",
    "    i = 0\n",
    "    for personnr in set(listingDf[\"Personnr\"]):\n",
    "        i += 1\n",
    "        if limit_proportion > 0 and i > limit_proportion:\n",
    "            break\n",
    "        \n",
    "        patientVisitPerDrList.append(createPatientRowOfVisitsPerDr(personnr))\n",
    "        \n",
    "        \n",
    "    listedPatientScoreDf = pd.DataFrame(patientVisitPerDrList, columns=[\"Personnr\"] + countAndScoreColNames)\n",
    "    listedPatientScoreDf.to_excel(filePath+\"listedPatientScoreDf.xlsx\", index=False)\n",
    "else:\n",
    "    listedPatientScoreDf = pd.read_excel(filePath+\"listedPatientScoreDf.xlsx\", index=False)\n",
    "\n",
    "listedPatientScoreDf = listedPatientScoreDf\n",
    "listedPatientScoreDf.loc[:, countAndScoreColNames].head()"
   ]
  },
  {
   "cell_type": "code",
   "execution_count": null,
   "metadata": {},
   "outputs": [],
   "source": [
    "def countDrAmountOfPatientsForEachVisitAmount(initials):\n",
    "    counter = Counter(listedPatientScoreDf[f\"{initials}_visit\"])\n",
    "    return dict(counter)\n",
    "    #return sorted(counter.items())"
   ]
  },
  {
   "cell_type": "code",
   "execution_count": null,
   "metadata": {},
   "outputs": [],
   "source": [
    "visistsPerDrDict = {}\n",
    "for initials in initialsList:\n",
    "    visistsPerDrDict[initials] = countDrAmountOfPatientsForEachVisitAmount(initials)\n",
    "    \n",
    "visistsPerDrDict"
   ]
  },
  {
   "cell_type": "code",
   "execution_count": null,
   "metadata": {},
   "outputs": [],
   "source": [
    "visistsPerDrList = []\n",
    "for i in range(6):\n",
    "    #row = {\"Visits (n)\": i}\n",
    "    row = {}\n",
    "    for initials in initialsList:\n",
    "        if i in visistsPerDrDict[initials]:\n",
    "            row[initials] = visistsPerDrDict[initials][i]\n",
    "        else:\n",
    "            row[initials] = 0\n",
    "    visistsPerDrList.append(row)\n",
    "    \n",
    "unlistedVisistsPerDrDf = pd.DataFrame(visistsPerDrList, columns=initialsList)\n",
    "unlistedVisistsPerDrDf"
   ]
  },
  {
   "cell_type": "markdown",
   "metadata": {},
   "source": [
    "### Extremt aktiva till JK och MT"
   ]
  },
  {
   "cell_type": "code",
   "execution_count": null,
   "metadata": {},
   "outputs": [],
   "source": [
    "# Creating the histogram\n",
    "plt.figure(figsize=(10, 6))\n",
    "listedPatientScoreDf[\"total_score\"].hist(bins=range(0, 17), edgecolor=\"black\")  # Bins from 0 to 16\n",
    "plt.title(\"Histogram of Total Score\")\n",
    "plt.xlabel(\"Total Score\")\n",
    "plt.ylabel(\"Frequency\")\n",
    "plt.xticks(range(0, 17))  # Set x-axis ticks to match the bin edges\n",
    "plt.xlim(0, 16)  # Limit x-axis from 0 to 16\n",
    "plt.grid(axis='y', linestyle='--', alpha=0.7)  # Optional: Add gridlines for better readability\n",
    "plt.show()"
   ]
  },
  {
   "cell_type": "markdown",
   "metadata": {},
   "source": [
    "### Most active patients"
   ]
  },
  {
   "cell_type": "code",
   "execution_count": null,
   "metadata": {},
   "outputs": [],
   "source": [
    "def ageFromPersonnr(personnrStr):\n",
    "    match = re.search(r\"(\\d{4})\", personnrStr)\n",
    "    year = int(match[1])\n",
    "    return 2024 - year\n",
    "    \n",
    "ageFromPersonnr(\"19870323-abcd\")"
   ]
  },
  {
   "cell_type": "code",
   "execution_count": null,
   "metadata": {},
   "outputs": [],
   "source": [
    "ageAndScoreDf = listedPatientScoreDf.loc[:, [\"Personnr\", \"total_score\"]].copy()"
   ]
  },
  {
   "cell_type": "code",
   "execution_count": null,
   "metadata": {},
   "outputs": [],
   "source": [
    "ageAndScoreDf[\"age\"] = ageAndScoreDf[\"Personnr\"].apply(ageFromPersonnr)"
   ]
  },
  {
   "cell_type": "markdown",
   "metadata": {},
   "source": [
    "## Age distribution of patients"
   ]
  },
  {
   "cell_type": "code",
   "execution_count": null,
   "metadata": {},
   "outputs": [],
   "source": [
    "ageAndScoreDf[\"age\"].hist()"
   ]
  },
  {
   "cell_type": "markdown",
   "metadata": {},
   "source": [
    "### Contact score per age"
   ]
  },
  {
   "cell_type": "code",
   "execution_count": null,
   "metadata": {},
   "outputs": [],
   "source": [
    "test = np.array([1,0,0,0.25])\n",
    "test.reshape(1, -1)\n",
    "ageAndScoreDf.plot.scatter(x=\"age\", y=\"total_score\", c=test )"
   ]
  },
  {
   "cell_type": "code",
   "execution_count": null,
   "metadata": {},
   "outputs": [],
   "source": [
    "scoreLimitForHeavy = 5\n",
    "heavySet = set( listedPatientScoreDf.loc[ listedPatientScoreDf[\"total_score\"] >= scoreLimitForHeavy ].loc[ : ,\"Personnr\"] )\n",
    "heavyN = len(heavySet)\n",
    "listedN = len(listingDf.index)\n",
    "print(f\"Heavy ({heavyN}) / listed {listedN} = {100 * heavyN / listedN} %\")"
   ]
  },
  {
   "cell_type": "markdown",
   "metadata": {},
   "source": [
    "#### Extremely active from a particular dr"
   ]
  },
  {
   "cell_type": "code",
   "execution_count": null,
   "metadata": {},
   "outputs": [],
   "source": [
    "def GetExtremelyActiveForDr(initials, scoreLimit, otherAllowedFraction):\n",
    "    resultDf = listedPatientScoreDf.loc[ (listedPatientScoreDf[f\"{initials}_score\"] > scoreLimit) |\n",
    "                                           (listedPatientScoreDf[f\"{initials}_visit\"] >= 3) ]\n",
    "\n",
    "    otherInitialsList = [x for x in initialsList if not x == initials]\n",
    "\n",
    "    for otherInitials in otherInitialsList:\n",
    "        resultDf = resultDf.loc[ resultDf[f\"{otherInitials}_score\"] < resultDf[f\"{initials}_score\"] * otherAllowedFraction ]\n",
    "\n",
    "    return resultDf.loc[:, [\n",
    "                 'Personnr',\n",
    "                 f'{initials}_visit',\n",
    "                 f'{initials}_visit_score',\n",
    "                 f'{initials}_tel',\n",
    "                 f'{initials}_tel_score',\n",
    "                 f'{initials}_adm',\n",
    "                 f'{initials}_adm_score',\n",
    "                 f'{initials}_score',\n",
    "                 'total_score',]]"
   ]
  },
  {
   "cell_type": "code",
   "execution_count": null,
   "metadata": {},
   "outputs": [],
   "source": [
    "def CheckIfOthersScoreExceeds(original_initials, score_row, limit_proportion=1):\n",
    "    other_initials = initialsList.copy()\n",
    "    other_initials.remove(original_initials)\n",
    "    score = score_row[f\"{original_initials}_score\"]\n",
    "    score_limit = score * limit_proportion\n",
    "    exceeding = []\n",
    "\n",
    "    for initials in initialsList:\n",
    "        if score_row[f\"{initials}_score\"] > score_limit:\n",
    "            exceeding.append(initials)\n",
    "    \n",
    "    if len(exceeding) > 0:\n",
    "        return exceeding\n",
    "    else:\n",
    "        return None\n",
    "    \n",
    "test_df = listedPatientScoreDf.loc[1:3, [f\"{x}_score\" for x in initialsList]]\n",
    "test_df.apply(lambda x: CheckIfOthersScoreExceeds(\"LW\", x), axis=\"columns\")"
   ]
  },
  {
   "cell_type": "code",
   "execution_count": null,
   "metadata": {},
   "outputs": [],
   "source": [
    "extremelyActiveJK = GetExtremelyActiveForDr(\"JK\", 5, 0.4)\n",
    "len(extremelyActiveJK.index)"
   ]
  },
  {
   "cell_type": "code",
   "execution_count": null,
   "metadata": {},
   "outputs": [],
   "source": [
    "extremelyActiveMT = GetExtremelyActiveForDr(\"MT\", 5, 0.4)\n",
    "len(extremelyActiveMT.index)"
   ]
  },
  {
   "cell_type": "markdown",
   "metadata": {},
   "source": [
    "### Patients with contacts but no visits?"
   ]
  },
  {
   "cell_type": "code",
   "execution_count": null,
   "metadata": {},
   "outputs": [],
   "source": [
    "contactNoVisitDf = unlistedDf.loc[ (unlistedDf[\"Visits (n)\"] == 0) & ((unlistedDf[\"Tel (n)\"] > 0) | (unlistedDf[\"Adm (n)\"] > 0)) ]\n",
    "print(len(contactNoVisitDf))\n",
    "contactNoVisitDf.loc[:, [\"Listing\", \"Visits (n)\", \"Tel (n)\", \"Adm (n)\"]].head()"
   ]
  },
  {
   "cell_type": "markdown",
   "metadata": {},
   "source": [
    "# Date functions"
   ]
  },
  {
   "cell_type": "code",
   "execution_count": null,
   "metadata": {},
   "outputs": [],
   "source": [
    "def string_to_date(date):\n",
    "    \"\"\"\n",
    "    Converts a date string in the format 'YYYY-MM-DD' to a datetime object.\n",
    "\n",
    "    Args:\n",
    "        date (str): Date string in the format 'YYYY-MM-DD'.\n",
    "\n",
    "    Returns:\n",
    "        datetime: A datetime object representing the date.\n",
    "    \"\"\"\n",
    "    if isinstance(date, str):\n",
    "        return datetime.strptime(date, \"%Y-%m-%d\")\n",
    "    return date\n",
    "\n",
    "def date_to_string(date):\n",
    "    \"\"\"\n",
    "    Converts a datetime object to a string in the format 'YYYY-MM-DD'.\n",
    "\n",
    "    Args:\n",
    "        date (datetime): A datetime object.\n",
    "\n",
    "    Returns:\n",
    "        str: A string representation of the date in the format 'YYYY-MM-DD'.\n",
    "    \"\"\"\n",
    "\n",
    "    if isinstance(date, str):     \n",
    "        return date.strftime(\"%Y-%m-%d\")\n",
    "    return date\n",
    "\n",
    "def date_in_range(date, date_start, date_end):\n",
    "    \"\"\"\n",
    "    Checks if a date is within a specified range.\n",
    "\n",
    "    Args:\n",
    "        date (str or datetime): The date to check.\n",
    "        date_start (str or datetime): The start of the range.\n",
    "        date_end (str or datetime): The end of the range.\n",
    "\n",
    "    Returns:\n",
    "        bool: True if the date is within the range, False otherwise.\n",
    "    \"\"\"\n",
    "    # Convert inputs to datetime if they are strings\n",
    "    if isinstance(date, str):\n",
    "        date = string_to_date(date)\n",
    "    if isinstance(date_start, str):\n",
    "        date_start = string_to_date(date_start)\n",
    "    if isinstance(date_end, str):\n",
    "        date_end = string_to_date(date_end)\n",
    "    \n",
    "    return date_start <= date <= date_end"
   ]
  },
  {
   "cell_type": "code",
   "execution_count": null,
   "metadata": {},
   "outputs": [],
   "source": [
    "class DateInRangeChecker:\n",
    "    def __init__(self, start_date, end_date):\n",
    "        self.start_date = string_to_date(start_date)\n",
    "        self.end_date = string_to_date(end_date)\n",
    "\n",
    "    def check(self, date):\n",
    "        return date_in_range(date, self.start_date, self.end_date)\n",
    "\n",
    "test_checker = DateInRangeChecker(\"2024-01-01\", \"2024-02-01\")\n",
    "print(test_checker.check(\"1999-01-01\"))\n",
    "print(test_checker.check(\"2024-01-03\"))\n"
   ]
  },
  {
   "cell_type": "markdown",
   "metadata": {},
   "source": [
    "# Load waitlist patients"
   ]
  },
  {
   "cell_type": "code",
   "execution_count": null,
   "metadata": {},
   "outputs": [],
   "source": [
    "def format_waitlist_personnr(personnr):\n",
    "    \"\"\"\n",
    "    Formats the person number by determining the correct century.\n",
    "\n",
    "    Args:\n",
    "        personnr (str): The person number in the format \"YYMMDD-XXXX\" or \"YYMMDD+XXXX\".\n",
    "        originDate (datetime): The reference date to determine the century.\n",
    "\n",
    "    Returns:\n",
    "        str: The formatted person number in the format \"YYYYMMDD-XXXX\".\n",
    "    \"\"\"\n",
    "    # Extract the year, month, and day from the personnr\n",
    "    date_part, suffix = personnr.split(\"-\") if \"-\" in personnr else personnr.split(\"+\")\n",
    "    year = int(date_part[:2])\n",
    "    month_day = date_part[2:]\n",
    "\n",
    "    # Determine the full year\n",
    "    current_century = originDate.year // 100\n",
    "    full_year = current_century * 100 + year\n",
    "\n",
    "    # If there's a '+' or if the year is over a century in the future, adjust the century\n",
    "    if \"+\" in personnr or full_year > originDate.year:\n",
    "        full_year -= 100\n",
    "\n",
    "    # Format the full date and return\n",
    "    formatted_personnr = f\"{full_year:04d}{month_day}-{suffix}\"\n",
    "    return formatted_personnr\n",
    "\n",
    "# Example usage\n",
    "origin_date = datetime(2023, 11, 16)\n",
    "personnr = \"890101-1234\"\n",
    "formatted = format_waitlist_personnr(personnr)\n",
    "print(formatted)  # Outputs: \"19890101-1234\"\n",
    "\n",
    "personnr = \"210101+1234\"\n",
    "formatted = format_waitlist_personnr(personnr)\n",
    "print(formatted)  # Outputs: \"19210101-1234\"\n",
    "\n",
    "personnr = \"210101-1234\"\n",
    "formatted = format_waitlist_personnr(personnr)\n",
    "print(formatted)  # Outputs: \"20210101-1234\""
   ]
  },
  {
   "cell_type": "code",
   "execution_count": null,
   "metadata": {},
   "outputs": [],
   "source": [
    "DrToInitialsForWatilist = read_tab_separated_file(filePath+\"Permanent\\\\DrToInitialsForWaitlist_ListingAnalysis.txt\")"
   ]
  },
  {
   "cell_type": "code",
   "execution_count": null,
   "metadata": {},
   "outputs": [],
   "source": [
    "wait_list_df = pd.read_excel(filePath+\"waiting_list.xlsx\")\n",
    "wait_list_df[\"Personnr\"] = wait_list_df[\"Personnr\"].apply(format_waitlist_personnr)\n",
    "filtered_wait_list_df = wait_list_df.loc[ wait_list_df[\"staff_member\"].isin(DrToInitialsForWatilist) ].copy()\n",
    "filtered_wait_list_df[\"staff_member\"] = filtered_wait_list_df[\"staff_member\"].apply(lambda x : DrToInitialsForWatilist[x])\n",
    "filtered_wait_list_df.loc[:,[\"age\", \"book_from\", \"book_not_later_than\", \"staff_member\", \"visit_type\", \"waited_since\"]].head()\n",
    "wait_list_df = filtered_wait_list_df\n",
    "len(wait_list_df)"
   ]
  },
  {
   "cell_type": "markdown",
   "metadata": {},
   "source": [
    "For a given doctor and a given period of time\n",
    "1. For each upcoming month keep only an amount corresponding to N patiens per week.\n",
    "2. Choose to keep patients which had a visit och telephone appointment within 6 months.\n",
    "3. Prioritize keeping high score patients.\n",
    "4. Set up the rest on a list for relisting"
   ]
  },
  {
   "cell_type": "code",
   "execution_count": null,
   "metadata": {},
   "outputs": [],
   "source": [
    "def get_wait_list_patients(df, initials, start_date, end_date):\n",
    "    checker = DateInRangeChecker(start_date, end_date)\n",
    "    return df.loc[ (df[\"book_not_later_than\"].apply(checker.check)) & (df[\"staff_member\"] == initials) ]"
   ]
  },
  {
   "cell_type": "markdown",
   "metadata": {},
   "source": [
    "# Functions for dividing the patients"
   ]
  },
  {
   "cell_type": "code",
   "execution_count": null,
   "metadata": {},
   "outputs": [],
   "source": [
    "differences = {\n",
    "    \"MT\": -57,\n",
    "    \"JK\": -224,\n",
    "    \"LW\": 52,\n",
    "    \"RA\": 20,\n",
    "    \"MS\": 49,\n",
    "    \"MN\": -106,\n",
    "    \"DH\": -44,\n",
    "    \"AE\": 108,\n",
    "    \"ST\": 0,\n",
    "    \"H\": 203,\n",
    "}\n",
    "\n",
    "proportions_of_new = {\n",
    "    \"MT\": 0,\n",
    "    \"JK\": 0,\n",
    "    \"LW\": 0.1198891591,\n",
    "    \"RA\": 0.04541084658,\n",
    "    \"MS\": 0.1129333258,\n",
    "    \"MN\": 0,\n",
    "    \"DH\": 0,\n",
    "    \"AE\": 0.2505231013,\n",
    "    \"ST\": 0,\n",
    "    \"H\": 0.4712435673,\n",
    "}\n",
    "\n",
    "time_periods = [\n",
    "    { \"start\": \"2015-01-01\", \"end\": \"2024-12-31\" },\n",
    "    { \"start\": \"2025-01-01\", \"end\": \"2025-03-31\" },\n",
    "    { \"start\": \"2025-04-01\", \"end\": \"2025-08-31\" },\n",
    "    { \"start\": \"2025-09-01\", \"end\": \"2050-12-31\" },\n",
    "]"
   ]
  },
  {
   "cell_type": "markdown",
   "metadata": {},
   "source": [
    "### Function to do the dividing by:\n",
    "1. Stratfy by quarter.\n",
    "2. Exclude the 20 % patients with the highest scores for current owner (as long as another docter doesn't exceed it)\n",
    "3. Fill LW, RA, MS and AE with the ones they had the highest scores for them (as long as another doctor which is still left, doesn't exceed it).\n",
    "4. Add the remaining to H with a random sample."
   ]
  },
  {
   "cell_type": "code",
   "execution_count": null,
   "metadata": {},
   "outputs": [],
   "source": [
    "listedPatientScoreDf.columns"
   ]
  },
  {
   "cell_type": "code",
   "execution_count": null,
   "metadata": {},
   "outputs": [],
   "source": [
    "sorted_cached_score_dfs_per_dr = {}\n",
    "\n",
    "for initials in initialsList:\n",
    "    sorted_cached_score_dfs_per_dr[initials] = listedPatientScoreDf.sort_values(by=f\"{initials}_score\", axis=\"index\", ascending=False)\n",
    "\n",
    "# H should just have a random list:\n",
    "sorted_cached_score_dfs_per_dr[\"H\"] = listedPatientScoreDf.sample(frac=1).reset_index(drop=True)\n",
    "\n",
    "sorted_cached_score_dfs_per_dr[\"H\"].loc[:, [\"JK_score\", \"total_score\"]].head()"
   ]
  },
  {
   "cell_type": "code",
   "execution_count": null,
   "metadata": {},
   "outputs": [],
   "source": [
    "def listsHaveAnyMatches(list1, list2):\n",
    "    return bool(set(list1) & set(list2))"
   ]
  },
  {
   "cell_type": "code",
   "execution_count": null,
   "metadata": {},
   "outputs": [],
   "source": [
    "wait_list_df.columns"
   ]
  },
  {
   "cell_type": "code",
   "execution_count": null,
   "metadata": {},
   "outputs": [],
   "source": []
  },
  {
   "cell_type": "code",
   "execution_count": null,
   "metadata": {},
   "outputs": [],
   "source": [
    "to_from_row_copy_columns = [f\"{x}_score\" for x in [\"JK\", \"MT\", \"RA\", \"AE\", \"LW\", \"MS\"]] + [\"total_score\"]\n",
    "to_from_row_columns = [\"Personnr\", \"From\", \"To\", \"Category\"] + to_from_row_copy_columns\n",
    "\n",
    "def create_to_from_row(row, original_initials, new_initials, category=\"waiting list\"):\n",
    "    new_row = {\n",
    "        \"Personnr\" : row[\"Personnr\"],\n",
    "        \"From\": original_initials,\n",
    "        \"To\": new_initials,\n",
    "        \"Category\": category,\n",
    "    }\n",
    "    for col in to_from_row_copy_columns:\n",
    "        new_row[col] = row[col]\n",
    "    return new_row\n",
    "\n",
    "def create_to_from_row_empty(personnr, original_initials, new_initials, category=\"waiting list\"):\n",
    "    new_row = {\n",
    "        \"Personnr\" : personnr,\n",
    "        \"From\": original_initials,\n",
    "        \"To\": new_initials,\n",
    "        \"Category\": category,\n",
    "    }\n",
    "    for col in to_from_row_copy_columns:\n",
    "        new_row[col] = 0\n",
    "    return new_row"
   ]
  },
  {
   "cell_type": "markdown",
   "metadata": {},
   "source": [
    "# Waitinglist patients"
   ]
  },
  {
   "cell_type": "code",
   "execution_count": null,
   "metadata": {},
   "outputs": [],
   "source": [
    "def divide(original_initials, time_periods):\n",
    "    time_periods = time_periods.copy()\n",
    "\n",
    "    print(f\"=========== {original_initials}===========\")\n",
    "    wl = wait_list_df.loc[ wait_list_df[\"staff_member\"] == original_initials ].copy()\n",
    "    total_before_dupl_remove = len(wl.index)\n",
    "    print(\"Original patients\", total_before_dupl_remove)\n",
    "    wl.drop_duplicates(\"Personnr\", inplace=True)\n",
    "    total_patients = len(wl.index)\n",
    "    print(\"After dupl remove\", total_patients)\n",
    "    total_n_to_move = abs(differences[original_initials]) - (total_before_dupl_remove - total_patients)\n",
    "    if original_initials in [\"MN\", \"DH\"]:\n",
    "        total_n_to_move = total_patients\n",
    "    original_proportion_to_keep = (total_patients - total_n_to_move) / total_patients\n",
    "    print(f\"Original doctor will keep {original_proportion_to_keep:0.1%}\")\n",
    "    print(\"Total n to move: \", total_n_to_move)\n",
    "    period_wls = []\n",
    "    period_proportions = []\n",
    "\n",
    "    original_sorted_score_df = sorted_cached_score_dfs_per_dr[original_initials]\n",
    "\n",
    "    # Split into time periods\n",
    "    for i in range(4):\n",
    "        period_wl = get_wait_list_patients(wl, original_initials, time_periods[i][\"start\"], time_periods[i][\"end\"])\n",
    "        period_wls.append(period_wl)\n",
    "        period_proportions.append(len(period_wl.index) / total_patients)\n",
    "\n",
    "    moves = []\n",
    "\n",
    "    # Divide patients for each time period\n",
    "    for i in range(4):\n",
    "        period_wl = period_wls[i]\n",
    "        print(f\"\"\"\\n===Time period 1 ({time_periods[i][\"start\"]} - {time_periods[i][\"end\"]})===\"\"\")\n",
    "        # Calculate how many to divide:\n",
    "        total_period = len(period_wl.index)\n",
    "        period_proportion = period_proportions[i]\n",
    "        period_move_n = round(total_n_to_move * period_proportion)\n",
    "        print(f\"Move {period_move_n} out of {len(period_wl.index)} this period\")\n",
    "        personnr_set = set(period_wl[\"Personnr\"])\n",
    "\n",
    "        # First exclude the patients with the highest score for the original dr.\n",
    "        # original_reserved_n = round(min(total_period - period_move_n, total_period * 0.2))\n",
    "        original_reserved_n = math.floor(original_proportion_to_keep * total_period)\n",
    "        print(f\"Will try to reserve {original_reserved_n} for {original_initials}\")\n",
    "\n",
    "        original_dr_sorted_filtered_scores = original_sorted_score_df.loc[ original_sorted_score_df[\"Personnr\"].isin(personnr_set) ]\n",
    "        reserved_count = 0\n",
    "        reserved_set = set()\n",
    "\n",
    "        for index, row in original_dr_sorted_filtered_scores.iterrows():\n",
    "            if CheckIfOthersScoreExceeds(original_initials, row, 1.01):\n",
    "                continue\n",
    "            \n",
    "            moves.append(create_to_from_row(row, original_initials, original_initials))\n",
    "            reserved_count += 1\n",
    "            personnr = row[\"Personnr\"]\n",
    "            reserved_set.add(personnr)\n",
    "            personnr_set.remove(personnr)\n",
    "\n",
    "            if reserved_count >= original_reserved_n:\n",
    "                break\n",
    "\n",
    "        print(f\"\"\"Reserved: {reserved_count}: \"\"\", reserved_set)\n",
    "        print(f\"\"\"{len(personnr_set)} remains\"\"\")\n",
    "\n",
    "        # Then transfer the top patients for each of LW, RA, MS and AE\n",
    "        # 1. Make sure they don't get too many for this period\n",
    "        patients_n_per_dr = {}\n",
    "        period_try_move_n = 0\n",
    "        patients_did_move_n_per_dr = {}\n",
    "\n",
    "        all_receiving_initials = [\"RA\", \"AE\", \"LW\", \"MS\", \"H\"]\n",
    "        initials_left_to_receive = [\"RA\", \"AE\", \"LW\", \"MS\", \"H\"]\n",
    "\n",
    "        for initials in all_receiving_initials:\n",
    "            move_n = round(period_move_n * proportions_of_new[initials])\n",
    "            moved_so_far = 0\n",
    "            period_try_move_n += move_n\n",
    "            patients_n_per_dr[initials] = move_n\n",
    "\n",
    "            sorted_score_list_for_dr = sorted_cached_score_dfs_per_dr[initials]\n",
    "            filtered_on_relevant_patients = sorted_score_list_for_dr.loc[ sorted_score_list_for_dr[\"Personnr\"].isin(personnr_set) ]\n",
    "            print(f\"Sanity check - there are {len(filtered_on_relevant_patients.index)} patients to choose from for {initials}\")\n",
    "            for index, row in filtered_on_relevant_patients.iterrows():\n",
    "                exeeding = None\n",
    "                if initials != \"H\":\n",
    "                    exeeding = CheckIfOthersScoreExceeds(initials, row, 1.01)\n",
    "\n",
    "                # Only add the patient if it's score is not exceeded by anyone else who will receive patients.\n",
    "                if not exeeding or not listsHaveAnyMatches(exeeding, initials_left_to_receive):\n",
    "                    personnr = row[\"Personnr\"]\n",
    "                    moves.append(create_to_from_row(row, original_initials, initials))\n",
    "                    personnr_set.remove(personnr)\n",
    "                    moved_so_far += 1\n",
    "\n",
    "                    if moved_so_far == move_n:\n",
    "                        break\n",
    "\n",
    "            # If not enough were found, iterate a second time and add any, regardless if someone else exceeds.\n",
    "            filtered_on_relevant_patients = filtered_on_relevant_patients.loc[ filtered_on_relevant_patients[\"Personnr\"].isin(personnr_set) ]\n",
    "            if moved_so_far < move_n:\n",
    "                for index, row in filtered_on_relevant_patients.iterrows():\n",
    "                    personnr = row[\"Personnr\"]\n",
    "                    moves.append(create_to_from_row(row, original_initials, initials))\n",
    "                    personnr_set.remove(personnr)\n",
    "                    moved_so_far += 1\n",
    "\n",
    "                    if moved_so_far == move_n:\n",
    "                        break\n",
    "\n",
    "            patients_did_move_n_per_dr[initials] = moved_so_far\n",
    "\n",
    "            initials_left_to_receive.remove(initials)\n",
    "\n",
    "        print(f\"After dividing between new doctors, {len(personnr)} patients remains which were evidently not in the filtered_on_relevant_patients df\")\n",
    "        extra_move_to_h = 0\n",
    "\n",
    "        remaining_to_last_receiver = patients_n_per_dr[\"H\"] - patients_did_move_n_per_dr[\"H\"]\n",
    "        # Any remaining patients are given to H or kept by original:\n",
    "        # (there may be patients left to give to H because they are not in the score df)\n",
    "        original_dr_sorted_filtered_scores = original_dr_sorted_filtered_scores.loc[ original_dr_sorted_filtered_scores[\"Personnr\"].isin(personnr_set) ]\n",
    "        for personnr in personnr_set:\n",
    "            target = \"H\" if remaining_to_last_receiver > 0 else original_initials\n",
    "            # Find its row:\n",
    "            single_person_df = original_dr_sorted_filtered_scores.loc[ original_dr_sorted_filtered_scores[\"Personnr\"] == personnr]\n",
    "\n",
    "            if not single_person_df.empty:\n",
    "                row = single_person_df.iloc[0]\n",
    "                moves.append(create_to_from_row(row, original_initials, target))\n",
    "            else:\n",
    "                moves.append(create_to_from_row_empty(personnr, original_initials, target))\n",
    "\n",
    "            if target == \"H\":\n",
    "                remaining_to_last_receiver -= 1\n",
    "                extra_move_to_h += 1\n",
    "\n",
    "\n",
    "\n",
    "\n",
    "        print(f\"Tried to move a total of {period_try_move_n}:\")\n",
    "        succeeded_count_str = \"SUCCEEDED: \"\n",
    "        for initials in all_receiving_initials:\n",
    "            succeeded_count_str += f\"{initials}: {patients_did_move_n_per_dr[initials]}/{patients_n_per_dr[initials]}\"\n",
    "            if initials == \"H\":\n",
    "                succeeded_count_str += f\" + {extra_move_to_h} = {extra_move_to_h+patients_did_move_n_per_dr[initials]}/{patients_n_per_dr[initials]}\\n\"\n",
    "            else:\n",
    "                succeeded_count_str += \"\\n\"\n",
    "        print(succeeded_count_str)\n",
    "\n",
    "    return moves\n",
    "\n",
    "\n",
    "# move_df = pd.DataFrame(moves)\n",
    "# move_df = move_df.loc[:, to_from_row_columns]\n",
    "# print(f\"Total patients: {len(move_df.index)}\")\n",
    "# move_df.sort_values(by=\"To\", ascending=True, inplace=True)\n",
    "    \n",
    "# move_df.to_excel(filePath+\"Moves.xlsx\", index=False)\n"
   ]
  },
  {
   "cell_type": "code",
   "execution_count": null,
   "metadata": {},
   "outputs": [],
   "source": [
    "wl_moves = pd.DataFrame(columns=to_from_row_columns)\n",
    "\n",
    "for original_initials in [\"JK\", \"MT\", \"MN\", \"DH\"]:\n",
    "    moves = divide(original_initials, time_periods)\n",
    "    moves_df = pd.DataFrame(moves)\n",
    "    wl_moves = wl_moves.append(moves_df, ignore_index=True)"
   ]
  },
  {
   "cell_type": "code",
   "execution_count": null,
   "metadata": {},
   "outputs": [],
   "source": [
    "wl_moves.sort_values(by=[\"From\", \"To\"], ascending=True, inplace=True)\n",
    "wl_moves = wl_moves.loc[:, to_from_row_columns]\n",
    "wl_moves.to_excel(filePath+\"wl_moves.xlsx\", index=False)"
   ]
  },
  {
   "cell_type": "markdown",
   "metadata": {},
   "source": [
    "# Non waitinglist patients"
   ]
  },
  {
   "cell_type": "code",
   "execution_count": null,
   "metadata": {},
   "outputs": [],
   "source": [
    "initials_with_wl = [\"MT\",\"JK\",\"LW\",\"RA\",\"MS\",\"MN\",\"DH\",\"AE\",\"H\"]\n",
    "listingCounter = Counter(listingDf[\"Listing\"])\n",
    "total_wl_patients_except_hc = 0\n",
    "\n",
    "for initials in initials_with_wl:\n",
    "    print(f\"{initials}\\t{listingCounter[initials]}\")"
   ]
  },
  {
   "cell_type": "code",
   "execution_count": null,
   "metadata": {},
   "outputs": [],
   "source": [
    "wl_moves_personnr_set = set(wl_moves[\"Personnr\"])\n",
    "print(f\"ListingDf before removing wl patients: {len(listingDf)}\")\n",
    "print(f\"score Df before removing wl patients: {len(listedPatientScoreDf)}\")\n",
    "listingDfMinusWlPatients = listingDf.loc[ ~listingDf[\"Personnr\"].isin(wl_moves_personnr_set) ]\n",
    "scoringDfMinusWlPatients = listedPatientScoreDf.loc[ ~listedPatientScoreDf[\"Personnr\"].isin(wl_moves_personnr_set) ]\n",
    "print(f\"ListingDf after removing wl patients: {len(listingDfMinusWlPatients)}\")\n",
    "print(f\"score Df after removing wl patients: {len(scoringDfMinusWlPatients)}\")\n",
    "listing_minus_wl_counter = Counter(listingDfMinusWlPatients[\"Listing\"])\n",
    "print(\"\\nLISTED PATIENTS WHEN WL PATIENTS ARE EXCLUDED\")\n",
    "for initials in initials_with_wl:\n",
    "    print(f\"{initials}\\t{listing_minus_wl_counter[initials]}\")\n",
    "\n",
    "losing_on_wl_counter = Counter(wl_moves[\"From\"])\n",
    "gaining_on_wl_counter = Counter(wl_moves[\"To\"])\n",
    "\n",
    "print(\"\\nEXPECTED LISTED PATIENTS AFTER WL TRANSFERS ARE COMPLETE\")\n",
    "for initials in initials_with_wl:\n",
    "    print(f\"{initials}\\t{listingCounter[initials] + gaining_on_wl_counter[initials] - losing_on_wl_counter[initials]}\")"
   ]
  },
  {
   "cell_type": "code",
   "execution_count": null,
   "metadata": {},
   "outputs": [],
   "source": [
    "# NOTE: For listings not watilits\n",
    "differences = {\n",
    "    \"MT\": -100,\n",
    "    \"JK\": -8,\n",
    "    \"LW\": 29,\n",
    "    \"RA\": -107,\n",
    "    \"MS\": 291,\n",
    "    \"MN\": -581,\n",
    "    \"DH\": -622,\n",
    "    \"AE\": 81,\n",
    "    \"H\": 1005,\n",
    "}\n",
    "\n",
    "proportions_of_new = {\n",
    "    \"MT\": 0,\n",
    "    \"JK\": 0,\n",
    "    \"LW\": 0.02060007424,\n",
    "    \"RA\": 0,\n",
    "    \"MS\": 0.2070414085,\n",
    "    \"MN\": 0,\n",
    "    \"DH\": 0,\n",
    "    \"AE\": 0.05744898476,\n",
    "    \"H\": 0.7149095325,\n",
    "}\n",
    "\n",
    "wl_moved_personnr = set(wl_moves[\"Personnr\"])"
   ]
  },
  {
   "cell_type": "code",
   "execution_count": null,
   "metadata": {},
   "outputs": [],
   "source": [
    "move_from_initials = [\"MT\", \"JK\", \"RA\", \"MN\", \"DH\"]\n",
    "move_to_initials = [\"LW\", \"MS\", \"AE\", \"H\"]"
   ]
  },
  {
   "cell_type": "code",
   "execution_count": null,
   "metadata": {},
   "outputs": [],
   "source": [
    "moves = []\n",
    "fraction_to_save_for_original_when_moving_to_H = 0.4\n",
    "\n",
    "for original_initials in move_from_initials:\n",
    "    original_patients_left_set = set(listingDfMinusWlPatients.loc[ listingDfMinusWlPatients[\"Listing\"] == original_initials ][\"Personnr\"])\n",
    "    move_to_initials_left = move_to_initials.copy()\n",
    "    move_to_initials_left.remove(\"H\")\n",
    "    move_total = abs(differences[original_initials])\n",
    "    print(f\"-----------------------\\n#### {original_initials}\\nMoving a total of {move_total}\")\n",
    "\n",
    "    print(f\"{original_initials} has {len(original_patients_left_set)} initially, wl excluded\")\n",
    "\n",
    "    for initials in move_to_initials:\n",
    "        move_to_n = round(move_total * proportions_of_new[initials])\n",
    "        print(f\"Moving {move_to_n} to {initials}\")\n",
    "\n",
    "        if initials != \"H\":\n",
    "            if move_to_n == 0:\n",
    "                print(\"None to move\")\n",
    "            else:\n",
    "                personal_sorted_score_list = scoringDfMinusWlPatients.loc[ \n",
    "                    scoringDfMinusWlPatients[\"Personnr\"].isin(original_patients_left_set) # Only patients listed on original\n",
    "                ].sort_values(by=f\"{initials}_score\", ascending=False) # Sorted by target dr\n",
    "\n",
    "                # If score is > for any of these, don't transfer the patietn.\n",
    "                initials_to_compare = move_to_initials_left + [original_initials]\n",
    "                moved_n = 0\n",
    "\n",
    "                for index, row in personal_sorted_score_list.iterrows():\n",
    "                    # Check if someone else should get it, including original dr.\n",
    "                    exceeding = CheckIfOthersScoreExceeds(initials, row, 1.01)\n",
    "\n",
    "                    # If a relevant dr exceeds:\n",
    "                    if not exceeding or not listsHaveAnyMatches(exceeding, initials_to_compare):\n",
    "                        personnr = row[\"Personnr\"]\n",
    "                        moved_n += 1\n",
    "                        moves.append(create_to_from_row(row, original_initials, initials, category=\"listing\"))\n",
    "                        original_patients_left_set.remove(personnr)\n",
    "                        if moved_n >= move_to_n:\n",
    "                            break\n",
    "\n",
    "                first_pass = moved_n\n",
    "\n",
    "                # If note enoug have been moved, make a second round and move even those where the original dr score is higher\n",
    "                if moved_n > move_to_n:\n",
    "                    personal_sorted_score_list = personal_sorted_score_list.loc[ personal_sorted_score_list[\"Personnr\"].isin(original_patients_left_set) ]\n",
    "                    initials_to_compare = move_to_initials_left\n",
    "                    for index, row in personal_sorted_score_list.iterrows():\n",
    "                        # Check if someone else should get it, including original dr.\n",
    "                        exceeding = CheckIfOthersScoreExceeds(initials, row, 1.01)\n",
    "\n",
    "                        # If a relevant dr exceeds:\n",
    "                        if not exceeding or not listsHaveAnyMatches(exceeding, initials_to_compare):\n",
    "                            personnr = row[\"Personnr\"]\n",
    "                            moved_n += 1\n",
    "                            moves.append(create_to_from_row(row, original_initials, initials, category=\"listing\"))\n",
    "                            original_patients_left_set.remove(personnr)\n",
    "                            if moved_n >= move_to_n:\n",
    "                                break\n",
    "\n",
    "                print(f\"Moved {moved_n} successfully ({first_pass} in the first pass)\")\n",
    "\n",
    "        else: # For H, just take a random sample except for the top X % of the originals score.\n",
    "            personal_sorted_score_list = scoringDfMinusWlPatients.loc[ scoringDfMinusWlPatients[\"Personnr\"].isin(original_patients_left_set) ]\n",
    "            personal_sorted_score_list = personal_sorted_score_list.sort_values(by=f\"{original_initials}_score\", ascending=False)\n",
    "\n",
    "            if original_initials in [\"DH\", \"MN\"]: # None should be left\n",
    "                patients_to_move = personal_sorted_score_list\n",
    "            else:\n",
    "                n_rows = len(personal_sorted_score_list)\n",
    "                start_index = int(n_rows * fraction_to_save_for_original_when_moving_to_H)  # Start index for bottom percent\n",
    "                bottom_percent = personal_sorted_score_list.iloc[start_index:]\n",
    "                patients_to_move = bottom_percent.sample(n=move_to_n)\n",
    "            \n",
    "            for index, row in patients_to_move.iterrows():\n",
    "                moves.append(create_to_from_row(row, original_initials, initials, category=\"listing\"))\n",
    "\n",
    "            print(f\"Moved {len(patients_to_move)} successfully to H using a random sample\")\n",
    "\n",
    "        if initials in move_to_initials_left:\n",
    "            move_to_initials_left.remove(initials)\n",
    "\n",
    "listing_moves_df = pd.DataFrame(moves)\n",
    "listing_moves_df = listing_moves_df.loc[:, to_from_row_columns]"
   ]
  },
  {
   "cell_type": "code",
   "execution_count": null,
   "metadata": {},
   "outputs": [],
   "source": [
    "listing_moves_df.to_excel(filePath+\"listing_moves.xlsx\", index=False)"
   ]
  },
  {
   "cell_type": "code",
   "execution_count": null,
   "metadata": {},
   "outputs": [],
   "source": [
    "all_moves_df = wl_moves.append(listing_moves_df, ignore_index=True)"
   ]
  },
  {
   "cell_type": "code",
   "execution_count": null,
   "metadata": {},
   "outputs": [],
   "source": [
    "all_moves_df = all_moves_df.sort_values(by=[\"From\", \"To\", \"Category\", \"total_score\"], ascending=False)\n",
    "all_moves_df.to_excel(filePath+\"all_moves.xlsx\", index=False)"
   ]
  },
  {
   "cell_type": "markdown",
   "metadata": {},
   "source": [
    "# Check som stragglers"
   ]
  },
  {
   "cell_type": "code",
   "execution_count": null,
   "metadata": {},
   "outputs": [],
   "source": [
    "# No moves from quiting dr to herself\n",
    "all_moves_df.loc[ (all_moves_df[\"From\"] == \"MN\") & (all_moves_df[\"To\"] == \"MN\"), \"To\" ] = \"H\"\n",
    "all_moves_df.loc[ (all_moves_df[\"From\"] == \"DH\") & (all_moves_df[\"To\"] == \"DH\"), \"To\" ] = \"H\""
   ]
  },
  {
   "cell_type": "code",
   "execution_count": null,
   "metadata": {},
   "outputs": [],
   "source": [
    "wl_moved_patients_set = set(wl_moves.loc[ wl_moves[\"From\"] != wl_moves[\"To\"] ][\"Personnr\"])\n",
    "print(len(wl_moved_patients_set))\n",
    "wl_no_duplicates = wait_list_df.drop_duplicates(\"Personnr\")\n",
    "non_moved_wl = wl_no_duplicates.loc[ ~wl_no_duplicates[\"Personnr\"].isin(wl_moved_patients_set) ]\n",
    "len(non_moved_wl)"
   ]
  },
  {
   "cell_type": "code",
   "execution_count": null,
   "metadata": {},
   "outputs": [],
   "source": [
    "listing_dict = {}\n",
    "for index, row in listingDf.iterrows():\n",
    "    listing_dict[row[\"Personnr\"]] = row[\"Listing\"]"
   ]
  },
  {
   "cell_type": "code",
   "execution_count": null,
   "metadata": {},
   "outputs": [],
   "source": [
    "all_moves_set = set(all_moves_df[\"Personnr\"])\n",
    "all_moves_adjusted_df = all_moves_df.reset_index(drop=True).copy() # For easier adding of new rows.\n",
    "\n",
    "# Check for patients left on the waiting list, but not listed on the wl-dr\n",
    "for initials in [\"JK\", \"MT\", \"RA\", \"AE\", \"LW\", \"MS\", \"H\"]:\n",
    "    personal_wl = non_moved_wl.loc[ non_moved_wl[\"staff_member\"] == initials ]\n",
    "    print(f\"-----------------------\\n{initials} has {len(personal_wl)} left on the waitinglist\")\n",
    "    wrongly_listed_n = 0\n",
    "\n",
    "    for index, row in personal_wl.iterrows():\n",
    "        personnr = row[\"Personnr\"]\n",
    "\n",
    "        if personnr in listing_dict and listing_dict[personnr] != initials:\n",
    "            # First make sure that the patient is not also on the other doctors waitinglist\n",
    "            \n",
    "\n",
    "            wrongly_listed_n += 1\n",
    "            if personnr in all_moves_set:\n",
    "                previous = all_moves_adjusted_df.loc[ all_moves_adjusted_df[\"Personnr\"] == personnr, \"To\" ].iloc[0]\n",
    "                print(f\"Changed destination from {previous} to {initials}\")\n",
    "                all_moves_adjusted_df.loc[ all_moves_adjusted_df[\"Personnr\"] == personnr, \"To\" ] = initials\n",
    "            else:\n",
    "                score_row = listedPatientScoreDf.loc[ listedPatientScoreDf[\"Personnr\"] == personnr ].iloc[0]\n",
    "                all_moves_adjusted_df.loc[len(all_moves_adjusted_df)] = create_to_from_row(score_row, listing_dict[personnr], initials)\n",
    "                print(f\"Added move from from {listing_dict[personnr]} to {initials}\")\n"
   ]
  },
  {
   "cell_type": "code",
   "execution_count": null,
   "metadata": {},
   "outputs": [],
   "source": [
    "all_moves_adjusted_df.to_excel(filePath+\"all_moves_WITH_EXTRA_ADJUSTMENTS.xlsx\", index=False)"
   ]
  },
  {
   "cell_type": "code",
   "execution_count": null,
   "metadata": {},
   "outputs": [],
   "source": [
    "listingDf.columns"
   ]
  },
  {
   "cell_type": "code",
   "execution_count": null,
   "metadata": {},
   "outputs": [],
   "source": [
    "# Move some extra from RA and LW to AE and H\n",
    "\n",
    "moved_set = set(all_moves_adjusted_df[\"Personnr\"])\n",
    "def get_non_moved_for_dr(initials):\n",
    "    personal_set = set(listingDf.loc[ listingDf[\"Listing\"] == initials][\"Personnr\"])\n",
    "    non_moved = listedPatientScoreDf.loc[ ~(listedPatientScoreDf[\"Personnr\"].isin(moved_set)) & (listedPatientScoreDf[\"Personnr\"].isin(personal_set)) ]\n",
    "    non_moved_filtered = non_moved.loc[ non_moved[f\"{initials}_score\"] < 1.5 ]\n",
    "    non_moved_filtered = non_moved_filtered.sort_values(by=f\"total_score\", ascending=False)\n",
    "    move_rows = []\n",
    "    for index, row in non_moved_filtered.iterrows():\n",
    "        move_rows.append(create_to_from_row(row, initials, \"\", \"listing\"))\n",
    "    df = pd.DataFrame(move_rows)\n",
    "    df = df.loc[:, to_from_row_columns]\n",
    "    return df\n",
    "\n",
    "#get_non_moved_for_dr(\"LW\")\n",
    "\n"
   ]
  },
  {
   "cell_type": "code",
   "execution_count": null,
   "metadata": {},
   "outputs": [],
   "source": [
    "all_moves_adjusted_df = pd.read_excel(filePath+\"all_moves_with_extra_adjustments_MANUALLY_EDITED.xlsx\")"
   ]
  },
  {
   "cell_type": "code",
   "execution_count": null,
   "metadata": {},
   "outputs": [],
   "source": [
    "moved_from_lw_set = set(all_moves_adjusted_df.loc[ (all_moves_adjusted_df[\"From\"] == \"LW\") & (all_moves_adjusted_df[\"To\"] != \"LW\")][\"Personnr\"])\n",
    "moved_to_lw_set = set(all_moves_adjusted_df.loc[ (all_moves_adjusted_df[\"To\"] == \"LW\")][\"Personnr\"])\n",
    "len(moved_to_lw_set)"
   ]
  },
  {
   "cell_type": "code",
   "execution_count": null,
   "metadata": {},
   "outputs": [],
   "source": [
    "# lw_patients_after_listing = set(listingDf.loc[ (listingDf[\"Listing\"] == \"LW\") ][\"Personnr\"]) # Listed from start\n",
    "# lw_patients_after_listing = (lw_patients_after_listing | moved_to_lw_set) - moved_from_lw_set\n",
    "# len(lw_patients_after_listing)\n",
    "# for personnr in lw_patients_after_listing:\n",
    "#     print(personnr)"
   ]
  },
  {
   "cell_type": "code",
   "execution_count": null,
   "metadata": {},
   "outputs": [],
   "source": [
    "len(lw_patients_after_listing)"
   ]
  }
 ],
 "metadata": {
  "kernelspec": {
   "display_name": "aienv",
   "language": "python",
   "name": "python3"
  },
  "language_info": {
   "codemirror_mode": {
    "name": "ipython",
    "version": 3
   },
   "file_extension": ".py",
   "mimetype": "text/x-python",
   "name": "python",
   "nbconvert_exporter": "python",
   "pygments_lexer": "ipython3",
   "version": "3.7.3"
  }
 },
 "nbformat": 4,
 "nbformat_minor": 4
}
