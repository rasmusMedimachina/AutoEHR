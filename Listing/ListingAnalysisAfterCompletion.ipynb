{
 "cells": [
  {
   "cell_type": "code",
   "execution_count": null,
   "metadata": {},
   "outputs": [],
   "source": [
    "import pandas as pd\n",
    "from matplotlib import pyplot as plt\n",
    "import numpy as np\n",
    "import re\n",
    "from collections import Counter\n",
    "from datetime import datetime\n",
    "from pprint import pprint\n",
    "import math\n",
    "import random\n",
    "import json"
   ]
  },
  {
   "cell_type": "markdown",
   "metadata": {},
   "source": [
    "### Scan for pnr\n",
    "#\\b\\d{12}\\b|\\d{8}-\\w{4}"
   ]
  },
  {
   "cell_type": "code",
   "execution_count": null,
   "metadata": {},
   "outputs": [],
   "source": [
    "filePath = \"..\\\\..\\\\Files\\\\\""
   ]
  },
  {
   "cell_type": "code",
   "execution_count": null,
   "metadata": {},
   "outputs": [],
   "source": [
    "reloadDataFiles = True"
   ]
  },
  {
   "cell_type": "markdown",
   "metadata": {},
   "source": [
    "# Import files"
   ]
  },
  {
   "cell_type": "code",
   "execution_count": null,
   "metadata": {},
   "outputs": [],
   "source": [
    "def LoadDrFile(initials):\n",
    "    drDfVisists = pd.read_excel(f\"{filePath}{initials}_besök.xlsx\")\n",
    "    drDfPhone = pd.read_excel(f\"{filePath}{initials}_telefon.xlsx\")\n",
    "    drDfAdmin = pd.read_excel(f\"{filePath}{initials}_indirekt.xlsx\")\n",
    "    drDf = drDfVisists.append(drDfPhone, ignore_index=True)\n",
    "    drDf = drDf.append(drDfAdmin, ignore_index=True)\n",
    "    limitColsDf = drDf.loc[:, [\"Personnr\", \"Variabelnamn i M4\", \"Besöksdatum\"] ]\n",
    "    nonNaNDf = limitColsDf.loc[limitColsDf['Personnr'].notnull()]\n",
    "    nonNaNDf[\"Initials\"] = initials\n",
    "    return nonNaNDf"
   ]
  },
  {
   "cell_type": "code",
   "execution_count": null,
   "metadata": {},
   "outputs": [],
   "source": [
    "if reloadDataFiles:\n",
    "    JK = LoadDrFile(\"JK\")\n",
    "    MT = LoadDrFile(\"MT\")\n",
    "    LW = LoadDrFile(\"LW\")\n",
    "    MN = LoadDrFile(\"MN\")\n",
    "    MS = LoadDrFile(\"MS\")\n",
    "    RA = LoadDrFile(\"RA\")\n",
    "    QR = LoadDrFile(\"QR\")"
   ]
  },
  {
   "cell_type": "code",
   "execution_count": null,
   "metadata": {},
   "outputs": [],
   "source": [
    "if reloadDataFiles:\n",
    "    listingOriginalDf = pd.read_excel(f\"{filePath}Listing_AFTER_COMPLETION.xlsx\")\n",
    "    listingDf = listingOriginalDf.loc[:, [\"Pnr\", \"Vårdgivare\"]]\n",
    "    listingDf.head(2)"
   ]
  },
  {
   "cell_type": "code",
   "execution_count": null,
   "metadata": {},
   "outputs": [],
   "source": [
    "def read_tab_separated_file(file_path):\n",
    "    result_dict = {}\n",
    "    \n",
    "    try:\n",
    "        with open(file_path, 'r', encoding='utf-8') as file:\n",
    "            for line in file:\n",
    "                # Ignorera tomma rader\n",
    "                if line.strip():\n",
    "                    key, value = line.strip().split('\\t')\n",
    "                    result_dict[key] = value\n",
    "    except FileNotFoundError:\n",
    "        print(f\"Filen {file_path} kunde inte hittas.\")\n",
    "    except ValueError:\n",
    "        print(\"Fel format i filen. Kontrollera att varje rad innehåller exakt en tab.\")\n",
    "\n",
    "    return result_dict\n"
   ]
  },
  {
   "cell_type": "code",
   "execution_count": null,
   "metadata": {},
   "outputs": [],
   "source": [
    "DrToInitials = read_tab_separated_file(filePath+\"Permanent\\\\DrToInitials_ListingAnalysisAfterCompletion.txt\")"
   ]
  }
 ],
 "metadata": {
  "kernelspec": {
   "display_name": "Python 3",
   "language": "python",
   "name": "python3"
  },
  "language_info": {
   "codemirror_mode": {
    "name": "ipython",
    "version": 3
   },
   "file_extension": ".py",
   "mimetype": "text/x-python",
   "name": "python",
   "nbconvert_exporter": "python",
   "pygments_lexer": "ipython3",
   "version": "3.7.3"
  }
 },
 "nbformat": 4,
 "nbformat_minor": 4
}
