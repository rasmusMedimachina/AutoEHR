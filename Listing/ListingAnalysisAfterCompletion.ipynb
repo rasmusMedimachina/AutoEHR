{
 "cells": [
  {
   "cell_type": "code",
   "execution_count": 1,
   "metadata": {},
   "outputs": [],
   "source": [
    "import pandas as pd\n",
    "from matplotlib import pyplot as plt\n",
    "import numpy as np\n",
    "import re\n",
    "from collections import Counter\n",
    "from datetime import datetime\n",
    "from pprint import pprint\n",
    "import math\n",
    "import random\n",
    "import json"
   ]
  },
  {
   "cell_type": "markdown",
   "metadata": {},
   "source": [
    "### Scan for pnr\n",
    "#\\b\\d{12}\\b|\\d{8}-\\w{4}"
   ]
  },
  {
   "cell_type": "code",
   "execution_count": 2,
   "metadata": {},
   "outputs": [],
   "source": [
    "filePath = \"..\\\\..\\\\Files\\\\\""
   ]
  },
  {
   "cell_type": "code",
   "execution_count": 3,
   "metadata": {},
   "outputs": [],
   "source": [
    "reloadDataFiles = True"
   ]
  },
  {
   "cell_type": "markdown",
   "metadata": {},
   "source": [
    "# Import files"
   ]
  },
  {
   "cell_type": "code",
   "execution_count": 4,
   "metadata": {},
   "outputs": [],
   "source": [
    "def LoadDrFile(initials):\n",
    "    drDfVisists = pd.read_excel(f\"{filePath}{initials}_besök.xlsx\");\n",
    "    drDfPhone = pd.read_excel(f\"{filePath}{initials}_telefon.xlsx\");\n",
    "    drDfAdmin = pd.read_excel(f\"{filePath}{initials}_indirekt.xlsx\");\n",
    "    drDf = drDfVisists.append(drDfPhone, ignore_index=True)\n",
    "    drDf = drDf.append(drDfAdmin, ignore_index=True)\n",
    "    limitColsDf = drDf.loc[:, [\"Personnr\", \"Variabelnamn i M4\", \"Besöksdatum\"] ]\n",
    "    nonNaNDf = limitColsDf.loc[limitColsDf['Personnr'].notnull()]\n",
    "    nonNaNDf[\"Initials\"] = initials\n",
    "    return nonNaNDf"
   ]
  },
  {
   "cell_type": "code",
   "execution_count": 5,
   "metadata": {},
   "outputs": [
    {
     "name": "stderr",
     "output_type": "stream",
     "text": [
      "C:\\ProgramData\\Anaconda3\\envs\\aienv\\lib\\site-packages\\ipykernel_launcher.py:9: SettingWithCopyWarning: \n",
      "A value is trying to be set on a copy of a slice from a DataFrame.\n",
      "Try using .loc[row_indexer,col_indexer] = value instead\n",
      "\n",
      "See the caveats in the documentation: http://pandas.pydata.org/pandas-docs/stable/indexing.html#indexing-view-versus-copy\n",
      "  if __name__ == '__main__':\n"
     ]
    }
   ],
   "source": [
    "if reloadDataFiles:\n",
    "    JK = LoadDrFile(\"JK\")\n",
    "    MT = LoadDrFile(\"MT\")\n",
    "    LW = LoadDrFile(\"LW\")\n",
    "    MN = LoadDrFile(\"MN\")\n",
    "    MS = LoadDrFile(\"MS\")\n",
    "    RA = LoadDrFile(\"RA\")\n",
    "    QR = LoadDrFile(\"QR\")"
   ]
  },
  {
   "cell_type": "code",
   "execution_count": 6,
   "metadata": {},
   "outputs": [],
   "source": [
    "if reloadDataFiles:\n",
    "    listingOriginalDf = pd.read_excel(f\"{filePath}Listing_AFTER_COMPLETION.xlsx\")\n",
    "    listingDf = listingOriginalDf.loc[:, [\"Pnr\", \"Vårdgivare\"]]\n",
    "    listingDf.head(2)"
   ]
  },
  {
   "cell_type": "code",
   "execution_count": 7,
   "metadata": {},
   "outputs": [],
   "source": [
    "DrToInitials = {\n",
    "    'ARVIDSSON, RASMUS': \"RA\",\n",
    "    'HÄLSOCENTRALEN SANKT HANS, VC': \"HC\",\n",
    "    'KOSJERINA, JULIJANA': \"JK\",\n",
    "    'NILSSON, MARIA K (ST-LÄKARE)': \"MN\",\n",
    "    'ROMERO, QUINCI (ST-LÄKARE)': \"QR\",\n",
    "    'SVENSSON, MARIA MC': \"MS\",\n",
    "    'TRATTNER, MICHAEL': \"MT\",\n",
    "    'WIDÉN, LINN': \"LW\",\n",
    "}"
   ]
  },
  {
   "cell_type": "code",
   "execution_count": 8,
   "metadata": {},
   "outputs": [],
   "source": [
    "if reloadDataFiles:\n",
    "    listingDf.rename(columns={\"Pnr\": \"Personnr\", \"Vårdgivare\": \"Listing\"}, inplace=True)\n",
    "    listingDf[\"Listing\"] = listingDf[\"Listing\"].apply(lambda name: DrToInitials[name] )\n",
    "    listingDf.head()"
   ]
  },
  {
   "cell_type": "code",
   "execution_count": 9,
   "metadata": {},
   "outputs": [],
   "source": [
    "if reloadDataFiles:\n",
    "    listingDict = dict(zip(listingDf[\"Personnr\"], listingDf[\"Listing\"]))"
   ]
  },
  {
   "cell_type": "markdown",
   "metadata": {},
   "source": [
    "## Lägg ihop alla besök med listad läkar som egen kolumn"
   ]
  },
  {
   "cell_type": "code",
   "execution_count": 10,
   "metadata": {},
   "outputs": [],
   "source": [
    "if reloadDataFiles:\n",
    "    allContacts = JK.append(MT, ignore_index=True)\n",
    "    allContacts = allContacts.append(LW, ignore_index=True)\n",
    "    allContacts = allContacts.append(MN, ignore_index=True)\n",
    "    allContacts = allContacts.append(MS, ignore_index=True)\n",
    "    allContacts = allContacts.append(RA, ignore_index=True)\n",
    "    allContacts = allContacts.append(QR, ignore_index=True)"
   ]
  },
  {
   "cell_type": "code",
   "execution_count": 11,
   "metadata": {},
   "outputs": [],
   "source": [
    "if reloadDataFiles:\n",
    "    allContacts[\"Personnr\"] = allContacts[\"Personnr\"].str.replace(r\"(\\d{8})(\\w{4})\", r\"\\1-\\2\")"
   ]
  },
  {
   "cell_type": "code",
   "execution_count": 12,
   "metadata": {},
   "outputs": [
    {
     "name": "stdout",
     "output_type": "stream",
     "text": [
      "{'Telefon', 'Planerade mottagningsbesök', 'Indirekt kontakt', 'Planerat hembesök'}\n"
     ]
    }
   ],
   "source": [
    "if reloadDataFiles:\n",
    "    print(set(allContacts[\"Variabelnamn i M4\"]))"
   ]
  },
  {
   "cell_type": "code",
   "execution_count": 13,
   "metadata": {},
   "outputs": [],
   "source": [
    "visitTypeDict = {\n",
    "    'Indirekt kontakt': \"adm\",\n",
    "    'Planerade mottagningsbesök': \"visit\",\n",
    "    'Planerat hembesök': \"visit\",\n",
    "    'Telefon': \"tel\"\n",
    "}"
   ]
  },
  {
   "cell_type": "code",
   "execution_count": 14,
   "metadata": {},
   "outputs": [],
   "source": [
    "if reloadDataFiles:\n",
    "    allContacts.rename(columns = {\"Variabelnamn i M4\" : \"VisitType\"}, inplace=True)\n",
    "    allContacts[\"VisitType\"] = allContacts[\"VisitType\"].apply(lambda x: visitTypeDict[x])\n",
    "    #print(allContacts.head(1))"
   ]
  },
  {
   "cell_type": "code",
   "execution_count": 15,
   "metadata": {},
   "outputs": [],
   "source": [
    "def checkListing(personnr):\n",
    "    if not personnr in listingDict:\n",
    "        return \"unknown\"\n",
    "    \n",
    "    return listingDict[personnr]"
   ]
  },
  {
   "cell_type": "code",
   "execution_count": 16,
   "metadata": {},
   "outputs": [],
   "source": [
    "if reloadDataFiles:\n",
    "    allContacts[\"Listing\"] = allContacts[\"Personnr\"].apply( checkListing )"
   ]
  },
  {
   "cell_type": "code",
   "execution_count": 17,
   "metadata": {},
   "outputs": [],
   "source": [
    "if reloadDataFiles:\n",
    "    allContacts.to_excel(f\"{filePath}allContacts.xlsx\")\n",
    "else:\n",
    "    allContacts = pd.read_excel(f\"{filePath}allContacts.xlsx\")\n",
    "    allContacts.drop(columns=[\"Unnamed: 0\", \"Unnamed: 0.1\"], inplace=True)"
   ]
  },
  {
   "cell_type": "code",
   "execution_count": 18,
   "metadata": {},
   "outputs": [],
   "source": [
    "if reloadDataFiles:\n",
    "    listingDf[\"Visits (n)\"] = listingDf[\"Personnr\"].apply(\n",
    "        lambda personnr: len(allContacts.loc[ \n",
    "            (allContacts[\"Personnr\"] == personnr) & \n",
    "            (allContacts[\"VisitType\"] == \"visit\")].index))\n",
    "\n",
    "    listingDf[\"Tel (n)\"] = listingDf[\"Personnr\"].apply(\n",
    "        lambda personnr: len(allContacts.loc[ \n",
    "            (allContacts[\"Personnr\"] == personnr) & \n",
    "            (allContacts[\"VisitType\"] == \"tel\")].index))\n",
    "\n",
    "    listingDf[\"Adm (n)\"] = listingDf[\"Personnr\"].apply(\n",
    "        lambda personnr: len(allContacts.loc[ \n",
    "            (allContacts[\"Personnr\"] == personnr) & \n",
    "            (allContacts[\"VisitType\"] == \"adm\")].index))\n",
    "    \n",
    "    listingDf.to_excel(f\"{filePath}listingCleaned_AFTER_COMPLETION.xlsx\")\n",
    "else:\n",
    "    listingDf = pd.read_excel(f\"{filePath}listingCleaned_AFTER_COMPLETION.xlsx\")\n",
    "    listingDf.drop(columns=[\"Unnamed: 0\"], inplace=True)"
   ]
  },
  {
   "cell_type": "markdown",
   "metadata": {},
   "source": [
    "### Lägg till antalet besök per listad pat i listingDf"
   ]
  },
  {
   "cell_type": "code",
   "execution_count": 19,
   "metadata": {},
   "outputs": [
    {
     "data": {
      "text/html": [
       "<div>\n",
       "<style scoped>\n",
       "    .dataframe tbody tr th:only-of-type {\n",
       "        vertical-align: middle;\n",
       "    }\n",
       "\n",
       "    .dataframe tbody tr th {\n",
       "        vertical-align: top;\n",
       "    }\n",
       "\n",
       "    .dataframe thead th {\n",
       "        text-align: right;\n",
       "    }\n",
       "</style>\n",
       "<table border=\"1\" class=\"dataframe\">\n",
       "  <thead>\n",
       "    <tr style=\"text-align: right;\">\n",
       "      <th></th>\n",
       "      <th>Listing</th>\n",
       "      <th>Visits (n)</th>\n",
       "      <th>Tel (n)</th>\n",
       "      <th>Adm (n)</th>\n",
       "    </tr>\n",
       "  </thead>\n",
       "  <tbody>\n",
       "    <tr>\n",
       "      <th>0</th>\n",
       "      <td>HC</td>\n",
       "      <td>0</td>\n",
       "      <td>0</td>\n",
       "      <td>0</td>\n",
       "    </tr>\n",
       "    <tr>\n",
       "      <th>1</th>\n",
       "      <td>HC</td>\n",
       "      <td>0</td>\n",
       "      <td>0</td>\n",
       "      <td>0</td>\n",
       "    </tr>\n",
       "  </tbody>\n",
       "</table>\n",
       "</div>"
      ],
      "text/plain": [
       "  Listing  Visits (n)  Tel (n)  Adm (n)\n",
       "0      HC           0        0        0\n",
       "1      HC           0        0        0"
      ]
     },
     "execution_count": 19,
     "metadata": {},
     "output_type": "execute_result"
    }
   ],
   "source": [
    "listingDf.loc[:, [\"Listing\", \"Visits (n)\", \"Tel (n)\", \"Adm (n)\"]].head(2)"
   ]
  },
  {
   "cell_type": "code",
   "execution_count": 20,
   "metadata": {},
   "outputs": [
    {
     "name": "stdout",
     "output_type": "stream",
     "text": [
      "1589\n"
     ]
    }
   ],
   "source": [
    "unlistedDf = listingDf.loc[ listingDf[\"Listing\"] == \"HC\" ]\n",
    "print(len(unlistedDf.index))\n"
   ]
  },
  {
   "cell_type": "code",
   "execution_count": 21,
   "metadata": {},
   "outputs": [],
   "source": [
    "#allContacts.loc[ allContacts[\"Personnr\"] == \"some_nr\" ]"
   ]
  },
  {
   "cell_type": "markdown",
   "metadata": {},
   "source": [
    "## Filtrera bort patienter som redan är listade"
   ]
  },
  {
   "cell_type": "code",
   "execution_count": 22,
   "metadata": {},
   "outputs": [],
   "source": [
    "unlistedContacts = allContacts.loc[ allContacts[\"Listing\"] == \"HC\" ]"
   ]
  },
  {
   "cell_type": "code",
   "execution_count": 23,
   "metadata": {},
   "outputs": [],
   "source": [
    "unlistedContacts.to_excel(f\"{filePath}unlistedContacts2.xlsx\")"
   ]
  },
  {
   "cell_type": "code",
   "execution_count": 24,
   "metadata": {},
   "outputs": [
    {
     "data": {
      "text/plain": [
       "2"
      ]
     },
     "execution_count": 24,
     "metadata": {},
     "output_type": "execute_result"
    }
   ],
   "source": [
    "len(set(unlistedContacts.loc[:,\"Personnr\"]))"
   ]
  },
  {
   "cell_type": "markdown",
   "metadata": {},
   "source": [
    "## Ta fram inaktiva patienter (listad på HC som ej haft besök sista åren)"
   ]
  },
  {
   "cell_type": "code",
   "execution_count": 25,
   "metadata": {},
   "outputs": [],
   "source": [
    "hasVisitSet = set( allContacts.loc[ allContacts[\"VisitType\"] == \"visit\" ].loc[ : , \"Personnr\"] )"
   ]
  },
  {
   "cell_type": "code",
   "execution_count": 26,
   "metadata": {},
   "outputs": [
    {
     "name": "stdout",
     "output_type": "stream",
     "text": [
      "There were 29151 contacts in total.\n",
      "There were 4 contacts from unlisted patients.\n",
      "2 unlisted patients had som form of contact.\n",
      "1 unlisted patients had a physical visit.\n",
      "0 unlisted patients had a tel appointment.\n"
     ]
    }
   ],
   "source": [
    "print(f\"There were {len(allContacts.index)} contacts in total.\")\n",
    "print(f\"There were {len(allContacts.loc[ (allContacts['Listing'] == 'HC') ].index)} contacts from unlisted patients.\")\n",
    "unlistedHasContactSet = set( allContacts.loc[ (allContacts[\"Listing\"] == \"HC\") ].loc[ : , \"Personnr\"] )\n",
    "print(f\"{len(unlistedHasContactSet)} unlisted patients had som form of contact.\")\n",
    "unlistedHasVisitSet = set( allContacts.loc[ (allContacts[\"Listing\"] == \"HC\") & (allContacts[\"VisitType\"] == \"visit\") ].loc[ : , \"Personnr\"] )\n",
    "print(f\"{len(unlistedHasVisitSet)} unlisted patients had a physical visit.\")\n",
    "unlistedHasTelSet = set( allContacts.loc[ (allContacts[\"Listing\"] == \"HC\") & (allContacts[\"VisitType\"] == \"tel\") ].loc[ : , \"Personnr\"] )\n",
    "print(f\"{len(unlistedHasTelSet)} unlisted patients had a tel appointment.\")"
   ]
  },
  {
   "cell_type": "code",
   "execution_count": 27,
   "metadata": {},
   "outputs": [
    {
     "name": "stdout",
     "output_type": "stream",
     "text": [
      "There are 1589 unlisted patients in total\n"
     ]
    }
   ],
   "source": [
    "print(f\"There are {len(listingDf.loc[ listingDf['Listing'] == 'HC' ].index)} unlisted patients in total\")"
   ]
  },
  {
   "cell_type": "code",
   "execution_count": 28,
   "metadata": {},
   "outputs": [
    {
     "name": "stdout",
     "output_type": "stream",
     "text": [
      "1587\n"
     ]
    }
   ],
   "source": [
    "unlistedNoContactSet = listingDf.loc[ (listingDf[\"Listing\"] == \"HC\") & ~(listingDf[\"Personnr\"].isin(unlistedHasContactSet)) ]\n",
    "#print(unlistedNoContactSet[:5])\n",
    "print(len(unlistedNoContactSet))"
   ]
  },
  {
   "cell_type": "code",
   "execution_count": 29,
   "metadata": {},
   "outputs": [
    {
     "name": "stdout",
     "output_type": "stream",
     "text": [
      "1587\n"
     ]
    },
    {
     "data": {
      "text/html": [
       "<div>\n",
       "<style scoped>\n",
       "    .dataframe tbody tr th:only-of-type {\n",
       "        vertical-align: middle;\n",
       "    }\n",
       "\n",
       "    .dataframe tbody tr th {\n",
       "        vertical-align: top;\n",
       "    }\n",
       "\n",
       "    .dataframe thead th {\n",
       "        text-align: right;\n",
       "    }\n",
       "</style>\n",
       "<table border=\"1\" class=\"dataframe\">\n",
       "  <thead>\n",
       "    <tr style=\"text-align: right;\">\n",
       "      <th></th>\n",
       "      <th>Listing</th>\n",
       "      <th>Visits (n)</th>\n",
       "      <th>Tel (n)</th>\n",
       "      <th>Adm (n)</th>\n",
       "    </tr>\n",
       "  </thead>\n",
       "  <tbody>\n",
       "    <tr>\n",
       "      <th>1586</th>\n",
       "      <td>HC</td>\n",
       "      <td>0</td>\n",
       "      <td>0</td>\n",
       "      <td>0</td>\n",
       "    </tr>\n",
       "    <tr>\n",
       "      <th>1587</th>\n",
       "      <td>HC</td>\n",
       "      <td>0</td>\n",
       "      <td>0</td>\n",
       "      <td>0</td>\n",
       "    </tr>\n",
       "    <tr>\n",
       "      <th>1588</th>\n",
       "      <td>HC</td>\n",
       "      <td>0</td>\n",
       "      <td>0</td>\n",
       "      <td>0</td>\n",
       "    </tr>\n",
       "  </tbody>\n",
       "</table>\n",
       "</div>"
      ],
      "text/plain": [
       "     Listing  Visits (n)  Tel (n)  Adm (n)\n",
       "1586      HC           0        0        0\n",
       "1587      HC           0        0        0\n",
       "1588      HC           0        0        0"
      ]
     },
     "execution_count": 29,
     "metadata": {},
     "output_type": "execute_result"
    }
   ],
   "source": [
    "unlistedNoContactDf = unlistedDf.loc[ ~(unlistedDf[\"Personnr\"].isin(unlistedHasContactSet)) ]\n",
    "unlistedNoContactDf = unlistedNoContactDf.copy()\n",
    "print(len(unlistedNoContactDf.index))\n",
    "unlistedNoContactDf.loc[: , [\"Listing\", \"Visits (n)\", \"Tel (n)\", \"Adm (n)\"]].tail(3)"
   ]
  },
  {
   "cell_type": "markdown",
   "metadata": {},
   "source": [
    "# Beräkningar"
   ]
  },
  {
   "cell_type": "markdown",
   "metadata": {},
   "source": [
    "#### Använd:\n",
    "* unlistedContacts - DF med alla olistade patienter som haft besök\n",
    "* unlistedNoContactDf - DF med patienter som är olistade och inte har haft några kontakter\n",
    "* unlistedContactsDf - DF med alla kontakter med olistade patienter\n",
    "* unlistedHasContactSet - set med alla olistade patienter som har en kontakt"
   ]
  },
  {
   "cell_type": "markdown",
   "metadata": {},
   "source": [
    "### Patient to visits per doctor df"
   ]
  },
  {
   "cell_type": "code",
   "execution_count": 30,
   "metadata": {},
   "outputs": [],
   "source": [
    "initialsList = [\"MT\", \"JK\", \"LW\", \"QR\", \"MS\", \"MN\", \"RA\"]\n",
    "visitTypes = [\"visit\", \"tel\", \"adm\"]"
   ]
  },
  {
   "cell_type": "code",
   "execution_count": 31,
   "metadata": {},
   "outputs": [
    {
     "data": {
      "text/plain": [
       "['MT_visit',\n",
       " 'MT_visit_score',\n",
       " 'MT_tel',\n",
       " 'MT_tel_score',\n",
       " 'MT_adm',\n",
       " 'MT_adm_score',\n",
       " 'MT_score',\n",
       " 'JK_visit',\n",
       " 'JK_visit_score',\n",
       " 'JK_tel',\n",
       " 'JK_tel_score',\n",
       " 'JK_adm',\n",
       " 'JK_adm_score',\n",
       " 'JK_score',\n",
       " 'LW_visit',\n",
       " 'LW_visit_score',\n",
       " 'LW_tel',\n",
       " 'LW_tel_score',\n",
       " 'LW_adm',\n",
       " 'LW_adm_score',\n",
       " 'LW_score',\n",
       " 'QR_visit',\n",
       " 'QR_visit_score',\n",
       " 'QR_tel',\n",
       " 'QR_tel_score',\n",
       " 'QR_adm',\n",
       " 'QR_adm_score',\n",
       " 'QR_score',\n",
       " 'MS_visit',\n",
       " 'MS_visit_score',\n",
       " 'MS_tel',\n",
       " 'MS_tel_score',\n",
       " 'MS_adm',\n",
       " 'MS_adm_score',\n",
       " 'MS_score',\n",
       " 'MN_visit',\n",
       " 'MN_visit_score',\n",
       " 'MN_tel',\n",
       " 'MN_tel_score',\n",
       " 'MN_adm',\n",
       " 'MN_adm_score',\n",
       " 'MN_score',\n",
       " 'RA_visit',\n",
       " 'RA_visit_score',\n",
       " 'RA_tel',\n",
       " 'RA_tel_score',\n",
       " 'RA_adm',\n",
       " 'RA_adm_score',\n",
       " 'RA_score',\n",
       " 'total_score']"
      ]
     },
     "execution_count": 31,
     "metadata": {},
     "output_type": "execute_result"
    }
   ],
   "source": [
    "countAndScoreColNames = []\n",
    "for initials in initialsList:\n",
    "    for visitType in visitTypes:\n",
    "        countAndScoreColNames.append(f\"{initials}_{visitType}\")\n",
    "        countAndScoreColNames.append(f\"{initials}_{visitType}_score\")\n",
    "    countAndScoreColNames.append(f\"{initials}_score\")\n",
    "countAndScoreColNames.append(f\"total_score\")\n",
    "countAndScoreColNames"
   ]
  },
  {
   "cell_type": "code",
   "execution_count": 32,
   "metadata": {},
   "outputs": [],
   "source": [
    "def countPatientsContactsWithDr(personnr, initials, visitType):\n",
    "    return len(unlistedContacts.loc[ (unlistedContacts[\"Personnr\"] == personnr) & \n",
    "                                   (unlistedContacts[\"Initials\"] == initials) &\n",
    "                                   (unlistedContacts[\"VisitType\"] == visitType)].index)"
   ]
  },
  {
   "cell_type": "markdown",
   "metadata": {},
   "source": [
    "#### Vikta besöken efter hur längesen de skedde."
   ]
  },
  {
   "cell_type": "code",
   "execution_count": 33,
   "metadata": {},
   "outputs": [
    {
     "name": "stdout",
     "output_type": "stream",
     "text": [
      "2.0\n",
      "1.72\n",
      "1.4384615384615385\n",
      "1.1584615384615384\n",
      "1.016923076923077\n",
      "0.9815384615384615\n"
     ]
    }
   ],
   "source": [
    "# Weight factor where a visit which happened just now is worth 2 points\n",
    "# one which happened 1 year ago 1.5 points\n",
    "# and a bit less than 2 years ago 1 point.\n",
    "\n",
    "def weightFactorFromDate(dateString):\n",
    "    date = datetime.strptime(dateString, '%Y-%m-%d')\n",
    "    originDate = datetime.strptime(\"2022-04-30\", '%Y-%m-%d')\n",
    "    dateDiff = (originDate - date).days\n",
    "    return 2 - (dateDiff/650)\n",
    "    \n",
    "print(weightFactorFromDate(\"2022-04-30\"))\n",
    "print(weightFactorFromDate(\"2021-10-30\"))\n",
    "print(weightFactorFromDate(\"2021-04-30\"))\n",
    "print(weightFactorFromDate(\"2020-10-30\"))\n",
    "print(weightFactorFromDate(\"2020-07-30\"))\n",
    "print(weightFactorFromDate(\"2020-07-7\"))\n",
    "\n",
    "visitTypeWeightDict = {\n",
    "    \"visit\": 1,\n",
    "    \"tel\": 0.35,\n",
    "    \"adm\": 0.2,\n",
    "}"
   ]
  },
  {
   "cell_type": "code",
   "execution_count": null,
   "metadata": {},
   "outputs": [],
   "source": []
  },
  {
   "cell_type": "code",
   "execution_count": 34,
   "metadata": {},
   "outputs": [],
   "source": [
    "def calculateRowScore(row):\n",
    "    dateWeightFactor = weightFactorFromDate(row[\"Besöksdatum\"])\n",
    "    return visitTypeWeightDict[ row[\"VisitType\"] ] * dateWeightFactor\n",
    "\n",
    "# testRow = unlistedContacts.loc[ list(unlistedContacts.index)[20] , :]\n",
    "# pprint(testRow.loc[list(set(testRow.index) - set([\"Personnr\"]))])\n",
    "# print(f\"Score: {calculateRowScore( testRow )}\")"
   ]
  },
  {
   "cell_type": "code",
   "execution_count": 35,
   "metadata": {},
   "outputs": [
    {
     "name": "stderr",
     "output_type": "stream",
     "text": [
      "C:\\ProgramData\\Anaconda3\\envs\\aienv\\lib\\site-packages\\ipykernel_launcher.py:1: SettingWithCopyWarning: \n",
      "A value is trying to be set on a copy of a slice from a DataFrame.\n",
      "Try using .loc[row_indexer,col_indexer] = value instead\n",
      "\n",
      "See the caveats in the documentation: http://pandas.pydata.org/pandas-docs/stable/indexing.html#indexing-view-versus-copy\n",
      "  \"\"\"Entry point for launching an IPython kernel.\n"
     ]
    }
   ],
   "source": [
    "unlistedContacts[\"rowScore\"] = unlistedContacts.apply(calculateRowScore, axis=1)"
   ]
  },
  {
   "cell_type": "code",
   "execution_count": 36,
   "metadata": {},
   "outputs": [
    {
     "data": {
      "text/html": [
       "<div>\n",
       "<style scoped>\n",
       "    .dataframe tbody tr th:only-of-type {\n",
       "        vertical-align: middle;\n",
       "    }\n",
       "\n",
       "    .dataframe tbody tr th {\n",
       "        vertical-align: top;\n",
       "    }\n",
       "\n",
       "    .dataframe thead th {\n",
       "        text-align: right;\n",
       "    }\n",
       "</style>\n",
       "<table border=\"1\" class=\"dataframe\">\n",
       "  <thead>\n",
       "    <tr style=\"text-align: right;\">\n",
       "      <th></th>\n",
       "      <th>VisitType</th>\n",
       "      <th>Besöksdatum</th>\n",
       "      <th>Initials</th>\n",
       "      <th>Listing</th>\n",
       "      <th>rowScore</th>\n",
       "    </tr>\n",
       "  </thead>\n",
       "  <tbody>\n",
       "    <tr>\n",
       "      <th>14770</th>\n",
       "      <td>visit</td>\n",
       "      <td>2021-02-11</td>\n",
       "      <td>LW</td>\n",
       "      <td>HC</td>\n",
       "      <td>1.318462</td>\n",
       "    </tr>\n",
       "    <tr>\n",
       "      <th>20492</th>\n",
       "      <td>adm</td>\n",
       "      <td>2021-06-18</td>\n",
       "      <td>MN</td>\n",
       "      <td>HC</td>\n",
       "      <td>0.302769</td>\n",
       "    </tr>\n",
       "  </tbody>\n",
       "</table>\n",
       "</div>"
      ],
      "text/plain": [
       "      VisitType Besöksdatum Initials Listing  rowScore\n",
       "14770     visit  2021-02-11       LW      HC  1.318462\n",
       "20492       adm  2021-06-18       MN      HC  0.302769"
      ]
     },
     "execution_count": 36,
     "metadata": {},
     "output_type": "execute_result"
    }
   ],
   "source": [
    "unlistedContacts.loc[:, [\"VisitType\", \"Besöksdatum\", \"Initials\", \"Listing\", \"rowScore\"]].head(2)"
   ]
  },
  {
   "cell_type": "code",
   "execution_count": 37,
   "metadata": {},
   "outputs": [
    {
     "data": {
      "text/plain": [
       "Index(['Personnr', 'VisitType', 'Besöksdatum', 'Initials', 'Listing',\n",
       "       'rowScore'],\n",
       "      dtype='object')"
      ]
     },
     "execution_count": 37,
     "metadata": {},
     "output_type": "execute_result"
    }
   ],
   "source": [
    "unlistedContacts.columns"
   ]
  },
  {
   "cell_type": "code",
   "execution_count": 38,
   "metadata": {},
   "outputs": [],
   "source": [
    "def createPatientRowOfVisitsPerDr(personnr):\n",
    "    patientsIndividualDf = unlistedContacts.loc[ unlistedContacts[\"Personnr\"] == personnr ]\n",
    "    \n",
    "    row = {\"Personnr\": personnr}\n",
    "    totalScore = 0\n",
    "    \n",
    "    for initials in initialsList:\n",
    "        \n",
    "        drIndividualDf = patientsIndividualDf.loc[ patientsIndividualDf[\"Initials\"] == initials ]\n",
    "        \n",
    "        individualScore = 0\n",
    "        \n",
    "        for visitType in visitTypes:\n",
    "            \n",
    "            visitTypeDf = drIndividualDf.loc[ drIndividualDf[\"VisitType\"] == visitType ]\n",
    "            row[f\"{initials}_{visitType}\"] = len( visitTypeDf.index )\n",
    "            score = visitTypeDf[\"rowScore\"].sum()\n",
    "            row[f\"{initials}_{visitType}_score\"] = score\n",
    "            individualScore += score\n",
    "            \n",
    "        row[f\"{initials}_score\"] = individualScore\n",
    "        totalScore += individualScore\n",
    "    row[f\"total_score\"] = totalScore\n",
    "    return row"
   ]
  },
  {
   "cell_type": "code",
   "execution_count": 39,
   "metadata": {},
   "outputs": [
    {
     "data": {
      "text/html": [
       "<div>\n",
       "<style scoped>\n",
       "    .dataframe tbody tr th:only-of-type {\n",
       "        vertical-align: middle;\n",
       "    }\n",
       "\n",
       "    .dataframe tbody tr th {\n",
       "        vertical-align: top;\n",
       "    }\n",
       "\n",
       "    .dataframe thead th {\n",
       "        text-align: right;\n",
       "    }\n",
       "</style>\n",
       "<table border=\"1\" class=\"dataframe\">\n",
       "  <thead>\n",
       "    <tr style=\"text-align: right;\">\n",
       "      <th></th>\n",
       "      <th>MT_visit</th>\n",
       "      <th>MT_visit_score</th>\n",
       "      <th>MT_tel</th>\n",
       "      <th>MT_tel_score</th>\n",
       "      <th>MT_adm</th>\n",
       "      <th>MT_adm_score</th>\n",
       "      <th>MT_score</th>\n",
       "      <th>JK_visit</th>\n",
       "      <th>JK_visit_score</th>\n",
       "      <th>JK_tel</th>\n",
       "      <th>...</th>\n",
       "      <th>MN_adm_score</th>\n",
       "      <th>MN_score</th>\n",
       "      <th>RA_visit</th>\n",
       "      <th>RA_visit_score</th>\n",
       "      <th>RA_tel</th>\n",
       "      <th>RA_tel_score</th>\n",
       "      <th>RA_adm</th>\n",
       "      <th>RA_adm_score</th>\n",
       "      <th>RA_score</th>\n",
       "      <th>total_score</th>\n",
       "    </tr>\n",
       "  </thead>\n",
       "  <tbody>\n",
       "    <tr>\n",
       "      <th>0</th>\n",
       "      <td>0</td>\n",
       "      <td>0.0</td>\n",
       "      <td>0</td>\n",
       "      <td>0.0</td>\n",
       "      <td>0</td>\n",
       "      <td>0.0</td>\n",
       "      <td>0.0</td>\n",
       "      <td>0</td>\n",
       "      <td>0.0</td>\n",
       "      <td>0</td>\n",
       "      <td>...</td>\n",
       "      <td>0.302769</td>\n",
       "      <td>0.302769</td>\n",
       "      <td>0</td>\n",
       "      <td>0.0</td>\n",
       "      <td>0</td>\n",
       "      <td>0.0</td>\n",
       "      <td>0</td>\n",
       "      <td>0.0</td>\n",
       "      <td>0.0</td>\n",
       "      <td>0.605538</td>\n",
       "    </tr>\n",
       "    <tr>\n",
       "      <th>1</th>\n",
       "      <td>0</td>\n",
       "      <td>0.0</td>\n",
       "      <td>0</td>\n",
       "      <td>0.0</td>\n",
       "      <td>0</td>\n",
       "      <td>0.0</td>\n",
       "      <td>0.0</td>\n",
       "      <td>0</td>\n",
       "      <td>0.0</td>\n",
       "      <td>0</td>\n",
       "      <td>...</td>\n",
       "      <td>0.000000</td>\n",
       "      <td>0.000000</td>\n",
       "      <td>0</td>\n",
       "      <td>0.0</td>\n",
       "      <td>0</td>\n",
       "      <td>0.0</td>\n",
       "      <td>0</td>\n",
       "      <td>0.0</td>\n",
       "      <td>0.0</td>\n",
       "      <td>2.643077</td>\n",
       "    </tr>\n",
       "  </tbody>\n",
       "</table>\n",
       "<p>2 rows × 50 columns</p>\n",
       "</div>"
      ],
      "text/plain": [
       "   MT_visit  MT_visit_score  MT_tel  MT_tel_score  MT_adm  MT_adm_score  \\\n",
       "0         0             0.0       0           0.0       0           0.0   \n",
       "1         0             0.0       0           0.0       0           0.0   \n",
       "\n",
       "   MT_score  JK_visit  JK_visit_score  JK_tel  ...  MN_adm_score  MN_score  \\\n",
       "0       0.0         0             0.0       0  ...      0.302769  0.302769   \n",
       "1       0.0         0             0.0       0  ...      0.000000  0.000000   \n",
       "\n",
       "   RA_visit  RA_visit_score  RA_tel  RA_tel_score  RA_adm  RA_adm_score  \\\n",
       "0         0             0.0       0           0.0       0           0.0   \n",
       "1         0             0.0       0           0.0       0           0.0   \n",
       "\n",
       "   RA_score  total_score  \n",
       "0       0.0     0.605538  \n",
       "1       0.0     2.643077  \n",
       "\n",
       "[2 rows x 50 columns]"
      ]
     },
     "execution_count": 39,
     "metadata": {},
     "output_type": "execute_result"
    }
   ],
   "source": [
    "patientVisitPerDrList = []\n",
    "limit = -1\n",
    "i = 0\n",
    "for personnr in unlistedHasContactSet:\n",
    "    i += 1\n",
    "    if limit > 0 and i > limit:\n",
    "        break\n",
    "    \n",
    "    patientVisitPerDrList.append(createPatientRowOfVisitsPerDr(personnr))\n",
    "    \n",
    "    \n",
    "unlistedPatientScoreDf = pd.DataFrame(patientVisitPerDrList, columns=[\"Personnr\"] + countAndScoreColNames)\n",
    "unlistedPatientScoreDf.loc[:, countAndScoreColNames].head()"
   ]
  },
  {
   "cell_type": "code",
   "execution_count": 40,
   "metadata": {},
   "outputs": [],
   "source": [
    "def countDrAmountOfPatientsForEachVisitAmount(initials):\n",
    "    counter = Counter(unlistedPatientScoreDf[f\"{initials}_visit\"])\n",
    "    return dict(counter)\n",
    "    #return sorted(counter.items())"
   ]
  },
  {
   "cell_type": "code",
   "execution_count": 41,
   "metadata": {},
   "outputs": [
    {
     "data": {
      "text/plain": [
       "{'MT': {0: 2},\n",
       " 'JK': {0: 2},\n",
       " 'LW': {0: 1, 1: 1},\n",
       " 'QR': {0: 2},\n",
       " 'MS': {0: 1, 1: 1},\n",
       " 'MN': {0: 2},\n",
       " 'RA': {0: 2}}"
      ]
     },
     "execution_count": 41,
     "metadata": {},
     "output_type": "execute_result"
    }
   ],
   "source": [
    "unlistedVisistsPerDrDict = {}\n",
    "for initials in initialsList:\n",
    "    unlistedVisistsPerDrDict[initials] = countDrAmountOfPatientsForEachVisitAmount(initials)\n",
    "    \n",
    "unlistedVisistsPerDrDict"
   ]
  },
  {
   "cell_type": "code",
   "execution_count": 42,
   "metadata": {},
   "outputs": [
    {
     "data": {
      "text/html": [
       "<div>\n",
       "<style scoped>\n",
       "    .dataframe tbody tr th:only-of-type {\n",
       "        vertical-align: middle;\n",
       "    }\n",
       "\n",
       "    .dataframe tbody tr th {\n",
       "        vertical-align: top;\n",
       "    }\n",
       "\n",
       "    .dataframe thead th {\n",
       "        text-align: right;\n",
       "    }\n",
       "</style>\n",
       "<table border=\"1\" class=\"dataframe\">\n",
       "  <thead>\n",
       "    <tr style=\"text-align: right;\">\n",
       "      <th></th>\n",
       "      <th>MT</th>\n",
       "      <th>JK</th>\n",
       "      <th>LW</th>\n",
       "      <th>QR</th>\n",
       "      <th>MS</th>\n",
       "      <th>MN</th>\n",
       "      <th>RA</th>\n",
       "    </tr>\n",
       "  </thead>\n",
       "  <tbody>\n",
       "    <tr>\n",
       "      <th>0</th>\n",
       "      <td>2</td>\n",
       "      <td>2</td>\n",
       "      <td>1</td>\n",
       "      <td>2</td>\n",
       "      <td>1</td>\n",
       "      <td>2</td>\n",
       "      <td>2</td>\n",
       "    </tr>\n",
       "    <tr>\n",
       "      <th>1</th>\n",
       "      <td>0</td>\n",
       "      <td>0</td>\n",
       "      <td>1</td>\n",
       "      <td>0</td>\n",
       "      <td>1</td>\n",
       "      <td>0</td>\n",
       "      <td>0</td>\n",
       "    </tr>\n",
       "    <tr>\n",
       "      <th>2</th>\n",
       "      <td>0</td>\n",
       "      <td>0</td>\n",
       "      <td>0</td>\n",
       "      <td>0</td>\n",
       "      <td>0</td>\n",
       "      <td>0</td>\n",
       "      <td>0</td>\n",
       "    </tr>\n",
       "    <tr>\n",
       "      <th>3</th>\n",
       "      <td>0</td>\n",
       "      <td>0</td>\n",
       "      <td>0</td>\n",
       "      <td>0</td>\n",
       "      <td>0</td>\n",
       "      <td>0</td>\n",
       "      <td>0</td>\n",
       "    </tr>\n",
       "    <tr>\n",
       "      <th>4</th>\n",
       "      <td>0</td>\n",
       "      <td>0</td>\n",
       "      <td>0</td>\n",
       "      <td>0</td>\n",
       "      <td>0</td>\n",
       "      <td>0</td>\n",
       "      <td>0</td>\n",
       "    </tr>\n",
       "    <tr>\n",
       "      <th>5</th>\n",
       "      <td>0</td>\n",
       "      <td>0</td>\n",
       "      <td>0</td>\n",
       "      <td>0</td>\n",
       "      <td>0</td>\n",
       "      <td>0</td>\n",
       "      <td>0</td>\n",
       "    </tr>\n",
       "  </tbody>\n",
       "</table>\n",
       "</div>"
      ],
      "text/plain": [
       "   MT  JK  LW  QR  MS  MN  RA\n",
       "0   2   2   1   2   1   2   2\n",
       "1   0   0   1   0   1   0   0\n",
       "2   0   0   0   0   0   0   0\n",
       "3   0   0   0   0   0   0   0\n",
       "4   0   0   0   0   0   0   0\n",
       "5   0   0   0   0   0   0   0"
      ]
     },
     "execution_count": 42,
     "metadata": {},
     "output_type": "execute_result"
    }
   ],
   "source": [
    "unlistedVisistsPerDrList = []\n",
    "for i in range(6):\n",
    "    #row = {\"Visits (n)\": i}\n",
    "    row = {}\n",
    "    for initials in initialsList:\n",
    "        if i in unlistedVisistsPerDrDict[initials]:\n",
    "            row[initials] = unlistedVisistsPerDrDict[initials][i]\n",
    "        else:\n",
    "            row[initials] = 0\n",
    "    unlistedVisistsPerDrList.append(row)\n",
    "    \n",
    "unlistedVisistsPerDrDf = pd.DataFrame(unlistedVisistsPerDrList, columns=initialsList)\n",
    "unlistedVisistsPerDrDf"
   ]
  },
  {
   "cell_type": "markdown",
   "metadata": {},
   "source": [
    "### Extremt aktiva till JK och MT"
   ]
  },
  {
   "cell_type": "code",
   "execution_count": 43,
   "metadata": {},
   "outputs": [
    {
     "name": "stdout",
     "output_type": "stream",
     "text": [
      "Histogram of total score\n"
     ]
    },
    {
     "data": {
      "text/plain": [
       "<matplotlib.axes._subplots.AxesSubplot at 0x290c585c2b0>"
      ]
     },
     "execution_count": 43,
     "metadata": {},
     "output_type": "execute_result"
    },
    {
     "data": {
      "image/png": "[encoded data removed]",
      "text/plain": [
       "<Figure size 432x288 with 1 Axes>"
      ]
     },
     "metadata": {
      "needs_background": "light"
     },
     "output_type": "display_data"
    }
   ],
   "source": [
    "print(\"Histogram of total score\")\n",
    "unlistedPatientScoreDf.loc[:, \"total_score\"].hist()"
   ]
  },
  {
   "cell_type": "markdown",
   "metadata": {},
   "source": [
    "### Most active patients"
   ]
  },
  {
   "cell_type": "code",
   "execution_count": 44,
   "metadata": {},
   "outputs": [
    {
     "data": {
      "text/plain": [
       "35"
      ]
     },
     "execution_count": 44,
     "metadata": {},
     "output_type": "execute_result"
    }
   ],
   "source": [
    "def ageFromPersonnr(personnrStr):\n",
    "    match = re.search(r\"(\\d{4})\", personnrStr)\n",
    "    year = int(match[1])\n",
    "    return 2022 - year\n",
    "    \n",
    "ageFromPersonnr(\"19870323-abcd\")"
   ]
  },
  {
   "cell_type": "code",
   "execution_count": 45,
   "metadata": {},
   "outputs": [],
   "source": [
    "ageAndScoreDf = unlistedPatientScoreDf.loc[:, [\"Personnr\", \"total_score\"]].copy()"
   ]
  },
  {
   "cell_type": "code",
   "execution_count": 46,
   "metadata": {},
   "outputs": [],
   "source": [
    "ageAndScoreDf[\"age\"] = ageAndScoreDf[\"Personnr\"].apply(ageFromPersonnr)"
   ]
  },
  {
   "cell_type": "markdown",
   "metadata": {},
   "source": [
    "## Age distribution of patients"
   ]
  },
  {
   "cell_type": "code",
   "execution_count": 47,
   "metadata": {},
   "outputs": [
    {
     "data": {
      "text/plain": [
       "<matplotlib.axes._subplots.AxesSubplot at 0x290c59c3748>"
      ]
     },
     "execution_count": 47,
     "metadata": {},
     "output_type": "execute_result"
    },
    {
     "data": {
      "image/png": "[encoded data removed]",
      "text/plain": [
       "<Figure size 432x288 with 1 Axes>"
      ]
     },
     "metadata": {
      "needs_background": "light"
     },
     "output_type": "display_data"
    }
   ],
   "source": [
    "ageAndScoreDf[\"age\"].hist()"
   ]
  },
  {
   "cell_type": "markdown",
   "metadata": {},
   "source": [
    "### Contact score per age"
   ]
  },
  {
   "cell_type": "code",
   "execution_count": 48,
   "metadata": {},
   "outputs": [
    {
     "name": "stderr",
     "output_type": "stream",
     "text": [
      "'c' argument looks like a single numeric RGB or RGBA sequence, which should be avoided as value-mapping will have precedence in case its length matches with 'x' & 'y'.  Please use a 2-D array with a single row if you really want to specify the same RGB or RGBA value for all points.\n"
     ]
    },
    {
     "data": {
      "text/plain": [
       "<matplotlib.axes._subplots.AxesSubplot at 0x290c8392b38>"
      ]
     },
     "execution_count": 48,
     "metadata": {},
     "output_type": "execute_result"
    },
    {
     "data": {
      "image/png": "[encoded data removed]",
      "text/plain": [
       "<Figure size 432x288 with 1 Axes>"
      ]
     },
     "metadata": {
      "needs_background": "light"
     },
     "output_type": "display_data"
    }
   ],
   "source": [
    "test = np.array([1,0,0,0.25])\n",
    "test.reshape(1, -1)\n",
    "ageAndScoreDf.plot.scatter(x=\"age\", y=\"total_score\", c=test )"
   ]
  },
  {
   "cell_type": "code",
   "execution_count": 49,
   "metadata": {},
   "outputs": [
    {
     "name": "stdout",
     "output_type": "stream",
     "text": [
      "Heavy (0) / unlisted 1589 = 0.0 %\n"
     ]
    }
   ],
   "source": [
    "scoreLimitForHeavy = 5\n",
    "unlistedHeavySet = set( unlistedPatientScoreDf.loc[ unlistedPatientScoreDf[\"total_score\"] >= scoreLimitForHeavy ].loc[ : ,\"Personnr\"] )\n",
    "heavyN = len(unlistedHeavySet)\n",
    "unlistedN = len(unlistedDf.index)\n",
    "print(f\"Heavy ({heavyN}) / unlisted {unlistedN} = {100 * heavyN / unlistedN} %\")"
   ]
  },
  {
   "cell_type": "markdown",
   "metadata": {},
   "source": [
    "#### Extremely active to JK & MT"
   ]
  },
  {
   "cell_type": "code",
   "execution_count": 50,
   "metadata": {},
   "outputs": [],
   "source": [
    "def GetExtremelyActiveForDr(initials, scoreLimit, otherAllowedFraction):\n",
    "    resultDf = unlistedPatientScoreDf.loc[ (unlistedPatientScoreDf[f\"{initials}_score\"] > scoreLimit) |\n",
    "                                           (unlistedPatientScoreDf[f\"{initials}_visit\"] >= 3) ]\n",
    "\n",
    "    otherInitialsList = [\"RA\", \"QR\", \"MS\", \"MN\", \"LW\"]\n",
    "\n",
    "    for otherInitials in otherInitialsList:\n",
    "        resultDf = resultDf.loc[ resultDf[f\"{otherInitials}_score\"] < resultDf[f\"{initials}_score\"] * otherAllowedFraction ]\n",
    "\n",
    "    return resultDf.loc[:, [\n",
    "                 'Personnr',\n",
    "                 f'{initials}_visit',\n",
    "                 f'{initials}_visit_score',\n",
    "                 f'{initials}_tel',\n",
    "                 f'{initials}_tel_score',\n",
    "                 f'{initials}_adm',\n",
    "                 f'{initials}_adm_score',\n",
    "                 f'{initials}_score',\n",
    "                 'total_score',]]"
   ]
  },
  {
   "cell_type": "code",
   "execution_count": 51,
   "metadata": {},
   "outputs": [],
   "source": [
    "extremelyActiveJK = GetExtremelyActiveForDr(\"JK\", 3, 0.4)"
   ]
  },
  {
   "cell_type": "code",
   "execution_count": 52,
   "metadata": {},
   "outputs": [],
   "source": [
    "extremelyActiveMT = GetExtremelyActiveForDr(\"MT\", 3, 0.4)"
   ]
  },
  {
   "cell_type": "markdown",
   "metadata": {},
   "source": [
    "### Patients with contacts but no visits?"
   ]
  },
  {
   "cell_type": "code",
   "execution_count": 53,
   "metadata": {},
   "outputs": [
    {
     "name": "stdout",
     "output_type": "stream",
     "text": [
      "1\n"
     ]
    },
    {
     "data": {
      "text/html": [
       "<div>\n",
       "<style scoped>\n",
       "    .dataframe tbody tr th:only-of-type {\n",
       "        vertical-align: middle;\n",
       "    }\n",
       "\n",
       "    .dataframe tbody tr th {\n",
       "        vertical-align: top;\n",
       "    }\n",
       "\n",
       "    .dataframe thead th {\n",
       "        text-align: right;\n",
       "    }\n",
       "</style>\n",
       "<table border=\"1\" class=\"dataframe\">\n",
       "  <thead>\n",
       "    <tr style=\"text-align: right;\">\n",
       "      <th></th>\n",
       "      <th>Listing</th>\n",
       "      <th>Visits (n)</th>\n",
       "      <th>Tel (n)</th>\n",
       "      <th>Adm (n)</th>\n",
       "    </tr>\n",
       "  </thead>\n",
       "  <tbody>\n",
       "    <tr>\n",
       "      <th>578</th>\n",
       "      <td>HC</td>\n",
       "      <td>0</td>\n",
       "      <td>0</td>\n",
       "      <td>2</td>\n",
       "    </tr>\n",
       "  </tbody>\n",
       "</table>\n",
       "</div>"
      ],
      "text/plain": [
       "    Listing  Visits (n)  Tel (n)  Adm (n)\n",
       "578      HC           0        0        2"
      ]
     },
     "execution_count": 53,
     "metadata": {},
     "output_type": "execute_result"
    }
   ],
   "source": [
    "unlistedContactNoVisitDf = unlistedDf.loc[ (unlistedDf[\"Visits (n)\"] == 0) & ((unlistedDf[\"Tel (n)\"] > 0) | (unlistedDf[\"Adm (n)\"] > 0)) ]\n",
    "print(len(unlistedContactNoVisitDf))\n",
    "unlistedContactNoVisitDf.loc[:, [\"Listing\", \"Visits (n)\", \"Tel (n)\", \"Adm (n)\"]].head()"
   ]
  },
  {
   "cell_type": "markdown",
   "metadata": {},
   "source": [
    "## Calculate target amount of listings per dr except for MT and JK"
   ]
  },
  {
   "cell_type": "markdown",
   "metadata": {},
   "source": [
    "#### First, calculate current amount of listed patients and how many of those are actively seeking care"
   ]
  },
  {
   "cell_type": "code",
   "execution_count": 54,
   "metadata": {},
   "outputs": [
    {
     "data": {
      "text/html": [
       "<div>\n",
       "<style scoped>\n",
       "    .dataframe tbody tr th:only-of-type {\n",
       "        vertical-align: middle;\n",
       "    }\n",
       "\n",
       "    .dataframe tbody tr th {\n",
       "        vertical-align: top;\n",
       "    }\n",
       "\n",
       "    .dataframe thead th {\n",
       "        text-align: right;\n",
       "    }\n",
       "</style>\n",
       "<table border=\"1\" class=\"dataframe\">\n",
       "  <thead>\n",
       "    <tr style=\"text-align: right;\">\n",
       "      <th></th>\n",
       "      <th>Listing</th>\n",
       "      <th>Visits (n)</th>\n",
       "      <th>Tel (n)</th>\n",
       "      <th>Adm (n)</th>\n",
       "    </tr>\n",
       "  </thead>\n",
       "  <tbody>\n",
       "    <tr>\n",
       "      <th>0</th>\n",
       "      <td>HC</td>\n",
       "      <td>0</td>\n",
       "      <td>0</td>\n",
       "      <td>0</td>\n",
       "    </tr>\n",
       "    <tr>\n",
       "      <th>1</th>\n",
       "      <td>HC</td>\n",
       "      <td>0</td>\n",
       "      <td>0</td>\n",
       "      <td>0</td>\n",
       "    </tr>\n",
       "  </tbody>\n",
       "</table>\n",
       "</div>"
      ],
      "text/plain": [
       "  Listing  Visits (n)  Tel (n)  Adm (n)\n",
       "0      HC           0        0        0\n",
       "1      HC           0        0        0"
      ]
     },
     "execution_count": 54,
     "metadata": {},
     "output_type": "execute_result"
    }
   ],
   "source": [
    "listingDf.loc[:, [\"Listing\", \"Visits (n)\", \"Tel (n)\", \"Adm (n)\"]].head(2)"
   ]
  },
  {
   "cell_type": "code",
   "execution_count": 55,
   "metadata": {},
   "outputs": [],
   "source": [
    "def getAmountsListedPerDr(minVisits):\n",
    "    amountListedPerDr = {}\n",
    "    for initials in initialsList:\n",
    "        amount = len(listingDf.loc[ (listingDf[\"Listing\"] == initials) &\n",
    "                                            (listingDf[\"Visits (n)\"] >= minVisits) ].index)\n",
    "        amountListedPerDr[initials] = amount\n",
    "        \n",
    "    return amountListedPerDr\n",
    "    "
   ]
  },
  {
   "cell_type": "code",
   "execution_count": 56,
   "metadata": {},
   "outputs": [
    {
     "name": "stdout",
     "output_type": "stream",
     "text": [
      "{'MT': 998, 'JK': 998, 'LW': 998, 'QR': 999, 'MS': 500, 'MN': 510, 'RA': 499}\n"
     ]
    }
   ],
   "source": [
    "print(getAmountsListedPerDr(0))"
   ]
  },
  {
   "cell_type": "markdown",
   "metadata": {},
   "source": [
    "### For each patient, determine which dr it should go to:\n",
    "* Never JK or MT\n",
    "* The one with the highets score.\n",
    "* Adjusted by a factor for each dr to try to reach the target amount"
   ]
  },
  {
   "cell_type": "code",
   "execution_count": 57,
   "metadata": {},
   "outputs": [
    {
     "name": "stdout",
     "output_type": "stream",
     "text": [
      "Unlisted with som contact 2 and with a visit 1\n"
     ]
    }
   ],
   "source": [
    "print(f\"Unlisted with som contact {len(unlistedHasContactSet)} and with a visit {len(unlistedHasVisitSet)}\");"
   ]
  },
  {
   "cell_type": "markdown",
   "metadata": {},
   "source": [
    "## How many do we have space to list and how many do we need to enlist?"
   ]
  },
  {
   "cell_type": "code",
   "execution_count": 58,
   "metadata": {},
   "outputs": [
    {
     "name": "stdout",
     "output_type": "stream",
     "text": [
      "Totalt antal olistade patienter som sökt 1+ gånger sedan 2021-07: 1\n",
      "Totalt antal olistade patienter som sökt 2+ gånger sedan 2021-07: 1\n"
     ]
    }
   ],
   "source": [
    "onePlusVisitPatienAmount = len(unlistedDf.loc[ unlistedDf[\"Visits (n)\"] >= 1 ].index)\n",
    "twoPlusVisitPatienAmount = len(unlistedDf.loc[ unlistedDf[\"Visits (n)\"] >= 2 ].index)\n",
    "print(f\"Totalt antal olistade patienter som sökt 1+ gånger sedan 2021-07: {onePlusVisitPatienAmount}\")\n",
    "print(f\"Totalt antal olistade patienter som sökt 2+ gånger sedan 2021-07: {twoPlusVisitPatienAmount}\")"
   ]
  },
  {
   "cell_type": "code",
   "execution_count": 59,
   "metadata": {},
   "outputs": [],
   "source": [
    "def showListingInfo(initialsToShowList, expectedAmountListedPerDr, total):\n",
    "    for initials in initialsToShowList:\n",
    "        value = expectedAmountListedPerDr - tempDict[initials]\n",
    "        print (f\"{initials} har listat {tempDict[initials]}/{expectedAmountListedPerDr}. Återstår att lista: {value}\")\n",
    "        data = {}\n",
    "        data[\"currentlyListed\"] = tempDict[initials]\n",
    "        data[\"expected\"] = expectedAmountListedPerDr\n",
    "        data[\"slotsLeft\"] = value\n",
    "        openSlotsPerDr[initials] = data\n",
    "        total[\"counter\"] += value\n",
    "        total[\"places\"] += expectedAmountListedPerDr"
   ]
  },
  {
   "cell_type": "code",
   "execution_count": 60,
   "metadata": {},
   "outputs": [
    {
     "name": "stdout",
     "output_type": "stream",
     "text": [
      "MS har listat 500/500. Återstår att lista: 0\n",
      "MN har listat 510/500. Återstår att lista: -10\n",
      "RA har listat 499/500. Återstår att lista: 1\n",
      "MT har listat 998/1000. Återstår att lista: 2\n",
      "JK har listat 998/1000. Återstår att lista: 2\n",
      "LW har listat 998/1000. Återstår att lista: 2\n",
      "QR har listat 999/1000. Återstår att lista: 1\n",
      "Total finns plats att lista -2 patienter\n"
     ]
    }
   ],
   "source": [
    "openSlotsPerDr = {}\n",
    "tempDict = getAmountsListedPerDr(0)\n",
    "total = {\"counter\": 0, \"places\": 0}\n",
    "\n",
    "showListingInfo([\"MS\", \"MN\", \"RA\"], 500, total)\n",
    "showListingInfo([\"MT\", \"JK\", \"LW\", \"QR\"], 1000, total)\n",
    "    \n",
    "print(f\"Total finns plats att lista {total['counter']} patienter\")"
   ]
  },
  {
   "cell_type": "code",
   "execution_count": 61,
   "metadata": {},
   "outputs": [
    {
     "name": "stdout",
     "output_type": "stream",
     "text": [
      "\n",
      "Totalt antal patienter listade på enheten: 7091\n",
      "Totalt antal läkar-listade patienter: 5502\n",
      "Totalt antal läkar-olistade patienter: 1589\n",
      "Andelen listade: 78 %\n",
      "Antal som behöver listas 75 %: -184\n",
      "Antal som behöver listas 80 %: 171\n",
      "Procent om vi listar -2: 77.563 %\n"
     ]
    }
   ],
   "source": [
    "freeSpaces = total['counter']\n",
    "expectedTotalListings = total[\"places\"]\n",
    "totalUnlisted = len(unlistedDf.index)\n",
    "totalListed = len(listingDf.loc[ listingDf[\"Listing\"] != \"HC\" ].index)\n",
    "totalPat = len(listingDf.index)\n",
    "\n",
    "print(f\"\"\"\n",
    "Totalt antal patienter listade på enheten: {totalPat}\n",
    "Totalt antal läkar-listade patienter: {totalListed}\n",
    "Totalt antal läkar-olistade patienter: {totalUnlisted}\n",
    "Andelen listade: {100*totalListed/totalPat:.0f} %\n",
    "Antal som behöver listas 75 %: {0.75*totalPat - totalListed:.0f}\n",
    "Antal som behöver listas 80 %: {0.8*totalPat - totalListed:.0f}\n",
    "Procent om vi listar {freeSpaces}: {100*(expectedTotalListings)/totalPat:.3f} %\"\"\")\n"
   ]
  },
  {
   "cell_type": "markdown",
   "metadata": {},
   "source": [
    "### Room for active patients:"
   ]
  },
  {
   "cell_type": "code",
   "execution_count": 62,
   "metadata": {},
   "outputs": [
    {
     "data": {
      "text/plain": [
       "{'MS': {'currentlyListed': 500, 'expected': 500, 'slotsLeft': 0},\n",
       " 'MN': {'currentlyListed': 510, 'expected': 500, 'slotsLeft': -10},\n",
       " 'RA': {'currentlyListed': 499, 'expected': 500, 'slotsLeft': 1},\n",
       " 'MT': {'currentlyListed': 998, 'expected': 1000, 'slotsLeft': 2},\n",
       " 'JK': {'currentlyListed': 998, 'expected': 1000, 'slotsLeft': 2},\n",
       " 'LW': {'currentlyListed': 998, 'expected': 1000, 'slotsLeft': 2},\n",
       " 'QR': {'currentlyListed': 999, 'expected': 1000, 'slotsLeft': 1}}"
      ]
     },
     "execution_count": 62,
     "metadata": {},
     "output_type": "execute_result"
    }
   ],
   "source": [
    "openSlotsPerDr"
   ]
  },
  {
   "cell_type": "code",
   "execution_count": 63,
   "metadata": {},
   "outputs": [
    {
     "name": "stdout",
     "output_type": "stream",
     "text": [
      "MS har nu 500 listade (tänkt att ha 500)\n",
      "MN har nu 510 listade (tänkt att ha 500)\n",
      "RA har nu 499 listade (tänkt att ha 500)\n",
      "MT har nu 998 listade (tänkt att ha 1000)\n",
      "JK har nu 998 listade (tänkt att ha 1000)\n",
      "LW har nu 998 listade (tänkt att ha 1000)\n",
      "QR har nu 999 listade (tänkt att ha 1000)\n"
     ]
    }
   ],
   "source": [
    "for initials, data in openSlotsPerDr.items():\n",
    "    print(f\"{initials} har nu {data['currentlyListed']} listade (tänkt att ha {data['expected']})\")"
   ]
  },
  {
   "cell_type": "code",
   "execution_count": 64,
   "metadata": {},
   "outputs": [
    {
     "name": "stdout",
     "output_type": "stream",
     "text": [
      "Room for active patient enlisting: -6\n",
      "Amount of active patients: 2\n",
      "Amount of nonactive patients to be divided between other than MT and JK:-8\n",
      "Per 1000 pat dr:-2 and per 500 pat dr: -1\n"
     ]
    }
   ],
   "source": [
    "activePatientsToBeListedN = len(unlistedPatientScoreDf.index)\n",
    "roomForActive = 0\n",
    "\n",
    "for initials in set(initialsList) - set([\"MT\", \"JK\"]):\n",
    "    slotsLeft = openSlotsPerDr[initials][\"slotsLeft\"]\n",
    "    roomForActive += slotsLeft\n",
    "    \n",
    "print(f\"Room for active patient enlisting: {roomForActive}\")\n",
    "print(f\"Amount of active patients: {activePatientsToBeListedN}\")\n",
    "print(f\"Amount of nonactive patients to be divided between other than MT and JK:{roomForActive - activePatientsToBeListedN}\")\n",
    "print(f\"Per 1000 pat dr:{2 * (roomForActive - activePatientsToBeListedN) / 7:.0f} and per 500 pat dr: {(roomForActive - activePatientsToBeListedN) / 7:.0f}\")"
   ]
  },
  {
   "cell_type": "code",
   "execution_count": 65,
   "metadata": {},
   "outputs": [],
   "source": [
    "stInactiveN = 22\n",
    "specialistInactiveN = 43"
   ]
  },
  {
   "cell_type": "code",
   "execution_count": 66,
   "metadata": {},
   "outputs": [],
   "source": [
    "unlistedPatientScoreDf.sort_values(by=\"total_score\", ascending=False, inplace=True)"
   ]
  },
  {
   "cell_type": "markdown",
   "metadata": {},
   "source": [
    "# Move patients from unlisted to enlisting"
   ]
  },
  {
   "cell_type": "code",
   "execution_count": 67,
   "metadata": {},
   "outputs": [],
   "source": [
    "def printCurrentStats():\n",
    "    print(  f\"\"\"Unlisted left: {len(totalUnlistedLeftSet)}\n",
    "Active unlisted left: {len(activeUnlistedLeftDf.index)}\n",
    "Inactive unlisted left: {len(inactiveUnlistedLeftSet)}\n",
    "Enlisting: {len(enlistingDf.index)}\"\"\")\n",
    "    for initials in initialsList:\n",
    "        print(f\"Enlisting ({initials}): {len(enlistingDf.loc[ enlistingDf['TargetDr']  == initials ])}\")"
   ]
  },
  {
   "cell_type": "code",
   "execution_count": 68,
   "metadata": {},
   "outputs": [],
   "source": [
    "def removePatientSetFromRemaining(removalSet):\n",
    "    global activeUnlistedLeftDf, totalUnlistedLeftSet, inactiveUnlistedLeftSet\n",
    "    totalUnlistedLeftSet -= removalSet\n",
    "    if removalSet.issubset(inactiveUnlistedLeftSet):\n",
    "        inactiveUnlistedLeftSet -= removalSet\n",
    "    if removalSet.issubset(set(activeUnlistedLeftDf.index)):\n",
    "        activeUnlistedLeftDf = activeUnlistedLeftDf.loc[ set(activeUnlistedLeftDf.index) - removalSet, : ]"
   ]
  },
  {
   "cell_type": "code",
   "execution_count": 69,
   "metadata": {},
   "outputs": [],
   "source": [
    "# def removePatientFromRemaining(personnrStr):\n",
    "#     totalUnlistedLeftSet.remove(personnrStr)\n",
    "#     if personnrStr in inactiveUnlistedLeftSet:\n",
    "#         inactiveUnlistedLeftSet.remove(personnrStr)\n",
    "#     if personnrStr in activeUnlistedLeftDf.index:\n",
    "#         activeUnlistedLeftDf.drop(personnrStr, inplace=True)"
   ]
  },
  {
   "cell_type": "code",
   "execution_count": 70,
   "metadata": {},
   "outputs": [],
   "source": [
    "def performEnlisting(initials, enlistingSet):\n",
    "    global enlistingDf\n",
    "    for personnr in enlistingSet:\n",
    "        row = scoreDf.loc[personnr, :]\n",
    "        row[\"TargetDr\"] = initials\n",
    "        enlistingDf = enlistingDf.append(row)\n",
    "    removePatientSetFromRemaining(enlistingSet)"
   ]
  },
  {
   "cell_type": "markdown",
   "metadata": {},
   "source": [
    "# Add random unlisted to each dr"
   ]
  },
  {
   "cell_type": "code",
   "execution_count": 109,
   "metadata": {},
   "outputs": [
    {
     "name": "stdout",
     "output_type": "stream",
     "text": [
      "1587\n"
     ]
    }
   ],
   "source": [
    "inactiveUnlistedLeftSet = set(unlistedNoContactDf[\"Personnr\"])\n",
    "print(len(inactiveUnlistedLeftSet))"
   ]
  },
  {
   "cell_type": "code",
   "execution_count": 115,
   "metadata": {},
   "outputs": [
    {
     "name": "stdout",
     "output_type": "stream",
     "text": [
      "1587\n"
     ]
    }
   ],
   "source": [
    "inactiveUnlistedLeftList = random.sample(inactiveUnlistedLeftSet, len(inactiveUnlistedLeftSet))\n",
    "print(len(inactiveUnlistedLeftList))"
   ]
  },
  {
   "cell_type": "code",
   "execution_count": 111,
   "metadata": {},
   "outputs": [
    {
     "data": {
      "text/plain": [
       "{'MT': 998, 'JK': 998, 'LW': 998, 'QR': 999, 'MS': 500, 'MN': 510, 'RA': 499}"
      ]
     },
     "execution_count": 111,
     "metadata": {},
     "output_type": "execute_result"
    }
   ],
   "source": [
    "amountsListedOnEachDr = getAmountsListedPerDr(0)\n",
    "amountsListedOnEachDr"
   ]
  },
  {
   "cell_type": "code",
   "execution_count": 113,
   "metadata": {},
   "outputs": [
    {
     "data": {
      "text/plain": [
       "{'MT': 52, 'JK': 52, 'LW': 52, 'QR': 51, 'RA': 51, 'MS': 50, 'MN': 40}"
      ]
     },
     "execution_count": 113,
     "metadata": {},
     "output_type": "execute_result"
    }
   ],
   "source": [
    "amountToListOnEachDr = {\n",
    "    \n",
    "}\n",
    "\n",
    "for initials in ['MT', 'JK', 'LW', 'QR']:\n",
    "    amountToListOnEachDr[initials] = 1050 - amountsListedOnEachDr[initials]\n",
    "    \n",
    "for initials in ['RA', 'MS', 'MN']:\n",
    "    amountToListOnEachDr[initials] = 550 - amountsListedOnEachDr[initials]\n",
    "    \n",
    "amountToListOnEachDr"
   ]
  },
  {
   "cell_type": "code",
   "execution_count": 119,
   "metadata": {},
   "outputs": [],
   "source": [
    "patListForEachDr = {\n",
    "    \n",
    "}\n",
    "\n",
    "for initials, amount in amountToListOnEachDr.items():\n",
    "    patListForEachDr[initials] = inactiveUnlistedLeftList[:amount]\n",
    "    inactiveUnlistedLeftList = inactiveUnlistedLeftList[amount:len(inactiveUnlistedLeftList)]"
   ]
  },
  {
   "cell_type": "code",
   "execution_count": 123,
   "metadata": {},
   "outputs": [],
   "source": [
    "with open(f\"{filePath}UnlistedPatToDr2.txt\", \"w+\") as file:\n",
    "    file.write(json.dumps(patListForEachDr, indent=2))"
   ]
  },
  {
   "cell_type": "code",
   "execution_count": 138,
   "metadata": {},
   "outputs": [],
   "source": [
    "def formatPers(inputList, interval=10):\n",
    "    startPos = 0 - interval\n",
    "    endPos = 0\n",
    "    reachedEnd = False\n",
    "\n",
    "    strRows = []\n",
    "    \n",
    "    while not reachedEnd:\n",
    "        startPos += interval\n",
    "        endPos += interval\n",
    "        \n",
    "        if endPos > len(inputList):\n",
    "            endPos = len(inputList)\n",
    "            reachedEnd = True\n",
    "            \n",
    "        if startPos < len(inputList) - 1:\n",
    "            strRows.append('\"' + '\", \"'.join(inputList[startPos : endPos]) + '\",\\n')\n",
    "        \n",
    "    outputStr = \"\".join(strRows)\n",
    "                       \n",
    "    return outputStr"
   ]
  },
  {
   "cell_type": "code",
   "execution_count": 144,
   "metadata": {},
   "outputs": [],
   "source": [
    "def getToList(initials):\n",
    "    toDrList = patListForEachDr[initials]\n",
    "    print(f\"Found {len(toDrList)} patients\")\n",
    "    print(formatPers(toDrList))\n",
    "    \n",
    "#getToList(\"RA\")"
   ]
  },
  {
   "cell_type": "markdown",
   "metadata": {},
   "source": [
    "# Verify no duplicates:"
   ]
  },
  {
   "cell_type": "code",
   "execution_count": 131,
   "metadata": {},
   "outputs": [
    {
     "name": "stdout",
     "output_type": "stream",
     "text": [
      "Total in list 348 and total unique = 348\n"
     ]
    }
   ],
   "source": [
    "total = []\n",
    "for initials in initialsList:\n",
    "    total += patListForEachDr[initials]\n",
    "    \n",
    "print(f\"Total in list {len(total)} and total unique = {len(set(total))}\")"
   ]
  },
  {
   "cell_type": "markdown",
   "metadata": {},
   "source": [
    "<h1 style=\"color:red;\">OLD STUFF OLD STUFF OLD STUFF OLD STUFF OLD STUFF OLD STUFF OLD STUFF OLD STUFF OLD STUFF</h1>\n",
    "The below is just copied from the original file for handling listing. Above are calculations for adding more random unlisted to each dr."
   ]
  },
  {
   "cell_type": "markdown",
   "metadata": {},
   "source": [
    "## Start with active patients\n",
    "<img src=\"https://c8.alamy.com/comp/2FWKCW4/math-formulas-mathematical-formulas-on-green-school-chalkboard-handwritten-scientific-math-equations-theories-or-calculations-vector-background-algebra-and-geometry-education-concept-2FWKCW4.jpg\" style=\"max-height:300px\">"
   ]
  },
  {
   "cell_type": "code",
   "execution_count": 71,
   "metadata": {},
   "outputs": [
    {
     "name": "stdout",
     "output_type": "stream",
     "text": [
      "Unlisted left: 1589\n",
      "Active unlisted left: 2\n",
      "Inactive unlisted left: 1587\n",
      "Enlisting: 0\n",
      "Enlisting (MT): 0\n",
      "Enlisting (JK): 0\n",
      "Enlisting (LW): 0\n",
      "Enlisting (QR): 0\n",
      "Enlisting (MS): 0\n",
      "Enlisting (MN): 0\n",
      "Enlisting (RA): 0\n"
     ]
    }
   ],
   "source": [
    "scoreDf = unlistedPatientScoreDf.set_index(\"Personnr\")\n",
    "totalUnlistedLeftSet = set(unlistedDf[\"Personnr\"])\n",
    "inactiveUnlistedLeftSet = set(unlistedNoContactDf[\"Personnr\"])\n",
    "activeUnlistedLeftDf = scoreDf.copy().sample(frac=1)\n",
    "enlistingDf = pd.DataFrame(columns = list(unlistedPatientScoreDf.columns) + [\"TargetDr\"])\n",
    "printCurrentStats()\n",
    "\n",
    "# disable chained assignments\n",
    "pd.options.mode.chained_assignment = None "
   ]
  },
  {
   "cell_type": "markdown",
   "metadata": {},
   "source": [
    "### Move patients designated for JK and MT first"
   ]
  },
  {
   "cell_type": "code",
   "execution_count": 72,
   "metadata": {},
   "outputs": [
    {
     "name": "stdout",
     "output_type": "stream",
     "text": [
      "Unlisted left: 1589\n",
      "Active unlisted left: 2\n",
      "Inactive unlisted left: 1587\n",
      "Enlisting: 0\n",
      "Enlisting (MT): 0\n",
      "Enlisting (JK): 0\n",
      "Enlisting (LW): 0\n",
      "Enlisting (QR): 0\n",
      "Enlisting (MS): 0\n",
      "Enlisting (MN): 0\n",
      "Enlisting (RA): 0\n"
     ]
    }
   ],
   "source": [
    "performEnlisting(\"JK\", set(extremelyActiveJK[\"Personnr\"]))\n",
    "printCurrentStats()"
   ]
  },
  {
   "cell_type": "code",
   "execution_count": 73,
   "metadata": {},
   "outputs": [
    {
     "name": "stdout",
     "output_type": "stream",
     "text": [
      "Unlisted left: 1589\n",
      "Active unlisted left: 2\n",
      "Inactive unlisted left: 1587\n",
      "Enlisting: 0\n",
      "Enlisting (MT): 0\n",
      "Enlisting (JK): 0\n",
      "Enlisting (LW): 0\n",
      "Enlisting (QR): 0\n",
      "Enlisting (MS): 0\n",
      "Enlisting (MN): 0\n",
      "Enlisting (RA): 0\n"
     ]
    }
   ],
   "source": [
    "performEnlisting(\"MT\", set(extremelyActiveMT[\"Personnr\"]))\n",
    "printCurrentStats()"
   ]
  },
  {
   "cell_type": "markdown",
   "metadata": {},
   "source": [
    "## Then active patients to others"
   ]
  },
  {
   "cell_type": "code",
   "execution_count": 74,
   "metadata": {},
   "outputs": [
    {
     "data": {
      "text/plain": [
       "{'MS': {'currentlyListed': 500,\n",
       "  'expected': 500,\n",
       "  'slotsLeft': 0,\n",
       "  'targetNewActive': 0},\n",
       " 'MN': {'currentlyListed': 510,\n",
       "  'expected': 500,\n",
       "  'slotsLeft': -10,\n",
       "  'targetNewActive': -32},\n",
       " 'RA': {'currentlyListed': 499,\n",
       "  'expected': 500,\n",
       "  'slotsLeft': 1,\n",
       "  'targetNewActive': -21},\n",
       " 'MT': {'currentlyListed': 998, 'expected': 1000, 'slotsLeft': 2},\n",
       " 'JK': {'currentlyListed': 998, 'expected': 1000, 'slotsLeft': 2},\n",
       " 'LW': {'currentlyListed': 998,\n",
       "  'expected': 1000,\n",
       "  'slotsLeft': 2,\n",
       "  'targetNewActive': -41},\n",
       " 'QR': {'currentlyListed': 999,\n",
       "  'expected': 1000,\n",
       "  'slotsLeft': 1,\n",
       "  'targetNewActive': -42}}"
      ]
     },
     "execution_count": 74,
     "metadata": {},
     "output_type": "execute_result"
    }
   ],
   "source": [
    "for initials in set(initialsList) - {\"MT\", \"JK\"}:\n",
    "    entry = openSlotsPerDr[initials]\n",
    "    inactiveN = stInactiveN if entry[\"expected\"] == 500 else specialistInactiveN\n",
    "    if initials == \"MS\":\n",
    "        inactiveN = 0\n",
    "    entry[\"targetNewActive\"] = entry[\"slotsLeft\"] - inactiveN\n",
    "    \n",
    "openSlotsPerDr"
   ]
  },
  {
   "cell_type": "code",
   "execution_count": 75,
   "metadata": {},
   "outputs": [],
   "source": [
    "orderToEnlistDrs = pd.DataFrame(columns=[\"Initials\", \"TargetNewActive\"])"
   ]
  },
  {
   "cell_type": "code",
   "execution_count": 76,
   "metadata": {},
   "outputs": [
    {
     "data": {
      "text/plain": [
       "['QR', 'LW', 'MN', 'RA', 'MS']"
      ]
     },
     "execution_count": 76,
     "metadata": {},
     "output_type": "execute_result"
    }
   ],
   "source": [
    "orderToEnlistDrsList = []\n",
    "for key, entry in openSlotsPerDr.items():\n",
    "    if key not in [\"MT\", \"JK\"]:\n",
    "        row = {\"Initials\": key, \"TargetNewActive\": entry[\"targetNewActive\"]}\n",
    "        orderToEnlistDrsList.append(row)\n",
    "    \n",
    "orderToEnlistDrsDf = pd.DataFrame(orderToEnlistDrsList)\n",
    "orderToEnlistDrsDf.sort_values(\"TargetNewActive\", inplace=True)\n",
    "orderToEnlistDrsList = orderToEnlistDrsDf.values.tolist()\n",
    "orderToEnlistDrsList = [entry[0] for entry in orderToEnlistDrsList]\n",
    "orderToEnlistDrsList"
   ]
  },
  {
   "cell_type": "code",
   "execution_count": 77,
   "metadata": {},
   "outputs": [],
   "source": [
    "def evaluatePatientForDr(personnr, row, initials, factor, priorityOthers, debug):\n",
    "    maxOtherScore = 0\n",
    "    maxOtherInitials = \"<none>\"\n",
    "    priorityOthers = set(priorityOthers)\n",
    "    \n",
    "    for otherInitials in (set(initialsList) - set({initials})):\n",
    "        otherScore = row[f\"{otherInitials}_score\"]\n",
    "        ownScore = row[f\"{initials}_score\"]\n",
    "        marginFactor = 0.01\n",
    "        ownScoreFactored = ownScore + factor\n",
    "        priorityStr = \"\"\n",
    "        priorityStr2 = \"\"\n",
    "        \n",
    "        if otherScore > 0.05 and otherInitials in priorityOthers:\n",
    "            marginFactor = -0.01\n",
    "            ownScoreFactored = ownScore + factor / 5\n",
    "            priorityStr = \"PRIORITY: \"\n",
    "            priorityStr2 = \"(DESPITE OF PRIORITY) \"\n",
    "        \n",
    "        if otherScore >= ownScoreFactored + marginFactor:\n",
    "            if debug:\n",
    "                print(f\"{priorityStr}{otherInitials}_score ({otherScore}) > {initials}_score ({ownScore}) + {factor} ({ownScoreFactored})\")\n",
    "            return False\n",
    "        \n",
    "        if otherScore > maxOtherScore:\n",
    "            maxOtherInitials = otherInitials\n",
    "            maxOtherScore = otherScore\n",
    "        \n",
    "    if debug:\n",
    "        print (f\"Max other score was {priorityStr2}{maxOtherInitials} ({maxOtherScore}) < {initials}_score ({ownScore}) + {factor} ({ownScoreFactored})\")\n",
    "    return True"
   ]
  },
  {
   "cell_type": "code",
   "execution_count": 78,
   "metadata": {},
   "outputs": [],
   "source": [
    "def calculateEnlistingForDr(initials, amount, priorityOthers, simplifyFactor, debug):\n",
    "    targetNewActive = amount # openSlotsPerDr[initials][\"targetNewActive\"]\n",
    "    activeUnlistedLeftDf.sort_values(by=f\"{initials}_score\", ascending=False, inplace=True)\n",
    "\n",
    "    enlistedCounter = 0\n",
    "    safety = 0\n",
    "    safetyLimit = 10\n",
    "    factor = 0\n",
    "    enlistingSet = set()\n",
    "    while enlistedCounter < targetNewActive and safety < safetyLimit:\n",
    "        if debug:\n",
    "            print(\"\\n\\n##############################################\")\n",
    "            print(\"################ NEW ROUND ###################\")\n",
    "            print(\"##############################################\\n\")\n",
    "\n",
    "        for tpl in activeUnlistedLeftDf.iterrows():\n",
    "            personnr = tpl[0]\n",
    "            row = tpl[1]\n",
    "            doEnlist = evaluatePatientForDr(personnr, row, initials, factor + simplifyFactor, priorityOthers, debug)\n",
    "\n",
    "            if doEnlist and personnr in enlistingSet:\n",
    "                if debug:\n",
    "                    print(\"Already enlisted\")\n",
    "            elif doEnlist:\n",
    "                enlistedCounter += 1\n",
    "                enlistingSet.add(personnr)\n",
    "\n",
    "            if enlistedCounter >= targetNewActive:\n",
    "                break\n",
    "\n",
    "        safety += 1\n",
    "        factor += 0.2\n",
    "\n",
    "    if debug:\n",
    "        print(f\"\\Selected {len(enlistingSet)} / {targetNewActive} patients for enlisting\")\n",
    "    \n",
    "    return enlistingSet"
   ]
  },
  {
   "cell_type": "code",
   "execution_count": 79,
   "metadata": {},
   "outputs": [],
   "source": [
    "class Enlister:\n",
    "    def __init__(self, initials):\n",
    "        self.initials = initials\n",
    "        self.targetActive = openSlotsPerDr[initials][\"targetNewActive\"]\n",
    "        self.enlistedSoFar = 0\n",
    "        self.isDone = False\n",
    "        self.debug = False\n",
    "        \n",
    "    def enlistN(self, n, simplifyFactor):\n",
    "        amount = n\n",
    "        if self.enlistedSoFar + n > self.targetActive:\n",
    "            amount = self.targetActive - self.enlistedSoFar\n",
    "        \n",
    "        enlistingSet = calculateEnlistingForDr(self.initials, amount, priorityOthers, simplifyFactor, self.debug)\n",
    "        \n",
    "        self.enlistedSoFar += len(enlistingSet)\n",
    "        if (self.enlistedSoFar >= self.targetActive):\n",
    "            self.isDone = True\n",
    "        \n",
    "        performEnlisting(self.initials, enlistingSet)\n",
    "        removePatientSetFromRemaining(enlistingSet)\n",
    "        \n",
    "        return f\"{self.initials}: Enlisted {len(enlistingSet)} => {self.enlistedSoFar} / {self.targetActive}: Done - {self.isDone}\\n\"\n",
    "        \n",
    "    def __str__(self):\n",
    "        return f\"Enlister({self.initials})\"\n",
    "    \n",
    "    def __repr__(self):\n",
    "        return f\"Enlister({self.initials})\""
   ]
  },
  {
   "cell_type": "code",
   "execution_count": 80,
   "metadata": {},
   "outputs": [
    {
     "name": "stdout",
     "output_type": "stream",
     "text": [
      "[Enlister(QR), Enlister(LW), Enlister(MN), Enlister(RA), Enlister(MS)]\n"
     ]
    }
   ],
   "source": [
    "enlisters = []\n",
    "for initials in orderToEnlistDrsList:\n",
    "    enlister = Enlister(initials)\n",
    "    enlisters.append(enlister)\n",
    "    \n",
    "print(enlisters)"
   ]
  },
  {
   "cell_type": "code",
   "execution_count": 81,
   "metadata": {},
   "outputs": [],
   "source": [
    "def checkIfAllDone():\n",
    "    for enlister in enlisters:\n",
    "        if not enlister.isDone:\n",
    "            return False\n",
    "    return True"
   ]
  },
  {
   "cell_type": "code",
   "execution_count": 82,
   "metadata": {},
   "outputs": [],
   "source": [
    "def getPriorityOthers():\n",
    "    priorityOthers = set()\n",
    "    for enlister in enlisters:\n",
    "        if not enlister.isDone:\n",
    "            priorityOthers.add(enlister.initials)\n",
    "            \n",
    "    return priorityOthers"
   ]
  },
  {
   "cell_type": "code",
   "execution_count": 83,
   "metadata": {},
   "outputs": [],
   "source": [
    "safety = 0\n",
    "safetyLimit = 99\n",
    "remainingLastTime = len(activeUnlistedLeftDf.index)\n",
    "simplifyFactor = 0\n",
    "\n",
    "while len(activeUnlistedLeftDf.index) > 30 and not checkIfAllDone() and safety <= safetyLimit:\n",
    "    safety += 1\n",
    "    remainingNow = len(activeUnlistedLeftDf.index)\n",
    "    if (remainingNow == remainingLastTime):\n",
    "        simplifyFactor += 0.2\n",
    "    \n",
    "    remainingLastTime = remainingNow\n",
    "    \n",
    "    outStr = f\"\\nACTIVE LEFT: {len(activeUnlistedLeftDf.index)}, ENLISTED: {len(enlistingDf.index)}\\n\"\n",
    "    outStr += f\"{getPriorityOthers()}\\n\"\n",
    "    \n",
    "    for enlister in enlisters:\n",
    "        if not enlister.isDone:\n",
    "            priorityOthers = getPriorityOthers()\n",
    "            outStr += enlister.enlistN(20, simplifyFactor)\n",
    "        \n",
    "    print(outStr)\n",
    "        "
   ]
  },
  {
   "cell_type": "code",
   "execution_count": 84,
   "metadata": {},
   "outputs": [
    {
     "name": "stdout",
     "output_type": "stream",
     "text": [
      "2\n"
     ]
    }
   ],
   "source": [
    "toLwDf = activeUnlistedLeftDf.copy()\n",
    "toLwDf.sort_values(by=\"LW_score\", ascending=False, inplace=True)\n",
    "enlistingSet = set(toLwDf.index)\n",
    "toLwDf[\"TargetDr\"] = \"LW\"\n",
    "print(len(enlistingSet))\n",
    "#toLwDf.loc[ list(toLwDf.index)[:2], [\"LW_score\", \"total_score\"] ]"
   ]
  },
  {
   "cell_type": "code",
   "execution_count": 85,
   "metadata": {},
   "outputs": [
    {
     "name": "stdout",
     "output_type": "stream",
     "text": [
      "Unlisted left: 1587\n",
      "Active unlisted left: 0\n",
      "Inactive unlisted left: 1587\n",
      "Enlisting: 2\n",
      "Enlisting (MT): 0\n",
      "Enlisting (JK): 0\n",
      "Enlisting (LW): 2\n",
      "Enlisting (QR): 0\n",
      "Enlisting (MS): 0\n",
      "Enlisting (MN): 0\n",
      "Enlisting (RA): 0\n"
     ]
    }
   ],
   "source": [
    "enlistingDf = enlistingDf.append(toLwDf, sort=False)\n",
    "removePatientSetFromRemaining(enlistingSet)\n",
    "printCurrentStats()"
   ]
  },
  {
   "cell_type": "markdown",
   "metadata": {},
   "source": [
    "## Compare how heavy burden each one gets"
   ]
  },
  {
   "cell_type": "code",
   "execution_count": 86,
   "metadata": {},
   "outputs": [
    {
     "name": "stdout",
     "output_type": "stream",
     "text": [
      "MT: nan\n",
      "JK: nan\n",
      "LW: 1.6243076923076925\n",
      "QR: nan\n",
      "MS: nan\n",
      "MN: nan\n",
      "RA: nan\n"
     ]
    }
   ],
   "source": [
    "for initials in initialsList:\n",
    "    mean = enlistingDf.loc[ enlistingDf[\"TargetDr\"] == initials ][\"total_score\"].mean()\n",
    "    print(f\"{initials}: {mean}\")"
   ]
  },
  {
   "cell_type": "markdown",
   "metadata": {},
   "source": [
    "# Add the inactive ones at random"
   ]
  },
  {
   "cell_type": "code",
   "execution_count": 87,
   "metadata": {},
   "outputs": [],
   "source": [
    "rowTemplate = dict(zip(countAndScoreColNames, [0 for x in countAndScoreColNames]))\n",
    "rowTemplate[\"TargetDr\"] = \"\"\n",
    "rowTemplate[\"Personnr\"] = \"\""
   ]
  },
  {
   "cell_type": "code",
   "execution_count": 88,
   "metadata": {},
   "outputs": [],
   "source": [
    "unlistedNoContactDf = unlistedNoContactDf.sample(frac=1) # Shuffle\n",
    "unlistedNoContactList = list(unlistedNoContactDf[\"Personnr\"])"
   ]
  },
  {
   "cell_type": "code",
   "execution_count": 89,
   "metadata": {},
   "outputs": [
    {
     "name": "stdout",
     "output_type": "stream",
     "text": [
      "targetInactive MT: 2\n",
      "targetInactive JK: 2\n",
      "targetInactive LW: 0\n",
      "targetInactive QR: 1\n",
      "targetInactive MS: 0\n",
      "targetInactive MN: -10\n",
      "targetInactive RA: 1\n"
     ]
    }
   ],
   "source": [
    "for initials in initialsList:\n",
    "    entry = openSlotsPerDr[initials]\n",
    "    activeEnlisting = len(enlistingDf.loc[ enlistingDf[\"TargetDr\"] == initials ].index)\n",
    "    entry[\"currentlyEnlisting\"] = activeEnlisting\n",
    "    entry[\"targetInactive\"]  = entry[\"slotsLeft\"] - activeEnlisting\n",
    "    print(f\"targetInactive {initials}: {entry['targetInactive']}\")\n"
   ]
  },
  {
   "cell_type": "code",
   "execution_count": 90,
   "metadata": {},
   "outputs": [],
   "source": [
    "def enlistOneInactivePat(initials):\n",
    "    personnr = unlistedNoContactList.pop()\n",
    "    row = dict(rowTemplate)\n",
    "    row[\"TargetDr\"] = initials\n",
    "    series = pd.Series(row)\n",
    "    enlistingDf.loc[personnr, :] = series\n",
    "    return personnr"
   ]
  },
  {
   "cell_type": "code",
   "execution_count": 91,
   "metadata": {},
   "outputs": [
    {
     "name": "stdout",
     "output_type": "stream",
     "text": [
      "MT: Enlisted 2\n",
      "JK: Enlisted 2\n",
      "LW: Enlisted 0\n",
      "QR: Enlisted 1\n",
      "MS: Enlisted 0\n",
      "MN: Enlisted 0\n",
      "RA: Enlisted 1\n"
     ]
    }
   ],
   "source": [
    "for initials in initialsList:\n",
    "    entry = openSlotsPerDr[initials]\n",
    "    removeSet = set()\n",
    "    targetInactive = entry[\"targetInactive\"]\n",
    "    \n",
    "    for i in range(targetInactive):\n",
    "        personnr = enlistOneInactivePat(initials)\n",
    "        removeSet.add(personnr)\n",
    "        \n",
    "    removePatientSetFromRemaining(removeSet)\n",
    "    print(f\"{initials}: Enlisted {len(removeSet)}\")\n",
    "                          \n",
    "#enlistingDf.tail(2)  "
   ]
  },
  {
   "cell_type": "code",
   "execution_count": 92,
   "metadata": {},
   "outputs": [
    {
     "name": "stdout",
     "output_type": "stream",
     "text": [
      "Unlisted left: 1581\n",
      "Active unlisted left: 0\n",
      "Inactive unlisted left: 1581\n",
      "Enlisting: 8\n",
      "Enlisting (MT): 2\n",
      "Enlisting (JK): 2\n",
      "Enlisting (LW): 2\n",
      "Enlisting (QR): 1\n",
      "Enlisting (MS): 0\n",
      "Enlisting (MN): 0\n",
      "Enlisting (RA): 1\n"
     ]
    }
   ],
   "source": [
    "printCurrentStats()"
   ]
  },
  {
   "cell_type": "code",
   "execution_count": 93,
   "metadata": {},
   "outputs": [
    {
     "name": "stdout",
     "output_type": "stream",
     "text": [
      "MT: 2\n",
      "JK: 2\n",
      "LW: 2\n",
      "QR: 1\n",
      "MS: 0\n",
      "MN: -10\n",
      "RA: 1\n"
     ]
    }
   ],
   "source": [
    "for initials in initialsList:\n",
    "    entry = openSlotsPerDr[initials]\n",
    "    print(f\"{initials}: {entry['slotsLeft']}\")"
   ]
  },
  {
   "cell_type": "markdown",
   "metadata": {},
   "source": [
    "## Sorting before export"
   ]
  },
  {
   "cell_type": "code",
   "execution_count": 94,
   "metadata": {},
   "outputs": [],
   "source": [
    "enlistingDf.sort_values(by=\"total_score\", inplace=True, ascending=False)\n",
    "enlistingDf.sort_values(by=\"TargetDr\", inplace=True)"
   ]
  },
  {
   "cell_type": "code",
   "execution_count": 95,
   "metadata": {},
   "outputs": [],
   "source": [
    "outputDf = pd.DataFrame(columns=list(enlistingDf.columns))\n",
    "for initials in initialsList:\n",
    "    outputDf = outputDf.append(enlistingDf.loc[ enlistingDf[\"TargetDr\"] == initials ].sort_values(by=f\"{initials}_score\", ascending=False))"
   ]
  },
  {
   "cell_type": "markdown",
   "metadata": {},
   "source": [
    "# Exporting"
   ]
  },
  {
   "cell_type": "code",
   "execution_count": 96,
   "metadata": {},
   "outputs": [
    {
     "data": {
      "text/plain": [
       "['MT_score',\n",
       " 'JK_score',\n",
       " 'LW_score',\n",
       " 'QR_score',\n",
       " 'MS_score',\n",
       " 'MN_score',\n",
       " 'RA_score',\n",
       " 'total_score',\n",
       " 'TargetDr']"
      ]
     },
     "execution_count": 96,
     "metadata": {},
     "output_type": "execute_result"
    }
   ],
   "source": [
    "exportColumns = []\n",
    "for initials in initialsList:\n",
    "    exportColumns.append(f\"{initials}_score\")\n",
    "\n",
    "exportColumns.append(\"total_score\")\n",
    "exportColumns.append(\"TargetDr\")\n",
    "exportColumns"
   ]
  },
  {
   "cell_type": "code",
   "execution_count": 97,
   "metadata": {},
   "outputs": [],
   "source": [
    "# outputDf.to_excel(f\"{filePath}enlistingDf_allColumns.xlsx\")\n",
    "# outputDf.loc[:, exportColumns].to_excel(f\"{filePath}enlistingDf_simplified.xlsx\")"
   ]
  },
  {
   "cell_type": "markdown",
   "metadata": {},
   "source": [
    "# Kuriosa"
   ]
  },
  {
   "cell_type": "code",
   "execution_count": 98,
   "metadata": {},
   "outputs": [],
   "source": [
    "allContactsCalc = allContacts.copy()\n",
    "allContactsCalc[\"rowScore\"] = allContactsCalc.apply(calculateRowScore, axis=1)"
   ]
  },
  {
   "cell_type": "code",
   "execution_count": 99,
   "metadata": {},
   "outputs": [],
   "source": [
    "currentListingDict = dict(zip(list(listingDf[\"Personnr\"]), list(listingDf[\"Listing\"])))"
   ]
  },
  {
   "cell_type": "code",
   "execution_count": 100,
   "metadata": {},
   "outputs": [],
   "source": [
    "futureListingDict = dict(zip(list(enlistingDf.index), list(enlistingDf[\"TargetDr\"])))"
   ]
  },
  {
   "cell_type": "code",
   "execution_count": 101,
   "metadata": {},
   "outputs": [],
   "source": [
    "def getTargetListing(personnr):\n",
    "    if personnr in currentListingDict and currentListingDict[personnr] != \"HC\":\n",
    "        return currentListingDict[personnr]\n",
    "    elif personnr in futureListingDict:\n",
    "        return futureListingDict[personnr]\n",
    "    else:\n",
    "        return \"<unknown>\""
   ]
  },
  {
   "cell_type": "code",
   "execution_count": 102,
   "metadata": {},
   "outputs": [],
   "source": [
    "allContactsCalc[\"TargetListing\"] = allContactsCalc[\"Personnr\"].apply(getTargetListing)"
   ]
  },
  {
   "cell_type": "code",
   "execution_count": 103,
   "metadata": {},
   "outputs": [
    {
     "data": {
      "text/plain": [
       "Counter({'JK': 5183,\n",
       "         '<unknown>': 9428,\n",
       "         'MT': 2217,\n",
       "         'QR': 3049,\n",
       "         'LW': 3709,\n",
       "         'MN': 2009,\n",
       "         'MS': 1786,\n",
       "         'RA': 1770})"
      ]
     },
     "execution_count": 103,
     "metadata": {},
     "output_type": "execute_result"
    }
   ],
   "source": [
    "Counter(allContactsCalc[\"TargetListing\"])"
   ]
  },
  {
   "cell_type": "code",
   "execution_count": 104,
   "metadata": {},
   "outputs": [
    {
     "data": {
      "text/plain": [
       "Index(['Personnr', 'Listing', 'Visits (n)', 'Tel (n)', 'Adm (n)'], dtype='object')"
      ]
     },
     "execution_count": 104,
     "metadata": {},
     "output_type": "execute_result"
    }
   ],
   "source": [
    "listingDf.columns"
   ]
  },
  {
   "cell_type": "code",
   "execution_count": 145,
   "metadata": {},
   "outputs": [
    {
     "data": {
      "text/plain": [
       "1000"
      ]
     },
     "execution_count": 145,
     "metadata": {},
     "output_type": "execute_result"
    }
   ],
   "source": [
    "def getTotalAmountOfListed(initials):\n",
    "    fromEnlisting = set(enlistingDf.loc[ enlistingDf[\"TargetDr\"] == initials ].index)\n",
    "    fromListing = set( listingDf.loc[ listingDf[\"Listing\"] == initials ][\"Personnr\"] )\n",
    "#     print(f\"fromContacts: {len(fromEnlisting)}, eg. {list(fromEnlisting)[:3]}\")\n",
    "#     print(f\"fromListing: {len(fromListing)}, eg. {list(fromListing)[:3]}\")\n",
    "    return len(fromEnlisting.union(fromListing))\n",
    "    \n",
    "getTotalAmountOfListed(\"JK\")"
   ]
  },
  {
   "cell_type": "code",
   "execution_count": 146,
   "metadata": {},
   "outputs": [],
   "source": [
    "calc = []\n",
    "for initials in initialsList:\n",
    "    \n",
    "    initials = initials\n",
    "    listedPats = getTotalAmountOfListed(initials)\n",
    "    listedContactsAnyDr = len(allContactsCalc.loc[ (allContactsCalc[\"Listing\"] == initials) ].index)\n",
    "    listedVisitsAnyDr = len(allContactsCalc.loc[ (allContactsCalc[\"Listing\"] == initials) & (allContactsCalc[\"VisitType\"] == \"visit\") ].index)\n",
    "    listedScoreAnyDr = allContactsCalc.loc[ (allContactsCalc[\"Listing\"] == initials) ][\"rowScore\"].sum()\n",
    "    actualVisits = len(allContactsCalc.loc[ (allContactsCalc[\"Initials\"] == initials) & (allContactsCalc[\"VisitType\"] == \"visit\") ].index)\n",
    "    actualContacts = len(allContactsCalc.loc[ (allContactsCalc[\"Initials\"] == initials) ].index)\n",
    "    actualContactScore = allContactsCalc.loc[ (allContactsCalc[\"Initials\"] == initials) ][\"rowScore\"].sum()\n",
    "    scorePerListedVisit = listedScoreAnyDr / listedVisitsAnyDr\n",
    "    actualVisitScorePerListedPat = actualContactScore / listedPats\n",
    "    scorePerActualVisit = actualContactScore / actualVisits\n",
    "    \n",
    "    row = {\n",
    "        \"initials\": initials,\n",
    "        \"listedPats\": listedPats,\n",
    "        \"listedContactsAnyDr\": listedContactsAnyDr,\n",
    "        \"listedVisitsAnyDr\": listedVisitsAnyDr,\n",
    "        \"listedScoreAnyDr\": listedScoreAnyDr,\n",
    "        \"actualVisits\": actualVisits,\n",
    "        \"actualContacts\": actualContacts,\n",
    "        \"actualContactScore\": actualContactScore,\n",
    "        \"scorePerListedVisit\": scorePerListedVisit,\n",
    "        \"actualVisitScorePerListedPat\": actualVisitScorePerListedPat,\n",
    "        \"scorePerActualVisit\": scorePerActualVisit,\n",
    "    }\n",
    "    calc.append(row)\n",
    "    \n",
    "calculationsDf = pd.DataFrame(calc, columns = [\"initials\", \"listedPats\", \"listedContactsAnyDr\", \"listedVisitsAnyDr\", \"listedScoreAnyDr\", \"actualVisits\", \"actualContacts\", \"actualContactScore\", \"scorePerListedVisit\", \"actualVisitScorePerListedPat\", \"scorePerActualVisit\"])\n",
    "#calculationsDf"
   ]
  },
  {
   "cell_type": "code",
   "execution_count": 107,
   "metadata": {},
   "outputs": [],
   "source": [
    "calculationsDf.to_excel(f\"{filePath}calculations2.xlsx\")"
   ]
  },
  {
   "cell_type": "markdown",
   "metadata": {},
   "source": [
    "# More random inactive"
   ]
  },
  {
   "cell_type": "code",
   "execution_count": null,
   "metadata": {},
   "outputs": [],
   "source": [
    "unlisted"
   ]
  }
 ],
 "metadata": {
  "kernelspec": {
   "display_name": "Python 3",
   "language": "python",
   "name": "python3"
  },
  "language_info": {
   "codemirror_mode": {
    "name": "ipython",
    "version": 3
   },
   "file_extension": ".py",
   "mimetype": "text/x-python",
   "name": "python",
   "nbconvert_exporter": "python",
   "pygments_lexer": "ipython3",
   "version": "3.7.3"
  }
 },
 "nbformat": 4,
 "nbformat_minor": 4
}
