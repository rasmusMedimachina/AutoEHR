{
 "cells": [
  {
   "cell_type": "code",
   "execution_count": 1,
   "metadata": {},
   "outputs": [],
   "source": [
    "import pandas as pd\n",
    "from matplotlib import pyplot as plt\n",
    "import numpy as np\n",
    "import re\n",
    "from collections import Counter\n",
    "from datetime import datetime\n",
    "from pprint import pprint\n",
    "import math"
   ]
  },
  {
   "cell_type": "markdown",
   "metadata": {},
   "source": [
    "### Scan for pnr\n",
    "#\\b\\d{12}\\b|\\d{8}-\\w{4}"
   ]
  },
  {
   "cell_type": "code",
   "execution_count": 2,
   "metadata": {},
   "outputs": [],
   "source": [
    "filePath = \"..\\\\..\\\\Files\\\\\""
   ]
  },
  {
   "cell_type": "code",
   "execution_count": 3,
   "metadata": {},
   "outputs": [],
   "source": [
    "listingDf = pd.read_excel(f\"{filePath}enlistingDf_simplified.xlsx\")\n",
    "listingDf.rename(columns={\"Unnamed: 0\": \"Personnr\"}, inplace=True)\n",
    "listingDf.set_index(\"Personnr\", inplace=True)\n",
    "#listingDf.head()"
   ]
  },
  {
   "cell_type": "code",
   "execution_count": 4,
   "metadata": {},
   "outputs": [],
   "source": [
    "toRA = list(listingDf.loc[ listingDf[\"TargetDr\"] == \"RA\" ].index)"
   ]
  },
  {
   "cell_type": "code",
   "execution_count": 5,
   "metadata": {},
   "outputs": [
    {
     "data": {
      "text/plain": [
       "108"
      ]
     },
     "execution_count": 5,
     "metadata": {},
     "output_type": "execute_result"
    }
   ],
   "source": [
    "len(toRA)"
   ]
  },
  {
   "cell_type": "code",
   "execution_count": 22,
   "metadata": {},
   "outputs": [],
   "source": [
    "def formatPers(inputList, interval=20):\n",
    "    interval = 10\n",
    "    startPos = 0 - interval\n",
    "    endPos = 0\n",
    "    reachedEnd = False\n",
    "\n",
    "    strRows = []\n",
    "    \n",
    "    while not reachedEnd:\n",
    "        startPos += interval\n",
    "        endPos += interval\n",
    "        \n",
    "        if endPos > len(inputList):\n",
    "            endPos = len(inputList)\n",
    "            reachedEnd = True\n",
    "            \n",
    "        strRows.append('\"' + '\", \"'.join(inputList[startPos : endPos]) + '\",\\n')\n",
    "        \n",
    "    outputStr = \"\".join(strRows)\n",
    "                       \n",
    "    return outputStr\n",
    "\n",
    "#print(formatPers(toRA, 10))"
   ]
  },
  {
   "cell_type": "code",
   "execution_count": 35,
   "metadata": {},
   "outputs": [],
   "source": [
    "def getToList(initials):\n",
    "    toDrList = list(listingDf.loc[ listingDf[\"TargetDr\"] == initials ].index)\n",
    "    print(f\"Found {len(toDrList)} patients\")\n",
    "    print(formatPers(toDrList))\n",
    "    \n",
    "#getToList(\"MS\")"
   ]
  },
  {
   "cell_type": "code",
   "execution_count": null,
   "metadata": {},
   "outputs": [],
   "source": []
  }
 ],
 "metadata": {
  "kernelspec": {
   "display_name": "Python 3",
   "language": "python",
   "name": "python3"
  },
  "language_info": {
   "codemirror_mode": {
    "name": "ipython",
    "version": 3
   },
   "file_extension": ".py",
   "mimetype": "text/x-python",
   "name": "python",
   "nbconvert_exporter": "python",
   "pygments_lexer": "ipython3",
   "version": "3.7.3"
  }
 },
 "nbformat": 4,
 "nbformat_minor": 4
}
