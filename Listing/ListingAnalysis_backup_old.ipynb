{
 "cells": [
  {
   "cell_type": "code",
   "execution_count": null,
   "metadata": {},
   "outputs": [],
   "source": [
    "filePath = \"..\\\\..\\\\Files\\\\\""
   ]
  },
  {
   "cell_type": "code",
   "execution_count": null,
   "metadata": {},
   "outputs": [],
   "source": [
    "# Check that each file isn't the same size\n",
    "import os\n",
    "\n",
    "def list_files_by_size(folder_path):\n",
    "    # List to store file names and their sizes\n",
    "    files_info = []\n",
    "    \n",
    "    # Iterate through files in the folder\n",
    "    for file_name in os.listdir(folder_path):\n",
    "        file_path = os.path.join(folder_path, file_name)\n",
    "        # Check if it's a file\n",
    "        if os.path.isfile(file_path):\n",
    "            file_size = os.path.getsize(file_path)\n",
    "            files_info.append((file_name, file_size))\n",
    "    \n",
    "    # Sort files by size (ascending order)\n",
    "    sorted_files = sorted(files_info, key=lambda x: x[1])\n",
    "    \n",
    "    # Print sorted files with sizes\n",
    "    for file_name, file_size in sorted_files:\n",
    "        print(f\"{file_name}: {file_size} bytes\")\n",
    "\n",
    "list_files_by_size(filePath)"
   ]
  },
  {
   "cell_type": "code",
   "execution_count": null,
   "metadata": {},
   "outputs": [],
   "source": [
    "import pandas as pd\n",
    "from matplotlib import pyplot as plt\n",
    "import numpy as np\n",
    "import re\n",
    "from collections import Counter\n",
    "from datetime import datetime\n",
    "from pprint import pprint\n",
    "import math"
   ]
  },
  {
   "cell_type": "markdown",
   "metadata": {},
   "source": [
    "### Scan for pnr\n",
    "#\\b\\d{12}\\b|\\d{8}-\\w{4}"
   ]
  },
  {
   "cell_type": "code",
   "execution_count": null,
   "metadata": {},
   "outputs": [],
   "source": [
    "reloadDataFiles = True"
   ]
  },
  {
   "cell_type": "markdown",
   "metadata": {},
   "source": [
    "# Import files"
   ]
  },
  {
   "cell_type": "code",
   "execution_count": null,
   "metadata": {},
   "outputs": [],
   "source": [
    "def LoadDrFile(initials):\n",
    "    drDfVisists = pd.read_excel(f\"{filePath}{initials}_besök.xlsx\")\n",
    "    drDfPhone = pd.read_excel(f\"{filePath}{initials}_telefon.xlsx\")\n",
    "    drDfAdmin = pd.read_excel(f\"{filePath}{initials}_indirekt.xlsx\")\n",
    "    drDfDistans = pd.read_excel(f\"{filePath}{initials}_distans.xlsx\")\n",
    "    drDfDistans.loc[:, \"Variabelnamn i M4\"] = \"Telefon\"\n",
    "    \n",
    "    # Append all DataFrames into one\n",
    "    drDf = drDfVisists.append(drDfPhone, ignore_index=True)\n",
    "    drDf = drDf.append(drDfDistans, ignore_index=True)\n",
    "    drDf = drDf.append(drDfAdmin, ignore_index=True)\n",
    "    \n",
    "    # Limit columns and filter out rows with null in 'Personnr'\n",
    "    limitColsDf = drDf.loc[:, [\"Personnr\", \"Variabelnamn i M4\", \"Besöksdatum\"]]\n",
    "    nonNaNDf = limitColsDf.loc[limitColsDf['Personnr'].notnull()].copy()  # Explicitly create a copy\n",
    "    nonNaNDf[\"Personnr\"] = nonNaNDf[\"Personnr\"].apply(lambda x: f\"{int(float(x)):012}\" if isinstance(x, (float, int)) else f\"{x:>012}\")\n",
    "    \n",
    "    # Add the 'Initials' column\n",
    "    nonNaNDf.loc[:, \"Initials\"] = initials\n",
    "    \n",
    "    return nonNaNDf\n"
   ]
  },
  {
   "cell_type": "code",
   "execution_count": null,
   "metadata": {},
   "outputs": [],
   "source": [
    "if reloadDataFiles:\n",
    "    JK = LoadDrFile(\"JK\")\n",
    "    MT = LoadDrFile(\"MT\")\n",
    "    LW = LoadDrFile(\"LW\")\n",
    "    RA = LoadDrFile(\"RA\")\n",
    "    MS = LoadDrFile(\"MS\")\n",
    "    MN = LoadDrFile(\"MN\")\n",
    "    DH = LoadDrFile(\"DH\")\n",
    "    AE = LoadDrFile(\"AE\")\n",
    "    IW = LoadDrFile(\"IW\")\n",
    "    LYY = LoadDrFile(\"LYY\")"
   ]
  },
  {
   "cell_type": "code",
   "execution_count": null,
   "metadata": {},
   "outputs": [],
   "source": [
    "# if reloadDataFiles:\n",
    "#     print(RA.loc[800, :])"
   ]
  },
  {
   "cell_type": "code",
   "execution_count": null,
   "metadata": {},
   "outputs": [],
   "source": [
    "if reloadDataFiles:\n",
    "    listingOriginalDf = pd.read_csv(f\"{filePath}Listing_2024-11-16.csv\", sep=\";\")\n",
    "    listingDf = listingOriginalDf.loc[:, [\"Pnr\", \"Vårdgivare\"]]\n",
    "    listingDf.head(2)"
   ]
  },
  {
   "cell_type": "code",
   "execution_count": null,
   "metadata": {},
   "outputs": [],
   "source": [
    "def read_tab_separated_file(file_path):\n",
    "    result_dict = {}\n",
    "    \n",
    "    try:\n",
    "        with open(file_path, 'r', encoding='utf-8') as file:\n",
    "            for line in file:\n",
    "                # Ignorera tomma rader\n",
    "                if line.strip():\n",
    "                    key, value = line.strip().split('\\t')\n",
    "                    result_dict[key] = value\n",
    "    except FileNotFoundError:\n",
    "        print(f\"Filen {file_path} kunde inte hittas.\")\n",
    "    except ValueError:\n",
    "        print(\"Fel format i filen. Kontrollera att varje rad innehåller exakt en tab.\")\n",
    "\n",
    "    return result_dict\n"
   ]
  },
  {
   "cell_type": "code",
   "execution_count": null,
   "metadata": {},
   "outputs": [],
   "source": [
    "DrToInitials = read_tab_separated_file(filePath+\"Permanent\\\\DrToInitials_ListingAnalysisOld.txt\")"
   ]
  },
  {
   "cell_type": "code",
   "execution_count": null,
   "metadata": {},
   "outputs": [],
   "source": [
    "if reloadDataFiles:\n",
    "    listingDf.rename(columns={\"Pnr\": \"Personnr\", \"Vårdgivare\": \"Listing\"}, inplace=True)\n",
    "    listingDf[\"Listing\"] = listingDf[\"Listing\"].apply(lambda name: DrToInitials[name] )\n",
    "    listingDf.head()"
   ]
  },
  {
   "cell_type": "code",
   "execution_count": null,
   "metadata": {},
   "outputs": [],
   "source": [
    "if reloadDataFiles:\n",
    "    listingDict = dict(zip(listingDf[\"Personnr\"], listingDf[\"Listing\"]))"
   ]
  },
  {
   "cell_type": "markdown",
   "metadata": {},
   "source": [
    "## Lägg ihop alla besök med listad läkar som egen kolumn"
   ]
  },
  {
   "cell_type": "code",
   "execution_count": null,
   "metadata": {},
   "outputs": [],
   "source": [
    "if reloadDataFiles:\n",
    "    allContacts = JK.append(MT, ignore_index=True)\n",
    "    allContacts = allContacts.append(LW, ignore_index=True)\n",
    "    allContacts = allContacts.append(RA, ignore_index=True)\n",
    "    allContacts = allContacts.append(MS, ignore_index=True)\n",
    "    allContacts = allContacts.append(MN, ignore_index=True)\n",
    "    allContacts = allContacts.append(DH, ignore_index=True)\n",
    "    allContacts = allContacts.append(AE, ignore_index=True)\n",
    "    allContacts = allContacts.append(LYY, ignore_index=True)\n",
    "    allContacts = allContacts.append(IW, ignore_index=True)\n",
    "\n",
    "allContacts = allContacts.copy()"
   ]
  },
  {
   "cell_type": "code",
   "execution_count": null,
   "metadata": {},
   "outputs": [],
   "source": [
    "if reloadDataFiles:\n",
    "    allContacts[\"Personnr\"] = allContacts[\"Personnr\"].str.replace(r\"(\\d{8})(\\w{4})\", r\"\\1-\\2\")"
   ]
  },
  {
   "cell_type": "code",
   "execution_count": null,
   "metadata": {},
   "outputs": [],
   "source": [
    "if reloadDataFiles:\n",
    "    print(set(allContacts[\"Variabelnamn i M4\"]))"
   ]
  },
  {
   "cell_type": "code",
   "execution_count": null,
   "metadata": {},
   "outputs": [],
   "source": [
    "visitTypeDict = {\n",
    "    'Indirekt kontakt': \"adm\",\n",
    "    'Planerade mottagningsbesök': \"visit\",\n",
    "    'Planerat hembesök': \"visit\",\n",
    "    'Telefon': \"tel\"\n",
    "}"
   ]
  },
  {
   "cell_type": "code",
   "execution_count": null,
   "metadata": {},
   "outputs": [],
   "source": [
    "if reloadDataFiles:\n",
    "    allContacts.rename(columns = {\"Variabelnamn i M4\" : \"VisitType\"}, inplace=True)\n",
    "    allContacts[\"VisitType\"] = allContacts[\"VisitType\"].apply(lambda x: visitTypeDict[x])\n",
    "#     print(allContacts.head(1))"
   ]
  },
  {
   "cell_type": "code",
   "execution_count": null,
   "metadata": {},
   "outputs": [],
   "source": [
    "def checkListing(personnr):\n",
    "    if not personnr in listingDict:\n",
    "        return \"unknown\"\n",
    "    \n",
    "    return listingDict[personnr]"
   ]
  },
  {
   "cell_type": "code",
   "execution_count": null,
   "metadata": {},
   "outputs": [],
   "source": [
    "if reloadDataFiles:\n",
    "    allContacts[\"Listing\"] = allContacts[\"Personnr\"].apply( checkListing )"
   ]
  },
  {
   "cell_type": "code",
   "execution_count": null,
   "metadata": {},
   "outputs": [],
   "source": [
    "if reloadDataFiles:\n",
    "    allContacts.to_excel(f\"{filePath}allContacts.xlsx\", index=False)\n",
    "else:\n",
    "    allContacts = pd.read_excel(f\"{filePath}allContacts.xlsx\")\n",
    "    allContacts.drop(columns=[\"Unnamed: 0\", \"Unnamed: 0.1\"], inplace=True)"
   ]
  },
  {
   "cell_type": "code",
   "execution_count": null,
   "metadata": {},
   "outputs": [],
   "source": [
    "if reloadDataFiles:\n",
    "    listingDf[\"Visits (n)\"] = listingDf[\"Personnr\"].apply(\n",
    "        lambda personnr: len(allContacts.loc[ \n",
    "            (allContacts[\"Personnr\"] == personnr) & \n",
    "            (allContacts[\"VisitType\"] == \"visit\")].index))\n",
    "\n",
    "    listingDf[\"Tel (n)\"] = listingDf[\"Personnr\"].apply(\n",
    "        lambda personnr: len(allContacts.loc[ \n",
    "            (allContacts[\"Personnr\"] == personnr) & \n",
    "            (allContacts[\"VisitType\"] == \"tel\")].index))\n",
    "\n",
    "    listingDf[\"Adm (n)\"] = listingDf[\"Personnr\"].apply(\n",
    "        lambda personnr: len(allContacts.loc[ \n",
    "            (allContacts[\"Personnr\"] == personnr) & \n",
    "            (allContacts[\"VisitType\"] == \"adm\")].index))\n",
    "    \n",
    "    listingDf.to_excel(f\"{filePath}listingDf.xlsx\")\n",
    "else:\n",
    "    listingDf = pd.read_excel(f\"{filePath}listingDf.xlsx\")\n",
    "    listingDf.drop(columns=[\"Unnamed: 0\"], inplace=True)"
   ]
  },
  {
   "cell_type": "markdown",
   "metadata": {},
   "source": [
    "### Lägg till antalet besök per listad pat i listingDf"
   ]
  },
  {
   "cell_type": "code",
   "execution_count": null,
   "metadata": {},
   "outputs": [],
   "source": [
    "listingDf.loc[:, [\"Listing\", \"Visits (n)\", \"Tel (n)\", \"Adm (n)\"]].head(2)"
   ]
  },
  {
   "cell_type": "code",
   "execution_count": null,
   "metadata": {},
   "outputs": [],
   "source": [
    "unlistedDf = listingDf.loc[ listingDf[\"Listing\"] == \"HC\" ]\n",
    "print(len(unlistedDf.index))\n"
   ]
  },
  {
   "cell_type": "code",
   "execution_count": null,
   "metadata": {},
   "outputs": [],
   "source": [
    "#allContacts.loc[ allContacts[\"Personnr\"] == \"some_nr\" ]"
   ]
  },
  {
   "cell_type": "markdown",
   "metadata": {},
   "source": [
    "## Filtrera bort patienter som redan är listade"
   ]
  },
  {
   "cell_type": "code",
   "execution_count": null,
   "metadata": {},
   "outputs": [],
   "source": [
    "unlistedContacts = allContacts.loc[ allContacts[\"Listing\"] == \"HC\" ]"
   ]
  },
  {
   "cell_type": "code",
   "execution_count": null,
   "metadata": {},
   "outputs": [],
   "source": [
    "unlistedContacts.to_excel(f\"{filePath}unlistedContacts.xlsx\")"
   ]
  },
  {
   "cell_type": "code",
   "execution_count": null,
   "metadata": {},
   "outputs": [],
   "source": [
    "len(set(unlistedContacts.loc[:,\"Personnr\"]))"
   ]
  },
  {
   "cell_type": "markdown",
   "metadata": {},
   "source": [
    "## Ta fram inaktiva patienter (listad på HC som ej haft besök sista åren)"
   ]
  },
  {
   "cell_type": "code",
   "execution_count": null,
   "metadata": {},
   "outputs": [],
   "source": [
    "hasVisitSet = set( allContacts.loc[ allContacts[\"VisitType\"] == \"visit\" ].loc[ : , \"Personnr\"] )"
   ]
  },
  {
   "cell_type": "code",
   "execution_count": null,
   "metadata": {},
   "outputs": [],
   "source": [
    "print(f\"There were {len(allContacts.index)} contacts in total.\")\n",
    "print(f\"There were {len(allContacts.loc[ (allContacts['Listing'] == 'HC') ].index)} contacts from unlisted patients.\")\n",
    "unlistedHasContactSet = set( allContacts.loc[ (allContacts[\"Listing\"] == \"HC\") ].loc[ : , \"Personnr\"] )\n",
    "print(f\"{len(unlistedHasContactSet)} unlisted patients had som form of contact.\")\n",
    "unlistedHasVisitSet = set( allContacts.loc[ (allContacts[\"Listing\"] == \"HC\") & (allContacts[\"VisitType\"] == \"visit\") ].loc[ : , \"Personnr\"] )\n",
    "print(f\"{len(unlistedHasVisitSet)} unlisted patients had a physical visit.\")\n",
    "unlistedHasTelSet = set( allContacts.loc[ (allContacts[\"Listing\"] == \"HC\") & (allContacts[\"VisitType\"] == \"tel\") ].loc[ : , \"Personnr\"] )\n",
    "print(f\"{len(unlistedHasTelSet)} unlisted patients had a tel appointment.\")"
   ]
  },
  {
   "cell_type": "code",
   "execution_count": null,
   "metadata": {},
   "outputs": [],
   "source": [
    "print(f\"There are {len(listingDf.loc[ listingDf['Listing'] == 'HC' ].index)} unlisted patients in total\")"
   ]
  },
  {
   "cell_type": "code",
   "execution_count": null,
   "metadata": {},
   "outputs": [],
   "source": [
    "unlistedNoContactSet = listingDf.loc[ (listingDf[\"Listing\"] == \"HC\") & ~(listingDf[\"Personnr\"].isin(unlistedHasContactSet)) ]\n",
    "#print(unlistedNoContactSet[:5])\n",
    "print(len(unlistedNoContactSet))"
   ]
  },
  {
   "cell_type": "code",
   "execution_count": null,
   "metadata": {},
   "outputs": [],
   "source": [
    "unlistedNoContactDf = unlistedDf.loc[ ~(unlistedDf[\"Personnr\"].isin(unlistedHasContactSet)) ]\n",
    "unlistedNoContactDf = unlistedNoContactDf.copy()\n",
    "print(len(unlistedNoContactDf.index))\n",
    "unlistedNoContactDf.loc[: , [\"Listing\", \"Visits (n)\", \"Tel (n)\", \"Adm (n)\"]].tail(3)"
   ]
  },
  {
   "cell_type": "markdown",
   "metadata": {},
   "source": [
    "# Beräkningar"
   ]
  },
  {
   "cell_type": "markdown",
   "metadata": {},
   "source": [
    "#### Använd:\n",
    "* unlistedContacts - DF med alla olistade patienter som haft besök\n",
    "* unlistedNoContactDf - DF med patienter som är olistade och inte har haft några kontakter\n",
    "* unlistedContactsDf - DF med alla kontakter med olistade patienter\n",
    "* unlistedHasContactSet - set med alla olistade patienter som har en kontakt"
   ]
  },
  {
   "cell_type": "markdown",
   "metadata": {},
   "source": [
    "### Patient to visits per doctor df"
   ]
  },
  {
   "cell_type": "code",
   "execution_count": null,
   "metadata": {},
   "outputs": [],
   "source": [
    "initialsList = [\"MT\", \"JK\", \"LW\", \"QR\", \"MS\", \"MN\", \"RA\"]\n",
    "visitTypes = [\"visit\", \"tel\", \"adm\"]"
   ]
  },
  {
   "cell_type": "code",
   "execution_count": null,
   "metadata": {},
   "outputs": [],
   "source": [
    "countAndScoreColNames = []\n",
    "for initials in initialsList:\n",
    "    for visitType in visitTypes:\n",
    "        countAndScoreColNames.append(f\"{initials}_{visitType}\")\n",
    "        countAndScoreColNames.append(f\"{initials}_{visitType}_score\")\n",
    "    countAndScoreColNames.append(f\"{initials}_score\")\n",
    "countAndScoreColNames.append(f\"total_score\")\n",
    "countAndScoreColNames"
   ]
  },
  {
   "cell_type": "code",
   "execution_count": null,
   "metadata": {},
   "outputs": [],
   "source": [
    "def countPatientsContactsWithDr(personnr, initials, visitType):\n",
    "    return len(unlistedContacts.loc[ (unlistedContacts[\"Personnr\"] == personnr) & \n",
    "                                   (unlistedContacts[\"Initials\"] == initials) &\n",
    "                                   (unlistedContacts[\"VisitType\"] == visitType)].index)"
   ]
  },
  {
   "cell_type": "markdown",
   "metadata": {},
   "source": [
    "#### Vikta besöken efter hur längesen de skedde."
   ]
  },
  {
   "cell_type": "code",
   "execution_count": null,
   "metadata": {},
   "outputs": [],
   "source": [
    "# Weight factor where a visit which happened just now is worth 2 points\n",
    "# one which happened 1 year ago 1.5 points\n",
    "# and a bit less than 2 years ago 1 point.\n",
    "\n",
    "def weightFactorFromDate(dateString):\n",
    "    date = datetime.strptime(dateString, '%Y-%m-%d')\n",
    "    originDate = datetime.strptime(\"2022-04-30\", '%Y-%m-%d')\n",
    "    dateDiff = (originDate - date).days\n",
    "    return 2 - (dateDiff/650)\n",
    "    \n",
    "print(weightFactorFromDate(\"2022-04-30\"))\n",
    "print(weightFactorFromDate(\"2021-10-30\"))\n",
    "print(weightFactorFromDate(\"2021-04-30\"))\n",
    "print(weightFactorFromDate(\"2020-10-30\"))\n",
    "print(weightFactorFromDate(\"2020-07-30\"))\n",
    "print(weightFactorFromDate(\"2020-07-7\"))\n",
    "\n",
    "visitTypeWeightDict = {\n",
    "    \"visit\": 1,\n",
    "    \"tel\": 0.35,\n",
    "    \"adm\": 0.2,\n",
    "}"
   ]
  },
  {
   "cell_type": "code",
   "execution_count": null,
   "metadata": {},
   "outputs": [],
   "source": [
    "def calculateRowScore(row):\n",
    "    dateWeightFactor = weightFactorFromDate(row[\"Besöksdatum\"])\n",
    "    return visitTypeWeightDict[ row[\"VisitType\"] ] * dateWeightFactor\n",
    "\n",
    "testRow = unlistedContacts.loc[ list(unlistedContacts.index)[1200] , :]\n",
    "pprint(testRow.loc[list(set(testRow.index) - set([\"Personnr\"]))])\n",
    "print(f\"Score: {calculateRowScore( testRow )}\")"
   ]
  },
  {
   "cell_type": "code",
   "execution_count": null,
   "metadata": {},
   "outputs": [],
   "source": [
    "unlistedContacts[\"rowScore\"] = unlistedContacts.apply(calculateRowScore, axis=1)"
   ]
  },
  {
   "cell_type": "code",
   "execution_count": null,
   "metadata": {},
   "outputs": [],
   "source": [
    "unlistedContacts.loc[:, [\"VisitType\", \"Besöksdatum\", \"Initials\", \"Listing\", \"rowScore\"]].head(2)"
   ]
  },
  {
   "cell_type": "code",
   "execution_count": null,
   "metadata": {},
   "outputs": [],
   "source": [
    "unlistedContacts.columns"
   ]
  },
  {
   "cell_type": "code",
   "execution_count": null,
   "metadata": {},
   "outputs": [],
   "source": [
    "def createPatientRowOfVisitsPerDr(personnr):\n",
    "    patientsIndividualDf = unlistedContacts.loc[ unlistedContacts[\"Personnr\"] == personnr ]\n",
    "    \n",
    "    row = {\"Personnr\": personnr}\n",
    "    totalScore = 0\n",
    "    \n",
    "    for initials in initialsList:\n",
    "        \n",
    "        drIndividualDf = patientsIndividualDf.loc[ patientsIndividualDf[\"Initials\"] == initials ]\n",
    "        \n",
    "        individualScore = 0\n",
    "        \n",
    "        for visitType in visitTypes:\n",
    "            \n",
    "            visitTypeDf = drIndividualDf.loc[ drIndividualDf[\"VisitType\"] == visitType ]\n",
    "            row[f\"{initials}_{visitType}\"] = len( visitTypeDf.index )\n",
    "            score = visitTypeDf[\"rowScore\"].sum()\n",
    "            row[f\"{initials}_{visitType}_score\"] = score\n",
    "            individualScore += score\n",
    "            \n",
    "        row[f\"{initials}_score\"] = individualScore\n",
    "        totalScore += individualScore\n",
    "    row[f\"total_score\"] = totalScore\n",
    "    return row"
   ]
  },
  {
   "cell_type": "code",
   "execution_count": null,
   "metadata": {},
   "outputs": [],
   "source": [
    "patientVisitPerDrList = []\n",
    "limit = -1\n",
    "i = 0\n",
    "for personnr in unlistedHasContactSet:\n",
    "    i += 1\n",
    "    if limit > 0 and i > limit:\n",
    "        break\n",
    "    \n",
    "    patientVisitPerDrList.append(createPatientRowOfVisitsPerDr(personnr))\n",
    "    \n",
    "    \n",
    "unlistedPatientScoreDf = pd.DataFrame(patientVisitPerDrList, columns=[\"Personnr\"] + countAndScoreColNames)\n",
    "unlistedPatientScoreDf.loc[:, countAndScoreColNames].head()"
   ]
  },
  {
   "cell_type": "code",
   "execution_count": null,
   "metadata": {},
   "outputs": [],
   "source": [
    "def countDrAmountOfPatientsForEachVisitAmount(initials):\n",
    "    counter = Counter(unlistedPatientScoreDf[f\"{initials}_visit\"])\n",
    "    return dict(counter)\n",
    "    #return sorted(counter.items())"
   ]
  },
  {
   "cell_type": "code",
   "execution_count": null,
   "metadata": {},
   "outputs": [],
   "source": [
    "unlistedVisistsPerDrDict = {}\n",
    "for initials in initialsList:\n",
    "    unlistedVisistsPerDrDict[initials] = countDrAmountOfPatientsForEachVisitAmount(initials)\n",
    "    \n",
    "unlistedVisistsPerDrDict"
   ]
  },
  {
   "cell_type": "code",
   "execution_count": null,
   "metadata": {},
   "outputs": [],
   "source": [
    "unlistedVisistsPerDrList = []\n",
    "for i in range(6):\n",
    "    #row = {\"Visits (n)\": i}\n",
    "    row = {}\n",
    "    for initials in initialsList:\n",
    "        if i in unlistedVisistsPerDrDict[initials]:\n",
    "            row[initials] = unlistedVisistsPerDrDict[initials][i]\n",
    "        else:\n",
    "            row[initials] = 0\n",
    "    unlistedVisistsPerDrList.append(row)\n",
    "    \n",
    "unlistedVisistsPerDrDf = pd.DataFrame(unlistedVisistsPerDrList, columns=initialsList)\n",
    "unlistedVisistsPerDrDf"
   ]
  },
  {
   "cell_type": "markdown",
   "metadata": {},
   "source": [
    "### Extremt aktiva till JK och MT"
   ]
  },
  {
   "cell_type": "code",
   "execution_count": null,
   "metadata": {},
   "outputs": [],
   "source": [
    "print(\"Histogram of total score\")\n",
    "unlistedPatientScoreDf.loc[:, \"total_score\"].hist()"
   ]
  },
  {
   "cell_type": "markdown",
   "metadata": {},
   "source": [
    "### Most active patients"
   ]
  },
  {
   "cell_type": "code",
   "execution_count": null,
   "metadata": {},
   "outputs": [],
   "source": [
    "def ageFromPersonnr(personnrStr):\n",
    "    match = re.search(r\"(\\d{4})\", personnrStr)\n",
    "    year = int(match[1])\n",
    "    return 2022 - year\n",
    "    \n",
    "ageFromPersonnr(\"19870323-abcd\")"
   ]
  },
  {
   "cell_type": "code",
   "execution_count": null,
   "metadata": {},
   "outputs": [],
   "source": [
    "ageAndScoreDf = unlistedPatientScoreDf.loc[:, [\"Personnr\", \"total_score\"]].copy()"
   ]
  },
  {
   "cell_type": "code",
   "execution_count": null,
   "metadata": {},
   "outputs": [],
   "source": [
    "ageAndScoreDf[\"age\"] = ageAndScoreDf[\"Personnr\"].apply(ageFromPersonnr)"
   ]
  },
  {
   "cell_type": "markdown",
   "metadata": {},
   "source": [
    "## Age distribution of patients"
   ]
  },
  {
   "cell_type": "code",
   "execution_count": null,
   "metadata": {},
   "outputs": [],
   "source": [
    "ageAndScoreDf[\"age\"].hist()"
   ]
  },
  {
   "cell_type": "markdown",
   "metadata": {},
   "source": [
    "### Contact score per age"
   ]
  },
  {
   "cell_type": "code",
   "execution_count": null,
   "metadata": {},
   "outputs": [],
   "source": [
    "test = np.array([1,0,0,0.25])\n",
    "test.reshape(1, -1)\n",
    "ageAndScoreDf.plot.scatter(x=\"age\", y=\"total_score\", c=test )"
   ]
  },
  {
   "cell_type": "code",
   "execution_count": null,
   "metadata": {},
   "outputs": [],
   "source": [
    "scoreLimitForHeavy = 5\n",
    "unlistedHeavySet = set( unlistedPatientScoreDf.loc[ unlistedPatientScoreDf[\"total_score\"] >= scoreLimitForHeavy ].loc[ : ,\"Personnr\"] )\n",
    "heavyN = len(unlistedHeavySet)\n",
    "unlistedN = len(unlistedDf.index)\n",
    "print(f\"Heavy ({heavyN}) / unlisted {unlistedN} = {100 * heavyN / unlistedN} %\")"
   ]
  },
  {
   "cell_type": "markdown",
   "metadata": {},
   "source": [
    "#### Extremely active to JK & MT"
   ]
  },
  {
   "cell_type": "code",
   "execution_count": null,
   "metadata": {},
   "outputs": [],
   "source": [
    "def GetExtremelyActiveForDr(initials, scoreLimit, otherAllowedFraction):\n",
    "    resultDf = unlistedPatientScoreDf.loc[ (unlistedPatientScoreDf[f\"{initials}_score\"] > scoreLimit) |\n",
    "                                           (unlistedPatientScoreDf[f\"{initials}_visit\"] >= 3) ]\n",
    "\n",
    "    otherInitialsList = [\"RA\", \"QR\", \"MS\", \"MN\", \"LW\"]\n",
    "\n",
    "    for otherInitials in otherInitialsList:\n",
    "        resultDf = resultDf.loc[ resultDf[f\"{otherInitials}_score\"] < resultDf[f\"{initials}_score\"] * otherAllowedFraction ]\n",
    "\n",
    "    return resultDf.loc[:, [\n",
    "                 'Personnr',\n",
    "                 f'{initials}_visit',\n",
    "                 f'{initials}_visit_score',\n",
    "                 f'{initials}_tel',\n",
    "                 f'{initials}_tel_score',\n",
    "                 f'{initials}_adm',\n",
    "                 f'{initials}_adm_score',\n",
    "                 f'{initials}_score',\n",
    "                 'total_score',]]"
   ]
  },
  {
   "cell_type": "code",
   "execution_count": null,
   "metadata": {},
   "outputs": [],
   "source": [
    "extremelyActiveJK = GetExtremelyActiveForDr(\"JK\", 3, 0.4)"
   ]
  },
  {
   "cell_type": "code",
   "execution_count": null,
   "metadata": {},
   "outputs": [],
   "source": [
    "extremelyActiveMT = GetExtremelyActiveForDr(\"MT\", 3, 0.4)"
   ]
  },
  {
   "cell_type": "markdown",
   "metadata": {},
   "source": [
    "### Patients with contacts but no visits?"
   ]
  },
  {
   "cell_type": "code",
   "execution_count": null,
   "metadata": {},
   "outputs": [],
   "source": [
    "unlistedContactNoVisitDf = unlistedDf.loc[ (unlistedDf[\"Visits (n)\"] == 0) & ((unlistedDf[\"Tel (n)\"] > 0) | (unlistedDf[\"Adm (n)\"] > 0)) ]\n",
    "print(len(unlistedContactNoVisitDf))\n",
    "unlistedContactNoVisitDf.loc[:, [\"Listing\", \"Visits (n)\", \"Tel (n)\", \"Adm (n)\"]].head()"
   ]
  },
  {
   "cell_type": "markdown",
   "metadata": {},
   "source": [
    "## Calculate target amount of listings per dr except for MT and JK"
   ]
  },
  {
   "cell_type": "markdown",
   "metadata": {},
   "source": [
    "#### First, calculate current amount of listed patients and how many of those are actively seeking care"
   ]
  },
  {
   "cell_type": "code",
   "execution_count": null,
   "metadata": {},
   "outputs": [],
   "source": [
    "listingDf.loc[:, [\"Listing\", \"Visits (n)\", \"Tel (n)\", \"Adm (n)\"]].head(2)"
   ]
  },
  {
   "cell_type": "code",
   "execution_count": null,
   "metadata": {},
   "outputs": [],
   "source": [
    "def getAmountsListedPerDr(minVisits):\n",
    "    amountListedPerDr = {}\n",
    "    for initials in initialsList:\n",
    "        amount = len(listingDf.loc[ (listingDf[\"Listing\"] == initials) &\n",
    "                                            (listingDf[\"Visits (n)\"] >= minVisits) ].index)\n",
    "        amountListedPerDr[initials] = amount\n",
    "        \n",
    "    return amountListedPerDr\n",
    "    "
   ]
  },
  {
   "cell_type": "code",
   "execution_count": null,
   "metadata": {},
   "outputs": [],
   "source": [
    "print(getAmountsListedPerDr(0))"
   ]
  },
  {
   "cell_type": "markdown",
   "metadata": {},
   "source": [
    "### For each patient, determine which dr it should go to:\n",
    "* Never JK or MT\n",
    "* The one with the highets score.\n",
    "* Adjusted by a factor for each dr to try to reach the target amount"
   ]
  },
  {
   "cell_type": "code",
   "execution_count": null,
   "metadata": {},
   "outputs": [],
   "source": [
    "print(f\"Unlisted with som contact {len(unlistedHasContactSet)} and with a visit {len(unlistedHasVisitSet)}\");"
   ]
  },
  {
   "cell_type": "markdown",
   "metadata": {},
   "source": [
    "## How many do we have space to list and how many do we need to enlist?"
   ]
  },
  {
   "cell_type": "code",
   "execution_count": null,
   "metadata": {},
   "outputs": [],
   "source": [
    "onePlusVisitPatienAmount = len(unlistedDf.loc[ unlistedDf[\"Visits (n)\"] >= 1 ].index)\n",
    "twoPlusVisitPatienAmount = len(unlistedDf.loc[ unlistedDf[\"Visits (n)\"] >= 2 ].index)\n",
    "print(f\"Totalt antal olistade patienter som sökt 1+ gånger sedan 2021-07: {onePlusVisitPatienAmount}\")\n",
    "print(f\"Totalt antal olistade patienter som sökt 2+ gånger sedan 2021-07: {twoPlusVisitPatienAmount}\")"
   ]
  },
  {
   "cell_type": "code",
   "execution_count": null,
   "metadata": {},
   "outputs": [],
   "source": [
    "def showListingInfo(initialsToShowList, expectedAmountListedPerDr, total):\n",
    "    for initials in initialsToShowList:\n",
    "        value = expectedAmountListedPerDr - tempDict[initials]\n",
    "        print (f\"{initials} har listat {tempDict[initials]}/{expectedAmountListedPerDr}. Återstår att lista: {value}\")\n",
    "        data = {}\n",
    "        data[\"currentlyListed\"] = tempDict[initials]\n",
    "        data[\"expected\"] = expectedAmountListedPerDr\n",
    "        data[\"slotsLeft\"] = value\n",
    "        openSlotsPerDr[initials] = data\n",
    "        total[\"counter\"] += value\n",
    "        total[\"places\"] += expectedAmountListedPerDr"
   ]
  },
  {
   "cell_type": "code",
   "execution_count": null,
   "metadata": {},
   "outputs": [],
   "source": [
    "openSlotsPerDr = {}\n",
    "tempDict = getAmountsListedPerDr(0)\n",
    "total = {\"counter\": 0, \"places\": 0}\n",
    "\n",
    "showListingInfo([\"MS\", \"MN\", \"RA\"], 500, total)\n",
    "showListingInfo([\"MT\", \"JK\", \"LW\", \"QR\"], 1000, total)\n",
    "    \n",
    "print(f\"Total finns plats att lista {total['counter']} patienter\")"
   ]
  },
  {
   "cell_type": "code",
   "execution_count": null,
   "metadata": {},
   "outputs": [],
   "source": [
    "freeSpaces = total['counter']\n",
    "expectedTotalListings = total[\"places\"]\n",
    "totalUnlisted = len(unlistedDf.index)\n",
    "totalListed = len(listingDf.loc[ listingDf[\"Listing\"] != \"HC\" ].index)\n",
    "totalPat = len(listingDf.index)\n",
    "\n",
    "print(f\"\"\"\n",
    "Totalt antal patienter listade på enheten: {totalPat}\n",
    "Totalt antal läkar-listade patienter: {totalListed}\n",
    "Totalt antal läkar-olistade patienter: {totalUnlisted}\n",
    "Andelen listade: {100*totalListed/totalPat:.0f} %\n",
    "Antal som behöver listas 75 %: {0.75*totalPat - totalListed:.0f}\n",
    "Antal som behöver listas 80 %: {0.8*totalPat - totalListed:.0f}\n",
    "Procent om vi listar {freeSpaces}: {100*(expectedTotalListings)/totalPat:.3f} %\"\"\")\n"
   ]
  },
  {
   "cell_type": "markdown",
   "metadata": {},
   "source": [
    "### Room for active patients:"
   ]
  },
  {
   "cell_type": "code",
   "execution_count": null,
   "metadata": {},
   "outputs": [],
   "source": [
    "openSlotsPerDr"
   ]
  },
  {
   "cell_type": "code",
   "execution_count": null,
   "metadata": {},
   "outputs": [],
   "source": [
    "activePatientsToBeListedN = len(unlistedPatientScoreDf.index)\n",
    "roomForActive = 0\n",
    "\n",
    "for initials in set(initialsList) - set([\"MT\", \"JK\"]):\n",
    "    slotsLeft = openSlotsPerDr[initials][\"slotsLeft\"]\n",
    "    roomForActive += slotsLeft\n",
    "    \n",
    "print(f\"Room for active patient enlisting: {roomForActive}\")\n",
    "print(f\"Amount of active patients: {activePatientsToBeListedN}\")\n",
    "print(f\"Amount of nonactive patients to be divided between other than MT and JK:{roomForActive - activePatientsToBeListedN}\")\n",
    "print(f\"Per 1000 pat dr:{2 * (roomForActive - activePatientsToBeListedN) / 7:.0f} and per 500 pat dr: {(roomForActive - activePatientsToBeListedN) / 7:.0f}\")"
   ]
  },
  {
   "cell_type": "code",
   "execution_count": null,
   "metadata": {},
   "outputs": [],
   "source": [
    "stInactiveN = 22\n",
    "specialistInactiveN = 43"
   ]
  },
  {
   "cell_type": "code",
   "execution_count": null,
   "metadata": {},
   "outputs": [],
   "source": [
    "unlistedPatientScoreDf.sort_values(by=\"total_score\", ascending=False, inplace=True)"
   ]
  },
  {
   "cell_type": "markdown",
   "metadata": {},
   "source": [
    "# Move patients from unlisted to enlisting"
   ]
  },
  {
   "cell_type": "code",
   "execution_count": null,
   "metadata": {},
   "outputs": [],
   "source": [
    "def printCurrentStats():\n",
    "    print(  f\"\"\"Unlisted left: {len(totalUnlistedLeftSet)}\n",
    "Active unlisted left: {len(activeUnlistedLeftDf.index)}\n",
    "Inactive unlisted left: {len(inactiveUnlistedLeftSet)}\n",
    "Enlisting: {len(enlistingDf.index)}\"\"\")\n",
    "    for initials in initialsList:\n",
    "        print(f\"Enlisting ({initials}): {len(enlistingDf.loc[ enlistingDf['TargetDr']  == initials ])}\")"
   ]
  },
  {
   "cell_type": "code",
   "execution_count": null,
   "metadata": {},
   "outputs": [],
   "source": [
    "def removePatientSetFromRemaining(removalSet):\n",
    "    global activeUnlistedLeftDf, totalUnlistedLeftSet, inactiveUnlistedLeftSet\n",
    "    totalUnlistedLeftSet -= removalSet\n",
    "    if removalSet.issubset(inactiveUnlistedLeftSet):\n",
    "        inactiveUnlistedLeftSet -= removalSet\n",
    "    if removalSet.issubset(set(activeUnlistedLeftDf.index)):\n",
    "        activeUnlistedLeftDf = activeUnlistedLeftDf.loc[ set(activeUnlistedLeftDf.index) - removalSet, : ]"
   ]
  },
  {
   "cell_type": "code",
   "execution_count": null,
   "metadata": {},
   "outputs": [],
   "source": [
    "# def removePatientFromRemaining(personnrStr):\n",
    "#     totalUnlistedLeftSet.remove(personnrStr)\n",
    "#     if personnrStr in inactiveUnlistedLeftSet:\n",
    "#         inactiveUnlistedLeftSet.remove(personnrStr)\n",
    "#     if personnrStr in activeUnlistedLeftDf.index:\n",
    "#         activeUnlistedLeftDf.drop(personnrStr, inplace=True)"
   ]
  },
  {
   "cell_type": "code",
   "execution_count": null,
   "metadata": {},
   "outputs": [],
   "source": [
    "def performEnlisting(initials, enlistingSet):\n",
    "    global enlistingDf\n",
    "    for personnr in enlistingSet:\n",
    "        row = scoreDf.loc[personnr, :]\n",
    "        row[\"TargetDr\"] = initials\n",
    "        enlistingDf = enlistingDf.append(row)\n",
    "    removePatientSetFromRemaining(enlistingSet)"
   ]
  },
  {
   "cell_type": "markdown",
   "metadata": {},
   "source": [
    "## Start with active patients\n",
    "<img src=\"https://c8.alamy.com/comp/2FWKCW4/math-formulas-mathematical-formulas-on-green-school-chalkboard-handwritten-scientific-math-equations-theories-or-calculations-vector-background-algebra-and-geometry-education-concept-2FWKCW4.jpg\" style=\"max-height:300px\">"
   ]
  },
  {
   "cell_type": "code",
   "execution_count": null,
   "metadata": {},
   "outputs": [],
   "source": [
    "scoreDf = unlistedPatientScoreDf.set_index(\"Personnr\")\n",
    "totalUnlistedLeftSet = set(unlistedDf[\"Personnr\"])\n",
    "inactiveUnlistedLeftSet = set(unlistedNoContactDf[\"Personnr\"])\n",
    "activeUnlistedLeftDf = scoreDf.copy().sample(frac=1)\n",
    "enlistingDf = pd.DataFrame(columns = list(unlistedPatientScoreDf.columns) + [\"TargetDr\"])\n",
    "printCurrentStats()\n",
    "\n",
    "# disable chained assignments\n",
    "pd.options.mode.chained_assignment = None "
   ]
  },
  {
   "cell_type": "markdown",
   "metadata": {},
   "source": [
    "### Move patients designated for JK and MT first"
   ]
  },
  {
   "cell_type": "code",
   "execution_count": null,
   "metadata": {},
   "outputs": [],
   "source": [
    "performEnlisting(\"JK\", set(extremelyActiveJK[\"Personnr\"]))\n",
    "printCurrentStats()"
   ]
  },
  {
   "cell_type": "code",
   "execution_count": null,
   "metadata": {},
   "outputs": [],
   "source": [
    "performEnlisting(\"MT\", set(extremelyActiveMT[\"Personnr\"]))\n",
    "printCurrentStats()"
   ]
  },
  {
   "cell_type": "markdown",
   "metadata": {},
   "source": [
    "## Then active patients to others"
   ]
  },
  {
   "cell_type": "code",
   "execution_count": null,
   "metadata": {},
   "outputs": [],
   "source": [
    "for initials in set(initialsList) - {\"MT\", \"JK\"}:\n",
    "    entry = openSlotsPerDr[initials]\n",
    "    inactiveN = stInactiveN if entry[\"expected\"] == 500 else specialistInactiveN\n",
    "    if initials == \"MS\":\n",
    "        inactiveN = 0\n",
    "    entry[\"targetNewActive\"] = entry[\"slotsLeft\"] - inactiveN\n",
    "    \n",
    "openSlotsPerDr"
   ]
  },
  {
   "cell_type": "code",
   "execution_count": null,
   "metadata": {},
   "outputs": [],
   "source": [
    "orderToEnlistDrs = pd.DataFrame(columns=[\"Initials\", \"TargetNewActive\"])"
   ]
  },
  {
   "cell_type": "code",
   "execution_count": null,
   "metadata": {},
   "outputs": [],
   "source": [
    "orderToEnlistDrsList = []\n",
    "for key, entry in openSlotsPerDr.items():\n",
    "    if key not in [\"MT\", \"JK\"]:\n",
    "        row = {\"Initials\": key, \"TargetNewActive\": entry[\"targetNewActive\"]}\n",
    "        orderToEnlistDrsList.append(row)\n",
    "    \n",
    "orderToEnlistDrsDf = pd.DataFrame(orderToEnlistDrsList)\n",
    "orderToEnlistDrsDf.sort_values(\"TargetNewActive\", inplace=True)\n",
    "orderToEnlistDrsList = orderToEnlistDrsDf.values.tolist()\n",
    "orderToEnlistDrsList = [entry[0] for entry in orderToEnlistDrsList]\n",
    "orderToEnlistDrsList"
   ]
  },
  {
   "cell_type": "code",
   "execution_count": null,
   "metadata": {},
   "outputs": [],
   "source": [
    "def evaluatePatientForDr(personnr, row, initials, factor, priorityOthers, debug):\n",
    "    maxOtherScore = 0\n",
    "    maxOtherInitials = \"<none>\"\n",
    "    priorityOthers = set(priorityOthers)\n",
    "    \n",
    "    for otherInitials in (set(initialsList) - set({initials})):\n",
    "        otherScore = row[f\"{otherInitials}_score\"]\n",
    "        ownScore = row[f\"{initials}_score\"]\n",
    "        marginFactor = 0.01\n",
    "        ownScoreFactored = ownScore + factor\n",
    "        priorityStr = \"\"\n",
    "        priorityStr2 = \"\"\n",
    "        \n",
    "        if otherScore > 0.05 and otherInitials in priorityOthers:\n",
    "            marginFactor = -0.01\n",
    "            ownScoreFactored = ownScore + factor / 5\n",
    "            priorityStr = \"PRIORITY: \"\n",
    "            priorityStr2 = \"(DESPITE OF PRIORITY) \"\n",
    "        \n",
    "        if otherScore >= ownScoreFactored + marginFactor:\n",
    "            if debug:\n",
    "                print(f\"{priorityStr}{otherInitials}_score ({otherScore}) > {initials}_score ({ownScore}) + {factor} ({ownScoreFactored})\")\n",
    "            return False\n",
    "        \n",
    "        if otherScore > maxOtherScore:\n",
    "            maxOtherInitials = otherInitials\n",
    "            maxOtherScore = otherScore\n",
    "        \n",
    "    if debug:\n",
    "        print (f\"Max other score was {priorityStr2}{maxOtherInitials} ({maxOtherScore}) < {initials}_score ({ownScore}) + {factor} ({ownScoreFactored})\")\n",
    "    return True"
   ]
  },
  {
   "cell_type": "code",
   "execution_count": null,
   "metadata": {},
   "outputs": [],
   "source": [
    "def calculateEnlistingForDr(initials, amount, priorityOthers, simplifyFactor, debug):\n",
    "    targetNewActive = amount # openSlotsPerDr[initials][\"targetNewActive\"]\n",
    "    activeUnlistedLeftDf.sort_values(by=f\"{initials}_score\", ascending=False, inplace=True)\n",
    "\n",
    "    enlistedCounter = 0\n",
    "    safety = 0\n",
    "    safetyLimit = 10\n",
    "    factor = 0\n",
    "    enlistingSet = set()\n",
    "    while enlistedCounter < targetNewActive and safety < safetyLimit:\n",
    "        if debug:\n",
    "            print(\"\\n\\n##############################################\")\n",
    "            print(\"################ NEW ROUND ###################\")\n",
    "            print(\"##############################################\\n\")\n",
    "\n",
    "        for tpl in activeUnlistedLeftDf.iterrows():\n",
    "            personnr = tpl[0]\n",
    "            row = tpl[1]\n",
    "            doEnlist = evaluatePatientForDr(personnr, row, initials, factor + simplifyFactor, priorityOthers, debug)\n",
    "\n",
    "            if doEnlist and personnr in enlistingSet:\n",
    "                if debug:\n",
    "                    print(\"Already enlisted\")\n",
    "            elif doEnlist:\n",
    "                enlistedCounter += 1\n",
    "                enlistingSet.add(personnr)\n",
    "\n",
    "            if enlistedCounter >= targetNewActive:\n",
    "                break\n",
    "\n",
    "        safety += 1\n",
    "        factor += 0.2\n",
    "\n",
    "    if debug:\n",
    "        print(f\"\\Selected {len(enlistingSet)} / {targetNewActive} patients for enlisting\")\n",
    "    \n",
    "    return enlistingSet"
   ]
  },
  {
   "cell_type": "code",
   "execution_count": null,
   "metadata": {},
   "outputs": [],
   "source": [
    "class Enlister:\n",
    "    def __init__(self, initials):\n",
    "        self.initials = initials\n",
    "        self.targetActive = openSlotsPerDr[initials][\"targetNewActive\"]\n",
    "        self.enlistedSoFar = 0\n",
    "        self.isDone = False\n",
    "        self.debug = False\n",
    "        \n",
    "    def enlistN(self, n, simplifyFactor):\n",
    "        amount = n\n",
    "        if self.enlistedSoFar + n > self.targetActive:\n",
    "            amount = self.targetActive - self.enlistedSoFar\n",
    "        \n",
    "        enlistingSet = calculateEnlistingForDr(self.initials, amount, priorityOthers, simplifyFactor, self.debug)\n",
    "        \n",
    "        self.enlistedSoFar += len(enlistingSet)\n",
    "        if (self.enlistedSoFar >= self.targetActive):\n",
    "            self.isDone = True\n",
    "        \n",
    "        performEnlisting(self.initials, enlistingSet)\n",
    "        removePatientSetFromRemaining(enlistingSet)\n",
    "        \n",
    "        return f\"{self.initials}: Enlisted {len(enlistingSet)} => {self.enlistedSoFar} / {self.targetActive}: Done - {self.isDone}\\n\"\n",
    "        \n",
    "    def __str__(self):\n",
    "        return f\"Enlister({self.initials})\"\n",
    "    \n",
    "    def __repr__(self):\n",
    "        return f\"Enlister({self.initials})\""
   ]
  },
  {
   "cell_type": "code",
   "execution_count": null,
   "metadata": {},
   "outputs": [],
   "source": [
    "enlisters = []\n",
    "for initials in orderToEnlistDrsList:\n",
    "    enlister = Enlister(initials)\n",
    "    enlisters.append(enlister)\n",
    "    \n",
    "print(enlisters)"
   ]
  },
  {
   "cell_type": "code",
   "execution_count": null,
   "metadata": {},
   "outputs": [],
   "source": [
    "def checkIfAllDone():\n",
    "    for enlister in enlisters:\n",
    "        if not enlister.isDone:\n",
    "            return False\n",
    "    return True"
   ]
  },
  {
   "cell_type": "code",
   "execution_count": null,
   "metadata": {},
   "outputs": [],
   "source": [
    "def getPriorityOthers():\n",
    "    priorityOthers = set()\n",
    "    for enlister in enlisters:\n",
    "        if not enlister.isDone:\n",
    "            priorityOthers.add(enlister.initials)\n",
    "            \n",
    "    return priorityOthers"
   ]
  },
  {
   "cell_type": "code",
   "execution_count": null,
   "metadata": {},
   "outputs": [],
   "source": [
    "safety = 0\n",
    "safetyLimit = 99\n",
    "remainingLastTime = len(activeUnlistedLeftDf.index)\n",
    "simplifyFactor = 0\n",
    "\n",
    "while len(activeUnlistedLeftDf.index) > 30 and not checkIfAllDone() and safety <= safetyLimit:\n",
    "    safety += 1\n",
    "    remainingNow = len(activeUnlistedLeftDf.index)\n",
    "    if (remainingNow == remainingLastTime):\n",
    "        simplifyFactor += 0.2\n",
    "    \n",
    "    remainingLastTime = remainingNow\n",
    "    \n",
    "    outStr = f\"\\nACTIVE LEFT: {len(activeUnlistedLeftDf.index)}, ENLISTED: {len(enlistingDf.index)}\\n\"\n",
    "    outStr += f\"{getPriorityOthers()}\\n\"\n",
    "    \n",
    "    for enlister in enlisters:\n",
    "        if not enlister.isDone:\n",
    "            priorityOthers = getPriorityOthers()\n",
    "            outStr += enlister.enlistN(20, simplifyFactor)\n",
    "        \n",
    "    print(outStr)\n",
    "        "
   ]
  },
  {
   "cell_type": "code",
   "execution_count": null,
   "metadata": {},
   "outputs": [],
   "source": [
    "toLwDf = activeUnlistedLeftDf.copy()\n",
    "toLwDf.sort_values(by=\"LW_score\", ascending=False, inplace=True)\n",
    "enlistingSet = set(toLwDf.index)\n",
    "toLwDf[\"TargetDr\"] = \"LW\"\n",
    "print(len(enlistingSet))\n",
    "#toLwDf.loc[ list(toLwDf.index)[:2], [\"LW_score\", \"total_score\"] ]"
   ]
  },
  {
   "cell_type": "code",
   "execution_count": null,
   "metadata": {},
   "outputs": [],
   "source": [
    "enlistingDf = enlistingDf.append(toLwDf, sort=False)\n",
    "removePatientSetFromRemaining(enlistingSet)\n",
    "printCurrentStats()"
   ]
  },
  {
   "cell_type": "markdown",
   "metadata": {},
   "source": [
    "## Compare how heavy burden each one gets"
   ]
  },
  {
   "cell_type": "code",
   "execution_count": null,
   "metadata": {},
   "outputs": [],
   "source": [
    "for initials in initialsList:\n",
    "    mean = enlistingDf.loc[ enlistingDf[\"TargetDr\"] == initials ][\"total_score\"].mean()\n",
    "    print(f\"{initials}: {mean}\")"
   ]
  },
  {
   "cell_type": "markdown",
   "metadata": {},
   "source": [
    "# Add the inactive ones at random"
   ]
  },
  {
   "cell_type": "code",
   "execution_count": null,
   "metadata": {},
   "outputs": [],
   "source": [
    "rowTemplate = dict(zip(countAndScoreColNames, [0 for x in countAndScoreColNames]))\n",
    "rowTemplate[\"TargetDr\"] = \"\"\n",
    "rowTemplate[\"Personnr\"] = \"\""
   ]
  },
  {
   "cell_type": "code",
   "execution_count": null,
   "metadata": {},
   "outputs": [],
   "source": [
    "unlistedNoContactDf = unlistedNoContactDf.sample(frac=1) # Shuffle\n",
    "unlistedNoContactList = list(unlistedNoContactDf[\"Personnr\"])"
   ]
  },
  {
   "cell_type": "code",
   "execution_count": null,
   "metadata": {},
   "outputs": [],
   "source": [
    "for initials in initialsList:\n",
    "    entry = openSlotsPerDr[initials]\n",
    "    activeEnlisting = len(enlistingDf.loc[ enlistingDf[\"TargetDr\"] == initials ].index)\n",
    "    entry[\"currentlyEnlisting\"] = activeEnlisting\n",
    "    entry[\"targetInactive\"]  = entry[\"slotsLeft\"] - activeEnlisting\n",
    "    print(f\"targetInactive {initials}: {entry['targetInactive']}\")\n"
   ]
  },
  {
   "cell_type": "code",
   "execution_count": null,
   "metadata": {},
   "outputs": [],
   "source": [
    "def enlistOneInactivePat(initials):\n",
    "    personnr = unlistedNoContactList.pop()\n",
    "    row = dict(rowTemplate)\n",
    "    row[\"TargetDr\"] = initials\n",
    "    series = pd.Series(row)\n",
    "    enlistingDf.loc[personnr, :] = series\n",
    "    return personnr"
   ]
  },
  {
   "cell_type": "code",
   "execution_count": null,
   "metadata": {},
   "outputs": [],
   "source": [
    "for initials in initialsList:\n",
    "    entry = openSlotsPerDr[initials]\n",
    "    removeSet = set()\n",
    "    targetInactive = entry[\"targetInactive\"]\n",
    "    \n",
    "    for i in range(targetInactive):\n",
    "        personnr = enlistOneInactivePat(initials)\n",
    "        removeSet.add(personnr)\n",
    "        \n",
    "    removePatientSetFromRemaining(removeSet)\n",
    "    print(f\"{initials}: Enlisted {len(removeSet)}\")\n",
    "                          \n",
    "#enlistingDf.tail(2)  "
   ]
  },
  {
   "cell_type": "code",
   "execution_count": null,
   "metadata": {},
   "outputs": [],
   "source": [
    "printCurrentStats()"
   ]
  },
  {
   "cell_type": "code",
   "execution_count": null,
   "metadata": {},
   "outputs": [],
   "source": [
    "for initials in initialsList:\n",
    "    entry = openSlotsPerDr[initials]\n",
    "    print(f\"{initials}: {entry['slotsLeft']}\")"
   ]
  },
  {
   "cell_type": "markdown",
   "metadata": {},
   "source": [
    "## Sorting before export"
   ]
  },
  {
   "cell_type": "code",
   "execution_count": null,
   "metadata": {},
   "outputs": [],
   "source": [
    "enlistingDf.sort_values(by=\"total_score\", inplace=True, ascending=False)\n",
    "enlistingDf.sort_values(by=\"TargetDr\", inplace=True)"
   ]
  },
  {
   "cell_type": "code",
   "execution_count": null,
   "metadata": {},
   "outputs": [],
   "source": [
    "outputDf = pd.DataFrame(columns=list(enlistingDf.columns))\n",
    "for initials in initialsList:\n",
    "    outputDf = outputDf.append(enlistingDf.loc[ enlistingDf[\"TargetDr\"] == initials ].sort_values(by=f\"{initials}_score\", ascending=False))"
   ]
  },
  {
   "cell_type": "markdown",
   "metadata": {},
   "source": [
    "# Exporting"
   ]
  },
  {
   "cell_type": "code",
   "execution_count": null,
   "metadata": {},
   "outputs": [],
   "source": [
    "exportColumns = []\n",
    "for initials in initialsList:\n",
    "    exportColumns.append(f\"{initials}_score\")\n",
    "\n",
    "exportColumns.append(\"total_score\")\n",
    "exportColumns.append(\"TargetDr\")\n",
    "exportColumns"
   ]
  },
  {
   "cell_type": "code",
   "execution_count": null,
   "metadata": {},
   "outputs": [],
   "source": [
    "# outputDf.to_excel(f\"{filePath}enlistingDf_allColumns.xlsx\")\n",
    "# outputDf.loc[:, exportColumns].to_excel(f\"{filePath}enlistingDf_simplified.xlsx\")"
   ]
  },
  {
   "cell_type": "markdown",
   "metadata": {},
   "source": [
    "# Kuriosa"
   ]
  },
  {
   "cell_type": "code",
   "execution_count": null,
   "metadata": {},
   "outputs": [],
   "source": [
    "allContactsCalc = allContacts.copy()\n",
    "allContactsCalc[\"rowScore\"] = allContactsCalc.apply(calculateRowScore, axis=1)"
   ]
  },
  {
   "cell_type": "code",
   "execution_count": null,
   "metadata": {},
   "outputs": [],
   "source": [
    "currentListingDict = dict(zip(list(listingDf[\"Personnr\"]), list(listingDf[\"Listing\"])))"
   ]
  },
  {
   "cell_type": "code",
   "execution_count": null,
   "metadata": {},
   "outputs": [],
   "source": [
    "futureListingDict = dict(zip(list(enlistingDf.index), list(enlistingDf[\"TargetDr\"])))"
   ]
  },
  {
   "cell_type": "code",
   "execution_count": null,
   "metadata": {},
   "outputs": [],
   "source": [
    "def getTargetListing(personnr):\n",
    "    if personnr in currentListingDict and currentListingDict[personnr] != \"HC\":\n",
    "        return currentListingDict[personnr]\n",
    "    elif personnr in futureListingDict:\n",
    "        return futureListingDict[personnr]\n",
    "    else:\n",
    "        return \"<unknown>\""
   ]
  },
  {
   "cell_type": "code",
   "execution_count": null,
   "metadata": {},
   "outputs": [],
   "source": [
    "allContactsCalc[\"TargetListing\"] = allContactsCalc[\"Personnr\"].apply(getTargetListing)"
   ]
  },
  {
   "cell_type": "code",
   "execution_count": null,
   "metadata": {},
   "outputs": [],
   "source": [
    "Counter(allContactsCalc[\"TargetListing\"])"
   ]
  },
  {
   "cell_type": "code",
   "execution_count": null,
   "metadata": {},
   "outputs": [],
   "source": [
    "listingDf.columns"
   ]
  },
  {
   "cell_type": "code",
   "execution_count": null,
   "metadata": {},
   "outputs": [],
   "source": [
    "def getTotalAmountOfListed(initials):\n",
    "    fromEnlisting = set(enlistingDf.loc[ enlistingDf[\"TargetDr\"] == initials ].index)\n",
    "    fromListing = set( listingDf.loc[ listingDf[\"Listing\"] == initials ][\"Personnr\"] )\n",
    "    print(f\"fromContacts: {len(fromEnlisting)}, eg. {list(fromEnlisting)[:3]}\")\n",
    "    print(f\"fromListing: {len(fromListing)}, eg. {list(fromListing)[:3]}\")\n",
    "    return len(fromEnlisting.union(fromListing))\n",
    "    \n",
    "getTotalAmountOfListed(\"JK\")"
   ]
  },
  {
   "cell_type": "code",
   "execution_count": null,
   "metadata": {},
   "outputs": [],
   "source": [
    "calc = []\n",
    "for initials in initialsList:\n",
    "    \n",
    "    initials = initials\n",
    "    listedPats = getTotalAmountOfListed(initials)\n",
    "    listedContactsAnyDr = len(allContactsCalc.loc[ (allContactsCalc[\"Listing\"] == initials) ].index)\n",
    "    listedVisitsAnyDr = len(allContactsCalc.loc[ (allContactsCalc[\"Listing\"] == initials) & (allContactsCalc[\"VisitType\"] == \"visit\") ].index)\n",
    "    listedScoreAnyDr = allContactsCalc.loc[ (allContactsCalc[\"Listing\"] == initials) ][\"rowScore\"].sum()\n",
    "    actualVisits = len(allContactsCalc.loc[ (allContactsCalc[\"Initials\"] == initials) & (allContactsCalc[\"VisitType\"] == \"visit\") ].index)\n",
    "    actualContacts = len(allContactsCalc.loc[ (allContactsCalc[\"Initials\"] == initials) ].index)\n",
    "    actualContactScore = allContactsCalc.loc[ (allContactsCalc[\"Initials\"] == initials) ][\"rowScore\"].sum()\n",
    "    scorePerListedVisit = listedScoreAnyDr / listedVisitsAnyDr\n",
    "    actualVisitScorePerListedPat = actualContactScore / listedPats\n",
    "    scorePerActualVisit = actualContactScore / actualVisits\n",
    "    \n",
    "    row = {\n",
    "        \"initials\": initials,\n",
    "        \"listedPats\": listedPats,\n",
    "        \"listedContactsAnyDr\": listedContactsAnyDr,\n",
    "        \"listedVisitsAnyDr\": listedVisitsAnyDr,\n",
    "        \"listedScoreAnyDr\": listedScoreAnyDr,\n",
    "        \"actualVisits\": actualVisits,\n",
    "        \"actualContacts\": actualContacts,\n",
    "        \"actualContactScore\": actualContactScore,\n",
    "        \"scorePerListedVisit\": scorePerListedVisit,\n",
    "        \"actualVisitScorePerListedPat\": actualVisitScorePerListedPat,\n",
    "        \"scorePerActualVisit\": scorePerActualVisit,\n",
    "    }\n",
    "    calc.append(row)\n",
    "    \n",
    "calculationsDf = pd.DataFrame(calc, columns = [\"initials\", \"listedPats\", \"listedContactsAnyDr\", \"listedVisitsAnyDr\", \"listedScoreAnyDr\", \"actualVisits\", \"actualContacts\", \"actualContactScore\", \"scorePerListedVisit\", \"actualVisitScorePerListedPat\", \"scorePerActualVisit\"])\n",
    "calculationsDf"
   ]
  },
  {
   "cell_type": "code",
   "execution_count": null,
   "metadata": {},
   "outputs": [],
   "source": [
    "calculationsDf.to_excel(f\"{filePath}calculations.xlsx\")"
   ]
  }
 ],
 "metadata": {
  "kernelspec": {
   "display_name": "aienv",
   "language": "python",
   "name": "python3"
  },
  "language_info": {
   "codemirror_mode": {
    "name": "ipython",
    "version": 3
   },
   "file_extension": ".py",
   "mimetype": "text/x-python",
   "name": "python",
   "nbconvert_exporter": "python",
   "pygments_lexer": "ipython3",
   "version": "3.7.3"
  }
 },
 "nbformat": 4,
 "nbformat_minor": 4
}
