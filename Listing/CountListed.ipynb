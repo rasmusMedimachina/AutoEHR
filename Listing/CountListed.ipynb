{
 "cells": [
  {
   "cell_type": "code",
   "execution_count": null,
   "metadata": {},
   "outputs": [],
   "source": [
    "import pandas as pd\n",
    "from matplotlib import pyplot as plt\n",
    "import numpy as np\n",
    "import re\n",
    "from collections import Counter\n",
    "from datetime import datetime\n",
    "from pprint import pprint\n",
    "import math"
   ]
  },
  {
   "cell_type": "code",
   "execution_count": null,
   "metadata": {},
   "outputs": [],
   "source": [
    "filePath = \"..\\\\..\\\\Files\\\\\""
   ]
  },
  {
   "cell_type": "code",
   "execution_count": null,
   "metadata": {},
   "outputs": [],
   "source": [
    "listingDf = pd.read_excel(f\"{filePath}Listing_AFTER_ADDING_50_INACTIVE_EXTRA.xlsx\")"
   ]
  },
  {
   "cell_type": "code",
   "execution_count": null,
   "metadata": {},
   "outputs": [],
   "source": [
    "listingDf = listingDf.loc[:, [\"Pnr\", \"Vårdgivare\"]]"
   ]
  },
  {
   "cell_type": "code",
   "execution_count": null,
   "metadata": {},
   "outputs": [],
   "source": [
    "def read_tab_separated_file(file_path):\n",
    "    result_dict = {}\n",
    "    \n",
    "    try:\n",
    "        with open(file_path, 'r', encoding='utf-8') as file:\n",
    "            for line in file:\n",
    "                # Ignorera tomma rader\n",
    "                if line.strip():\n",
    "                    key, value = line.strip().split('\\t')\n",
    "                    result_dict[key] = value\n",
    "    except FileNotFoundError:\n",
    "        print(f\"Filen {file_path} kunde inte hittas.\")\n",
    "    except ValueError:\n",
    "        print(\"Fel format i filen. Kontrollera att varje rad innehåller exakt en tab.\")\n",
    "\n",
    "    return result_dict\n"
   ]
  },
  {
   "cell_type": "code",
   "execution_count": null,
   "metadata": {
    "jupyter": {
     "outputs_hidden": true
    }
   },
   "outputs": [],
   "source": [
    "DrToInitials = read_tab_separated_file(filePath+\"Permanent\\\\DrToInitials_CountListed.txt\")\n",
    "\n",
    "listingDf.rename(columns={\"Pnr\": \"Personnr\", \"Vårdgivare\": \"Listing\"}, inplace=True)\n",
    "listingDf[\"Listing\"] = listingDf[\"Listing\"].apply(lambda name: DrToInitials[name] )\n",
    "#listingDf.head()"
   ]
  },
  {
   "cell_type": "code",
   "execution_count": null,
   "metadata": {},
   "outputs": [],
   "source": [
    "initialsList = [\"MT\", \"JK\", \"LW\", \"QR\", \"MS\", \"MN\", \"RA\"]"
   ]
  },
  {
   "cell_type": "code",
   "execution_count": null,
   "metadata": {},
   "outputs": [],
   "source": [
    "def getListedAmount(initials):\n",
    "    return len(listingDf.loc[ listingDf[\"Listing\"] == initials ])\n",
    "\n",
    "getListedAmount(\"MT\")"
   ]
  },
  {
   "cell_type": "code",
   "execution_count": null,
   "metadata": {},
   "outputs": [],
   "source": [
    "for initials in initialsList:\n",
    "    print(f\"{initials} har {getListedAmount(initials)}\")"
   ]
  },
  {
   "cell_type": "code",
   "execution_count": null,
   "metadata": {},
   "outputs": [],
   "source": [
    "totalUnlisted = len(listingDf.loc[ listingDf[\"Listing\"] == \"HC\" ].index)\n",
    "totalListed = len(listingDf.loc[ listingDf[\"Listing\"] != \"HC\" ].index)\n",
    "totalPat = len(listingDf.index)\n",
    "\n",
    "print(f\"\"\"\n",
    "Totalt antal patienter listade på enheten: {totalPat}\n",
    "Totalt antal läkar-listade patienter: {totalListed}\n",
    "Totalt antal läkar-olistade patienter: {totalUnlisted}\n",
    "Andelen listade: {100*totalListed/totalPat:.0f} %\"\"\")\n"
   ]
  }
 ],
 "metadata": {
  "kernelspec": {
   "display_name": "aienv",
   "language": "python",
   "name": "python3"
  },
  "language_info": {
   "codemirror_mode": {
    "name": "ipython",
    "version": 3
   },
   "file_extension": ".py",
   "mimetype": "text/x-python",
   "name": "python",
   "nbconvert_exporter": "python",
   "pygments_lexer": "ipython3",
   "version": "3.7.3"
  }
 },
 "nbformat": 4,
 "nbformat_minor": 4
}
