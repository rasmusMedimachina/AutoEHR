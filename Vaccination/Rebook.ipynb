{
 "cells": [
  {
   "cell_type": "markdown",
   "metadata": {},
   "source": [
    "# Boka tid för dos 2-programmet\n",
    "### Välkommen - följ instruktionerna nedan"
   ]
  },
  {
   "cell_type": "markdown",
   "metadata": {},
   "source": [
    "1. I menyn \"Run\", välj \"Run all cells\" (längst ner i menyn).\n",
    "2. Scrolla längst ner i det här dokumentet till rubriken \"Använd programmet här\"\n",
    "\n",
    "<img src=\"https://m.media-amazon.com/images/I/719pUDFQy1L._SS500_.jpg\" style=\"max-width:500px;\" align=\"left\">"
   ]
  },
  {
   "cell_type": "code",
   "execution_count": 1,
   "metadata": {
    "jupyter": {
     "source_hidden": true
    }
   },
   "outputs": [],
   "source": [
    "from pprint import pprint\n",
    "import os\n",
    "import re\n",
    "import time\n",
    "from time import sleep\n",
    "\n",
    "from pynput.mouse import Button, Controller as MouseCtrlr\n",
    "from pynput.keyboard import Key, Controller as KeyCtrlr\n",
    "import pyautogui as pag\n",
    "import keyboard as keyboard\n",
    "\n",
    "\n",
    "from matplotlib import pyplot as plt\n",
    "from PIL import Image\n",
    "import cv2 as cv\n",
    "import numpy as np"
   ]
  },
  {
   "cell_type": "code",
   "execution_count": 2,
   "metadata": {
    "jupyter": {
     "source_hidden": true
    }
   },
   "outputs": [],
   "source": [
    "import pytesseract as tess\n",
    "tess.pytesseract.tesseract_cmd = r'C:\\Program Files\\Tesseract-OCR\\tesseract'"
   ]
  },
  {
   "cell_type": "code",
   "execution_count": 3,
   "metadata": {
    "jupyter": {
     "source_hidden": true
    }
   },
   "outputs": [],
   "source": [
    "# some handy functions to use along widgets\n",
    "from IPython.display import display, Markdown, clear_output\n",
    "# widget packages\n",
    "import ipywidgets as widgets\n",
    "from termcolor import colored, cprint"
   ]
  },
  {
   "cell_type": "markdown",
   "metadata": {},
   "source": [
    "# Helper functions"
   ]
  },
  {
   "cell_type": "code",
   "execution_count": 4,
   "metadata": {
    "jupyter": {
     "source_hidden": true
    }
   },
   "outputs": [],
   "source": [
    "def imshow(img, cmap=None, size=10):\n",
    "    if type(img) == str:\n",
    "        img = cv.imread(img)\n",
    "    elif(not type(img) == np.ndarray):\n",
    "        return\n",
    "    \n",
    "    fig = plt.figure(figsize=(size,size))\n",
    "    ax = plt.Axes(fig, [0,0,1,1])\n",
    "    ax.set_axis_off()\n",
    "    fig.add_axes(ax)\n",
    "    ax.imshow(img, cmap)"
   ]
  },
  {
   "cell_type": "code",
   "execution_count": 5,
   "metadata": {
    "jupyter": {
     "source_hidden": true
    }
   },
   "outputs": [],
   "source": [
    "def get_inverted(image):\n",
    "    return cv.bitwise_not(image)\n",
    "\n",
    "# get grayscale image\n",
    "def get_grayscale(image):\n",
    "    return cv.cvtColor(image, cv.COLOR_BGR2GRAY)\n",
    "\n",
    "#thresholding\n",
    "def thresholding(image, threshold=180):\n",
    "    return cv.threshold(image, threshold, 255, cv.THRESH_BINARY)[1]\n",
    "    #return cv.adaptiveThreshold(image, 255, cv.ADAPTIVE_THRESH_GAUSSIAN_C, cv.THRESH_BINARY,11,2)\n",
    "    \n",
    "def thresholdingAdaptive(image):\n",
    "    return cv.adaptiveThreshold(image, 255, cv.ADAPTIVE_THRESH_GAUSSIAN_C, cv.THRESH_BINARY,11,2)"
   ]
  },
  {
   "cell_type": "code",
   "execution_count": 6,
   "metadata": {
    "jupyter": {
     "source_hidden": true
    }
   },
   "outputs": [],
   "source": [
    "kb = KeyCtrlr()"
   ]
  },
  {
   "cell_type": "code",
   "execution_count": 7,
   "metadata": {
    "jupyter": {
     "source_hidden": true
    }
   },
   "outputs": [],
   "source": [
    "class Pos:\n",
    "    def __init__(self, x = 0, y = 0):\n",
    "        self.x = x\n",
    "        self.y = y\n",
    "        \n",
    "    def __str__(self):\n",
    "        return f\"({self.x}, {self.y})\"\n",
    "    \n",
    "    def __repr__(self):\n",
    "        return f\"({self.x}, {self.y})\"\n",
    "    \n",
    "    def __bool__(self):\n",
    "        return True"
   ]
  },
  {
   "cell_type": "code",
   "execution_count": 8,
   "metadata": {
    "jupyter": {
     "source_hidden": true
    }
   },
   "outputs": [],
   "source": [
    "def message(str):\n",
    "    return pag.confirm(str)"
   ]
  },
  {
   "cell_type": "code",
   "execution_count": 9,
   "metadata": {
    "jupyter": {
     "source_hidden": true
    }
   },
   "outputs": [],
   "source": [
    "globalWaitTime = 1\n",
    "globalLimitTime = 5\n",
    "globalWaitBeforeStart = 0.2\n",
    "\n",
    "def getWaitAndLimit(beforeStart = -1, limit = -1, wait = -1):\n",
    "    if wait == -1:\n",
    "        wait = globalWaitTime\n",
    "    if limit == -1:\n",
    "        limit = globalLimitTime\n",
    "    if beforeStart == -1:\n",
    "        beforeStart = globalWaitBeforeStart\n",
    "        \n",
    "    return (beforeStart, limit, wait)"
   ]
  },
  {
   "cell_type": "code",
   "execution_count": 10,
   "metadata": {
    "jupyter": {
     "source_hidden": true
    }
   },
   "outputs": [],
   "source": [
    "def waitForElement(path, beforeStart = -1, limit = -1, waitTime = -1, conf = 0.9, warn = True):\n",
    "    timePassed = 0\n",
    "    beforeStart, limit, waitTime = getWaitAndLimit(beforeStart, limit, waitTime)\n",
    "    sleep(beforeStart)\n",
    "        \n",
    "    \n",
    "    while timePassed < limit:\n",
    "        try:\n",
    "            x, y = pag.locateCenterOnScreen(path, confidence = conf)\n",
    "            return Pos(x, y)\n",
    "        except Exception as e:\n",
    "            pass\n",
    "            #print(str(e))\n",
    "            \n",
    "        sleep(waitTime)\n",
    "        timePassed += waitTime\n",
    "    \n",
    "    if warn:\n",
    "        message(\"Timed out waiting for element \" + path)\n",
    "    return False\n",
    "        \n",
    "#waitForElement(\"SokValjPatient\")"
   ]
  },
  {
   "cell_type": "code",
   "execution_count": 11,
   "metadata": {
    "jupyter": {
     "source_hidden": true
    }
   },
   "outputs": [],
   "source": [
    "def waitForElementDisappear(path, beforeStart = -1, limit = -1, waitTime = -1, conf = 0.9, warn = True):\n",
    "    timePassed = 0\n",
    "    beforeStart, limit, waitTime = getWaitAndLimit(beforeStart, limit, waitTime)\n",
    "    sleep(beforeStart)\n",
    "    \n",
    "    while timePassed < limit:\n",
    "        try:\n",
    "            x, y = pag.locateCenterOnScreen(path, confidence = conf)\n",
    "        except Exception as e:\n",
    "            if (str(e) == \"cannot unpack non-iterable NoneType object\"):\n",
    "                return True\n",
    "            else:\n",
    "                print(str(e))\n",
    "            \n",
    "        sleep(waitTime)\n",
    "        timePassed += waitTime\n",
    "    \n",
    "    if warn:\n",
    "        message(\"Timed out waiting for element disappear \" + path)\n",
    "    return False\n"
   ]
  },
  {
   "cell_type": "code",
   "execution_count": 12,
   "metadata": {
    "jupyter": {
     "source_hidden": true
    }
   },
   "outputs": [],
   "source": [
    "def waitForOneOf(pathList, beforeStart = -1, limit = -1, waitTime = -1, conf = 0.9, warn = True):\n",
    "    timePassed = 0\n",
    "    beforeStart, limit, waitTime = getWaitAndLimit(beforeStart, limit, waitTime)\n",
    "    sleep(beforeStart)\n",
    "    \n",
    "    while timePassed < limit:\n",
    "        for path in pathList:\n",
    "            pos = waitForElement(path, beforeStart = 0, limit = 0.01, waitTime = 0.01, warn = False)\n",
    "            timePassed += 0.01\n",
    "            if pos:\n",
    "                return pos\n",
    "            \n",
    "        sleep(waitTime)\n",
    "        timePassed += waitTime\n",
    "        \n",
    "    if warn:\n",
    "        message(\"Timed out waiting for element list \" + str(pathList))\n",
    "        \n",
    "    return False\n",
    "    \n",
    "#waitForOneOf([\"FleraIFoljd\", \"osrsakskod1IcdFalt\", \"sokDiagnos\"], limit=2)"
   ]
  },
  {
   "cell_type": "code",
   "execution_count": 13,
   "metadata": {
    "jupyter": {
     "source_hidden": true
    }
   },
   "outputs": [],
   "source": [
    "def waitAndClickOneOf(pathList, relX = 0, relY = 0, beforeStart = -1, limit = -1, waitTime = -1, conf = 0.9, warn = True, button = \"left\"):\n",
    "    pos = waitForOneOf(pathList, beforeStart = beforeStart, limit = limit, waitTime = waitTime, conf = conf, warn = warn)\n",
    "    \n",
    "    if pos:\n",
    "        pos.x += relX\n",
    "        pos.y += relY\n",
    "        \n",
    "        if button == \"left\":\n",
    "            pag.leftClick(pos.x, pos.y)\n",
    "        elif button == \"right\":\n",
    "            pag.rightClick(pos.x, pos.y)\n",
    "            \n",
    "        return pos\n",
    "    \n",
    "    return False\n",
    "\n",
    "\n",
    "#waitAndClickOneOf([\"FleraIFoljd\", \"osrsakskod1IcdFalt\", \"sokDiagnos\"])"
   ]
  },
  {
   "cell_type": "code",
   "execution_count": 14,
   "metadata": {
    "jupyter": {
     "source_hidden": true
    }
   },
   "outputs": [],
   "source": [
    "def waitAndClickElement(path, relX = 0, relY = 0, beforeStart = -1, limit = -1, waitTime = -1, conf = 0.9, warn = True, button=\"left\"):\n",
    "    pos = waitForElement(path, beforeStart, limit, waitTime, conf, warn=warn)\n",
    "    \n",
    "    if pos:\n",
    "        pos.x += relX\n",
    "        pos.y += relY\n",
    "        #print(f'Moving to {pos.x}, {pos.y}')\n",
    "        \n",
    "        if button == \"left\":\n",
    "            pag.leftClick(pos.x, pos.y)\n",
    "        elif button == \"right\":\n",
    "            pag.rightClick(pos.x, pos.y)\n",
    "        elif button == \"double\":\n",
    "            pag.doubleClick(pos.x, pos.y)\n",
    "        return pos\n",
    "    else:\n",
    "        return False\n",
    "\n",
    "#waitAndClickElement(\"SokValjPatient\")"
   ]
  },
  {
   "cell_type": "code",
   "execution_count": 15,
   "metadata": {
    "jupyter": {
     "source_hidden": true
    }
   },
   "outputs": [],
   "source": [
    "def waitAndClickXY(x, y, beforeStart = -1, waitTime = -1, button=\"left\"):\n",
    "    pos = Pos(x, y)\n",
    "    return waitAndClick([pos], beforeStart = beforeStart, waitTime = waitTime, button=button)\n",
    "\n",
    "def waitAndClick(positions, beforeStart = -1, waitTime = -1, button=\"left\"):\n",
    "    beforeStart, limit, waitTime = getWaitAndLimit(beforeStart = beforeStart, wait = waitTime)\n",
    "    \n",
    "    try:\n",
    "        if type(positions) != list and type(positions) != tuple:\n",
    "            positions = [positions]\n",
    "\n",
    "        #print(f\"Sleeping {beforeStart} before starting\")\n",
    "        sleep(beforeStart)\n",
    "        for i, pos in enumerate(positions):\n",
    "            if type(pos) == list or type(pos) == tuple:\n",
    "                posObj = Pos(pos[0], pos[1])\n",
    "            else:\n",
    "                posObj = pos\n",
    "            \n",
    "            #print(text)\n",
    "            if button == \"left\":\n",
    "                pag.leftClick(posObj.x, posObj.y)\n",
    "            elif button == \"right\":\n",
    "                pag.rightClick(posObj.x, posObj.y)\n",
    "            if i != len(positions) - 1:\n",
    "                sleep(waitTime)\n",
    "        \n",
    "        return True\n",
    "    except Exception as e:\n",
    "        print(\"Faild at waitAndClick: \" + str(e))\n",
    "        return False\n",
    "    "
   ]
  },
  {
   "cell_type": "code",
   "execution_count": 16,
   "metadata": {
    "jupyter": {
     "source_hidden": true
    }
   },
   "outputs": [],
   "source": [
    "def typeSlowly(text, keyInterval):\n",
    "    for ch in text:\n",
    "        kb.type(ch)\n",
    "        sleep(keyInterval)\n"
   ]
  },
  {
   "cell_type": "code",
   "execution_count": 17,
   "metadata": {
    "jupyter": {
     "source_hidden": true
    }
   },
   "outputs": [],
   "source": [
    "def waitAndType(texts, beforeStart = -1, waitTime = -1, keyInterval=0):\n",
    "    beforeStart, limit, waitTime = getWaitAndLimit(beforeStart = beforeStart, wait = waitTime)\n",
    "    \n",
    "    if keyInterval == True:\n",
    "        keyInterval = 0.05\n",
    "    \n",
    "    try:\n",
    "        if type(texts) == str:\n",
    "            texts = [texts]\n",
    "\n",
    "        sleep(beforeStart)\n",
    "        for i, text in enumerate(texts):\n",
    "            #print(text)\n",
    "            if keyInterval <= 0:\n",
    "                kb.type(text)\n",
    "            else:\n",
    "                typeSlowly(text, keyInterval)\n",
    "                \n",
    "            if i != len(texts) - 1:\n",
    "                sleep(waitTime)\n",
    "        \n",
    "        return True\n",
    "    except Exception as e:\n",
    "        print(\"Faild at waitAndType: \" + str(e))\n",
    "        return False\n",
    "        \n",
    "        \n",
    "#waitAndType([\"hej\", \"hej2\", \"hej3\"])\n",
    "#waitAndType(\"hejdå\")"
   ]
  },
  {
   "cell_type": "code",
   "execution_count": 18,
   "metadata": {
    "jupyter": {
     "source_hidden": true
    }
   },
   "outputs": [],
   "source": [
    "def waitAndPress(key1, key2 = None, key3 = None, beforeStart = -1):\n",
    "    beforeStart, limit, waitTime = getWaitAndLimit(beforeStart)\n",
    "    \n",
    "    sleep(beforeStart)\n",
    "    \n",
    "    try:\n",
    "        if key2 and key3:\n",
    "            keyboard.press_and_release(key1+\"+\"+key2+\"+\"+key3)\n",
    "        elif key2:\n",
    "            keyboard.press_and_release(key1+\"+\"+key2)\n",
    "        else:\n",
    "            keyboard.press_and_release(key1)\n",
    "        return True\n",
    "    except Exception as e:\n",
    "        pag.confirm(f\"Failed wait and press {str(key1)},{str(key2)},{str(key3)}\")\n",
    "        return False\n",
    "    "
   ]
  },
  {
   "cell_type": "code",
   "execution_count": 61,
   "metadata": {},
   "outputs": [],
   "source": [
    "def AsError(text):\n",
    "    return colored(text, \"red\")\n",
    "\n",
    "def AsSuccess(text):\n",
    "    return colored(text, \"green\")"
   ]
  },
  {
   "cell_type": "code",
   "execution_count": 62,
   "metadata": {},
   "outputs": [],
   "source": [
    "def PrintSuccessStatus(result, title):\n",
    "    outputText = title + \":\"\n",
    "    resultMessage = \"\"\n",
    "    if result:\n",
    "        resultMessage = AsSuccess(\"Lyckades!\")\n",
    "    else:\n",
    "        resultMessage = AsError(\"MISSLYCKADES!\")\n",
    "    print(outputText, resultMessage)\n",
    "    return result"
   ]
  },
  {
   "cell_type": "markdown",
   "metadata": {},
   "source": [
    "# Data"
   ]
  },
  {
   "cell_type": "code",
   "execution_count": 25,
   "metadata": {},
   "outputs": [],
   "source": [
    "vaccination1 = {\n",
    "    \"name\": \"Rasmus Arvidsson\",\n",
    "    \"rawData\": \"\"\"Tidbok Sida 1 av 1\n",
    "VE Hälsocentralen Sankt Hans Lund\n",
    "Fäladstorget 22\n",
    "226 47\n",
    "Tel\n",
    "Fax\n",
    "046-19 93 00\n",
    "LUND\n",
    "Rasmus Arvidsson, ST-läkare\n",
    "Rasmus Arvidsson Datum: Tidbok: ST-läkare\n",
    "Tid Beskrivning\n",
    "2021-05-13\n",
    "08:00 -\n",
    "<Ingen>\n",
    "08:10\n",
    "-\n",
    "09:00\n",
    "Test Häst, Hasse\n",
    "19 501113-2098\n",
    "<Ingen>\n",
    "09:10\n",
    "-\n",
    "09:10\n",
    "Test Kluck, Klara\n",
    "19 501128-2182\n",
    "<Ingen>\n",
    "09:20\n",
    "-\n",
    "09:30\n",
    "Test Klättermus, Klas\n",
    "19 450630-4718\n",
    "<Ingen>\n",
    "09:40\n",
    "-\n",
    "10:10\n",
    "Test Långstrump, Pippi\n",
    "19 571230-2842\n",
    "<Ingen>\n",
    "10:20\n",
    "-\n",
    "2021-05-13 Utskriven av Rasmus Arvidsson, ST-läkare\n",
    "Tidbok Sida 2 av 2\n",
    "VE Hälsocentralen Sankt Hans Lund\n",
    "Fäladstorget 22\n",
    "226 47\n",
    "Tel\n",
    "Fax\n",
    "046-19 93 00\n",
    "LUND\n",
    "Rasmus Arvidsson, ST-läkare\n",
    "VE Hälsocentralen Sankt Hans Lund : Vaccinationsmottagning Datum: Tidbok: Tid Beskrivning\n",
    "2021-05-15\n",
    "09:00\n",
    "Test Häst, Hasse\n",
    "19 501113-2098\n",
    "<Ingen>\n",
    "09:10\n",
    "-\n",
    "09:10\n",
    "Test Kluck, Klara\n",
    "19 501128-2182\n",
    "<Ingen>\n",
    "09:20\n",
    "-\n",
    "09:30\n",
    "Test Klättermus, Klas\n",
    "19 450630-4718\n",
    "<Ingen>\n",
    "09:40\n",
    "-\n",
    "10:10\n",
    "Test Långstrump, Pippi\n",
    "19 571230-2842\n",
    "<Ingen>\n",
    "10:20\n",
    "-\n",
    "2021-05-13 Utskriven av Rasmus Arvidsson, ST-läkare\"\"\"\n",
    "}"
   ]
  },
  {
   "cell_type": "code",
   "execution_count": 56,
   "metadata": {},
   "outputs": [],
   "source": [
    "exampleStr = \"\\n10:10\\nTest Långstrump, Pippi\\n19 571230-2842\\n<Ingen>\\n10:20\\n\"\n",
    "\n",
    "def getPersonalNoAndTime(rawPatientData):\n",
    "\n",
    "    #print(f\"Trying with\\n{rawPatientData}\\n\")\n",
    "    time = re.search(r\"\\d\\d:\\d\\d\", rawPatientData)[0]\n",
    "    personalNo = re.search(r\"\\d{2} \\d{6}-\\d{4}\", rawPatientData)\n",
    "    \n",
    "    if not personalNo:\n",
    "        return None\n",
    "    \n",
    "    else:\n",
    "        personalNo = personalNo[0]\n",
    "        \n",
    "        personalNo = re.sub(r\" \", \"\", personalNo)\n",
    "\n",
    "        patientData = {\n",
    "            \"time\": time,\n",
    "            \"personalNo\": personalNo\n",
    "        }\n",
    "\n",
    "        return patientData\n",
    "    \n",
    "    \n",
    "#print(getPersonalNoAndTime(exampleStr))"
   ]
  },
  {
   "cell_type": "code",
   "execution_count": 58,
   "metadata": {},
   "outputs": [
    {
     "name": "stdout",
     "output_type": "stream",
     "text": [
      "[{'personalNo': '19501113-2098', 'time': '09:00'},\n",
      " {'personalNo': '19501128-2182', 'time': '09:10'},\n",
      " {'personalNo': '19450630-4718', 'time': '09:30'},\n",
      " {'personalNo': '19571230-2842', 'time': '10:10'},\n",
      " {'personalNo': '19501113-2098', 'time': '09:00'},\n",
      " {'personalNo': '19501128-2182', 'time': '09:10'},\n",
      " {'personalNo': '19450630-4718', 'time': '09:30'},\n",
      " {'personalNo': '19571230-2842', 'time': '10:10'}]\n"
     ]
    }
   ],
   "source": [
    "def filterScheduleData(rawData):\n",
    "    relevantPart = re.search(r\"Tid\\s+Beskrivning\\n\\d\\d\\d\\d-\\d\\d-\\d\\d\\n([\\w\\W]+)-\\n\\d\\d\\d\\d-\\d\\d-\\d\\d Utskriven.+\", rawData)[1]\n",
    "    relevantPart = re.sub(r\"\\d\\d\\d\\d-\\d\\d-\\d\\d[\\w\\W]+?\\d\\d\\d\\d-\\d\\d-\\d\\d\\n\", \"\", relevantPart)\n",
    "    dataList = relevantPart.split(\"\\n-\")\n",
    "    \n",
    "    patientList = []\n",
    "    \n",
    "    for rawPatientData in dataList:\n",
    "        patientData = getPersonalNoAndTime(rawPatientData)\n",
    "        if patientData:\n",
    "            patientList.append(patientData)\n",
    "        \n",
    "    return patientList\n",
    "    \n",
    "pprint(filterScheduleData(vaccination1[\"rawData\"]))"
   ]
  },
  {
   "cell_type": "markdown",
   "metadata": {},
   "source": [
    "# Complex function"
   ]
  },
  {
   "cell_type": "code",
   "execution_count": 64,
   "metadata": {},
   "outputs": [
    {
     "data": {
      "text/plain": [
       "'..\\\\Images\\\\Vaccine\\\\ArbetsflodeLabel.png'"
      ]
     },
     "execution_count": 64,
     "metadata": {},
     "output_type": "execute_result"
    }
   ],
   "source": [
    "class ImgsEnum:\n",
    "    def __init__(self, imagesPath):\n",
    "        self.ArbetsflodeLabel = os.path.join(imagesPath, \"Vaccine\", \"ArbetsflodeLabel.png\")\n",
    "        self.StangButtonText = os.path.join(imagesPath, \"Vaccine\", \"StangButtonText.png\")\n",
    "        self.NyDiagnosTab = os.path.join(imagesPath, \"Vaccine\", \"NyDiagnosTab.png\")\n",
    "        self.KshDropdownChoice = os.path.join(imagesPath, \"Vaccine\", \"KshDropdownChoice.png\")\n",
    "        self.Icd10DropdownChoice = os.path.join(imagesPath, \"Vaccine\", \"icd10DropdownChoice.png\")\n",
    "        self.IcdSearchInputField = os.path.join(imagesPath, \"Vaccine\", \"icdSearchInputField.png\")\n",
    "        self.NyVaccinationSearchField = os.path.join(imagesPath, \"Vaccine\", \"NyVaccinationSearchField.png\")\n",
    "        self.NyAtgardTab = os.path.join(imagesPath, \"Vaccine\", \"NyAtgardTab.png\")\n",
    "        self.Covid19AtgardChoice = os.path.join(imagesPath, \"Vaccine\", \"covid19AtgardChoice.png\")\n",
    "        self.VaccinationCovid19Choice = os.path.join(imagesPath, \"Vaccine\", \"VaccinationCovid19Choice.png\")\n",
    "        self.AtgardRelateradCovid19 = os.path.join(imagesPath, \"Vaccine\", \"AtgardRelateradCovid19.png\")\n",
    "        self.CitrixIcon = os.path.join(imagesPath, \"Vaccine\", \"CitrixIcon.png\")\n",
    "        self.LotNrLabel = os.path.join(imagesPath, \"Vaccine\", \"LotNrLabel.png\")\n",
    "        self.DosNummerInputField = os.path.join(imagesPath, \"Vaccine\", \"DosNummerInputField.png\")\n",
    "        self.KontraindikationNejCheckbox = os.path.join(imagesPath, \"Vaccine\", \"KontraindikationNejCheckbox.png\")\n",
    "        self.NyVardkontaktTitle = os.path.join(imagesPath, \"Vaccine\", \"NyVardkontaktTitle.png\")\n",
    "        self.Covid19VaccinationPatientCheckbox = os.path.join(imagesPath, \"Vaccine\", \"Covid19VaccinationPatientCheckbox.png\")\n",
    "        self.VaccinationsmottagningCheckbox = os.path.join(imagesPath, \"Vaccine\", \"VaccinationsmottagningCheckbox.png\")\n",
    "        self.NyDiagnosTitle = os.path.join(imagesPath, \"Vaccine\", \"NyDiagnosTitle.png\")\n",
    "        self.NyAtgardTitle = os.path.join(imagesPath, \"Vaccine\", \"NyAtgardTitle.png\")\n",
    "        self.NyVaccinationTab = os.path.join(imagesPath, \"Vaccine\", \"NyVaccinationTab.png\")\n",
    "\n",
    "        \n",
    "        #self. = os.path.join(imagesPath, \"Vaccine\", \".png\")\n",
    "\n",
    "    \n",
    "IMG = ImgsEnum(os.path.join(\"..\", \"Images\"))\n",
    "\n",
    "IMG.ArbetsflodeLabel"
   ]
  },
  {
   "cell_type": "code",
   "execution_count": null,
   "metadata": {},
   "outputs": [],
   "source": []
  },
  {
   "cell_type": "code",
   "execution_count": 65,
   "metadata": {},
   "outputs": [
    {
     "ename": "AttributeError",
     "evalue": "'ImgsEnum' object has no attribute 'CitrixIcon2'",
     "output_type": "error",
     "traceback": [
      "\u001b[1;31m----------------------------------------------------------------------\u001b[0m",
      "\u001b[1;31mAttributeError\u001b[0m                       Traceback (most recent call last)",
      "\u001b[1;32m<ipython-input-65-4517104ae3d7>\u001b[0m in \u001b[0;36m<module>\u001b[1;34m\u001b[0m\n\u001b[1;32m----> 1\u001b[1;33m \u001b[0mpos\u001b[0m \u001b[1;33m=\u001b[0m \u001b[0mPrintSuccessStatus\u001b[0m\u001b[1;33m(\u001b[0m\u001b[0mwaitAndClickOneOf\u001b[0m\u001b[1;33m(\u001b[0m\u001b[1;33m[\u001b[0m\u001b[0mIMG\u001b[0m\u001b[1;33m.\u001b[0m\u001b[0mCitrixIcon\u001b[0m\u001b[1;33m,\u001b[0m \u001b[0mIMG\u001b[0m\u001b[1;33m.\u001b[0m\u001b[0mCitrixIcon2\u001b[0m\u001b[1;33m]\u001b[0m\u001b[1;33m)\u001b[0m\u001b[1;33m,\u001b[0m \u001b[1;34m\" - Öppnar PMO\"\u001b[0m\u001b[1;33m)\u001b[0m\u001b[1;33m\u001b[0m\u001b[1;33m\u001b[0m\u001b[0m\n\u001b[0m\u001b[0;32m      2\u001b[0m \u001b[1;32mif\u001b[0m \u001b[0mpos\u001b[0m\u001b[1;33m:\u001b[0m\u001b[1;33m\u001b[0m\u001b[1;33m\u001b[0m\u001b[0m\n\u001b[0;32m      3\u001b[0m     \u001b[0mprint\u001b[0m\u001b[1;33m(\u001b[0m\u001b[1;34m\"yay\"\u001b[0m\u001b[1;33m)\u001b[0m\u001b[1;33m\u001b[0m\u001b[1;33m\u001b[0m\u001b[0m\n",
      "\u001b[1;31mAttributeError\u001b[0m: 'ImgsEnum' object has no attribute 'CitrixIcon2'"
     ]
    }
   ],
   "source": [
    "pos = PrintSuccessStatus(waitAndClickOneOf([IMG.CitrixIcon, IMG.CitrixIcon2]), \" - Öppnar PMO\")\n",
    "if pos:\n",
    "    print(\"yay\")"
   ]
  },
  {
   "cell_type": "markdown",
   "metadata": {},
   "source": [
    "# User interface"
   ]
  },
  {
   "cell_type": "code",
   "execution_count": 28,
   "metadata": {},
   "outputs": [],
   "source": [
    "vaccineDropdown =  widgets.Dropdown(\n",
    "                   options=['AstraZeneca', 'Moderna', 'Janssen', \"Pfizer (Comirnaty)\"],\n",
    "                   value='AstraZeneca',\n",
    "                   description='Välj vaccin:')\n",
    "\n",
    "vaccineDict = {\n",
    "    'AstraZeneca': \"covid-19 vaccine ast\",\n",
    "    'Moderna': \"covid-19 vaccine mod\",\n",
    "    'Janssen': \"covid-19 vaccine jan\",\n",
    "    \"Pfizer (Comirnaty)\": \"comirnaty\"\n",
    "}\n",
    "\n",
    "doseDropdown = widgets.Dropdown(\n",
    "               options=['Dos 1', 'Dos 2'],\n",
    "               value='Dos 1',\n",
    "               description='Välj dos:')\n",
    "\n",
    "doseDict = {\n",
    "    \"Dos 1\": \"1\",\n",
    "    \"Dos 2\": \"2\"\n",
    "}\n",
    "\n",
    "batchTextField =  widgets.Text(\n",
    "                  value='',\n",
    "                  description='Skriv batchnummer', )\n",
    "\n",
    "startButton = widgets.Button(description='Starta', \n",
    "                             style=widgets.ButtonStyle(button_color=\"rgb(40,80,200)\"))\n",
    "\n",
    "outputArea =  widgets.Output()\n",
    "\n",
    "\n",
    "Interface = widgets.VBox([vaccineDropdown, \n",
    "                              doseDropdown, \n",
    "                              batchTextField, \n",
    "                              startButton, \n",
    "                              outputArea])\n",
    "\n",
    "def testOutput():\n",
    "    print(\"Testing!\")\n",
    "\n",
    "def onButtonClicked(_):\n",
    "    # \"linking function with output\"\n",
    "    with outputArea:\n",
    "        # what happens when we press the button\n",
    "        clear_output()\n",
    "        RunFullVaccinationSequence(vaccineDict[vaccineDropdown.value],\n",
    "                                   doseDict[doseDropdown.value],\n",
    "                                   batchTextField.value)\n",
    "        \n",
    "# linking button and function together using a button's method\n",
    "startButton.on_click(onButtonClicked)\n",
    "\n"
   ]
  },
  {
   "cell_type": "markdown",
   "metadata": {},
   "source": [
    "<br/>\n",
    "<br/>\n",
    "<img src=\"https://media.istockphoto.com/vectors/cute-cartoon-car-set-with-dash-line-and-horizontal-road-baby-kids-vector-id1141945630\" style=\"max-width:500px;display:block;\" align=\"left\">"
   ]
  },
  {
   "cell_type": "markdown",
   "metadata": {},
   "source": [
    "# Använd programmet här!\n",
    "1. Välj vaccin, dos och skriv in batch nummer.\n",
    "2. Dubbelklicka på rätt patient i tidboken i PMO, men gå inte in i journalen.\n",
    "3. Klicka på Starta.\n",
    "4. När du är klar med en patient kan du börja om från nr 2 ovan med nästa patient."
   ]
  },
  {
   "cell_type": "code",
   "execution_count": 29,
   "metadata": {},
   "outputs": [
    {
     "data": {
      "application/vnd.jupyter.widget-view+json": {
       "model_id": "8747b813861f4184bcb825ec77d0c434",
       "version_major": 2,
       "version_minor": 0
      },
      "text/plain": [
       "VBox(children=(Dropdown(description='Välj vaccin:', options=('AstraZeneca', 'Moderna', 'Janssen', 'Pfizer (Com…"
      ]
     },
     "metadata": {},
     "output_type": "display_data"
    }
   ],
   "source": [
    "Interface"
   ]
  },
  {
   "cell_type": "markdown",
   "metadata": {},
   "source": [
    "<img src=\"https://cdn.pixabay.com/photo/2014/10/19/04/52/light-494011__340.png\" style=\"max-width:500px;display:block;\" align=\"left\">\n"
   ]
  }
 ],
 "metadata": {
  "kernelspec": {
   "display_name": "Python 3",
   "language": "python",
   "name": "python3"
  },
  "language_info": {
   "codemirror_mode": {
    "name": "ipython",
    "version": 3
   },
   "file_extension": ".py",
   "mimetype": "text/x-python",
   "name": "python",
   "nbconvert_exporter": "python",
   "pygments_lexer": "ipython3",
   "version": "3.7.3"
  }
 },
 "nbformat": 4,
 "nbformat_minor": 4
}
