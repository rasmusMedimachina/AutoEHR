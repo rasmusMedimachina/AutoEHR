{
 "cells": [
  {
   "cell_type": "markdown",
   "metadata": {},
   "source": [
    "# Covid-vaccinationsprogrammet\n",
    "### Välkommen - följ instruktionerna nedan"
   ]
  },
  {
   "cell_type": "markdown",
   "metadata": {},
   "source": [
    "1. I menyn \"Run\", välj \"Run all cells\" (längst ner i menyn).\n",
    "2. Scrolla längst ner i det här dokumentet till rubriken \"Använd programmet här\"\n",
    "\n",
    "<img src=\"https://res.cloudinary.com/practicaldev/image/fetch/s--4nVcu5jx--/c_limit%2Cf_auto%2Cfl_progressive%2Cq_66%2Cw_880/https://cdn.dribbble.com/users/722835/screenshots/4082720/bot_icon.gif\" style=\"max-width:500px;\" align=\"left\">"
   ]
  },
  {
   "cell_type": "code",
   "execution_count": 1,
   "metadata": {},
   "outputs": [],
   "source": [
    "from pprint import pprint\n",
    "import os\n",
    "import re\n",
    "import time\n",
    "from time import sleep\n",
    "\n",
    "from pynput.mouse import Button, Controller as MouseCtrlr\n",
    "from pynput.keyboard import Key, Controller as KeyCtrlr\n",
    "import pyautogui as pag\n",
    "import keyboard as keyboard\n",
    "\n",
    "\n",
    "from matplotlib import pyplot as plt\n",
    "from PIL import Image\n",
    "import cv2 as cv\n",
    "import numpy as np"
   ]
  },
  {
   "cell_type": "code",
   "execution_count": 2,
   "metadata": {
    "tags": []
   },
   "outputs": [],
   "source": [
    "# import pytesseract as tess\n",
    "# tess.pytesseract.tesseract_cmd = r'C:\\Program Files\\Tesseract-OCR\\tesseract'"
   ]
  },
  {
   "cell_type": "code",
   "execution_count": 3,
   "metadata": {},
   "outputs": [],
   "source": [
    "# some handy functions to use along widgets\n",
    "from IPython.display import display, Markdown, clear_output\n",
    "# widget packages\n",
    "import ipywidgets as widgets\n",
    "from termcolor import colored, cprint"
   ]
  },
  {
   "cell_type": "markdown",
   "metadata": {
    "tags": []
   },
   "source": [
    "# Helper functions"
   ]
  },
  {
   "cell_type": "code",
   "execution_count": 4,
   "metadata": {
    "tags": []
   },
   "outputs": [],
   "source": [
    "def imshow(img, cmap=None, size=10):\n",
    "    if type(img) == str:\n",
    "        img = cv.imread(img)\n",
    "    elif(not type(img) == np.ndarray):\n",
    "        return\n",
    "    \n",
    "    fig = plt.figure(figsize=(size,size))\n",
    "    ax = plt.Axes(fig, [0,0,1,1])\n",
    "    ax.set_axis_off()\n",
    "    fig.add_axes(ax)\n",
    "    ax.imshow(img, cmap)"
   ]
  },
  {
   "cell_type": "code",
   "execution_count": 5,
   "metadata": {
    "tags": []
   },
   "outputs": [],
   "source": [
    "def get_inverted(image):\n",
    "    return cv.bitwise_not(image)\n",
    "\n",
    "# get grayscale image\n",
    "def get_grayscale(image):\n",
    "    return cv.cvtColor(image, cv.COLOR_BGR2GRAY)\n",
    "\n",
    "#thresholding\n",
    "def thresholding(image, threshold=180):\n",
    "    return cv.threshold(image, threshold, 255, cv.THRESH_BINARY)[1]\n",
    "    #return cv.adaptiveThreshold(image, 255, cv.ADAPTIVE_THRESH_GAUSSIAN_C, cv.THRESH_BINARY,11,2)\n",
    "    \n",
    "def thresholdingAdaptive(image):\n",
    "    return cv.adaptiveThreshold(image, 255, cv.ADAPTIVE_THRESH_GAUSSIAN_C, cv.THRESH_BINARY,11,2)"
   ]
  },
  {
   "cell_type": "code",
   "execution_count": 6,
   "metadata": {
    "tags": []
   },
   "outputs": [],
   "source": [
    "kb = KeyCtrlr()"
   ]
  },
  {
   "cell_type": "code",
   "execution_count": 7,
   "metadata": {
    "tags": []
   },
   "outputs": [],
   "source": [
    "class Pos:\n",
    "    def __init__(self, x = 0, y = 0):\n",
    "        self.x = x\n",
    "        self.y = y\n",
    "        \n",
    "    def __str__(self):\n",
    "        return f\"({self.x}, {self.y})\"\n",
    "    \n",
    "    def __repr__(self):\n",
    "        return f\"({self.x}, {self.y})\"\n",
    "    \n",
    "    def __bool__(self):\n",
    "        return True"
   ]
  },
  {
   "cell_type": "code",
   "execution_count": 8,
   "metadata": {
    "tags": []
   },
   "outputs": [],
   "source": [
    "def message(str):\n",
    "    return pag.confirm(str)"
   ]
  },
  {
   "cell_type": "code",
   "execution_count": 9,
   "metadata": {
    "tags": []
   },
   "outputs": [],
   "source": [
    "globalWaitTime = 1\n",
    "globalLimitTime = 10\n",
    "globalWaitBeforeStart = 0.2\n",
    "\n",
    "def getWaitAndLimit(beforeStart = -1, limit = -1, wait = -1):\n",
    "    if wait == -1:\n",
    "        wait = globalWaitTime\n",
    "    if limit == -1:\n",
    "        limit = globalLimitTime\n",
    "    if beforeStart == -1:\n",
    "        beforeStart = globalWaitBeforeStart\n",
    "        \n",
    "    return (beforeStart, limit, wait)"
   ]
  },
  {
   "cell_type": "code",
   "execution_count": 10,
   "metadata": {
    "tags": []
   },
   "outputs": [],
   "source": [
    "def waitForElement(path, beforeStart = -1, limit = -1, waitTime = -1, conf = 0.9, warn = True):\n",
    "    timePassed = 0\n",
    "    beforeStart, limit, waitTime = getWaitAndLimit(beforeStart, limit, waitTime)\n",
    "    sleep(beforeStart)\n",
    "        \n",
    "    \n",
    "    while timePassed < limit:\n",
    "        try:\n",
    "            x, y = pag.locateCenterOnScreen(path, confidence = conf)\n",
    "            return Pos(x, y)\n",
    "        except Exception as e:\n",
    "            pass\n",
    "            #print(str(e))\n",
    "            \n",
    "        sleep(waitTime)\n",
    "        timePassed += waitTime\n",
    "    \n",
    "    if warn:\n",
    "        message(\"Timed out waiting for element \" + path)\n",
    "    return False\n",
    "        \n",
    "#waitForElement(\"SokValjPatient\")"
   ]
  },
  {
   "cell_type": "code",
   "execution_count": 11,
   "metadata": {
    "tags": []
   },
   "outputs": [],
   "source": [
    "def waitForElementDisappear(path, beforeStart = -1, limit = -1, waitTime = -1, conf = 0.9, warn = True):\n",
    "    timePassed = 0\n",
    "    beforeStart, limit, waitTime = getWaitAndLimit(beforeStart, limit, waitTime)\n",
    "    sleep(beforeStart)\n",
    "    \n",
    "    while timePassed < limit:\n",
    "        try:\n",
    "            x, y = pag.locateCenterOnScreen(path, confidence = conf)\n",
    "        except Exception as e:\n",
    "            if (str(e) == \"cannot unpack non-iterable NoneType object\"):\n",
    "                return True\n",
    "            else:\n",
    "                print(str(e))\n",
    "            \n",
    "        sleep(waitTime)\n",
    "        timePassed += waitTime\n",
    "    \n",
    "    if warn:\n",
    "        message(\"Timed out waiting for element disappear \" + path)\n",
    "    return False\n"
   ]
  },
  {
   "cell_type": "code",
   "execution_count": 12,
   "metadata": {
    "tags": []
   },
   "outputs": [],
   "source": [
    "def waitForOneOf(pathList, beforeStart = -1, limit = -1, waitTime = -1, conf = 0.9, warn = True):\n",
    "    timePassed = 0\n",
    "    beforeStart, limit, waitTime = getWaitAndLimit(beforeStart, limit, waitTime)\n",
    "    sleep(beforeStart)\n",
    "    \n",
    "    while timePassed < limit:\n",
    "        for path in pathList:\n",
    "            pos = waitForElement(path, beforeStart = 0, limit = 0.01, waitTime = 0.01, conf = conf, warn = False)\n",
    "            timePassed += 0.01\n",
    "            if pos:\n",
    "                return pos\n",
    "            \n",
    "        sleep(waitTime)\n",
    "        timePassed += waitTime\n",
    "        \n",
    "    if warn:\n",
    "        message(\"Timed out waiting for element list \" + str(pathList))\n",
    "        \n",
    "    return False\n",
    "    \n",
    "#waitForOneOf([\"FleraIFoljd\", \"osrsakskod1IcdFalt\", \"sokDiagnos\"], limit=2)"
   ]
  },
  {
   "cell_type": "code",
   "execution_count": 13,
   "metadata": {
    "tags": []
   },
   "outputs": [],
   "source": [
    "def waitAndClickOneOf(pathList, relX = 0, relY = 0, beforeStart = -1, limit = -1, waitTime = -1, conf = 0.9, warn = True, button = \"left\"):\n",
    "    pos = waitForOneOf(pathList, beforeStart = beforeStart, limit = limit, waitTime = waitTime, conf = conf, warn = warn)\n",
    "    \n",
    "    if pos:\n",
    "        pos.x += relX\n",
    "        pos.y += relY\n",
    "        \n",
    "        if button == \"left\":\n",
    "            pag.leftClick(pos.x, pos.y)\n",
    "        elif button == \"right\":\n",
    "            pag.rightClick(pos.x, pos.y)\n",
    "            \n",
    "        return pos\n",
    "    \n",
    "    return False\n",
    "\n",
    "\n",
    "#waitAndClickOneOf([\"FleraIFoljd\", \"osrsakskod1IcdFalt\", \"sokDiagnos\"])"
   ]
  },
  {
   "cell_type": "code",
   "execution_count": 14,
   "metadata": {},
   "outputs": [],
   "source": [
    "def waitAndClickElement(path, relX = 0, relY = 0, beforeStart = -1, limit = -1, waitTime = -1, conf = 0.9, warn = True, button=\"left\"):\n",
    "    pos = waitForElement(path, beforeStart, limit, waitTime, conf, warn=warn)\n",
    "    \n",
    "    if pos:\n",
    "        pos.x += relX\n",
    "        pos.y += relY\n",
    "        #print(f'Moving to {pos.x}, {pos.y}')\n",
    "        \n",
    "        if button == \"left\":\n",
    "            pag.leftClick(pos.x, pos.y)\n",
    "        elif button == \"right\":\n",
    "            pag.rightClick(pos.x, pos.y)\n",
    "        elif button == \"double\":\n",
    "            pag.doubleClick(pos.x, pos.y)\n",
    "        return pos\n",
    "    else:\n",
    "        return False\n",
    "\n",
    "#waitAndClickElement(\"SokValjPatient\")"
   ]
  },
  {
   "cell_type": "code",
   "execution_count": 15,
   "metadata": {},
   "outputs": [],
   "source": [
    "def waitAndClickXY(x, y, beforeStart = -1, waitTime = -1, button=\"left\"):\n",
    "    pos = Pos(x, y)\n",
    "    return waitAndClick([pos], beforeStart = beforeStart, waitTime = waitTime, button=button)\n",
    "\n",
    "def waitAndClick(positions, beforeStart = -1, waitTime = -1, button=\"left\"):\n",
    "    beforeStart, limit, waitTime = getWaitAndLimit(beforeStart = beforeStart, wait = waitTime)\n",
    "    \n",
    "    try:\n",
    "        if type(positions) != list and type(positions) != tuple:\n",
    "            positions = [positions]\n",
    "\n",
    "        #print(f\"Sleeping {beforeStart} before starting\")\n",
    "        sleep(beforeStart)\n",
    "        for i, pos in enumerate(positions):\n",
    "            if type(pos) == list or type(pos) == tuple:\n",
    "                posObj = Pos(pos[0], pos[1])\n",
    "            else:\n",
    "                posObj = pos\n",
    "            \n",
    "            #print(text)\n",
    "            if button == \"left\":\n",
    "                pag.leftClick(posObj.x, posObj.y)\n",
    "            elif button == \"right\":\n",
    "                pag.rightClick(posObj.x, posObj.y)\n",
    "            if i != len(positions) - 1:\n",
    "                sleep(waitTime)\n",
    "        \n",
    "        return True\n",
    "    except Exception as e:\n",
    "        print(\"Faild at waitAndClick: \" + str(e))\n",
    "        return False\n",
    "    "
   ]
  },
  {
   "cell_type": "code",
   "execution_count": 16,
   "metadata": {},
   "outputs": [],
   "source": [
    "def typeSlowly(text, keyInterval):\n",
    "    for ch in text:\n",
    "        kb.type(ch)\n",
    "        sleep(keyInterval)\n"
   ]
  },
  {
   "cell_type": "code",
   "execution_count": 17,
   "metadata": {},
   "outputs": [],
   "source": [
    "def waitAndType(texts, beforeStart = -1, waitTime = -1, keyInterval=0):\n",
    "    beforeStart, limit, waitTime = getWaitAndLimit(beforeStart = beforeStart, wait = waitTime)\n",
    "    \n",
    "    if keyInterval == True:\n",
    "        keyInterval = 0.05\n",
    "    \n",
    "    try:\n",
    "        if type(texts) == str:\n",
    "            texts = [texts]\n",
    "\n",
    "        sleep(beforeStart)\n",
    "        for i, text in enumerate(texts):\n",
    "            #print(text)\n",
    "            if keyInterval <= 0:\n",
    "                kb.type(text)\n",
    "            else:\n",
    "                typeSlowly(text, keyInterval)\n",
    "                \n",
    "            if i != len(texts) - 1:\n",
    "                sleep(waitTime)\n",
    "        \n",
    "        return True\n",
    "    except Exception as e:\n",
    "        print(\"Faild at waitAndType: \" + str(e))\n",
    "        return False\n",
    "        \n",
    "        \n",
    "#waitAndType([\"hej\", \"hej2\", \"hej3\"])\n",
    "#waitAndType(\"hejdå\")"
   ]
  },
  {
   "cell_type": "code",
   "execution_count": 18,
   "metadata": {},
   "outputs": [],
   "source": [
    "def waitAndPress(key1, key2 = None, key3 = None, beforeStart = -1):\n",
    "    beforeStart, limit, waitTime = getWaitAndLimit(beforeStart)\n",
    "    \n",
    "    sleep(beforeStart)\n",
    "    \n",
    "    try:\n",
    "        if key2 and key3:\n",
    "            keyboard.press_and_release(key1+\"+\"+key2+\"+\"+key3)\n",
    "        elif key2:\n",
    "            keyboard.press_and_release(key1+\"+\"+key2)\n",
    "        else:\n",
    "            keyboard.press_and_release(key1)\n",
    "        return True\n",
    "    except Exception as e:\n",
    "        pag.confirm(f\"Failed wait and press {str(key1)},{str(key2)},{str(key3)}\")\n",
    "        return False\n",
    "    "
   ]
  },
  {
   "cell_type": "code",
   "execution_count": 19,
   "metadata": {
    "tags": []
   },
   "outputs": [],
   "source": [
    "def AsError(text):\n",
    "    return colored(text, \"red\")\n",
    "\n",
    "def AsSuccess(text):\n",
    "    return colored(text, \"green\")"
   ]
  },
  {
   "cell_type": "code",
   "execution_count": 20,
   "metadata": {
    "tags": []
   },
   "outputs": [],
   "source": [
    "def PrintSuccessStatus(result, title):\n",
    "    outputText = title + \":\"\n",
    "    resultMessage = \"\"\n",
    "    if result:\n",
    "        resultMessage = AsSuccess(\"Lyckades!\")\n",
    "    else:\n",
    "        resultMessage = AsError(\"MISSLYCKADES!\")\n",
    "    print(outputText, resultMessage)\n",
    "    return result"
   ]
  },
  {
   "cell_type": "markdown",
   "metadata": {},
   "source": [
    "# Complex function"
   ]
  },
  {
   "cell_type": "code",
   "execution_count": 34,
   "metadata": {
    "tags": []
   },
   "outputs": [
    {
     "data": {
      "text/plain": [
       "'..\\\\Images\\\\Vaccine\\\\ArbetsflodeLabel.png'"
      ]
     },
     "execution_count": 34,
     "metadata": {},
     "output_type": "execute_result"
    }
   ],
   "source": [
    "class ImgsEnum:\n",
    "    def __init__(self, imagesPath):\n",
    "        self.ArbetsflodeLabel = os.path.join(imagesPath, \"Vaccine\", \"ArbetsflodeLabel.png\")\n",
    "        self.StangButtonText = os.path.join(imagesPath, \"Vaccine\", \"StangButtonText.png\")\n",
    "        self.NyDiagnosTab = os.path.join(imagesPath, \"Vaccine\", \"NyDiagnosTab.png\")\n",
    "        self.KshDropdownChoice = os.path.join(imagesPath, \"Vaccine\", \"KshDropdownChoice.png\")\n",
    "        self.KshDropdownChoice2 = os.path.join(imagesPath, \"Vaccine\", \"KshDropdownChoice2.png\")\n",
    "        self.Icd10DropdownChoice = os.path.join(imagesPath, \"Vaccine\", \"icd10DropdownChoice.png\")\n",
    "        self.IcdSearchInputField = os.path.join(imagesPath, \"Vaccine\", \"icdSearchInputField.png\")\n",
    "        self.NyVaccinationSearchField = os.path.join(imagesPath, \"Vaccine\", \"NyVaccinationSearchField.png\")\n",
    "        self.NyAtgardTab = os.path.join(imagesPath, \"Vaccine\", \"NyAtgardTab.png\")\n",
    "        self.Covid19AtgardChoice = os.path.join(imagesPath, \"Vaccine\", \"covid19AtgardChoice.png\")\n",
    "        self.VaccinationCovid19Choice = os.path.join(imagesPath, \"Vaccine\", \"VaccinationCovid19Choice.png\")\n",
    "        self.AtgardRelateradCovid19 = os.path.join(imagesPath, \"Vaccine\", \"AtgardRelateradCovid19.png\")\n",
    "        self.CitrixIcon = os.path.join(imagesPath, \"Vaccine\", \"CitrixIcon.png\")\n",
    "        self.CitrixIcon2 = os.path.join(imagesPath, \"Vaccine\", \"CitrixIcon2.png\")\n",
    "        self.LotNrLabel = os.path.join(imagesPath, \"Vaccine\", \"LotNrLabel.png\")\n",
    "        self.LotNrLabel2 = os.path.join(imagesPath, \"Vaccine\", \"LotNrLabel2.png\")\n",
    "        self.LotNrLabel3 = os.path.join(imagesPath, \"Vaccine\", \"LotNrLabel3.png\")\n",
    "        \n",
    "        self.DosNummerInputField = os.path.join(imagesPath, \"Vaccine\", \"DosNummerInputField.png\")\n",
    "        self.KontraindikationNejCheckbox = os.path.join(imagesPath, \"Vaccine\", \"KontraindikationNejCheckbox.png\")\n",
    "        self.NyVardkontaktTitle = os.path.join(imagesPath, \"Vaccine\", \"NyVardkontaktTitle.png\")\n",
    "        self.Covid19VaccinationPatientCheckbox = os.path.join(imagesPath, \"Vaccine\", \"Covid19VaccinationPatientCheckbox.png\")\n",
    "        self.VaccinationsmottagningCheckbox = os.path.join(imagesPath, \"Vaccine\", \"VaccinationsmottagningCheckbox.png\")\n",
    "        self.NyDiagnosTitle = os.path.join(imagesPath, \"Vaccine\", \"NyDiagnosTitle.png\")\n",
    "        self.NyAtgardTitle = os.path.join(imagesPath, \"Vaccine\", \"NyAtgardTitle.png\")\n",
    "        self.NyVaccinationTab = os.path.join(imagesPath, \"Vaccine\", \"NyVaccinationTab.png\")\n",
    "        self.SigneraDisabeledMenu = os.path.join(imagesPath, \"Vaccine\", \"SigneraDisabeledMenu.png\")\n",
    "        self.SokTabIcdSearch = os.path.join(imagesPath, \"Vaccine\", \"SokTabIcdSearch.png\")\n",
    "        \n",
    "        self.VaccinationerAtgardChoice = os.path.join(imagesPath, \"Vaccine\", \"VaccinationerAtgardChoice.png\")\n",
    "        self.InfluensasAtgardChoice = os.path.join(imagesPath, \"Vaccine\", \"InfluensasAtgardChoice.png\")\n",
    "        self.InfluensaPneumokockerAtgardChoice = os.path.join(imagesPath, \"Vaccine\", \"InfluensaPneumokockerAtgardChoice.png\")\n",
    "        self.NyVaccinationButton = os.path.join(imagesPath, \"Vaccine\", \"NyVaccinationButton.png\")\n",
    "        self.LokalisationLabel =  os.path.join(imagesPath, \"Vaccine\", \"LokalisationLabel.png\")\n",
    "        self.LokalisationLabel2 = os.path.join(imagesPath, \"Vaccine\", \"LokalisationLabel2.png\")\n",
    "        self.VaccinationLeftMenuItem = os.path.join(imagesPath, \"Vaccine\", \"VaccinationLeftMenuItem.png\")\n",
    "        self.NyVaccinationTitle = os.path.join(imagesPath, \"Vaccine\", \"NyVaccinationTitle.png\")\n",
    "        \n",
    "\n",
    "        \n",
    "        #self. = os.path.join(imagesPath, \"Vaccine\", \".png\")\n",
    "\n",
    "    \n",
    "IMG = ImgsEnum(os.path.join(\"..\", \"Images\"))\n",
    "\n",
    "IMG.ArbetsflodeLabel\n"
   ]
  },
  {
   "cell_type": "code",
   "execution_count": 22,
   "metadata": {},
   "outputs": [],
   "source": [
    "def SignOrSave():\n",
    "    foundIt = waitForElement(IMG.SigneraDisabeledMenu, limit=0.2, warn=False)\n",
    "    if not foundIt:\n",
    "        waitAndPress(\"alt\", \"g\")\n",
    "    else:\n",
    "        waitAndPress(\"alt\", \"s\")\n"
   ]
  },
  {
   "cell_type": "code",
   "execution_count": 23,
   "metadata": {
    "tags": []
   },
   "outputs": [],
   "source": [
    "def OpenPatient():\n",
    "    pos = waitAndClickElement(IMG.ArbetsflodeLabel, relY=18, conf=0.8)\n",
    "    if pos:\n",
    "        waitAndType(\"covid\")\n",
    "        waitAndPress(\"enter\")\n",
    "        waitAndPress(\"enter\")\n",
    "        \n",
    "        timer = 0\n",
    "        \n",
    "        readyPos = False\n",
    "        while timer < 15 and not readyPos:\n",
    "            readyPos = waitForElement(IMG.NyVaccinationSearchField, limit=2, warn=False)\n",
    "            if not readyPos:\n",
    "                closePos = waitAndClickElement(IMG.StangButtonText, limit=0.2, warn=False)\n",
    "                if closePos:\n",
    "                    waitAndClickElement(IMG.StangButtonText, beforeStart=0.5, limit=0.2, warn=False)\n",
    "    \n",
    "    return pos"
   ]
  },
  {
   "cell_type": "code",
   "execution_count": 24,
   "metadata": {
    "tags": []
   },
   "outputs": [],
   "source": [
    "def RegisterVisit(tasks):\n",
    "    waitAndPress(\"ctrl\", \"e\")\n",
    "    pos = waitForElement(IMG.NyVardkontaktTitle)\n",
    "    if pos:\n",
    "        sleep(0.3)\n",
    "        waitAndType(\"m\")\n",
    "    \n",
    "    if \"covid\" in tasks:\n",
    "        if pos:\n",
    "            pos = waitAndClickElement(IMG.Covid19VaccinationPatientCheckbox, relX=-81)\n",
    "    if pos:\n",
    "        pos = waitAndClickElement(IMG.VaccinationsmottagningCheckbox, relX=-71)\n",
    "        \n",
    "    if pos:\n",
    "        SignOrSave()\n",
    "    if pos:\n",
    "        pos = waitForElementDisappear(IMG.NyVardkontaktTitle)\n",
    "        \n",
    "    return pos\n"
   ]
  },
  {
   "cell_type": "code",
   "execution_count": 25,
   "metadata": {},
   "outputs": [],
   "source": [
    "def SelectAndClearDiagnosisSearchField():\n",
    "    pos = waitAndClickElement(IMG.SokTabIcdSearch, relY=30)\n",
    "    \n",
    "    if pos:\n",
    "        waitAndPress(\"ctrl\", \"A\")\n",
    "        waitAndPress(\"delete\")\n",
    "        \n",
    "    return pos\n",
    "\n"
   ]
  },
  {
   "cell_type": "code",
   "execution_count": 26,
   "metadata": {
    "tags": []
   },
   "outputs": [],
   "source": [
    "def SetDiagnosis(tasks):\n",
    "    pos = waitAndClickElement(IMG.NyDiagnosTab)\n",
    "    if pos:\n",
    "        kshPos = waitAndClickOneOf([IMG.KshDropdownChoice, IMG.KshDropdownChoice2], conf=0.75, limit=0.5, warn=False)\n",
    "        if kshPos:\n",
    "            waitAndType(\"icd\")\n",
    "            waitAndPress(\"enter\")\n",
    "    \n",
    "    if pos and \"covid\" in tasks:\n",
    "        pos = SelectAndClearDiagnosisSearchField()\n",
    "        if pos:\n",
    "            waitAndType(\"U119\")\n",
    "            waitAndPress(\"enter\")\n",
    "            waitAndPress(\"enter\")\n",
    "            \n",
    "    if pos and \"influensa\" in tasks:\n",
    "        pos = SelectAndClearDiagnosisSearchField()\n",
    "        if pos:\n",
    "            waitAndType(\"Z251\")\n",
    "            waitAndPress(\"enter\")\n",
    "            waitAndPress(\"enter\")\n",
    "    \n",
    "    if pos:\n",
    "        SignOrSave()\n",
    "    if pos:\n",
    "        pos = waitForElementDisappear(IMG.NyDiagnosTitle)\n",
    "    return pos\n"
   ]
  },
  {
   "cell_type": "code",
   "execution_count": 27,
   "metadata": {
    "tags": []
   },
   "outputs": [],
   "source": [
    "def SetActionCode(tasks):\n",
    "    pos = waitAndClickElement(IMG.NyAtgardTab)\n",
    "    \n",
    "    if \"covid\" in tasks:\n",
    "        if pos:\n",
    "            pos = waitAndClickElement(IMG.Covid19AtgardChoice, relX=-31)\n",
    "            if \"influensa\" in tasks:\n",
    "                pag.scroll(-500)\n",
    "                sleep(0.2)\n",
    "        if pos:\n",
    "            pos = waitAndClickElement(IMG.VaccinationCovid19Choice, button=\"double\")\n",
    "        if pos:\n",
    "            pos = waitAndClickElement(IMG.AtgardRelateradCovid19, button=\"double\")\n",
    "            \n",
    "    if \"influensa\" in tasks:\n",
    "        pos = waitAndClickElement(IMG.VaccinationerAtgardChoice, relX=-41)\n",
    "        pag.scroll(-1000)\n",
    "        sleep(0.2)\n",
    "        if pos and \"pneumokocker\" in tasks:\n",
    "            pos = waitAndClickElement(IMG.InfluensaPneumokockerAtgardChoice, button=\"double\")\n",
    "        elif pos:\n",
    "            pos = waitAndClickElement(IMG.InfluensasAtgardChoice, button=\"double\")\n",
    "        \n",
    "    if pos:\n",
    "        SignOrSave()\n",
    "        \n",
    "    if pos:\n",
    "        pos = waitForElementDisappear(IMG.NyAtgardTitle)\n",
    "        \n",
    "    return pos\n"
   ]
  },
  {
   "cell_type": "code",
   "execution_count": 37,
   "metadata": {},
   "outputs": [
    {
     "name": "stdout",
     "output_type": "stream",
     "text": [
      " - Öppnar PMO: \u001b[32mLyckades!\u001b[0m\n",
      "(299, 425)\n"
     ]
    }
   ],
   "source": [
    "def SelectInjectionSite(site = \"vä ö\"):\n",
    "    pos = waitAndClickOneOf([IMG.LokalisationLabel, IMG.LokalisationLabel2], limit=2, relY=17, conf=0.8)\n",
    "    if pos:\n",
    "        waitAndType(site)\n",
    "        waitAndPress(\"enter\")\n",
    "        \n",
    "    return pos\n",
    "    \n",
    "pos = PrintSuccessStatus(waitAndClickOneOf([IMG.CitrixIcon, IMG.CitrixIcon2]), \" - Öppnar PMO\")\n",
    "if pos:\n",
    "    print(SelectInjectionSite())"
   ]
  },
  {
   "cell_type": "code",
   "execution_count": 29,
   "metadata": {
    "tags": []
   },
   "outputs": [],
   "source": [
    "def RegisterEnskildVaccination(vaccineName, doseNo, batchNo, site):\n",
    "    \n",
    "    waitAndType(vaccineName, keyInterval=True)\n",
    "    sleep(0.2)\n",
    "    waitAndPress(\"enter\")\n",
    "    \n",
    "    pos = SelectInjectionSite(site)\n",
    "    if pos:\n",
    "        pos = waitAndClickOneOf([IMG.LotNrLabel,IMG.LotNrLabel2, IMG.LotNrLabel3], relY=18)\n",
    "    if pos:\n",
    "        waitAndPress(\"ctrl\", \"a\")\n",
    "        waitAndPress(\"delete\")\n",
    "        waitAndType(batchNo)\n",
    "    if pos:\n",
    "        pos = waitAndClickElement(IMG.DosNummerInputField)\n",
    "    if pos:\n",
    "        waitAndType(doseNo)\n",
    "    if pos:\n",
    "        pos = waitAndClickElement(IMG.KontraindikationNejCheckbox)\n",
    "    \n",
    "    return pos\n",
    "\n"
   ]
  },
  {
   "cell_type": "code",
   "execution_count": 30,
   "metadata": {},
   "outputs": [],
   "source": [
    "def CreateNewVaccination():\n",
    "    pos = waitAndClickElement(IMG.NyVaccinationButton, conf=0.98)\n",
    "    return pos\n"
   ]
  },
  {
   "cell_type": "code",
   "execution_count": 42,
   "metadata": {},
   "outputs": [
    {
     "name": "stdout",
     "output_type": "stream",
     "text": [
      " - Öppnar PMO: \u001b[32mLyckades!\u001b[0m\n"
     ]
    }
   ],
   "source": [
    "def RegistreraVaccinationer(vaccinationDataList):\n",
    "    first = True\n",
    "    pos = True\n",
    "    \n",
    "    for vaccinationData in vaccinationDataList:\n",
    "        if pos:\n",
    "            if first:\n",
    "                pos = waitAndClickElement(IMG.NyVaccinationTab)\n",
    "                first = False\n",
    "            else:\n",
    "                pos = CreateNewVaccination()\n",
    "            \n",
    "            if pos:\n",
    "                pos = waitForElement(IMG.NyVaccinationSearchField)\n",
    "\n",
    "            pos = RegisterEnskildVaccination(vaccinationData[\"Name\"], vaccinationData[\"DoseNo\"], vaccinationData[\"BatchNo\"], vaccinationData[\"site\"])\n",
    "            \n",
    "            if pos and len(vaccinationDataList) > 1:\n",
    "                waitAndPress(\"alt\", \"s\")\n",
    "                pos = waitForElementDisappear(IMG.NyVaccinationTitle)\n",
    "            \n",
    "    if pos and len(vaccinationDataList) > 1:\n",
    "        waitAndClickElement(IMG.VaccinationLeftMenuItem, button=\"double\")\n",
    "\n",
    "# pos = PrintSuccessStatus(waitAndClickOneOf([IMG.CitrixIcon, IMG.CitrixIcon2]), \" - Öppnar PMO\")\n",
    "# if pos:\n",
    "#     RegistreraVaccinationer([\n",
    "#         {\"tag\": \"covid\", \"Name\": \"Covid-19 vaccine Moder\", \"DoseNo\": \"2\", \"BatchNo\": \"ZXY789\", \"site\": \"hö ö\"}\n",
    "#     ])"
   ]
  },
  {
   "cell_type": "code",
   "execution_count": 43,
   "metadata": {
    "tags": []
   },
   "outputs": [],
   "source": [
    "def RunFullVaccinationSequence(vaccinationDataList):\n",
    "    \n",
    "    print(\"Registrerar med...\");\n",
    "    \n",
    "    tasks = []\n",
    "    \n",
    "    for data in vaccinationDataList:\n",
    "        tasks.append(data[\"tag\"])\n",
    "        print(f\"\"\"Vaccin: {data[\"Name\"]}\n",
    "Batch: {data[\"BatchNo\"]}\n",
    "Dos: {data[\"DoseNo\"]}\n",
    "\n",
    "\"\"\")\n",
    "        \n",
    "    if data[\"batchNo\"] == \"\":\n",
    "        print(AsError(\"FEL - Du måste ange ett batchnummer\"))\n",
    "        return\n",
    "    \n",
    "    finishMessage = \"\"\n",
    "    \n",
    "    finishMessage = \"Misslyckades med att öppna PMO. Är det startat?\"\n",
    "    \n",
    "    pos = PrintSuccessStatus(waitAndClickOneOf([IMG.CitrixIcon, IMG.CitrixIcon2]), \" - Öppnar PMO\")\n",
    "    if pos:\n",
    "        pos = PrintSuccessStatus(OpenPatient(), \" - Öppnar patienten\")\n",
    "        finishMessage = \"Du måste dubbelklicka på rätt patient i tidboken innan du kör programmet.\"\n",
    "    if pos:\n",
    "        pos = PrintSuccessStatus(RegisterVisit(tasks), \" - Besökregistrering\")\n",
    "        finishMessage = \"Du måste själv komplettera med det som inte blev gjort. Du kan sedan köra programmet på nästa patient.\"\n",
    "    if pos:\n",
    "        pos = PrintSuccessStatus(SetDiagnosis(tasks), \" - Sätter diagnos\")\n",
    "    if pos:\n",
    "        pos = PrintSuccessStatus(SetActionCode(tasks), \" - Sätter KVÅ\")\n",
    "    if pos:\n",
    "        pos = PrintSuccessStatus(RegistreraVaccinationer(vaccinationDataList), \" - Registrerar vaccin\")\n",
    "        \n",
    "        \n",
    "    if pos:\n",
    "        print(AsSuccess(\"\\nAVSLUTAR\"))\n",
    "        finishMessage = \"Redo för en ny omgång.\"\n",
    "    else:\n",
    "        print(AsError(\"\\nAVSLUTAR\"))\n",
    "        \n",
    "    print(\"\\n - \" + finishMessage)\n"
   ]
  },
  {
   "cell_type": "markdown",
   "metadata": {},
   "source": [
    "# User interface"
   ]
  },
  {
   "cell_type": "code",
   "execution_count": 48,
   "metadata": {},
   "outputs": [],
   "source": [
    "vaccineDropdownCovid =  widgets.Dropdown(\n",
    "                        options=['AstraZeneca', 'Moderna', 'Janssen', \"Pfizer (Comirnaty)\"],\n",
    "                        value='AstraZeneca',\n",
    "                        description='Välj vaccin:')\n",
    "\n",
    "vaccineDictCovid = {\n",
    "    'AstraZeneca': \"covid-19 vaccine ast\",\n",
    "    'Moderna': \"covid-19 vaccine mod\",\n",
    "    'Janssen': \"covid-19 vaccine jan\",\n",
    "    \"Pfizer (Comirnaty)\": \"comirnaty\"\n",
    "}\n",
    "\n",
    "\n",
    "vaccineDropdownInfluensa =  widgets.Dropdown(\n",
    "                        options=['Influvac Tetra', 'Vaxigrip Tetra'],\n",
    "                        value='Influvac Tetra',\n",
    "                        description='Välj vaccin:')\n",
    "\n",
    "vaccineDictInfluensa = {\n",
    "    'Influvac Tetra': \"Influvac T\",\n",
    "    'Vaxigrip Tetra': \"Vaxigrip T\",\n",
    "}\n",
    "\n",
    "\n",
    "doseDropdownCovid = widgets.Dropdown(\n",
    "               options=['Dos 1', 'Dos 2', \"Dos 3\"],\n",
    "               value='Dos 1',\n",
    "               description='Välj dos:')\n",
    "\n",
    "doseDict = {\n",
    "    \"Dos 1\": \"1\",\n",
    "    \"Dos 2\": \"2\",\n",
    "    \"Dos 3\": \"3\"\n",
    "}\n",
    "\n",
    "batchTextFieldCovid = widgets.Text(\n",
    "                      value='',\n",
    "                      description='Skriv batchnummer', )\n",
    "\n",
    "batchTextFieldInfluensa = widgets.Text(\n",
    "                      value='',\n",
    "                      description='Skriv batchnummer', )\n",
    "\n",
    "batchTextFieldPneumo = widgets.Text(\n",
    "                      value='',\n",
    "                      description='Skriv batchnummer', )\n",
    "\n",
    "startButtonCovid = widgets.Button(description='Starta Covid-19', \n",
    "                             style=widgets.ButtonStyle(button_color=\"rgb(40,80,200)\"))\n",
    "startButtonInfluensa = widgets.Button(description='Starta Influensa', \n",
    "                             style=widgets.ButtonStyle(button_color=\"rgb(40,80,200)\"))\n",
    "startButtonCovidInflu = widgets.Button(description='Starta Covid+Influensa', \n",
    "                             style=widgets.ButtonStyle(button_color=\"rgb(40,80,200)\"))\n",
    "startButtonInfluensaPneumo = widgets.Button(description='Starta Influensa+Pneumokock', \n",
    "                             style=widgets.ButtonStyle(button_color=\"rgb(40,80,200)\"))\n",
    "\n",
    "outputArea =  widgets.Output()\n",
    "\n",
    "\n",
    "covidLabel = widgets.HTML(\n",
    "    value=\"<h2>Covid-19</h2>\",\n",
    "    placeholder='Covid-19',\n",
    ")\n",
    "\n",
    "influensaLabel = widgets.HTML(\n",
    "    value=\"<h2>Influensa</h2>\",\n",
    "    placeholder='Influensa',\n",
    ")\n",
    "\n",
    "pneumoLabel = widgets.HTML(\n",
    "    value=\"<h2>Pneumokocker</h2>\",\n",
    "    placeholder='Influensa',\n",
    ")\n",
    "\n",
    "runLabel = widgets.HTML(\n",
    "    value=\"<h2>Kör programmet</h2>\",\n",
    "    placeholder='Kör programmet',\n",
    ")\n",
    "\n",
    "covidColumn = widgets.VBox([covidLabel,\n",
    "                            vaccineDropdownCovid, \n",
    "                            doseDropdownCovid, \n",
    "                            batchTextFieldCovid, ])\n",
    "\n",
    "pneumoColumn = widgets.VBox([pneumoLabel,\n",
    "                             batchTextFieldPneumo])\n",
    "\n",
    "influensaColumn = widgets.VBox([influensaLabel,\n",
    "                                vaccineDropdownInfluensa,\n",
    "                                batchTextFieldInfluensa,\n",
    "                                pneumoColumn])\n",
    "\n",
    "inputArea = widgets.HBox(  [covidColumn,\n",
    "                            influensaColumn])\n",
    "\n",
    "runArea = widgets.VBox(    [runLabel,\n",
    "                            startButtonCovid,\n",
    "                            startButtonInfluensa,\n",
    "                            startButtonCovidInflu,\n",
    "                            startButtonInfluensaPneumo])\n",
    "\n",
    "outputColumn = widgets.VBox( [outputArea])\n",
    "\n",
    "runAndOutputArea = widgets.HBox ([runArea, \n",
    "                                  outputColumn])\n",
    "\n",
    "\n",
    "Interface = widgets.VBox(  [inputArea,\n",
    "                            runAndOutputArea])\n",
    "\n",
    "def onCovid(_):\n",
    "    vaccinationDataList = [{\n",
    "        \"tag\": \"covid\",\n",
    "        \"Name\": ,\n",
    "        \"DoseNo\": ,\n",
    "        \"BatchNo\": ,\n",
    "    }]\n",
    "    \n",
    "    run(vaccinationDataList)\n",
    "        \n",
    "def onInfluensa(_):\n",
    "    vaccinationDataList = [{\n",
    "        \"tag\": ,\n",
    "        \"Name\": ,\n",
    "        \"DoseNo\": ,\n",
    "        \"BatchNo\": ,\n",
    "    }]\n",
    "    \n",
    "    run(vaccinationDataList)\n",
    "        \n",
    "def onCovidInflu(_):\n",
    "    vaccinationDataList = [{\n",
    "        \"tag\": ,\n",
    "        \"Name\": ,\n",
    "        \"DoseNo\": ,\n",
    "        \"BatchNo\": ,\n",
    "    }]\n",
    "    \n",
    "    run(vaccinationDataList)\n",
    "        \n",
    "def onInfluensaPneumo(_):\n",
    "    vaccinationDataList = [{\n",
    "        \"tag\": ,\n",
    "        \"Name\": ,\n",
    "        \"DoseNo\": ,\n",
    "        \"BatchNo\": ,\n",
    "    }]\n",
    "    \n",
    "    run(vaccinationDataList)\n",
    "\n",
    "def run(vaccinationDataList):\n",
    "    # \"linking function with output\"\n",
    "    with outputArea:\n",
    "        # what happens when we press the button\n",
    "        clear_output()\n",
    "        RunFullVaccinationSequence(vaccinationDataList)\n",
    "        \n",
    "# linking button and function together using a button's method\n",
    "startButtonCovid.on_click(onCovid)\n",
    "startButtonInfluensa.on_click(onInfluensa)\n",
    "startButtonCovidInflu.on_click(onCovidInflu)\n",
    "startButtonInfluensaPneumo.on_click(onInfluensaPneumo)\n"
   ]
  },
  {
   "cell_type": "markdown",
   "metadata": {},
   "source": [
    "<br/>\n",
    "<br/>\n",
    "<img src=\"https://media.istockphoto.com/vectors/cute-cartoon-car-set-with-dash-line-and-horizontal-road-baby-kids-vector-id1141945630\" style=\"max-width:500px;display:block;\" align=\"left\">"
   ]
  },
  {
   "cell_type": "markdown",
   "metadata": {},
   "source": [
    "# Använd programmet här!\n",
    "1. Välj vaccin, dos och skriv in batch nummer för de vaccin som är relevanta.\n",
    "2. Dubbelklicka på rätt patient i tidboken i PMO, men gå inte in i journalen.\n",
    "3. Om du inte själv är sjuksköterska eller läkare, välj att du arbetar rollen som sjuksköterska\n",
    "4. Klicka på Starta för de vaccin du ska ge.\n",
    "5. När du är klar med en patient kan du börja om från nr 2 ovan med nästa patient.\n",
    "\n",
    "**Notera:** Om fler än ett vaccin används på samma gång, sparas de. Du måste du själv kontrollera vaccinen i vaccinationslistan och signera dem (med alt+g) om inget ska ändras."
   ]
  },
  {
   "cell_type": "code",
   "execution_count": 49,
   "metadata": {},
   "outputs": [
    {
     "data": {
      "application/vnd.jupyter.widget-view+json": {
       "model_id": "c85a7af29a724b0593553342f2655272",
       "version_major": 2,
       "version_minor": 0
      },
      "text/plain": [
       "VBox(children=(HBox(children=(VBox(children=(HTML(value='<h2>Covid-19</h2>', placeholder='Covid-19'), Dropdown…"
      ]
     },
     "metadata": {},
     "output_type": "display_data"
    }
   ],
   "source": [
    "Interface"
   ]
  },
  {
   "cell_type": "code",
   "execution_count": null,
   "metadata": {},
   "outputs": [],
   "source": []
  },
  {
   "cell_type": "markdown",
   "metadata": {},
   "source": [
    "<img src=\"https://cdn.pixabay.com/photo/2014/10/19/04/52/light-494011__340.png\" style=\"max-width:500px;display:block;\" align=\"left\">\n"
   ]
  }
 ],
 "metadata": {
  "kernelspec": {
   "display_name": "Python 3",
   "language": "python",
   "name": "python3"
  },
  "language_info": {
   "codemirror_mode": {
    "name": "ipython",
    "version": 3
   },
   "file_extension": ".py",
   "mimetype": "text/x-python",
   "name": "python",
   "nbconvert_exporter": "python",
   "pygments_lexer": "ipython3",
   "version": "3.7.3"
  }
 },
 "nbformat": 4,
 "nbformat_minor": 4
}
