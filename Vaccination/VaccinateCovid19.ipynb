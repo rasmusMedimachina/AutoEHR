{
 "cells": [
  {
   "cell_type": "code",
   "execution_count": 1,
   "metadata": {},
   "outputs": [],
   "source": [
    "from pprint import pprint\n",
    "import os\n",
    "import re\n",
    "import time\n",
    "from time import sleep\n",
    "\n",
    "from pynput.mouse import Button, Controller as MouseCtrlr\n",
    "from pynput.keyboard import Key, Controller as KeyCtrlr\n",
    "import pyautogui as pag\n",
    "import keyboard as keyboard\n",
    "\n",
    "\n",
    "from matplotlib import pyplot as plt\n",
    "from PIL import Image\n",
    "import cv2 as cv\n",
    "import numpy as np"
   ]
  },
  {
   "cell_type": "code",
   "execution_count": 2,
   "metadata": {},
   "outputs": [],
   "source": [
    "import pytesseract as tess\n",
    "tess.pytesseract.tesseract_cmd = r'C:\\Program Files\\Tesseract-OCR\\tesseract'"
   ]
  },
  {
   "cell_type": "markdown",
   "metadata": {},
   "source": [
    "# Helper functions"
   ]
  },
  {
   "cell_type": "code",
   "execution_count": 3,
   "metadata": {},
   "outputs": [],
   "source": [
    "def imshow(img, cmap=None, size=10):\n",
    "    if type(img) == str:\n",
    "        img = cv.imread(img)\n",
    "    elif(not type(img) == np.ndarray):\n",
    "        return\n",
    "    \n",
    "    fig = plt.figure(figsize=(size,size))\n",
    "    ax = plt.Axes(fig, [0,0,1,1])\n",
    "    ax.set_axis_off()\n",
    "    fig.add_axes(ax)\n",
    "    ax.imshow(img, cmap)"
   ]
  },
  {
   "cell_type": "code",
   "execution_count": 4,
   "metadata": {},
   "outputs": [],
   "source": [
    "def get_inverted(image):\n",
    "    return cv.bitwise_not(image)\n",
    "\n",
    "# get grayscale image\n",
    "def get_grayscale(image):\n",
    "    return cv.cvtColor(image, cv.COLOR_BGR2GRAY)\n",
    "\n",
    "#thresholding\n",
    "def thresholding(image, threshold=180):\n",
    "    return cv.threshold(image, threshold, 255, cv.THRESH_BINARY)[1]\n",
    "    #return cv.adaptiveThreshold(image, 255, cv.ADAPTIVE_THRESH_GAUSSIAN_C, cv.THRESH_BINARY,11,2)\n",
    "    \n",
    "def thresholdingAdaptive(image):\n",
    "    return cv.adaptiveThreshold(image, 255, cv.ADAPTIVE_THRESH_GAUSSIAN_C, cv.THRESH_BINARY,11,2)"
   ]
  },
  {
   "cell_type": "code",
   "execution_count": 5,
   "metadata": {},
   "outputs": [],
   "source": [
    "kb = KeyCtrlr()"
   ]
  },
  {
   "cell_type": "code",
   "execution_count": 6,
   "metadata": {},
   "outputs": [],
   "source": [
    "class Pos:\n",
    "    def __init__(self, x = 0, y = 0):\n",
    "        self.x = x\n",
    "        self.y = y\n",
    "        \n",
    "    def __str__(self):\n",
    "        return f\"({self.x}, {self.y})\"\n",
    "    \n",
    "    def __repr__(self):\n",
    "        return f\"({self.x}, {self.y})\"\n",
    "    \n",
    "    def __bool__(self):\n",
    "        return True"
   ]
  },
  {
   "cell_type": "code",
   "execution_count": 7,
   "metadata": {},
   "outputs": [],
   "source": [
    "def message(str):\n",
    "    return pag.confirm(str)"
   ]
  },
  {
   "cell_type": "code",
   "execution_count": 8,
   "metadata": {},
   "outputs": [],
   "source": [
    "globalWaitTime = 1\n",
    "globalLimitTime = 5\n",
    "globalWaitBeforeStart = 0.2\n",
    "\n",
    "def getWaitAndLimit(beforeStart = -1, limit = -1, wait = -1):\n",
    "    if wait == -1:\n",
    "        wait = globalWaitTime\n",
    "    if limit == -1:\n",
    "        limit = globalLimitTime\n",
    "    if beforeStart == -1:\n",
    "        beforeStart = globalWaitBeforeStart\n",
    "        \n",
    "    return (beforeStart, limit, wait)"
   ]
  },
  {
   "cell_type": "code",
   "execution_count": 10,
   "metadata": {},
   "outputs": [],
   "source": [
    "def waitForElement(path, beforeStart = -1, limit = -1, waitTime = -1, conf = 0.9, warn = True):\n",
    "    timePassed = 0\n",
    "    beforeStart, limit, waitTime = getWaitAndLimit(beforeStart, limit, waitTime)\n",
    "    sleep(beforeStart)\n",
    "        \n",
    "    \n",
    "    while timePassed < limit:\n",
    "        try:\n",
    "            x, y = pag.locateCenterOnScreen(path, confidence = conf)\n",
    "            return Pos(x, y)\n",
    "        except Exception as e:\n",
    "            pass\n",
    "            #print(str(e))\n",
    "            \n",
    "        sleep(waitTime)\n",
    "        timePassed += waitTime\n",
    "    \n",
    "    if warn:\n",
    "        message(\"Timed out waiting for element \" + name)\n",
    "    return False\n",
    "        \n",
    "#waitForElement(\"SokValjPatient\")"
   ]
  },
  {
   "cell_type": "code",
   "execution_count": 11,
   "metadata": {},
   "outputs": [],
   "source": [
    "def waitForElementDisappear(path, beforeStart = -1, limit = -1, waitTime = -1, conf = 0.9, warn = True):\n",
    "    timePassed = 0\n",
    "    beforeStart, limit, waitTime = getWaitAndLimit(beforeStart, limit, waitTime)\n",
    "    sleep(beforeStart)\n",
    "    \n",
    "    while timePassed < limit:\n",
    "        try:\n",
    "            x, y = pag.locateCenterOnScreen(path, confidence = conf)\n",
    "        except Exception as e:\n",
    "            if (str(e) == \"cannot unpack non-iterable NoneType object\"):\n",
    "                return True\n",
    "            else:\n",
    "                print(str(e))\n",
    "            \n",
    "        sleep(waitTime)\n",
    "        timePassed += waitTime\n",
    "    \n",
    "    if warn:\n",
    "        message(\"Timed out waiting for element disappear \" + name)\n",
    "    return False\n"
   ]
  },
  {
   "cell_type": "code",
   "execution_count": 12,
   "metadata": {},
   "outputs": [],
   "source": [
    "def waitForOneOf(nameList, beforeStart = -1, limit = -1, waitTime = -1, conf = 0.9, warn = True):\n",
    "    timePassed = 0\n",
    "    beforeStart, limit, waitTime = getWaitAndLimit(beforeStart, limit, waitTime)\n",
    "    sleep(beforeStart)\n",
    "    \n",
    "    while timePassed < limit:\n",
    "        for name in nameList:\n",
    "            pos = waitForElement(name, beforeStart = 0, limit = 0.01, waitTime = 0.01, warn = False)\n",
    "            timePassed += 0.01\n",
    "            if pos:\n",
    "                return pos\n",
    "            \n",
    "        sleep(waitTime)\n",
    "        timePassed += waitTime\n",
    "        \n",
    "    if warn:\n",
    "        message(\"Timed out waiting for element list \" + str(nameList))\n",
    "        \n",
    "    return False\n",
    "    \n",
    "#waitForOneOf([\"FleraIFoljd\", \"osrsakskod1IcdFalt\", \"sokDiagnos\"], limit=2)"
   ]
  },
  {
   "cell_type": "code",
   "execution_count": 13,
   "metadata": {},
   "outputs": [],
   "source": [
    "def waitAndClickOneOf(nameList, relX = 0, relY = 0, beforeStart = -1, limit = -1, waitTime = -1, conf = 0.9, warn = True, button = \"left\"):\n",
    "    pos = waitForOneOf(nameList, beforeStart = beforeStart, limit = limit, waitTime = waitTime, conf = conf, warn = warn)\n",
    "    \n",
    "    if pos:\n",
    "        pos.x += relX\n",
    "        pos.y += relY\n",
    "        \n",
    "        if button == \"left\":\n",
    "            pag.leftClick(pos.x, pos.y)\n",
    "        elif button == \"right\":\n",
    "            pag.rightClick(pos.x, pos.y)\n",
    "            \n",
    "        return pos\n",
    "    \n",
    "    return False\n",
    "\n",
    "\n",
    "#waitAndClickOneOf([\"FleraIFoljd\", \"osrsakskod1IcdFalt\", \"sokDiagnos\"])"
   ]
  },
  {
   "cell_type": "code",
   "execution_count": 14,
   "metadata": {},
   "outputs": [],
   "source": [
    "def waitAndClickElement(name, relX = 0, relY = 0, beforeStart = -1, limit = -1, waitTime = -1, conf = 0.9, warn = True, button=\"left\"):\n",
    "    pos = waitForElement(name, beforeStart, limit, waitTime, conf, warn=warn)\n",
    "    \n",
    "    if pos:\n",
    "        pos.x += relX\n",
    "        pos.y += relY\n",
    "        #print(f'Moving to {pos.x}, {pos.y}')\n",
    "        \n",
    "        if button == \"left\":\n",
    "            pag.leftClick(pos.x, pos.y)\n",
    "        elif button == \"right\":\n",
    "            pag.rightClick(pos.x, pos.y)\n",
    "        return pos\n",
    "    else:\n",
    "        return False\n",
    "\n",
    "#waitAndClickElement(\"SokValjPatient\")"
   ]
  },
  {
   "cell_type": "code",
   "execution_count": 15,
   "metadata": {},
   "outputs": [],
   "source": [
    "def waitAndClickXY(x, y, beforeStart = -1, waitTime = -1, button=\"left\"):\n",
    "    pos = Pos(x, y)\n",
    "    return waitAndClick([pos], beforeStart = beforeStart, waitTime = waitTime, button=button)\n",
    "\n",
    "def waitAndClick(positions, beforeStart = -1, waitTime = -1, button=\"left\"):\n",
    "    beforeStart, limit, waitTime = getWaitAndLimit(beforeStart = beforeStart, wait = waitTime)\n",
    "    \n",
    "    try:\n",
    "        if type(positions) != list and type(positions) != tuple:\n",
    "            positions = [positions]\n",
    "\n",
    "        #print(f\"Sleeping {beforeStart} before starting\")\n",
    "        sleep(beforeStart)\n",
    "        for i, pos in enumerate(positions):\n",
    "            if type(pos) == list or type(pos) == tuple:\n",
    "                posObj = Pos(pos[0], pos[1])\n",
    "            else:\n",
    "                posObj = pos\n",
    "            \n",
    "            #print(text)\n",
    "            if button == \"left\":\n",
    "                pag.leftClick(posObj.x, posObj.y)\n",
    "            elif button == \"right\":\n",
    "                pag.rightClick(posObj.x, posObj.y)\n",
    "            if i != len(positions) - 1:\n",
    "                sleep(waitTime)\n",
    "        \n",
    "        return True\n",
    "    except Exception as e:\n",
    "        print(\"Faild at waitAndClick: \" + str(e))\n",
    "        return False\n",
    "    "
   ]
  },
  {
   "cell_type": "code",
   "execution_count": 16,
   "metadata": {},
   "outputs": [],
   "source": [
    "def waitAndType(texts, beforeStart = -1, waitTime = -1):\n",
    "    beforeStart, limit, waitTime = getWaitAndLimit(beforeStart = beforeStart, wait = waitTime)\n",
    "    \n",
    "    try:\n",
    "        if type(texts) == str:\n",
    "            texts = [texts]\n",
    "\n",
    "        sleep(beforeStart)\n",
    "        for i, text in enumerate(texts):\n",
    "            #print(text)\n",
    "            kb.type(text)\n",
    "            if i != len(texts) - 1:\n",
    "                sleep(waitTime)\n",
    "        \n",
    "        return True\n",
    "    except Exception as e:\n",
    "        print(\"Faild at waitAndType: \" + str(e))\n",
    "        return False\n",
    "        \n",
    "        \n",
    "#waitAndType([\"hej\", \"hej2\", \"hej3\"])\n",
    "#waitAndType(\"hejdå\")"
   ]
  },
  {
   "cell_type": "code",
   "execution_count": 17,
   "metadata": {},
   "outputs": [],
   "source": [
    "def waitAndPress(key1, key2 = None, key3 = None, beforeStart = -1):\n",
    "    beforeStart, limit, waitTime = getWaitAndLimit(beforeStart)\n",
    "    \n",
    "    sleep(beforeStart)\n",
    "    \n",
    "    try:\n",
    "        if key2 and key3:\n",
    "            keyboard.press_and_release(key1+\"+\"+key2+\"+\"+key3)\n",
    "        elif key2:\n",
    "            pag.press_and_release(key1+\"+\"+key2)\n",
    "        else:\n",
    "            pag.press_and_release(key1)\n",
    "        return True\n",
    "    except Exception as e:\n",
    "        pag.confirm(f\"Failed wait and press {str(key1)},{str(key2)},{str(key3)}\")\n",
    "        return False\n",
    "    "
   ]
  },
  {
   "cell_type": "markdown",
   "metadata": {},
   "source": [
    "# Complex function"
   ]
  },
  {
   "cell_type": "code",
   "execution_count": 28,
   "metadata": {},
   "outputs": [
    {
     "data": {
      "text/plain": [
       "'..\\\\Images\\\\Vaccine\\\\ArbetsflodeLabel.png'"
      ]
     },
     "execution_count": 28,
     "metadata": {},
     "output_type": "execute_result"
    }
   ],
   "source": [
    "class ImgsEnum:\n",
    "    def __init__(self, imagesPath):\n",
    "        self.ArbetsflodeLabel = os.path.join(imagesPath, \"Vaccine\", \"ArbetsflodeLabel.png\")\n",
    "        self.StangButtonText = os.path.join(imagesPath, \"Vaccine\", \"StangButtonText.png\")\n",
    "        self.NyDiagnosTab = os.path.join(imagesPath, \"Vaccine\", \"NyDiagnosTab.png\")\n",
    "        self.KshDropdownChoice = os.path.join(imagesPath, \"Vaccine\", \"KshDropdownChoice.png\")\n",
    "        self.icd10DropdownChoice = os.path.join(imagesPath, \"Vaccine\", \"icd10DropdownChoice.png\")\n",
    "        self.icdSearchInputField = os.path.join(imagesPath, \"Vaccine\", \"icdSearchInputField.png\")\n",
    "        self.NyDiagnosSearchField = os.path.join(imagesPath, \"Vaccine\", \"NyDiagnosSearchField.png\")\n",
    "        self.NyAtgardTab = os.path.join(imagesPath, \"Vaccine\", \"NyAtgardTab.png\")\n",
    "        self.covid19AtgardChoice = os.path.join(imagesPath, \"Vaccine\", \"covid19AtgardChoice.png\")\n",
    "        self.VaccinationCovid19Choice = os.path.join(imagesPath, \"Vaccine\", \"VaccinationCovid19Choice.png\")\n",
    "        self.AtgardRelateradCovid19 = os.path.join(imagesPath, \"Vaccine\", \"AtgardRelateradCovid19.png\")\n",
    "        self.CitrixIcon = os.path.join(imagesPath, \"Vaccine\", \"CitrixIcon.png\")\n",
    "        self.LotNrLabel = os.path.join(imagesPath, \"Vaccine\", \"LotNrLabel.png\")\n",
    "        self.DosNummerInputField = os.path.join(imagesPath, \"Vaccine\", \"DosNummerInputField.png\")\n",
    "        self.KontraindikationNejCheckbox = os.path.join(imagesPath, \"Vaccine\", \"KontraindikationNejCheckbox.png\")\n",
    "        #self. = os.path.join(imagesPath, \"Vaccine\", \".png\")\n",
    "\n",
    "    \n",
    "IMG = ImgsEnum(os.path.join(\"..\", \"Images\"))\n",
    "\n",
    "IMG.ArbetsflodeLabel"
   ]
  },
  {
   "cell_type": "code",
   "execution_count": null,
   "metadata": {},
   "outputs": [],
   "source": []
  },
  {
   "cell_type": "code",
   "execution_count": null,
   "metadata": {},
   "outputs": [],
   "source": []
  },
  {
   "cell_type": "code",
   "execution_count": null,
   "metadata": {},
   "outputs": [],
   "source": []
  }
 ],
 "metadata": {
  "kernelspec": {
   "display_name": "Python 3",
   "language": "python",
   "name": "python3"
  },
  "language_info": {
   "codemirror_mode": {
    "name": "ipython",
    "version": 3
   },
   "file_extension": ".py",
   "mimetype": "text/x-python",
   "name": "python",
   "nbconvert_exporter": "python",
   "pygments_lexer": "ipython3",
   "version": "3.7.3"
  }
 },
 "nbformat": 4,
 "nbformat_minor": 4
}
