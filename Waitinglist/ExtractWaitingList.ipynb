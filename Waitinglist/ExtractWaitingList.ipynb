{
 "cells": [
  {
   "cell_type": "code",
   "execution_count": null,
   "metadata": {},
   "outputs": [],
   "source": [
    "import PyPDF2\n",
    "import re\n",
    "from pprint import pprint\n",
    "from datetime import datetime\n",
    "import pandas as pd\n",
    "import numpy as np\n",
    "import matplotlib.pyplot as plt\n",
    "\n",
    "current_year = datetime.now().year\n",
    "print(current_year)\n",
    "\n",
    "def parse_date(date_string):\n",
    "    date_format = \"%Y-%m-%d\"\n",
    "    try:\n",
    "        parsed_date = datetime.strptime(date_string, date_format).date()\n",
    "        return parsed_date\n",
    "    except ValueError:\n",
    "        return None\n"
   ]
  },
  {
   "cell_type": "code",
   "execution_count": null,
   "metadata": {},
   "outputs": [],
   "source": [
    "file_path = \"..\\\\..\\\\Files\\\\WaitingList\\\\\""
   ]
  },
  {
   "cell_type": "markdown",
   "metadata": {},
   "source": [
    "# Skip from here if not parsing pdf report\n",
    "\n",
    "* Print with the second option for printing style\n",
    "* Select all categories - not only \"läkarbesök\"."
   ]
  },
  {
   "cell_type": "code",
   "execution_count": null,
   "metadata": {},
   "outputs": [],
   "source": [
    "# Open the PDF file in read binary mode\n",
    "with open(file_path+'Report_after_transfering_2024-12-11_limit_2025-12-31.pdf', 'rb') as file:\n",
    "    # Create a PDF reader object\n",
    "    reader = PyPDF2.PdfReader(file)\n",
    "    \n",
    "    # Initialize an empty string to store the text\n",
    "    text = ''\n",
    "    \n",
    "    # Iterate over each page in the PDF\n",
    "    for page in reader.pages:\n",
    "        # Extract the text from the page and append it to the string\n",
    "        text += page.extract_text()\n",
    "    \n",
    "# Print the extracted text\n",
    "print(text[:100])\n"
   ]
  },
  {
   "cell_type": "code",
   "execution_count": null,
   "metadata": {},
   "outputs": [],
   "source": [
    "# Split into pages by splitting on \"Utskriftsdatum:\"\n",
    "\n",
    "pages = text.split(\"Utskriftsdatum:\")"
   ]
  },
  {
   "cell_type": "code",
   "execution_count": null,
   "metadata": {},
   "outputs": [],
   "source": [
    "def clean_page(page):\n",
    "    page = re.sub(r'^[\\n\\w\\W]+LUNDVE Hälsocentralen S:t Hans i Lund', \"\", page)\n",
    "    page = re.sub(r'\\d{4}-\\d{2}-\\d{2}\\s*$', \"\", page)\n",
    "    return page\n",
    "#print(clean_page(pages[0]))"
   ]
  },
  {
   "cell_type": "code",
   "execution_count": null,
   "metadata": {},
   "outputs": [],
   "source": [
    "example = \"\"\"Läkarmottagning870356-7890 Anna, Anka\n",
    "2021-04-21\n",
    "2021-09-01 2021-10-01Kategori:\n",
    "Väntat sedan:\n",
    "Bokas fr o m: Bokas senast:Kallad:\n",
    "VE Hälsocentralen Sankt Hans LundHerr Testsson Önskad vårdgivare:\"\"\""
   ]
  },
  {
   "cell_type": "code",
   "execution_count": null,
   "metadata": {},
   "outputs": [],
   "source": [
    "def extract_re_group(match, group=1, default=\"\"):\n",
    "    if not match or not match.group(group):\n",
    "        return default\n",
    "    return match.group(group)"
   ]
  },
  {
   "cell_type": "code",
   "execution_count": null,
   "metadata": {},
   "outputs": [],
   "source": [
    "def extract_patient(patient_text):\n",
    "    patient_text = patient_text.strip()\n",
    "    visit_type = extract_re_group(re.search(r'(^.+?)\\d{6}', patient_text))\n",
    "    personnr = extract_re_group(re.search(r'(\\d\\d\\d\\d\\d\\d[+-]\\d\\d\\d\\d)', patient_text))\n",
    "    staff_member = extract_re_group(re.search(r'Sankt Hans Lund(.+) Önskad vårdgivare', patient_text))\n",
    "\n",
    "    if not staff_member:\n",
    "        # print(\"FAILED WITH:\", patient_text, \"------------\")\n",
    "        return None\n",
    "\n",
    "    age = -1\n",
    "    waited_since = None\n",
    "    book_from = None\n",
    "    book_not_later_than = None\n",
    "\n",
    "    year = extract_re_group(re.search(r'^.+?(\\d{2})', patient_text))\n",
    "    if (year):\n",
    "        year = int(year)\n",
    "        if year < 22:\n",
    "            year += 2000\n",
    "        else:\n",
    "            year += 1900\n",
    "        age = current_year - year\n",
    "\n",
    "    dates = re.findall(r'\\d{4}-\\d{2}-\\d{2}', patient_text)\n",
    "    if len(dates) == 3:\n",
    "        waited_since = parse_date(dates[0])\n",
    "        book_from = parse_date(dates[1])\n",
    "        book_not_later_than = parse_date(dates[2])\n",
    "        \n",
    "\n",
    "    patient = {\n",
    "        \"staff_member\": staff_member,\n",
    "        \"visit_type\": visit_type,\n",
    "        \"Personnr\": personnr,\n",
    "        \"age\": age,\n",
    "        \"waited_since\": waited_since,\n",
    "        \"book_from\": book_from,\n",
    "        \"book_not_later_than\": book_not_later_than\n",
    "    }\n",
    "    \n",
    "    return patient\n",
    "\n",
    "# pprint(extract_patient(example))"
   ]
  },
  {
   "cell_type": "code",
   "execution_count": null,
   "metadata": {},
   "outputs": [],
   "source": [
    "def get_patients(page):\n",
    "    patient_texts = page.split(\"Enhet:\")\n",
    "    patients = []\n",
    "\n",
    "    for patient_text in patient_texts:\n",
    "        patient = extract_patient(patient_text)\n",
    "        if (patient):\n",
    "            patients.append(patient)\n",
    "\n",
    "    return patients"
   ]
  },
  {
   "cell_type": "code",
   "execution_count": null,
   "metadata": {},
   "outputs": [],
   "source": [
    "all_patients = []\n",
    "\n",
    "for page in pages:\n",
    "    cleaned_page = clean_page(page)\n",
    "    patients = get_patients(cleaned_page)\n",
    "    all_patients.extend(patients)\n",
    "    \n",
    "df = pd.DataFrame(all_patients)\n",
    "len(df)"
   ]
  },
  {
   "cell_type": "code",
   "execution_count": null,
   "metadata": {},
   "outputs": [],
   "source": [
    "# save df as xlsx\n",
    "df.to_excel(\"patients.xlsx\")"
   ]
  },
  {
   "cell_type": "markdown",
   "metadata": {},
   "source": [
    "# Start here if loading"
   ]
  },
  {
   "cell_type": "code",
   "execution_count": null,
   "metadata": {},
   "outputs": [],
   "source": [
    "df = pd.read_excel(\"patients.xlsx\")"
   ]
  },
  {
   "cell_type": "markdown",
   "metadata": {},
   "source": [
    "# Filter"
   ]
  },
  {
   "cell_type": "code",
   "execution_count": null,
   "metadata": {},
   "outputs": [],
   "source": [
    "visit_types = set(df[\"visit_type\"])\n",
    "visit_types"
   ]
  },
  {
   "cell_type": "code",
   "execution_count": null,
   "metadata": {},
   "outputs": [],
   "source": [
    "visits = df[(\n",
    "    (df[\"visit_type\"] != \"Telefontid\") & \n",
    "            (df[\"visit_type\"] != \"Lab/provtagning\"))]\n",
    "len(visits)"
   ]
  },
  {
   "cell_type": "code",
   "execution_count": null,
   "metadata": {},
   "outputs": [],
   "source": [
    "# FILTER LAST DATE\n",
    "last_date = \"2025-12-31\"\n",
    "\n",
    "visits = visits.copy()\n",
    "visits.loc[:, 'book_not_later_than'] = pd.to_datetime(visits['book_not_later_than'])\n",
    "# Filter rows where \"staff_member\" is in dr_names and \"book_no_later_than\" is before today's date\n",
    "filtered_rows = visits.loc[(visits['book_not_later_than'] <  datetime.strptime(last_date, \"%Y-%m-%d\"))]\n",
    "len(filtered_rows)\n",
    "visits = filtered_rows"
   ]
  },
  {
   "cell_type": "code",
   "execution_count": null,
   "metadata": {},
   "outputs": [],
   "source": [
    "dr_names = []\n",
    "\n",
    "with open(file_path+\"läkare.txt\", \"r\") as f:\n",
    "    dr_names = f.readlines()\n",
    "    dr_names = [name.strip() for name in dr_names]\n",
    "\n",
    "dr_names"
   ]
  },
  {
   "cell_type": "code",
   "execution_count": null,
   "metadata": {},
   "outputs": [],
   "source": [
    "# Analyze single doctor\n",
    "def analyze_doctor_months(doctor_name, start_date=None, end_date=None):\n",
    "    doctors_df = visits[visits[\"staff_member\"] == doctor_name]\n",
    "\n",
    "    if start_date and end_date:\n",
    "        start_date = parse_date(start_date)\n",
    "        end_date = parse_date(end_date)\n",
    "        doctors_df = doctors_df[(doctors_df[\"book_not_later_than\"] >= start_date) & (doctors_df[\"book_not_later_than\"] <= end_date)]\n",
    "\n",
    "    # Create an empty dictionary to store the counts\n",
    "    month_counts = {}\n",
    "\n",
    "    # Iterate over each row in the dataframe\n",
    "    for index, entry in doctors_df.iterrows():\n",
    "        # Get the \"book_not_later_than\" date\n",
    "        book_date = entry['book_not_later_than']\n",
    "        \n",
    "        # Check if the date is not None\n",
    "        if book_date is not None:\n",
    "            # Extract the month and year from the date\n",
    "            month_year = book_date.strftime('%Y-%m')\n",
    "            \n",
    "            # Increment the count for the corresponding month\n",
    "            month_counts[month_year] = month_counts.get(month_year, 0) + 1\n",
    "\n",
    "    # Print the resulting dictionary\n",
    "    return month_counts\n",
    "    "
   ]
  },
  {
   "cell_type": "code",
   "execution_count": null,
   "metadata": {},
   "outputs": [],
   "source": [
    "def analyze_doctor_quarters(doctor_name, start_date=None, end_date=None):\n",
    "    doctors_df = visits[visits[\"staff_member\"] == doctor_name]\n",
    "\n",
    "    if start_date and end_date:\n",
    "        start_date = parse_date(start_date)\n",
    "        end_date = parse_date(end_date)\n",
    "        doctors_df = doctors_df[(doctors_df[\"book_not_later_than\"] >= start_date) & (doctors_df[\"book_not_later_than\"] <= end_date)]\n",
    "    \n",
    "    # Create an empty dictionary to store the counts\n",
    "    quarter_counts = {}\n",
    "\n",
    "    # Iterate over each row in the dataframe\n",
    "    for index, entry in doctors_df.iterrows():\n",
    "        # Get the \"book_not_later_than\" date\n",
    "        book_date = entry['book_not_later_than']\n",
    "        \n",
    "        # Check if the date is not None\n",
    "        if book_date is not None:\n",
    "            # Extract the year from the date\n",
    "            year = book_date.year\n",
    "            # Determine the quarter\n",
    "            quarter = (book_date.month - 1) // 3 + 1\n",
    "            \n",
    "            # Create the quarter string\n",
    "            quarter_year = f'{year}-Q{quarter}'\n",
    "            \n",
    "            # Increment the count for the corresponding quarter\n",
    "            quarter_counts[quarter_year] = quarter_counts.get(quarter_year, 0) + 1\n",
    "\n",
    "    # Return the resulting dictionary\n",
    "    return quarter_counts"
   ]
  },
  {
   "cell_type": "code",
   "execution_count": null,
   "metadata": {},
   "outputs": [],
   "source": [
    "waiting_lists_quarters = {}\n",
    "waiting_lists_months = {}\n",
    "for name in dr_names:\n",
    "    waiting_lists_quarters[name] = analyze_doctor_quarters(name, \"2023-01-01\", \"2025-12-31\")\n",
    "    waiting_lists_months[name] = analyze_doctor_months(name, \"2023-01-01\", \"2025-12-31\")"
   ]
  },
  {
   "cell_type": "code",
   "execution_count": null,
   "metadata": {},
   "outputs": [],
   "source": [
    "total_n = 0\n",
    "personal = []\n",
    "for name in dr_names:\n",
    "    length = len(visits[visits[\"staff_member\"] == name])\n",
    "    total_n += length\n",
    "    personal.append({ \"name\": name, \"n\": length })\n",
    "    # print(name, len(visits[visits[\"staff_member\"] == name]))\n",
    "\n",
    "for i in range(len(personal)):\n",
    "    personal[i][\"percent\"] = personal[i][\"n\"] / total_n * 100\n",
    "\n",
    "personal_df = pd.DataFrame(personal, columns=[\"name\", \"n\", \"percent\"])\n",
    "personal_df.sort_values(by=\"n\", ascending=False, inplace=True)\n",
    "personal_df\n",
    "\n",
    "personal_df.to_excel(\"Personal.xlsx\", index=False)"
   ]
  },
  {
   "cell_type": "code",
   "execution_count": null,
   "metadata": {},
   "outputs": [],
   "source": [
    "def plot_data(data):\n",
    "    names = list(data.keys())\n",
    "    months = sorted(set(m for person_data in data.values() for m in person_data.keys()))\n",
    "\n",
    "    x = np.arange(len(months))  # the label locations\n",
    "    width = 1 / (len(names) + 1)  # the width of the bars\n",
    "\n",
    "    fig, ax = plt.subplots(figsize=(19.20, 10.80))  # Set the figure size\n",
    "    for i, name in enumerate(names):\n",
    "        counts = [data[name].get(month, 0) for month in months]\n",
    "        ax.bar(x - width/2 + i*width, counts, width, label=name)\n",
    "\n",
    "    # Add some text for labels, title and custom x-axis tick labels, etc.\n",
    "    ax.set_xlabel('Month')\n",
    "    ax.set_ylabel('Counts')\n",
    "    ax.set_title('Counts by quarter and person')\n",
    "    ax.set_xticks(x)\n",
    "    ax.set_xticklabels(months, rotation=90)  # Rotate the x-axis labels\n",
    "    ax.legend()\n",
    "\n",
    "    fig.tight_layout()\n",
    "\n",
    "    plt.show()\n",
    "\n",
    "plot_data(waiting_lists_quarters)"
   ]
  },
  {
   "cell_type": "code",
   "execution_count": null,
   "metadata": {},
   "outputs": [],
   "source": [
    "def plot_single_person_data(name, data):\n",
    "    if name not in data:\n",
    "        print(f\"No data for {name}\")\n",
    "        return\n",
    "\n",
    "    try:\n",
    "        person_data = data[name]\n",
    "        months = sorted(person_data.keys())\n",
    "        first_month = months[0]\n",
    "        last_month = months[-1]\n",
    "        month_before_first = (datetime.strptime(first_month, '%Y-%m') - pd.DateOffset(months=1)).strftime('%Y-%m')\n",
    "        month_after_last = (datetime.strptime(last_month, '%Y-%m') + pd.DateOffset(months=1)).strftime('%Y-%m')\n",
    "        months = [month_before_first] + months + [month_after_last]\n",
    "        person_data[month_before_first] = 0\n",
    "        person_data[month_after_last] = 0\n",
    "        \n",
    "        counts = [person_data[month] for month in months]\n",
    "\n",
    "        fig, ax = plt.subplots(figsize=(19.20, 10.80))  # Set the figure size\n",
    "        ax.plot(months, counts, label=name)  # Plot the line\n",
    "        ax.fill_between(months, counts, color='skyblue', alpha=0.4)  # Fill under the line\n",
    "\n",
    "        # Add a vertical line at the current month\n",
    "        current_month = datetime.now().strftime('%Y-%m')\n",
    "        if current_month in months:\n",
    "            ax.axvline(x=months.index(current_month), color='r')\n",
    "\n",
    "        # Add some text for labels, title and custom x-axis tick labels, etc.\n",
    "        ax.set_xlabel('Month', fontsize=30)  # Increase the font size\n",
    "        ax.set_ylabel('Counts', fontsize=30)  # Increase the font size\n",
    "        ax.set_title(f'Counts by month for {name}', fontsize=40)  # Increase the font size\n",
    "        ax.set_xticklabels(months, rotation=90, fontsize=20)  # Increase the font size\n",
    "        ax.legend(fontsize=20)  # Increase the font size\n",
    "\n",
    "        fig.tight_layout()\n",
    "\n",
    "        plt.show()\n",
    "    except Exception as e:\n",
    "        print(f\"Failed with {name}: {e}\")\n",
    "\n",
    "#plot_single_person_data(dr_names[4], waiting_lists_months)"
   ]
  },
  {
   "cell_type": "code",
   "execution_count": null,
   "metadata": {},
   "outputs": [],
   "source": [
    "for name in dr_names:\n",
    "    plot_single_person_data(name, waiting_lists_months)"
   ]
  },
  {
   "cell_type": "code",
   "execution_count": null,
   "metadata": {},
   "outputs": [],
   "source": [
    "# visits.head()"
   ]
  },
  {
   "cell_type": "code",
   "execution_count": null,
   "metadata": {},
   "outputs": [],
   "source": [
    "visits['book_not_later_than'] = pd.to_datetime(visits['book_not_later_than'])\n",
    "# Filter rows where \"staff_member\" is in dr_names and \"book_no_later_than\" is before today's date\n",
    "filtered_rows = visits.loc[(visits['staff_member'].isin(dr_names)) & (visits['book_not_later_than'] < datetime.today())]\n",
    "\n",
    "len(filtered_rows)\n",
    "\n",
    "# # Get the number of rows\n",
    "# num_rows = filtered_rows.shape[0]\n",
    "\n",
    "# num_rows"
   ]
  }
 ],
 "metadata": {
  "kernelspec": {
   "display_name": "aienv",
   "language": "python",
   "name": "python3"
  },
  "language_info": {
   "codemirror_mode": {
    "name": "ipython",
    "version": 3
   },
   "file_extension": ".py",
   "mimetype": "text/x-python",
   "name": "python",
   "nbconvert_exporter": "python",
   "pygments_lexer": "ipython3",
   "version": "3.7.3"
  }
 },
 "nbformat": 4,
 "nbformat_minor": 2
}
