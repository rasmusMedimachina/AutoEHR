{
 "cells": [
  {
   "cell_type": "code",
   "execution_count": 43,
   "metadata": {},
   "outputs": [],
   "source": [
    "from pynput.mouse import Button, Controller as MouseCtrlr\n",
    "from pynput.keyboard import Key, Controller as KeyCtrlr"
   ]
  },
  {
   "cell_type": "code",
   "execution_count": 44,
   "metadata": {},
   "outputs": [],
   "source": [
    "from pynput import mouse as Mouse\n",
    "from pynput import keyboard as Keyboard"
   ]
  },
  {
   "cell_type": "code",
   "execution_count": 12,
   "metadata": {},
   "outputs": [],
   "source": [
    "from time import sleep"
   ]
  },
  {
   "cell_type": "markdown",
   "metadata": {},
   "source": [
    "# Controlling the mouse"
   ]
  },
  {
   "cell_type": "code",
   "execution_count": 6,
   "metadata": {},
   "outputs": [],
   "source": [
    "mouse = MouseCtrlr()"
   ]
  },
  {
   "cell_type": "code",
   "execution_count": 7,
   "metadata": {},
   "outputs": [
    {
     "name": "stdout",
     "output_type": "stream",
     "text": [
      "The current pointer position is (436, 314)\n"
     ]
    }
   ],
   "source": [
    "# Read pointer position\n",
    "print('The current pointer position is {0}'.format(\n",
    "    mouse.position))"
   ]
  },
  {
   "cell_type": "code",
   "execution_count": 8,
   "metadata": {},
   "outputs": [
    {
     "name": "stdout",
     "output_type": "stream",
     "text": [
      "Now we have moved it to (10, 20)\n"
     ]
    }
   ],
   "source": [
    "mouse.position = (10, 20)\n",
    "print('Now we have moved it to {0}'.format(\n",
    "    mouse.position))"
   ]
  },
  {
   "cell_type": "code",
   "execution_count": 9,
   "metadata": {},
   "outputs": [],
   "source": [
    "# Move pointer relative to current position\n",
    "mouse.move(5, -5)"
   ]
  },
  {
   "cell_type": "code",
   "execution_count": null,
   "metadata": {},
   "outputs": [],
   "source": [
    "# Press and release\n",
    "# mouse.press(Button.left)\n",
    "# mouse.release(Button.left)"
   ]
  },
  {
   "cell_type": "code",
   "execution_count": null,
   "metadata": {},
   "outputs": [],
   "source": [
    "# Double click; this is different from pressing and releasing\n",
    "# twice on macOS\n",
    "# mouse.click(Button.left, 2)"
   ]
  },
  {
   "cell_type": "code",
   "execution_count": 14,
   "metadata": {},
   "outputs": [],
   "source": [
    "# Scroll two steps down\n",
    "sleep(0.5)\n",
    "mouse.scroll(0, -2)"
   ]
  },
  {
   "cell_type": "markdown",
   "metadata": {},
   "source": [
    "# Monitoring the mouse"
   ]
  },
  {
   "cell_type": "code",
   "execution_count": 45,
   "metadata": {},
   "outputs": [
    {
     "name": "stdout",
     "output_type": "stream",
     "text": [
      "Pressed at (1330, 238)\n",
      "Released at (1330, 238)\n",
      "Scrolled down at (1330, 238)\n",
      "Scrolled down at (1330, 238)\n",
      "Scrolled down at (1330, 238)\n",
      "Pressed at (1330, 238)\n",
      "Released at (1330, 238)\n",
      "5 sec passed\n",
      "Stopped\n"
     ]
    }
   ],
   "source": [
    "def on_move(x, y):\n",
    "    pass\n",
    "#     print('Pointer moved to {0}'.format(\n",
    "#         (x, y)))\n",
    "\n",
    "def on_click(x, y, button, pressed):\n",
    "    print('{0} at {1}'.format(\n",
    "        'Pressed' if pressed else 'Released',\n",
    "        (x, y)))\n",
    "#     if not pressed:\n",
    "#         # Stop listener\n",
    "#         return False\n",
    "\n",
    "def on_scroll(x, y, dx, dy):\n",
    "    print('Scrolled {0} at {1}'.format(\n",
    "        'down' if dy < 0 else 'up',\n",
    "        (x, y)))\n",
    "\n",
    "# Collect events until released\n",
    "# with Mouse.Listener(\n",
    "#         on_move=on_move,\n",
    "#         on_click=on_click,\n",
    "#         on_scroll=on_scroll) as listener:\n",
    "#     listener.join()\n",
    "\n",
    "# ...or, in a non-blocking fashion:\n",
    "listener = Mouse.Listener(\n",
    "    on_move=on_move,\n",
    "    on_click=on_click,\n",
    "    on_scroll=on_scroll)\n",
    "listener.start()\n",
    "sleep(5)\n",
    "print(\"5 sec passed\")\n",
    "listener.stop()\n",
    "print(\"Stopped\")"
   ]
  },
  {
   "cell_type": "markdown",
   "metadata": {},
   "source": [
    "# Controlling keyboard"
   ]
  },
  {
   "cell_type": "code",
   "execution_count": 29,
   "metadata": {},
   "outputs": [],
   "source": [
    "def clickPos():\n",
    "    mouse.position = (1400, 200)\n",
    "    mouse.press(Button.left)\n",
    "    mouse.release(Button.left)\n",
    "    sleep(0.3)\n",
    "    \n",
    "clickPos()"
   ]
  },
  {
   "cell_type": "code",
   "execution_count": 47,
   "metadata": {},
   "outputs": [],
   "source": [
    "keyboard = KeyCtrlr()"
   ]
  },
  {
   "cell_type": "code",
   "execution_count": 26,
   "metadata": {},
   "outputs": [],
   "source": [
    "clickPos()\n",
    "\n",
    "# Press and release space\n",
    "keyboard.press(Key.space)\n",
    "keyboard.release(Key.space)"
   ]
  },
  {
   "cell_type": "code",
   "execution_count": 30,
   "metadata": {},
   "outputs": [],
   "source": [
    "clickPos()\n",
    "\n",
    "# Type a lower case A; this will work even if no key on the\n",
    "# physical keyboard is labelled 'A'\n",
    "keyboard.press('a')\n",
    "keyboard.release('a')"
   ]
  },
  {
   "cell_type": "code",
   "execution_count": 31,
   "metadata": {},
   "outputs": [],
   "source": [
    "clickPos()\n",
    "\n",
    "# Type two upper case As\n",
    "keyboard.press('A')\n",
    "keyboard.release('A')\n",
    "with keyboard.pressed(Key.shift):\n",
    "    keyboard.press('a')\n",
    "    keyboard.release('a')"
   ]
  },
  {
   "cell_type": "code",
   "execution_count": 50,
   "metadata": {},
   "outputs": [],
   "source": [
    "clickPos()\n",
    "\n",
    "# Type 'Hello World' using the shortcut type method\n",
    "keyboard.type('ÅÄÖåäö;!:.@$')"
   ]
  },
  {
   "cell_type": "markdown",
   "metadata": {},
   "source": [
    "# Monitor keyboard"
   ]
  },
  {
   "cell_type": "code",
   "execution_count": 35,
   "metadata": {
    "collapsed": true,
    "jupyter": {
     "outputs_hidden": true
    }
   },
   "outputs": [
    {
     "name": "stdout",
     "output_type": "stream",
     "text": [
      "Key.enter released\n",
      "Key.ctrl_l released\n",
      "alphanumeric key t pressed\n",
      "alphanumeric key e pressed\n",
      "'t' released\n",
      "'e' released\n",
      "alphanumeric key s pressed\n",
      "alphanumeric key t pressed\n",
      "'s' released\n",
      "'t' released\n",
      "special key Key.space pressed\n",
      "alphanumeric key h pressed\n",
      "Key.space released\n",
      "alphanumeric key e pressed\n",
      "'h' released\n",
      "alphanumeric key j pressed\n",
      "'e' released\n",
      "'j' released\n",
      "special key Key.ctrl_l pressed\n",
      "alphanumeric key \u0013 pressed\n",
      "'\\x13' released\n",
      "Key.ctrl_l released\n",
      "alphanumeric key å pressed\n",
      "'å' released\n",
      "alphanumeric key ä pressed\n",
      "'ä' released\n",
      "alphanumeric key ö pressed\n",
      "'ö' released\n",
      "special key Key.backspace pressed\n",
      "Key.backspace released\n",
      "special key Key.backspace pressed\n",
      "Key.backspace released\n",
      "special key Key.backspace pressed\n",
      "Key.backspace released\n",
      "special key Key.space pressed\n",
      "Key.space released\n",
      "alphanumeric key h pressed\n",
      "alphanumeric key e pressed\n",
      "'h' released\n",
      "alphanumeric key j pressed\n",
      "'e' released\n",
      "'j' released\n",
      "special key Key.ctrl_l pressed\n",
      "alphanumeric key \u0003 pressed\n",
      "Key.ctrl_l released\n",
      "'c' released\n",
      "special key Key.ctrl_l pressed\n",
      "alphanumeric key \u0016 pressed\n",
      "'\\x16' released\n",
      "Key.ctrl_l released\n",
      "alphanumeric key s pressed\n",
      "alphanumeric key t pressed\n",
      "'s' released\n",
      "'t' released\n",
      "alphanumeric key o pressed\n",
      "alphanumeric key p pressed\n",
      "'o' released\n",
      "'p' released\n"
     ]
    }
   ],
   "source": [
    "from pynput import keyboard as Keyboard\n",
    "\n",
    "def on_press(key):\n",
    "    try:\n",
    "        print('alphanumeric key {0} pressed'.format(\n",
    "            key.char))\n",
    "    except AttributeError:\n",
    "        print('special key {0} pressed'.format(\n",
    "            key))\n",
    "\n",
    "def on_release(key):\n",
    "    print('{0} released'.format(\n",
    "        key))\n",
    "    if key == Keyboard.Key.esc:\n",
    "        # Stop listener\n",
    "        return False\n",
    "\n",
    "# Collect events until released\n",
    "# with keyboard.Listener(\n",
    "#         on_press=on_press,\n",
    "#         on_release=on_release) as listener:\n",
    "#     listener.join()\n",
    "\n",
    "# ...or, in a non-blocking fashion:\n",
    "listener = Keyboard.Listener(\n",
    "    on_press=on_press,\n",
    "    on_release=on_release)\n",
    "listener.start()\n",
    "sleep(10)\n",
    "listener.stop()"
   ]
  },
  {
   "cell_type": "code",
   "execution_count": null,
   "metadata": {},
   "outputs": [],
   "source": []
  }
 ],
 "metadata": {
  "kernelspec": {
   "display_name": "Python 3",
   "language": "python",
   "name": "python3"
  },
  "language_info": {
   "codemirror_mode": {
    "name": "ipython",
    "version": 3
   },
   "file_extension": ".py",
   "mimetype": "text/x-python",
   "name": "python",
   "nbconvert_exporter": "python",
   "pygments_lexer": "ipython3",
   "version": "3.7.3"
  }
 },
 "nbformat": 4,
 "nbformat_minor": 4
}
